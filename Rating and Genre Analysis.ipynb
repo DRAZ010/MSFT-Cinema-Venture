{
 "cells": [
  {
   "cell_type": "markdown",
   "metadata": {
    "ExecuteTime": {
     "end_time": "2020-06-19T23:23:11.430666Z",
     "start_time": "2020-06-19T23:23:11.426514Z"
    }
   },
   "source": [
    "# Importing necessary libraries "
   ]
  },
  {
   "cell_type": "code",
   "execution_count": 1,
   "metadata": {
    "ExecuteTime": {
     "end_time": "2020-06-20T03:44:16.753984Z",
     "start_time": "2020-06-20T03:44:15.642906Z"
    }
   },
   "outputs": [],
   "source": [
    "import os\n",
    "import pandas as pd\n",
    "import numpy as np\n",
    "import matplotlib.pyplot as plt\n",
    "import seaborn as sns\n",
    "from glob import glob\n",
    "import math \n",
    "import sys\n",
    "import statistics as stats"
   ]
  },
  {
   "cell_type": "markdown",
   "metadata": {},
   "source": [
    "# Import csv files"
   ]
  },
  {
   "cell_type": "code",
   "execution_count": 2,
   "metadata": {
    "ExecuteTime": {
     "end_time": "2020-06-20T03:44:16.786379Z",
     "start_time": "2020-06-20T03:44:16.755427Z"
    }
   },
   "outputs": [],
   "source": [
    "movie_budgets = pd.read_csv('movie_budgets_clean.csv')\n",
    "rt_movie = pd.read_csv('rt_movie_clean.csv')"
   ]
  },
  {
   "cell_type": "code",
   "execution_count": 3,
   "metadata": {
    "ExecuteTime": {
     "end_time": "2020-06-20T03:44:16.799302Z",
     "start_time": "2020-06-20T03:44:16.788317Z"
    }
   },
   "outputs": [
    {
     "name": "stdout",
     "output_type": "stream",
     "text": [
      "<class 'pandas.core.frame.DataFrame'>\n",
      "RangeIndex: 1560 entries, 0 to 1559\n",
      "Data columns (total 8 columns):\n",
      "Unnamed: 0      1560 non-null int64\n",
      "id              1560 non-null int64\n",
      "synopsis        1498 non-null object\n",
      "rating          1557 non-null object\n",
      "genre           1552 non-null object\n",
      "director        1361 non-null object\n",
      "writer          1111 non-null object\n",
      "theater_date    1201 non-null object\n",
      "dtypes: int64(2), object(6)\n",
      "memory usage: 97.6+ KB\n"
     ]
    }
   ],
   "source": [
    "rt_movie.info()"
   ]
  },
  {
   "cell_type": "markdown",
   "metadata": {},
   "source": [
    "## Additional data cleaning"
   ]
  },
  {
   "cell_type": "code",
   "execution_count": 4,
   "metadata": {
    "ExecuteTime": {
     "end_time": "2020-06-20T03:44:16.808251Z",
     "start_time": "2020-06-20T03:44:16.800278Z"
    }
   },
   "outputs": [],
   "source": [
    "rt_movie = rt_movie.drop(['writer'], axis = 1)\n",
    "rt_movie = rt_movie.drop(['director'], axis = 1)\n",
    "rt_movie = rt_movie.drop(['synopsis'], axis = 1)"
   ]
  },
  {
   "cell_type": "code",
   "execution_count": 5,
   "metadata": {
    "ExecuteTime": {
     "end_time": "2020-06-20T03:44:16.815227Z",
     "start_time": "2020-06-20T03:44:16.809248Z"
    }
   },
   "outputs": [
    {
     "name": "stdout",
     "output_type": "stream",
     "text": [
      "<class 'pandas.core.frame.DataFrame'>\n",
      "RangeIndex: 1560 entries, 0 to 1559\n",
      "Data columns (total 5 columns):\n",
      "Unnamed: 0      1560 non-null int64\n",
      "id              1560 non-null int64\n",
      "rating          1557 non-null object\n",
      "genre           1552 non-null object\n",
      "theater_date    1201 non-null object\n",
      "dtypes: int64(2), object(3)\n",
      "memory usage: 61.1+ KB\n"
     ]
    }
   ],
   "source": [
    "rt_movie.info()"
   ]
  },
  {
   "cell_type": "code",
   "execution_count": 6,
   "metadata": {
    "ExecuteTime": {
     "end_time": "2020-06-20T03:44:16.822205Z",
     "start_time": "2020-06-20T03:44:16.816231Z"
    }
   },
   "outputs": [],
   "source": [
    "rt_movie = rt_movie.dropna()"
   ]
  },
  {
   "cell_type": "code",
   "execution_count": 7,
   "metadata": {
    "ExecuteTime": {
     "end_time": "2020-06-20T03:44:16.830177Z",
     "start_time": "2020-06-20T03:44:16.824197Z"
    }
   },
   "outputs": [
    {
     "name": "stdout",
     "output_type": "stream",
     "text": [
      "<class 'pandas.core.frame.DataFrame'>\n",
      "Int64Index: 1201 entries, 0 to 1559\n",
      "Data columns (total 5 columns):\n",
      "Unnamed: 0      1201 non-null int64\n",
      "id              1201 non-null int64\n",
      "rating          1201 non-null object\n",
      "genre           1201 non-null object\n",
      "theater_date    1201 non-null object\n",
      "dtypes: int64(2), object(3)\n",
      "memory usage: 56.3+ KB\n"
     ]
    }
   ],
   "source": [
    "rt_movie.info()"
   ]
  },
  {
   "cell_type": "markdown",
   "metadata": {},
   "source": [
    "### Display data frames"
   ]
  },
  {
   "cell_type": "code",
   "execution_count": 8,
   "metadata": {
    "ExecuteTime": {
     "end_time": "2020-06-20T03:44:16.852105Z",
     "start_time": "2020-06-20T03:44:16.833170Z"
    }
   },
   "outputs": [
    {
     "data": {
      "text/html": [
       "<div>\n",
       "<style scoped>\n",
       "    .dataframe tbody tr th:only-of-type {\n",
       "        vertical-align: middle;\n",
       "    }\n",
       "\n",
       "    .dataframe tbody tr th {\n",
       "        vertical-align: top;\n",
       "    }\n",
       "\n",
       "    .dataframe thead th {\n",
       "        text-align: right;\n",
       "    }\n",
       "</style>\n",
       "<table border=\"1\" class=\"dataframe\">\n",
       "  <thead>\n",
       "    <tr style=\"text-align: right;\">\n",
       "      <th></th>\n",
       "      <th>id</th>\n",
       "      <th>release_date</th>\n",
       "      <th>movie</th>\n",
       "      <th>production_budget</th>\n",
       "      <th>domestic_gross</th>\n",
       "      <th>worldwide_gross</th>\n",
       "    </tr>\n",
       "  </thead>\n",
       "  <tbody>\n",
       "    <tr>\n",
       "      <td>0</td>\n",
       "      <td>1</td>\n",
       "      <td>Dec 18, 2009</td>\n",
       "      <td>Avatar</td>\n",
       "      <td>425000000</td>\n",
       "      <td>760507625</td>\n",
       "      <td>2776345279</td>\n",
       "    </tr>\n",
       "    <tr>\n",
       "      <td>1</td>\n",
       "      <td>2</td>\n",
       "      <td>May 20, 2011</td>\n",
       "      <td>Pirates of the Caribbean: On Stranger Tides</td>\n",
       "      <td>410600000</td>\n",
       "      <td>241063875</td>\n",
       "      <td>1045663875</td>\n",
       "    </tr>\n",
       "    <tr>\n",
       "      <td>2</td>\n",
       "      <td>3</td>\n",
       "      <td>Jun 7, 2019</td>\n",
       "      <td>Dark Phoenix</td>\n",
       "      <td>350000000</td>\n",
       "      <td>42762350</td>\n",
       "      <td>149762350</td>\n",
       "    </tr>\n",
       "    <tr>\n",
       "      <td>3</td>\n",
       "      <td>4</td>\n",
       "      <td>May 1, 2015</td>\n",
       "      <td>Avengers: Age of Ultron</td>\n",
       "      <td>330600000</td>\n",
       "      <td>459005868</td>\n",
       "      <td>1403013963</td>\n",
       "    </tr>\n",
       "    <tr>\n",
       "      <td>4</td>\n",
       "      <td>5</td>\n",
       "      <td>Dec 15, 2017</td>\n",
       "      <td>Star Wars Ep. VIII: The Last Jedi</td>\n",
       "      <td>317000000</td>\n",
       "      <td>620181382</td>\n",
       "      <td>1316721747</td>\n",
       "    </tr>\n",
       "  </tbody>\n",
       "</table>\n",
       "</div>"
      ],
      "text/plain": [
       "   id  release_date                                        movie  \\\n",
       "0   1  Dec 18, 2009                                       Avatar   \n",
       "1   2  May 20, 2011  Pirates of the Caribbean: On Stranger Tides   \n",
       "2   3   Jun 7, 2019                                 Dark Phoenix   \n",
       "3   4   May 1, 2015                      Avengers: Age of Ultron   \n",
       "4   5  Dec 15, 2017            Star Wars Ep. VIII: The Last Jedi   \n",
       "\n",
       "   production_budget  domestic_gross  worldwide_gross  \n",
       "0          425000000       760507625       2776345279  \n",
       "1          410600000       241063875       1045663875  \n",
       "2          350000000        42762350        149762350  \n",
       "3          330600000       459005868       1403013963  \n",
       "4          317000000       620181382       1316721747  "
      ]
     },
     "metadata": {},
     "output_type": "display_data"
    },
    {
     "data": {
      "text/html": [
       "<div>\n",
       "<style scoped>\n",
       "    .dataframe tbody tr th:only-of-type {\n",
       "        vertical-align: middle;\n",
       "    }\n",
       "\n",
       "    .dataframe tbody tr th {\n",
       "        vertical-align: top;\n",
       "    }\n",
       "\n",
       "    .dataframe thead th {\n",
       "        text-align: right;\n",
       "    }\n",
       "</style>\n",
       "<table border=\"1\" class=\"dataframe\">\n",
       "  <thead>\n",
       "    <tr style=\"text-align: right;\">\n",
       "      <th></th>\n",
       "      <th>Unnamed: 0</th>\n",
       "      <th>id</th>\n",
       "      <th>rating</th>\n",
       "      <th>genre</th>\n",
       "      <th>theater_date</th>\n",
       "    </tr>\n",
       "  </thead>\n",
       "  <tbody>\n",
       "    <tr>\n",
       "      <td>0</td>\n",
       "      <td>0</td>\n",
       "      <td>1</td>\n",
       "      <td>R</td>\n",
       "      <td>Action and Adventure|Classics|Drama</td>\n",
       "      <td>Oct 9, 1971</td>\n",
       "    </tr>\n",
       "    <tr>\n",
       "      <td>1</td>\n",
       "      <td>1</td>\n",
       "      <td>3</td>\n",
       "      <td>R</td>\n",
       "      <td>Drama|Science Fiction and Fantasy</td>\n",
       "      <td>Aug 17, 2012</td>\n",
       "    </tr>\n",
       "    <tr>\n",
       "      <td>2</td>\n",
       "      <td>2</td>\n",
       "      <td>5</td>\n",
       "      <td>R</td>\n",
       "      <td>Drama|Musical and Performing Arts</td>\n",
       "      <td>Sep 13, 1996</td>\n",
       "    </tr>\n",
       "    <tr>\n",
       "      <td>3</td>\n",
       "      <td>3</td>\n",
       "      <td>6</td>\n",
       "      <td>R</td>\n",
       "      <td>Drama|Mystery and Suspense</td>\n",
       "      <td>Dec 9, 1994</td>\n",
       "    </tr>\n",
       "    <tr>\n",
       "      <td>5</td>\n",
       "      <td>5</td>\n",
       "      <td>8</td>\n",
       "      <td>PG</td>\n",
       "      <td>Drama|Kids and Family</td>\n",
       "      <td>Mar 3, 2000</td>\n",
       "    </tr>\n",
       "  </tbody>\n",
       "</table>\n",
       "</div>"
      ],
      "text/plain": [
       "   Unnamed: 0  id rating                                genre  theater_date\n",
       "0           0   1      R  Action and Adventure|Classics|Drama   Oct 9, 1971\n",
       "1           1   3      R    Drama|Science Fiction and Fantasy  Aug 17, 2012\n",
       "2           2   5      R    Drama|Musical and Performing Arts  Sep 13, 1996\n",
       "3           3   6      R           Drama|Mystery and Suspense   Dec 9, 1994\n",
       "5           5   8     PG                Drama|Kids and Family   Mar 3, 2000"
      ]
     },
     "execution_count": 8,
     "metadata": {},
     "output_type": "execute_result"
    }
   ],
   "source": [
    "display(movie_budgets.head())\n",
    "rt_movie.head()"
   ]
  },
  {
   "cell_type": "markdown",
   "metadata": {},
   "source": [
    "# Data Analysis"
   ]
  },
  {
   "cell_type": "code",
   "execution_count": 9,
   "metadata": {
    "ExecuteTime": {
     "end_time": "2020-06-20T03:44:16.859093Z",
     "start_time": "2020-06-20T03:44:16.854098Z"
    }
   },
   "outputs": [],
   "source": [
    "rt_date_count = rt_movie.groupby('theater_date').count()"
   ]
  },
  {
   "cell_type": "code",
   "execution_count": 10,
   "metadata": {
    "ExecuteTime": {
     "end_time": "2020-06-20T03:44:16.871082Z",
     "start_time": "2020-06-20T03:44:16.860079Z"
    },
    "scrolled": true
   },
   "outputs": [
    {
     "data": {
      "text/html": [
       "<div>\n",
       "<style scoped>\n",
       "    .dataframe tbody tr th:only-of-type {\n",
       "        vertical-align: middle;\n",
       "    }\n",
       "\n",
       "    .dataframe tbody tr th {\n",
       "        vertical-align: top;\n",
       "    }\n",
       "\n",
       "    .dataframe thead th {\n",
       "        text-align: right;\n",
       "    }\n",
       "</style>\n",
       "<table border=\"1\" class=\"dataframe\">\n",
       "  <thead>\n",
       "    <tr style=\"text-align: right;\">\n",
       "      <th></th>\n",
       "      <th>Unnamed: 0</th>\n",
       "      <th>id</th>\n",
       "      <th>rating</th>\n",
       "      <th>genre</th>\n",
       "    </tr>\n",
       "    <tr>\n",
       "      <th>theater_date</th>\n",
       "      <th></th>\n",
       "      <th></th>\n",
       "      <th></th>\n",
       "      <th></th>\n",
       "    </tr>\n",
       "  </thead>\n",
       "  <tbody>\n",
       "    <tr>\n",
       "      <td>Apr 1, 1952</td>\n",
       "      <td>1</td>\n",
       "      <td>1</td>\n",
       "      <td>1</td>\n",
       "      <td>1</td>\n",
       "    </tr>\n",
       "    <tr>\n",
       "      <td>Apr 1, 1975</td>\n",
       "      <td>1</td>\n",
       "      <td>1</td>\n",
       "      <td>1</td>\n",
       "      <td>1</td>\n",
       "    </tr>\n",
       "    <tr>\n",
       "      <td>Apr 1, 1976</td>\n",
       "      <td>1</td>\n",
       "      <td>1</td>\n",
       "      <td>1</td>\n",
       "      <td>1</td>\n",
       "    </tr>\n",
       "    <tr>\n",
       "      <td>Apr 1, 1981</td>\n",
       "      <td>1</td>\n",
       "      <td>1</td>\n",
       "      <td>1</td>\n",
       "      <td>1</td>\n",
       "    </tr>\n",
       "    <tr>\n",
       "      <td>Apr 1, 1982</td>\n",
       "      <td>1</td>\n",
       "      <td>1</td>\n",
       "      <td>1</td>\n",
       "      <td>1</td>\n",
       "    </tr>\n",
       "    <tr>\n",
       "      <td>...</td>\n",
       "      <td>...</td>\n",
       "      <td>...</td>\n",
       "      <td>...</td>\n",
       "      <td>...</td>\n",
       "    </tr>\n",
       "    <tr>\n",
       "      <td>Sep 8, 1996</td>\n",
       "      <td>1</td>\n",
       "      <td>1</td>\n",
       "      <td>1</td>\n",
       "      <td>1</td>\n",
       "    </tr>\n",
       "    <tr>\n",
       "      <td>Sep 8, 2000</td>\n",
       "      <td>1</td>\n",
       "      <td>1</td>\n",
       "      <td>1</td>\n",
       "      <td>1</td>\n",
       "    </tr>\n",
       "    <tr>\n",
       "      <td>Sep 9, 1986</td>\n",
       "      <td>1</td>\n",
       "      <td>1</td>\n",
       "      <td>1</td>\n",
       "      <td>1</td>\n",
       "    </tr>\n",
       "    <tr>\n",
       "      <td>Sep 9, 1988</td>\n",
       "      <td>1</td>\n",
       "      <td>1</td>\n",
       "      <td>1</td>\n",
       "      <td>1</td>\n",
       "    </tr>\n",
       "    <tr>\n",
       "      <td>Sep 9, 1992</td>\n",
       "      <td>1</td>\n",
       "      <td>1</td>\n",
       "      <td>1</td>\n",
       "      <td>1</td>\n",
       "    </tr>\n",
       "  </tbody>\n",
       "</table>\n",
       "<p>897 rows × 4 columns</p>\n",
       "</div>"
      ],
      "text/plain": [
       "              Unnamed: 0  id  rating  genre\n",
       "theater_date                               \n",
       "Apr 1, 1952            1   1       1      1\n",
       "Apr 1, 1975            1   1       1      1\n",
       "Apr 1, 1976            1   1       1      1\n",
       "Apr 1, 1981            1   1       1      1\n",
       "Apr 1, 1982            1   1       1      1\n",
       "...                  ...  ..     ...    ...\n",
       "Sep 8, 1996            1   1       1      1\n",
       "Sep 8, 2000            1   1       1      1\n",
       "Sep 9, 1986            1   1       1      1\n",
       "Sep 9, 1988            1   1       1      1\n",
       "Sep 9, 1992            1   1       1      1\n",
       "\n",
       "[897 rows x 4 columns]"
      ]
     },
     "execution_count": 10,
     "metadata": {},
     "output_type": "execute_result"
    }
   ],
   "source": [
    "rt_date_count.loc[rt_date_count['rating'] == 1]"
   ]
  },
  {
   "cell_type": "code",
   "execution_count": 11,
   "metadata": {
    "ExecuteTime": {
     "end_time": "2020-06-20T03:44:16.879015Z",
     "start_time": "2020-06-20T03:44:16.872037Z"
    }
   },
   "outputs": [],
   "source": [
    "movie_date_count = movie_budgets.groupby('release_date').count()"
   ]
  },
  {
   "cell_type": "code",
   "execution_count": 12,
   "metadata": {
    "ExecuteTime": {
     "end_time": "2020-06-20T03:44:16.885992Z",
     "start_time": "2020-06-20T03:44:16.880011Z"
    }
   },
   "outputs": [],
   "source": [
    "movie_date_count = movie_date_count.loc[movie_date_count['movie'] == 1]"
   ]
  },
  {
   "cell_type": "code",
   "execution_count": 13,
   "metadata": {
    "ExecuteTime": {
     "end_time": "2020-06-20T03:44:16.893966Z",
     "start_time": "2020-06-20T03:44:16.888982Z"
    }
   },
   "outputs": [],
   "source": [
    "movie_date_count = movie_date_count.reset_index()"
   ]
  },
  {
   "cell_type": "code",
   "execution_count": 14,
   "metadata": {
    "ExecuteTime": {
     "end_time": "2020-06-20T03:44:16.907922Z",
     "start_time": "2020-06-20T03:44:16.895959Z"
    }
   },
   "outputs": [
    {
     "data": {
      "text/html": [
       "<div>\n",
       "<style scoped>\n",
       "    .dataframe tbody tr th:only-of-type {\n",
       "        vertical-align: middle;\n",
       "    }\n",
       "\n",
       "    .dataframe tbody tr th {\n",
       "        vertical-align: top;\n",
       "    }\n",
       "\n",
       "    .dataframe thead th {\n",
       "        text-align: right;\n",
       "    }\n",
       "</style>\n",
       "<table border=\"1\" class=\"dataframe\">\n",
       "  <thead>\n",
       "    <tr style=\"text-align: right;\">\n",
       "      <th></th>\n",
       "      <th>release_date</th>\n",
       "      <th>id</th>\n",
       "      <th>movie</th>\n",
       "      <th>production_budget</th>\n",
       "      <th>domestic_gross</th>\n",
       "      <th>worldwide_gross</th>\n",
       "    </tr>\n",
       "  </thead>\n",
       "  <tbody>\n",
       "    <tr>\n",
       "      <td>0</td>\n",
       "      <td>Apr 1, 1988</td>\n",
       "      <td>1</td>\n",
       "      <td>1</td>\n",
       "      <td>1</td>\n",
       "      <td>1</td>\n",
       "      <td>1</td>\n",
       "    </tr>\n",
       "    <tr>\n",
       "      <td>1</td>\n",
       "      <td>Apr 1, 1996</td>\n",
       "      <td>1</td>\n",
       "      <td>1</td>\n",
       "      <td>1</td>\n",
       "      <td>1</td>\n",
       "      <td>1</td>\n",
       "    </tr>\n",
       "    <tr>\n",
       "      <td>2</td>\n",
       "      <td>Apr 1, 2005</td>\n",
       "      <td>1</td>\n",
       "      <td>1</td>\n",
       "      <td>1</td>\n",
       "      <td>1</td>\n",
       "      <td>1</td>\n",
       "    </tr>\n",
       "    <tr>\n",
       "      <td>3</td>\n",
       "      <td>Apr 1, 2010</td>\n",
       "      <td>1</td>\n",
       "      <td>1</td>\n",
       "      <td>1</td>\n",
       "      <td>1</td>\n",
       "      <td>1</td>\n",
       "    </tr>\n",
       "    <tr>\n",
       "      <td>4</td>\n",
       "      <td>Apr 1, 2015</td>\n",
       "      <td>1</td>\n",
       "      <td>1</td>\n",
       "      <td>1</td>\n",
       "      <td>1</td>\n",
       "      <td>1</td>\n",
       "    </tr>\n",
       "    <tr>\n",
       "      <td>...</td>\n",
       "      <td>...</td>\n",
       "      <td>...</td>\n",
       "      <td>...</td>\n",
       "      <td>...</td>\n",
       "      <td>...</td>\n",
       "      <td>...</td>\n",
       "    </tr>\n",
       "    <tr>\n",
       "      <td>991</td>\n",
       "      <td>Sep 6, 1935</td>\n",
       "      <td>1</td>\n",
       "      <td>1</td>\n",
       "      <td>1</td>\n",
       "      <td>1</td>\n",
       "      <td>1</td>\n",
       "    </tr>\n",
       "    <tr>\n",
       "      <td>992</td>\n",
       "      <td>Sep 6, 1996</td>\n",
       "      <td>1</td>\n",
       "      <td>1</td>\n",
       "      <td>1</td>\n",
       "      <td>1</td>\n",
       "      <td>1</td>\n",
       "    </tr>\n",
       "    <tr>\n",
       "      <td>993</td>\n",
       "      <td>Sep 7, 2018</td>\n",
       "      <td>1</td>\n",
       "      <td>1</td>\n",
       "      <td>1</td>\n",
       "      <td>1</td>\n",
       "      <td>1</td>\n",
       "    </tr>\n",
       "    <tr>\n",
       "      <td>994</td>\n",
       "      <td>Sep 8, 1989</td>\n",
       "      <td>1</td>\n",
       "      <td>1</td>\n",
       "      <td>1</td>\n",
       "      <td>1</td>\n",
       "      <td>1</td>\n",
       "    </tr>\n",
       "    <tr>\n",
       "      <td>995</td>\n",
       "      <td>Sep 9, 2009</td>\n",
       "      <td>1</td>\n",
       "      <td>1</td>\n",
       "      <td>1</td>\n",
       "      <td>1</td>\n",
       "      <td>1</td>\n",
       "    </tr>\n",
       "  </tbody>\n",
       "</table>\n",
       "<p>996 rows × 6 columns</p>\n",
       "</div>"
      ],
      "text/plain": [
       "    release_date  id  movie  production_budget  domestic_gross  \\\n",
       "0    Apr 1, 1988   1      1                  1               1   \n",
       "1    Apr 1, 1996   1      1                  1               1   \n",
       "2    Apr 1, 2005   1      1                  1               1   \n",
       "3    Apr 1, 2010   1      1                  1               1   \n",
       "4    Apr 1, 2015   1      1                  1               1   \n",
       "..           ...  ..    ...                ...             ...   \n",
       "991  Sep 6, 1935   1      1                  1               1   \n",
       "992  Sep 6, 1996   1      1                  1               1   \n",
       "993  Sep 7, 2018   1      1                  1               1   \n",
       "994  Sep 8, 1989   1      1                  1               1   \n",
       "995  Sep 9, 2009   1      1                  1               1   \n",
       "\n",
       "     worldwide_gross  \n",
       "0                  1  \n",
       "1                  1  \n",
       "2                  1  \n",
       "3                  1  \n",
       "4                  1  \n",
       "..               ...  \n",
       "991                1  \n",
       "992                1  \n",
       "993                1  \n",
       "994                1  \n",
       "995                1  \n",
       "\n",
       "[996 rows x 6 columns]"
      ]
     },
     "execution_count": 14,
     "metadata": {},
     "output_type": "execute_result"
    }
   ],
   "source": [
    "movie_date_count"
   ]
  },
  {
   "cell_type": "code",
   "execution_count": 15,
   "metadata": {
    "ExecuteTime": {
     "end_time": "2020-06-20T03:44:16.911904Z",
     "start_time": "2020-06-20T03:44:16.908914Z"
    }
   },
   "outputs": [],
   "source": [
    "#movie_budgets[movie_budgets['release_date'] in list(movie_date_count['release_date'])]"
   ]
  },
  {
   "cell_type": "code",
   "execution_count": 16,
   "metadata": {
    "ExecuteTime": {
     "end_time": "2020-06-20T03:44:16.916891Z",
     "start_time": "2020-06-20T03:44:16.912901Z"
    }
   },
   "outputs": [],
   "source": [
    "#movie_budgets = movie_budgets.loc[movie_date_count['release_date'].isin(list(movie_budgets['release_date']))]"
   ]
  },
  {
   "cell_type": "markdown",
   "metadata": {},
   "source": [
    "## Merged data frame"
   ]
  },
  {
   "cell_type": "code",
   "execution_count": 31,
   "metadata": {
    "ExecuteTime": {
     "end_time": "2020-06-20T03:49:14.064691Z",
     "start_time": "2020-06-20T03:49:14.056694Z"
    }
   },
   "outputs": [],
   "source": [
    "merged_df= rt_movie.merge(movie_budgets, left_on='theater_date', right_on='release_date', how='inner')"
   ]
  },
  {
   "cell_type": "code",
   "execution_count": 34,
   "metadata": {
    "ExecuteTime": {
     "end_time": "2020-06-20T03:52:00.108053Z",
     "start_time": "2020-06-20T03:52:00.096137Z"
    }
   },
   "outputs": [],
   "source": [
    "#creates only uniques dates\n",
    "duplicated_dates= merged_df.drop_duplicates(subset=['theater_date'], keep= 'first', inplace=True)"
   ]
  },
  {
   "cell_type": "code",
   "execution_count": 100,
   "metadata": {
    "ExecuteTime": {
     "end_time": "2020-06-20T04:33:42.650194Z",
     "start_time": "2020-06-20T04:33:42.638204Z"
    }
   },
   "outputs": [],
   "source": [
    "merged_df['roi'] = (merged_df['worldwide_gross'] / merged_df['production_budget'] ) -1"
   ]
  },
  {
   "cell_type": "markdown",
   "metadata": {
    "ExecuteTime": {
     "end_time": "2020-06-20T03:15:50.777552Z",
     "start_time": "2020-06-20T03:15:50.773572Z"
    }
   },
   "source": [
    "## Formatting df columns into unique dictionaries"
   ]
  },
  {
   "cell_type": "markdown",
   "metadata": {},
   "source": [
    "### Creating list of selected column"
   ]
  },
  {
   "cell_type": "code",
   "execution_count": 36,
   "metadata": {
    "ExecuteTime": {
     "end_time": "2020-06-20T03:52:02.834065Z",
     "start_time": "2020-06-20T03:52:02.823100Z"
    }
   },
   "outputs": [],
   "source": [
    "full_genre = list(merged_df['genre'].map(lambda x: x.split('|')))"
   ]
  },
  {
   "cell_type": "code",
   "execution_count": 37,
   "metadata": {
    "ExecuteTime": {
     "end_time": "2020-06-20T03:52:03.318858Z",
     "start_time": "2020-06-20T03:52:03.309387Z"
    }
   },
   "outputs": [],
   "source": [
    "genre = []\n",
    "for i in full_genre:\n",
    "    genre.append(i[0])"
   ]
  },
  {
   "cell_type": "code",
   "execution_count": 38,
   "metadata": {
    "ExecuteTime": {
     "end_time": "2020-06-20T03:52:03.743646Z",
     "start_time": "2020-06-20T03:52:03.736994Z"
    },
    "scrolled": true
   },
   "outputs": [
    {
     "name": "stdout",
     "output_type": "stream",
     "text": [
      "{'NC17', 'G', 'PG-13', 'PG', 'NR', 'R'}\n"
     ]
    },
    {
     "data": {
      "text/plain": [
       "{'Action and Adventure',\n",
       " 'Animation',\n",
       " 'Art House and International',\n",
       " 'Classics',\n",
       " 'Comedy',\n",
       " 'Documentary',\n",
       " 'Drama',\n",
       " 'Horror',\n",
       " 'Kids and Family',\n",
       " 'Mystery and Suspense'}"
      ]
     },
     "execution_count": 38,
     "metadata": {},
     "output_type": "execute_result"
    }
   ],
   "source": [
    "rating= list(merged_df['rating'])\n",
    "roi = list(merged_df['roi'])\n",
    "print(set(rating))\n",
    "set(genre)\n"
   ]
  },
  {
   "cell_type": "code",
   "execution_count": 39,
   "metadata": {
    "ExecuteTime": {
     "end_time": "2020-06-20T03:52:04.078241Z",
     "start_time": "2020-06-20T03:52:04.072873Z"
    }
   },
   "outputs": [],
   "source": [
    "full = zip(genre, rating, roi)\n",
    "full= list(full)"
   ]
  },
  {
   "cell_type": "markdown",
   "metadata": {},
   "source": [
    "### Sepreating list by genre and corresponding rating ROI"
   ]
  },
  {
   "cell_type": "code",
   "execution_count": 40,
   "metadata": {
    "ExecuteTime": {
     "end_time": "2020-06-20T03:52:04.424330Z",
     "start_time": "2020-06-20T03:52:04.411838Z"
    }
   },
   "outputs": [],
   "source": [
    "Action_and_Adventure=[]\n",
    "Animation=[]\n",
    "Art_House_and_International=[]\n",
    "Classics=[]\n",
    "Comedy=[]\n",
    "Documentary=[]\n",
    "Drama=[]\n",
    "Horror=[]\n",
    "Kids_and_Family=[]\n",
    "Mystery_and_Suspense=[]\n",
    "Science_Fiction_and_Fantasy=[]\n",
    "\n",
    "\n",
    "for tup in full:\n",
    "    if tup[0] == 'Action and Adventure':\n",
    "        Action_and_Adventure.append(tup[1:])\n",
    "        \n",
    "    elif tup[0] == 'Animation':\n",
    "        Animation.append(tup[1:])\n",
    "        \n",
    "    elif tup[0] == 'Art House and International':\n",
    "        Art_House_and_International.append(tup[1:])\n",
    "        \n",
    "    elif tup[0] == 'Classics':\n",
    "        Classics.append(tup[1:])\n",
    "        \n",
    "    elif tup[0] == 'Comedy':\n",
    "        Comedy.append(tup[1:])\n",
    "        \n",
    "    elif tup[0] == 'Documentary':\n",
    "        Documentary.append(tup[1:])\n",
    "        \n",
    "    elif tup[0] == 'Drama':\n",
    "        Drama.append(tup[1:])\n",
    "        \n",
    "    elif tup[0] == 'Horror':\n",
    "        Horror.append(tup[1:])\n",
    "        \n",
    "    elif tup[0] == 'Kids and Family':\n",
    "        Kids_and_Family.append(tup[1:])\n",
    "        \n",
    "    elif tup[0] == 'Mystery and Suspense':\n",
    "        Mystery_and_Suspense.append(tup[1:])\n",
    "        \n",
    "    else:\n",
    "        Science_Fiction_and_Fantasy.append(tup[1:])\n",
    "\n",
    "        "
   ]
  },
  {
   "cell_type": "code",
   "execution_count": 41,
   "metadata": {
    "ExecuteTime": {
     "end_time": "2020-06-20T03:52:04.836332Z",
     "start_time": "2020-06-20T03:52:04.811416Z"
    }
   },
   "outputs": [],
   "source": [
    "def mean_rating(db):\n",
    "    new={}\n",
    "    G=[]\n",
    "    PG=[]\n",
    "    PG_13=[]\n",
    "    R=[]\n",
    "    NR=[]\n",
    "    NC17=[]\n",
    "    for i in db:\n",
    "            if i[0] == 'G':\n",
    "                G.append(i[1])\n",
    "                if G != 0:\n",
    "                    new['G']=stats.mean(G)\n",
    "            elif i[0] == 'PG':\n",
    "                PG.append(i[1])\n",
    "                if PG != 0:\n",
    "                    new['PG']=stats.mean(PG)\n",
    "            elif i[0] == 'PG-13':\n",
    "                PG_13.append(i[1]) \n",
    "                if PG_13 != 0:\n",
    "                    new['PG-13']=stats.mean(PG_13)\n",
    "            elif i[0] == 'R':\n",
    "                R.append(i[1])  \n",
    "                if R != 0:\n",
    "                    new['R']= stats.mean(R)\n",
    "            elif i[0] == 'NR':\n",
    "                NR.append(i[1]) \n",
    "                if NR != 0:\n",
    "                    new['NR']=stats.mean(NR)\n",
    "            else:\n",
    "                NC17.append(i[1]) \n",
    "                if NC17 != 0:\n",
    "                     new['NC17']=stats.mean(NC17) \n",
    "    return new\n"
   ]
  },
  {
   "cell_type": "code",
   "execution_count": 42,
   "metadata": {
    "ExecuteTime": {
     "end_time": "2020-06-20T03:52:05.200647Z",
     "start_time": "2020-06-20T03:52:05.160247Z"
    }
   },
   "outputs": [],
   "source": [
    "Action_and_Adventure = mean_rating(Action_and_Adventure)\n",
    "Animation = mean_rating(Animation)\n",
    "Art_House_and_International = mean_rating(Art_House_and_International)\n",
    "Classics = mean_rating(Classics)\n",
    "Comedy = mean_rating(Comedy)\n",
    "Documentary = mean_rating(Documentary)\n",
    "Drama = mean_rating(Drama)\n",
    "Horror = mean_rating(Horror)\n",
    "Kids_and_Family = mean_rating(Kids_and_Family)\n",
    "Mystery_and_Suspense = mean_rating(Mystery_and_Suspense)\n",
    "Science_Fiction_and_Fantasy = mean_rating(Science_Fiction_and_Fantasy)\n",
    "\n",
    "\n"
   ]
  },
  {
   "cell_type": "code",
   "execution_count": 43,
   "metadata": {
    "ExecuteTime": {
     "end_time": "2020-06-20T03:52:05.519580Z",
     "start_time": "2020-06-20T03:52:05.510553Z"
    }
   },
   "outputs": [],
   "source": [
    "cats = [Action_and_Adventure,\n",
    "Animation,\n",
    "Art_House_and_International,\n",
    "Classics,\n",
    "Comedy,\n",
    "Documentary,\n",
    "Drama,\n",
    "Horror,\n",
    "Kids_and_Family,\n",
    "Mystery_and_Suspense,\n",
    "Science_Fiction_and_Fantasy]\n",
    "\n",
    "\n",
    "\n",
    "cats_string =['Action_and_Adventure',\n",
    "'Animation',\n",
    "'Art_House_and_International',\n",
    "'Classics',\n",
    "'Comedy',\n",
    "'Documentary',\n",
    "'Drama',\n",
    "'Horror',\n",
    "'Kids_and_Family',\n",
    "'Mystery_and_Suspense',\n",
    "'Science_Fiction_and_Fantasy']"
   ]
  },
  {
   "cell_type": "markdown",
   "metadata": {},
   "source": [
    "## subplots on rating and genre"
   ]
  },
  {
   "cell_type": "code",
   "execution_count": 97,
   "metadata": {
    "ExecuteTime": {
     "end_time": "2020-06-20T04:21:55.968104Z",
     "start_time": "2020-06-20T04:21:52.460811Z"
    },
    "scrolled": true
   },
   "outputs": [
    {
     "data": {
      "image/png": "[encoded data removed]",
      "text/plain": [
       "<Figure size 720x720 with 10 Axes>"
      ]
     },
     "metadata": {},
     "output_type": "display_data"
    }
   ],
   "source": [
    "fig, axes = plt.subplots(nrows=4, ncols=3, figsize=(10,10))\n",
    "for n in range(1,11):#(1,12) if keeping duplicates\n",
    "    row=(n-1) // 3\n",
    "    col=n%3-1\n",
    "    ax= axes[row][col]\n",
    "    x= list(cats[n-1].keys())\n",
    "    y= list(cats[n-1].values())\n",
    "    \n",
    "    ax.set_title(cats_string[n-1])\n",
    "    ax.set_ylabel('ROI')\n",
    "   \n",
    "    \n",
    "    sns.set_style(\"whitegrid\")\n",
    "    fig.tight_layout()\n",
    "    \n",
    "    sns.barplot(x=x, y= y, ax=ax);\n",
    "for n in range(10,12):\n",
    "    row=(n-1) // 3\n",
    "    col=n%3-3\n",
    "    ax= axes[row][col]\n",
    "    fig.delaxes(ax) "
   ]
  },
  {
   "cell_type": "code",
   "execution_count": null,
   "metadata": {
    "ExecuteTime": {
     "end_time": "2020-06-20T04:27:00.862599Z",
     "start_time": "2020-06-20T04:27:00.828705Z"
    }
   },
   "outputs": [],
   "source": []
  },
  {
   "cell_type": "code",
   "execution_count": null,
   "metadata": {
    "ExecuteTime": {
     "end_time": "2020-06-20T04:21:44.874287Z",
     "start_time": "2020-06-20T04:21:44.863324Z"
    }
   },
   "outputs": [],
   "source": []
  },
  {
   "cell_type": "code",
   "execution_count": null,
   "metadata": {},
   "outputs": [],
   "source": []
  }
 ],
 "metadata": {
  "kernelspec": {
   "display_name": "Python 3",
   "language": "python",
   "name": "python3"
  },
  "language_info": {
   "codemirror_mode": {
    "name": "ipython",
    "version": 3
   },
   "file_extension": ".py",
   "mimetype": "text/x-python",
   "name": "python",
   "nbconvert_exporter": "python",
   "pygments_lexer": "ipython3",
   "version": "3.6.9"
  },
  "toc": {
   "base_numbering": 1,
   "nav_menu": {},
   "number_sections": true,
   "sideBar": true,
   "skip_h1_title": false,
   "title_cell": "Table of Contents",
   "title_sidebar": "Contents",
   "toc_cell": false,
   "toc_position": {},
   "toc_section_display": true,
   "toc_window_display": true
  },
  "varInspector": {
   "cols": {
    "lenName": 16,
    "lenType": 16,
    "lenVar": 40
   },
   "kernels_config": {
    "python": {
     "delete_cmd_postfix": "",
     "delete_cmd_prefix": "del ",
     "library": "var_list.py",
     "varRefreshCmd": "print(var_dic_list())"
    },
    "r": {
     "delete_cmd_postfix": ") ",
     "delete_cmd_prefix": "rm(",
     "library": "var_list.r",
     "varRefreshCmd": "cat(var_dic_list()) "
    }
   },
   "types_to_exclude": [
    "module",
    "function",
    "builtin_function_or_method",
    "instance",
    "_Feature"
   ],
   "window_display": false
  }
 },
 "nbformat": 4,
 "nbformat_minor": 2
}
