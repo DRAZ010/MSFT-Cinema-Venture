{
 "cells": [
  {
   "cell_type": "code",
   "execution_count": 34,
   "metadata": {
    "ExecuteTime": {
     "end_time": "2020-06-19T16:45:05.605705Z",
     "start_time": "2020-06-19T16:45:05.593439Z"
    }
   },
   "outputs": [],
   "source": [
    "import os\n",
    "import pandas as pd\n",
    "import numpy as np\n",
    "import matplotlib.pyplot as plt\n",
    "import seaborn as sns\n",
    "from glob import glob\n",
    "import math \n",
    "import sys"
   ]
  },
  {
   "cell_type": "code",
   "execution_count": 35,
   "metadata": {
    "ExecuteTime": {
     "end_time": "2020-06-19T16:45:06.745092Z",
     "start_time": "2020-06-19T16:45:06.662128Z"
    }
   },
   "outputs": [],
   "source": [
    "movie_budgets = pd.read_csv('movie_budgets_clean.csv')\n",
    "rt_movie = pd.read_csv('rt_movie_clean.csv')"
   ]
  },
  {
   "cell_type": "code",
   "execution_count": 36,
   "metadata": {
    "ExecuteTime": {
     "end_time": "2020-06-19T16:45:07.146044Z",
     "start_time": "2020-06-19T16:45:07.128633Z"
    }
   },
   "outputs": [
    {
     "name": "stdout",
     "output_type": "stream",
     "text": [
      "<class 'pandas.core.frame.DataFrame'>\n",
      "RangeIndex: 1560 entries, 0 to 1559\n",
      "Data columns (total 8 columns):\n",
      "Unnamed: 0      1560 non-null int64\n",
      "id              1560 non-null int64\n",
      "synopsis        1498 non-null object\n",
      "rating          1557 non-null object\n",
      "genre           1552 non-null object\n",
      "director        1361 non-null object\n",
      "writer          1111 non-null object\n",
      "theater_date    1201 non-null object\n",
      "dtypes: int64(2), object(6)\n",
      "memory usage: 97.6+ KB\n"
     ]
    }
   ],
   "source": [
    "rt_movie.info()"
   ]
  },
  {
   "cell_type": "code",
   "execution_count": 37,
   "metadata": {
    "ExecuteTime": {
     "end_time": "2020-06-19T16:45:07.496565Z",
     "start_time": "2020-06-19T16:45:07.479626Z"
    }
   },
   "outputs": [],
   "source": [
    "rt_movie = rt_movie.drop(['writer'], axis = 1)\n",
    "rt_movie = rt_movie.drop(['director'], axis = 1)\n",
    "rt_movie = rt_movie.drop(['synopsis'], axis = 1)"
   ]
  },
  {
   "cell_type": "code",
   "execution_count": 38,
   "metadata": {
    "ExecuteTime": {
     "end_time": "2020-06-19T16:45:07.937377Z",
     "start_time": "2020-06-19T16:45:07.913153Z"
    }
   },
   "outputs": [
    {
     "name": "stdout",
     "output_type": "stream",
     "text": [
      "<class 'pandas.core.frame.DataFrame'>\n",
      "RangeIndex: 1560 entries, 0 to 1559\n",
      "Data columns (total 5 columns):\n",
      "Unnamed: 0      1560 non-null int64\n",
      "id              1560 non-null int64\n",
      "rating          1557 non-null object\n",
      "genre           1552 non-null object\n",
      "theater_date    1201 non-null object\n",
      "dtypes: int64(2), object(3)\n",
      "memory usage: 61.1+ KB\n"
     ]
    }
   ],
   "source": [
    "rt_movie.info()"
   ]
  },
  {
   "cell_type": "code",
   "execution_count": 39,
   "metadata": {
    "ExecuteTime": {
     "end_time": "2020-06-19T16:45:08.502443Z",
     "start_time": "2020-06-19T16:45:08.482214Z"
    }
   },
   "outputs": [],
   "source": [
    "rt_movie = rt_movie.dropna()"
   ]
  },
  {
   "cell_type": "code",
   "execution_count": 40,
   "metadata": {
    "ExecuteTime": {
     "end_time": "2020-06-19T16:45:08.854855Z",
     "start_time": "2020-06-19T16:45:08.832848Z"
    }
   },
   "outputs": [
    {
     "name": "stdout",
     "output_type": "stream",
     "text": [
      "<class 'pandas.core.frame.DataFrame'>\n",
      "Int64Index: 1201 entries, 0 to 1559\n",
      "Data columns (total 5 columns):\n",
      "Unnamed: 0      1201 non-null int64\n",
      "id              1201 non-null int64\n",
      "rating          1201 non-null object\n",
      "genre           1201 non-null object\n",
      "theater_date    1201 non-null object\n",
      "dtypes: int64(2), object(3)\n",
      "memory usage: 56.3+ KB\n"
     ]
    }
   ],
   "source": [
    "rt_movie.info()"
   ]
  },
  {
   "cell_type": "code",
   "execution_count": 41,
   "metadata": {
    "ExecuteTime": {
     "end_time": "2020-06-19T16:45:09.194638Z",
     "start_time": "2020-06-19T16:45:09.149323Z"
    }
   },
   "outputs": [
    {
     "data": {
      "text/html": [
       "<div>\n",
       "<style scoped>\n",
       "    .dataframe tbody tr th:only-of-type {\n",
       "        vertical-align: middle;\n",
       "    }\n",
       "\n",
       "    .dataframe tbody tr th {\n",
       "        vertical-align: top;\n",
       "    }\n",
       "\n",
       "    .dataframe thead th {\n",
       "        text-align: right;\n",
       "    }\n",
       "</style>\n",
       "<table border=\"1\" class=\"dataframe\">\n",
       "  <thead>\n",
       "    <tr style=\"text-align: right;\">\n",
       "      <th></th>\n",
       "      <th>id</th>\n",
       "      <th>release_date</th>\n",
       "      <th>movie</th>\n",
       "      <th>production_budget</th>\n",
       "      <th>domestic_gross</th>\n",
       "      <th>worldwide_gross</th>\n",
       "    </tr>\n",
       "  </thead>\n",
       "  <tbody>\n",
       "    <tr>\n",
       "      <td>0</td>\n",
       "      <td>1</td>\n",
       "      <td>Dec 18, 2009</td>\n",
       "      <td>Avatar</td>\n",
       "      <td>425000000</td>\n",
       "      <td>760507625</td>\n",
       "      <td>2776345279</td>\n",
       "    </tr>\n",
       "    <tr>\n",
       "      <td>1</td>\n",
       "      <td>2</td>\n",
       "      <td>May 20, 2011</td>\n",
       "      <td>Pirates of the Caribbean: On Stranger Tides</td>\n",
       "      <td>410600000</td>\n",
       "      <td>241063875</td>\n",
       "      <td>1045663875</td>\n",
       "    </tr>\n",
       "    <tr>\n",
       "      <td>2</td>\n",
       "      <td>3</td>\n",
       "      <td>Jun 7, 2019</td>\n",
       "      <td>Dark Phoenix</td>\n",
       "      <td>350000000</td>\n",
       "      <td>42762350</td>\n",
       "      <td>149762350</td>\n",
       "    </tr>\n",
       "    <tr>\n",
       "      <td>3</td>\n",
       "      <td>4</td>\n",
       "      <td>May 1, 2015</td>\n",
       "      <td>Avengers: Age of Ultron</td>\n",
       "      <td>330600000</td>\n",
       "      <td>459005868</td>\n",
       "      <td>1403013963</td>\n",
       "    </tr>\n",
       "    <tr>\n",
       "      <td>4</td>\n",
       "      <td>5</td>\n",
       "      <td>Dec 15, 2017</td>\n",
       "      <td>Star Wars Ep. VIII: The Last Jedi</td>\n",
       "      <td>317000000</td>\n",
       "      <td>620181382</td>\n",
       "      <td>1316721747</td>\n",
       "    </tr>\n",
       "  </tbody>\n",
       "</table>\n",
       "</div>"
      ],
      "text/plain": [
       "   id  release_date                                        movie  \\\n",
       "0   1  Dec 18, 2009                                       Avatar   \n",
       "1   2  May 20, 2011  Pirates of the Caribbean: On Stranger Tides   \n",
       "2   3   Jun 7, 2019                                 Dark Phoenix   \n",
       "3   4   May 1, 2015                      Avengers: Age of Ultron   \n",
       "4   5  Dec 15, 2017            Star Wars Ep. VIII: The Last Jedi   \n",
       "\n",
       "   production_budget  domestic_gross  worldwide_gross  \n",
       "0          425000000       760507625       2776345279  \n",
       "1          410600000       241063875       1045663875  \n",
       "2          350000000        42762350        149762350  \n",
       "3          330600000       459005868       1403013963  \n",
       "4          317000000       620181382       1316721747  "
      ]
     },
     "metadata": {},
     "output_type": "display_data"
    },
    {
     "data": {
      "text/html": [
       "<div>\n",
       "<style scoped>\n",
       "    .dataframe tbody tr th:only-of-type {\n",
       "        vertical-align: middle;\n",
       "    }\n",
       "\n",
       "    .dataframe tbody tr th {\n",
       "        vertical-align: top;\n",
       "    }\n",
       "\n",
       "    .dataframe thead th {\n",
       "        text-align: right;\n",
       "    }\n",
       "</style>\n",
       "<table border=\"1\" class=\"dataframe\">\n",
       "  <thead>\n",
       "    <tr style=\"text-align: right;\">\n",
       "      <th></th>\n",
       "      <th>Unnamed: 0</th>\n",
       "      <th>id</th>\n",
       "      <th>rating</th>\n",
       "      <th>genre</th>\n",
       "      <th>theater_date</th>\n",
       "    </tr>\n",
       "  </thead>\n",
       "  <tbody>\n",
       "    <tr>\n",
       "      <td>0</td>\n",
       "      <td>0</td>\n",
       "      <td>1</td>\n",
       "      <td>R</td>\n",
       "      <td>Action and Adventure|Classics|Drama</td>\n",
       "      <td>Oct 9, 1971</td>\n",
       "    </tr>\n",
       "    <tr>\n",
       "      <td>1</td>\n",
       "      <td>1</td>\n",
       "      <td>3</td>\n",
       "      <td>R</td>\n",
       "      <td>Drama|Science Fiction and Fantasy</td>\n",
       "      <td>Aug 17, 2012</td>\n",
       "    </tr>\n",
       "    <tr>\n",
       "      <td>2</td>\n",
       "      <td>2</td>\n",
       "      <td>5</td>\n",
       "      <td>R</td>\n",
       "      <td>Drama|Musical and Performing Arts</td>\n",
       "      <td>Sep 13, 1996</td>\n",
       "    </tr>\n",
       "    <tr>\n",
       "      <td>3</td>\n",
       "      <td>3</td>\n",
       "      <td>6</td>\n",
       "      <td>R</td>\n",
       "      <td>Drama|Mystery and Suspense</td>\n",
       "      <td>Dec 9, 1994</td>\n",
       "    </tr>\n",
       "    <tr>\n",
       "      <td>5</td>\n",
       "      <td>5</td>\n",
       "      <td>8</td>\n",
       "      <td>PG</td>\n",
       "      <td>Drama|Kids and Family</td>\n",
       "      <td>Mar 3, 2000</td>\n",
       "    </tr>\n",
       "  </tbody>\n",
       "</table>\n",
       "</div>"
      ],
      "text/plain": [
       "   Unnamed: 0  id rating                                genre  theater_date\n",
       "0           0   1      R  Action and Adventure|Classics|Drama   Oct 9, 1971\n",
       "1           1   3      R    Drama|Science Fiction and Fantasy  Aug 17, 2012\n",
       "2           2   5      R    Drama|Musical and Performing Arts  Sep 13, 1996\n",
       "3           3   6      R           Drama|Mystery and Suspense   Dec 9, 1994\n",
       "5           5   8     PG                Drama|Kids and Family   Mar 3, 2000"
      ]
     },
     "execution_count": 41,
     "metadata": {},
     "output_type": "execute_result"
    }
   ],
   "source": [
    "display(movie_budgets.head())\n",
    "rt_movie.head()"
   ]
  },
  {
   "cell_type": "code",
   "execution_count": 42,
   "metadata": {
    "ExecuteTime": {
     "end_time": "2020-06-19T16:45:09.487998Z",
     "start_time": "2020-06-19T16:45:09.467440Z"
    }
   },
   "outputs": [],
   "source": [
    "rt_date_count = rt_movie.groupby('theater_date').count()"
   ]
  },
  {
   "cell_type": "code",
   "execution_count": 43,
   "metadata": {
    "ExecuteTime": {
     "end_time": "2020-06-19T16:45:09.842419Z",
     "start_time": "2020-06-19T16:45:09.815494Z"
    },
    "scrolled": true
   },
   "outputs": [
    {
     "data": {
      "text/html": [
       "<div>\n",
       "<style scoped>\n",
       "    .dataframe tbody tr th:only-of-type {\n",
       "        vertical-align: middle;\n",
       "    }\n",
       "\n",
       "    .dataframe tbody tr th {\n",
       "        vertical-align: top;\n",
       "    }\n",
       "\n",
       "    .dataframe thead th {\n",
       "        text-align: right;\n",
       "    }\n",
       "</style>\n",
       "<table border=\"1\" class=\"dataframe\">\n",
       "  <thead>\n",
       "    <tr style=\"text-align: right;\">\n",
       "      <th></th>\n",
       "      <th>Unnamed: 0</th>\n",
       "      <th>id</th>\n",
       "      <th>rating</th>\n",
       "      <th>genre</th>\n",
       "    </tr>\n",
       "    <tr>\n",
       "      <th>theater_date</th>\n",
       "      <th></th>\n",
       "      <th></th>\n",
       "      <th></th>\n",
       "      <th></th>\n",
       "    </tr>\n",
       "  </thead>\n",
       "  <tbody>\n",
       "    <tr>\n",
       "      <td>Apr 1, 1952</td>\n",
       "      <td>1</td>\n",
       "      <td>1</td>\n",
       "      <td>1</td>\n",
       "      <td>1</td>\n",
       "    </tr>\n",
       "    <tr>\n",
       "      <td>Apr 1, 1975</td>\n",
       "      <td>1</td>\n",
       "      <td>1</td>\n",
       "      <td>1</td>\n",
       "      <td>1</td>\n",
       "    </tr>\n",
       "    <tr>\n",
       "      <td>Apr 1, 1976</td>\n",
       "      <td>1</td>\n",
       "      <td>1</td>\n",
       "      <td>1</td>\n",
       "      <td>1</td>\n",
       "    </tr>\n",
       "    <tr>\n",
       "      <td>Apr 1, 1981</td>\n",
       "      <td>1</td>\n",
       "      <td>1</td>\n",
       "      <td>1</td>\n",
       "      <td>1</td>\n",
       "    </tr>\n",
       "    <tr>\n",
       "      <td>Apr 1, 1982</td>\n",
       "      <td>1</td>\n",
       "      <td>1</td>\n",
       "      <td>1</td>\n",
       "      <td>1</td>\n",
       "    </tr>\n",
       "    <tr>\n",
       "      <td>...</td>\n",
       "      <td>...</td>\n",
       "      <td>...</td>\n",
       "      <td>...</td>\n",
       "      <td>...</td>\n",
       "    </tr>\n",
       "    <tr>\n",
       "      <td>Sep 8, 1996</td>\n",
       "      <td>1</td>\n",
       "      <td>1</td>\n",
       "      <td>1</td>\n",
       "      <td>1</td>\n",
       "    </tr>\n",
       "    <tr>\n",
       "      <td>Sep 8, 2000</td>\n",
       "      <td>1</td>\n",
       "      <td>1</td>\n",
       "      <td>1</td>\n",
       "      <td>1</td>\n",
       "    </tr>\n",
       "    <tr>\n",
       "      <td>Sep 9, 1986</td>\n",
       "      <td>1</td>\n",
       "      <td>1</td>\n",
       "      <td>1</td>\n",
       "      <td>1</td>\n",
       "    </tr>\n",
       "    <tr>\n",
       "      <td>Sep 9, 1988</td>\n",
       "      <td>1</td>\n",
       "      <td>1</td>\n",
       "      <td>1</td>\n",
       "      <td>1</td>\n",
       "    </tr>\n",
       "    <tr>\n",
       "      <td>Sep 9, 1992</td>\n",
       "      <td>1</td>\n",
       "      <td>1</td>\n",
       "      <td>1</td>\n",
       "      <td>1</td>\n",
       "    </tr>\n",
       "  </tbody>\n",
       "</table>\n",
       "<p>897 rows × 4 columns</p>\n",
       "</div>"
      ],
      "text/plain": [
       "              Unnamed: 0  id  rating  genre\n",
       "theater_date                               \n",
       "Apr 1, 1952            1   1       1      1\n",
       "Apr 1, 1975            1   1       1      1\n",
       "Apr 1, 1976            1   1       1      1\n",
       "Apr 1, 1981            1   1       1      1\n",
       "Apr 1, 1982            1   1       1      1\n",
       "...                  ...  ..     ...    ...\n",
       "Sep 8, 1996            1   1       1      1\n",
       "Sep 8, 2000            1   1       1      1\n",
       "Sep 9, 1986            1   1       1      1\n",
       "Sep 9, 1988            1   1       1      1\n",
       "Sep 9, 1992            1   1       1      1\n",
       "\n",
       "[897 rows x 4 columns]"
      ]
     },
     "execution_count": 43,
     "metadata": {},
     "output_type": "execute_result"
    }
   ],
   "source": [
    "rt_date_count.loc[rt_date_count['rating'] <= 1]"
   ]
  },
  {
   "cell_type": "code",
   "execution_count": 44,
   "metadata": {
    "ExecuteTime": {
     "end_time": "2020-06-19T16:45:10.187345Z",
     "start_time": "2020-06-19T16:45:10.159550Z"
    }
   },
   "outputs": [],
   "source": [
    "movie_date_count = movie_budgets.groupby('release_date').count()"
   ]
  },
  {
   "cell_type": "code",
   "execution_count": 45,
   "metadata": {
    "ExecuteTime": {
     "end_time": "2020-06-19T16:45:10.577532Z",
     "start_time": "2020-06-19T16:45:10.560713Z"
    }
   },
   "outputs": [],
   "source": [
    "movie_date_count = movie_date_count.loc[movie_date_count['movie'] <= 1]"
   ]
  },
  {
   "cell_type": "code",
   "execution_count": 46,
   "metadata": {
    "ExecuteTime": {
     "end_time": "2020-06-19T16:45:10.972062Z",
     "start_time": "2020-06-19T16:45:10.960538Z"
    }
   },
   "outputs": [],
   "source": [
    "movie_date_count = movie_date_count.reset_index()"
   ]
  },
  {
   "cell_type": "code",
   "execution_count": 47,
   "metadata": {
    "ExecuteTime": {
     "end_time": "2020-06-19T16:45:11.411010Z",
     "start_time": "2020-06-19T16:45:11.382058Z"
    }
   },
   "outputs": [
    {
     "data": {
      "text/html": [
       "<div>\n",
       "<style scoped>\n",
       "    .dataframe tbody tr th:only-of-type {\n",
       "        vertical-align: middle;\n",
       "    }\n",
       "\n",
       "    .dataframe tbody tr th {\n",
       "        vertical-align: top;\n",
       "    }\n",
       "\n",
       "    .dataframe thead th {\n",
       "        text-align: right;\n",
       "    }\n",
       "</style>\n",
       "<table border=\"1\" class=\"dataframe\">\n",
       "  <thead>\n",
       "    <tr style=\"text-align: right;\">\n",
       "      <th></th>\n",
       "      <th>release_date</th>\n",
       "      <th>id</th>\n",
       "      <th>movie</th>\n",
       "      <th>production_budget</th>\n",
       "      <th>domestic_gross</th>\n",
       "      <th>worldwide_gross</th>\n",
       "    </tr>\n",
       "  </thead>\n",
       "  <tbody>\n",
       "    <tr>\n",
       "      <td>0</td>\n",
       "      <td>Apr 1, 1988</td>\n",
       "      <td>1</td>\n",
       "      <td>1</td>\n",
       "      <td>1</td>\n",
       "      <td>1</td>\n",
       "      <td>1</td>\n",
       "    </tr>\n",
       "    <tr>\n",
       "      <td>1</td>\n",
       "      <td>Apr 1, 1996</td>\n",
       "      <td>1</td>\n",
       "      <td>1</td>\n",
       "      <td>1</td>\n",
       "      <td>1</td>\n",
       "      <td>1</td>\n",
       "    </tr>\n",
       "    <tr>\n",
       "      <td>2</td>\n",
       "      <td>Apr 1, 2005</td>\n",
       "      <td>1</td>\n",
       "      <td>1</td>\n",
       "      <td>1</td>\n",
       "      <td>1</td>\n",
       "      <td>1</td>\n",
       "    </tr>\n",
       "    <tr>\n",
       "      <td>3</td>\n",
       "      <td>Apr 1, 2010</td>\n",
       "      <td>1</td>\n",
       "      <td>1</td>\n",
       "      <td>1</td>\n",
       "      <td>1</td>\n",
       "      <td>1</td>\n",
       "    </tr>\n",
       "    <tr>\n",
       "      <td>4</td>\n",
       "      <td>Apr 1, 2015</td>\n",
       "      <td>1</td>\n",
       "      <td>1</td>\n",
       "      <td>1</td>\n",
       "      <td>1</td>\n",
       "      <td>1</td>\n",
       "    </tr>\n",
       "    <tr>\n",
       "      <td>...</td>\n",
       "      <td>...</td>\n",
       "      <td>...</td>\n",
       "      <td>...</td>\n",
       "      <td>...</td>\n",
       "      <td>...</td>\n",
       "      <td>...</td>\n",
       "    </tr>\n",
       "    <tr>\n",
       "      <td>991</td>\n",
       "      <td>Sep 6, 1935</td>\n",
       "      <td>1</td>\n",
       "      <td>1</td>\n",
       "      <td>1</td>\n",
       "      <td>1</td>\n",
       "      <td>1</td>\n",
       "    </tr>\n",
       "    <tr>\n",
       "      <td>992</td>\n",
       "      <td>Sep 6, 1996</td>\n",
       "      <td>1</td>\n",
       "      <td>1</td>\n",
       "      <td>1</td>\n",
       "      <td>1</td>\n",
       "      <td>1</td>\n",
       "    </tr>\n",
       "    <tr>\n",
       "      <td>993</td>\n",
       "      <td>Sep 7, 2018</td>\n",
       "      <td>1</td>\n",
       "      <td>1</td>\n",
       "      <td>1</td>\n",
       "      <td>1</td>\n",
       "      <td>1</td>\n",
       "    </tr>\n",
       "    <tr>\n",
       "      <td>994</td>\n",
       "      <td>Sep 8, 1989</td>\n",
       "      <td>1</td>\n",
       "      <td>1</td>\n",
       "      <td>1</td>\n",
       "      <td>1</td>\n",
       "      <td>1</td>\n",
       "    </tr>\n",
       "    <tr>\n",
       "      <td>995</td>\n",
       "      <td>Sep 9, 2009</td>\n",
       "      <td>1</td>\n",
       "      <td>1</td>\n",
       "      <td>1</td>\n",
       "      <td>1</td>\n",
       "      <td>1</td>\n",
       "    </tr>\n",
       "  </tbody>\n",
       "</table>\n",
       "<p>996 rows × 6 columns</p>\n",
       "</div>"
      ],
      "text/plain": [
       "    release_date  id  movie  production_budget  domestic_gross  \\\n",
       "0    Apr 1, 1988   1      1                  1               1   \n",
       "1    Apr 1, 1996   1      1                  1               1   \n",
       "2    Apr 1, 2005   1      1                  1               1   \n",
       "3    Apr 1, 2010   1      1                  1               1   \n",
       "4    Apr 1, 2015   1      1                  1               1   \n",
       "..           ...  ..    ...                ...             ...   \n",
       "991  Sep 6, 1935   1      1                  1               1   \n",
       "992  Sep 6, 1996   1      1                  1               1   \n",
       "993  Sep 7, 2018   1      1                  1               1   \n",
       "994  Sep 8, 1989   1      1                  1               1   \n",
       "995  Sep 9, 2009   1      1                  1               1   \n",
       "\n",
       "     worldwide_gross  \n",
       "0                  1  \n",
       "1                  1  \n",
       "2                  1  \n",
       "3                  1  \n",
       "4                  1  \n",
       "..               ...  \n",
       "991                1  \n",
       "992                1  \n",
       "993                1  \n",
       "994                1  \n",
       "995                1  \n",
       "\n",
       "[996 rows x 6 columns]"
      ]
     },
     "execution_count": 47,
     "metadata": {},
     "output_type": "execute_result"
    }
   ],
   "source": [
    "movie_date_count"
   ]
  },
  {
   "cell_type": "code",
   "execution_count": 48,
   "metadata": {
    "ExecuteTime": {
     "end_time": "2020-06-19T16:45:11.748514Z",
     "start_time": "2020-06-19T16:45:11.740290Z"
    }
   },
   "outputs": [],
   "source": [
    "#df = movie_budgets[movie_budgets['release_date'] in list(movie_date_count['release_date'])]"
   ]
  },
  {
   "cell_type": "code",
   "execution_count": 49,
   "metadata": {
    "ExecuteTime": {
     "end_time": "2020-06-19T16:45:12.123903Z",
     "start_time": "2020-06-19T16:45:12.114005Z"
    }
   },
   "outputs": [],
   "source": [
    "#movie_budgets = movie_budgets.loc[movie_date_count['release_date'] in list(movie_budgets['release_date'])]"
   ]
  },
  {
   "cell_type": "code",
   "execution_count": null,
   "metadata": {
    "ExecuteTime": {
     "end_time": "2020-06-19T02:40:05.677845Z",
     "start_time": "2020-06-19T02:40:05.650927Z"
    },
    "scrolled": true
   },
   "outputs": [],
   "source": []
  },
  {
   "cell_type": "code",
   "execution_count": 50,
   "metadata": {
    "ExecuteTime": {
     "end_time": "2020-06-19T16:45:12.879699Z",
     "start_time": "2020-06-19T16:45:12.858549Z"
    }
   },
   "outputs": [],
   "source": [
    "merged_df= rt_movie.merge(movie_budgets, left_on='theater_date', right_on='release_date', how='inner')"
   ]
  },
  {
   "cell_type": "code",
   "execution_count": 51,
   "metadata": {
    "ExecuteTime": {
     "end_time": "2020-06-19T16:45:13.247917Z",
     "start_time": "2020-06-19T16:45:13.234837Z"
    }
   },
   "outputs": [],
   "source": [
    "merged_df['roi'] = (merged_df['worldwide_gross'] / merged_df['production_budget'] ) -1"
   ]
  },
  {
   "cell_type": "code",
   "execution_count": 52,
   "metadata": {
    "ExecuteTime": {
     "end_time": "2020-06-19T16:45:13.605712Z",
     "start_time": "2020-06-19T16:45:13.597719Z"
    },
    "scrolled": false
   },
   "outputs": [],
   "source": [
    "#df['text'].map(lambda x: len(x.split())).head()"
   ]
  },
  {
   "cell_type": "code",
   "execution_count": 53,
   "metadata": {
    "ExecuteTime": {
     "end_time": "2020-06-19T16:45:14.107715Z",
     "start_time": "2020-06-19T16:45:14.091728Z"
    }
   },
   "outputs": [],
   "source": [
    "full_genre = list(merged_df['genre'].map(lambda x: x.split('|')))"
   ]
  },
  {
   "cell_type": "code",
   "execution_count": 54,
   "metadata": {
    "ExecuteTime": {
     "end_time": "2020-06-19T16:45:14.720798Z",
     "start_time": "2020-06-19T16:45:14.709466Z"
    }
   },
   "outputs": [],
   "source": [
    "genre = []\n",
    "for i in full_genre:\n",
    "    genre.append(i[0])"
   ]
  },
  {
   "cell_type": "code",
   "execution_count": 55,
   "metadata": {
    "ExecuteTime": {
     "end_time": "2020-06-19T16:45:15.573591Z",
     "start_time": "2020-06-19T16:45:15.557588Z"
    },
    "scrolled": true
   },
   "outputs": [
    {
     "data": {
      "text/plain": [
       "{'Action and Adventure',\n",
       " 'Animation',\n",
       " 'Art House and International',\n",
       " 'Classics',\n",
       " 'Comedy',\n",
       " 'Documentary',\n",
       " 'Drama',\n",
       " 'Horror',\n",
       " 'Kids and Family',\n",
       " 'Mystery and Suspense',\n",
       " 'Science Fiction and Fantasy'}"
      ]
     },
     "execution_count": 55,
     "metadata": {},
     "output_type": "execute_result"
    }
   ],
   "source": [
    "rating= list(merged_df['rating'].unique())\n",
    "roi = list(merged_df['roi'])\n",
    "ugenre= set(genre)\n",
    "ugenre"
   ]
  },
  {
   "cell_type": "code",
   "execution_count": 62,
   "metadata": {
    "ExecuteTime": {
     "end_time": "2020-06-19T16:52:04.585609Z",
     "start_time": "2020-06-19T16:52:01.182613Z"
    }
   },
   "outputs": [
    {
     "data": {
      "image/png": "[encoded data removed]",
      "text/plain": [
       "<Figure size 1080x576 with 12 Axes>"
      ]
     },
     "metadata": {
      "needs_background": "light"
     },
     "output_type": "display_data"
    }
   ],
   "source": [
    "fig, ax=plt.subplots(nrows=4, ncols=3, figsize=(15,8))"
   ]
  },
  {
   "cell_type": "code",
   "execution_count": null,
   "metadata": {
    "ExecuteTime": {
     "end_time": "2020-06-19T16:29:21.149164Z",
     "start_time": "2020-06-19T16:29:06.710Z"
    }
   },
   "outputs": [],
   "source": [
    "fig, ax = plt.subplots(nrow= )"
   ]
  },
  {
   "cell_type": "code",
   "execution_count": 31,
   "metadata": {
    "ExecuteTime": {
     "end_time": "2020-06-19T16:32:05.453916Z",
     "start_time": "2020-06-19T16:32:05.438350Z"
    }
   },
   "outputs": [],
   "source": [
    "market_share = pd.read_csv('rating_market_share.csv')"
   ]
  },
  {
   "cell_type": "code",
   "execution_count": 32,
   "metadata": {
    "ExecuteTime": {
     "end_time": "2020-06-19T16:32:13.371773Z",
     "start_time": "2020-06-19T16:32:13.335290Z"
    }
   },
   "outputs": [
    {
     "data": {
      "text/html": [
       "<div>\n",
       "<style scoped>\n",
       "    .dataframe tbody tr th:only-of-type {\n",
       "        vertical-align: middle;\n",
       "    }\n",
       "\n",
       "    .dataframe tbody tr th {\n",
       "        vertical-align: top;\n",
       "    }\n",
       "\n",
       "    .dataframe thead th {\n",
       "        text-align: right;\n",
       "    }\n",
       "</style>\n",
       "<table border=\"1\" class=\"dataframe\">\n",
       "  <thead>\n",
       "    <tr style=\"text-align: right;\">\n",
       "      <th></th>\n",
       "      <th>rank</th>\n",
       "      <th>rating</th>\n",
       "      <th>movies</th>\n",
       "      <th>total_box_office</th>\n",
       "      <th>tickets</th>\n",
       "      <th>share</th>\n",
       "    </tr>\n",
       "  </thead>\n",
       "  <tbody>\n",
       "    <tr>\n",
       "      <td>0</td>\n",
       "      <td>1</td>\n",
       "      <td>PG-13</td>\n",
       "      <td>3143.0</td>\n",
       "      <td>1.113364e+11</td>\n",
       "      <td>1.604386e+10</td>\n",
       "      <td>0.48</td>\n",
       "    </tr>\n",
       "    <tr>\n",
       "      <td>1</td>\n",
       "      <td>2</td>\n",
       "      <td>R</td>\n",
       "      <td>5329.0</td>\n",
       "      <td>6.274039e+10</td>\n",
       "      <td>9.569086e+09</td>\n",
       "      <td>0.27</td>\n",
       "    </tr>\n",
       "    <tr>\n",
       "      <td>2</td>\n",
       "      <td>3</td>\n",
       "      <td>PG</td>\n",
       "      <td>1478.0</td>\n",
       "      <td>4.861201e+10</td>\n",
       "      <td>6.958419e+09</td>\n",
       "      <td>0.21</td>\n",
       "    </tr>\n",
       "    <tr>\n",
       "      <td>3</td>\n",
       "      <td>4</td>\n",
       "      <td>G</td>\n",
       "      <td>387.0</td>\n",
       "      <td>9.579448e+09</td>\n",
       "      <td>1.534342e+09</td>\n",
       "      <td>0.04</td>\n",
       "    </tr>\n",
       "    <tr>\n",
       "      <td>4</td>\n",
       "      <td>5</td>\n",
       "      <td>Not Rated</td>\n",
       "      <td>5815.0</td>\n",
       "      <td>1.917703e+09</td>\n",
       "      <td>2.850633e+08</td>\n",
       "      <td>0.01</td>\n",
       "    </tr>\n",
       "  </tbody>\n",
       "</table>\n",
       "</div>"
      ],
      "text/plain": [
       "   rank     rating  movies  total_box_office       tickets  share\n",
       "0     1      PG-13  3143.0      1.113364e+11  1.604386e+10   0.48\n",
       "1     2          R  5329.0      6.274039e+10  9.569086e+09   0.27\n",
       "2     3         PG  1478.0      4.861201e+10  6.958419e+09   0.21\n",
       "3     4          G   387.0      9.579448e+09  1.534342e+09   0.04\n",
       "4     5  Not Rated  5815.0      1.917703e+09  2.850633e+08   0.01"
      ]
     },
     "execution_count": 32,
     "metadata": {},
     "output_type": "execute_result"
    }
   ],
   "source": [
    "market_share.head()"
   ]
  },
  {
   "cell_type": "code",
   "execution_count": null,
   "metadata": {},
   "outputs": [],
   "source": []
  }
 ],
 "metadata": {
  "kernelspec": {
   "display_name": "Python 3",
   "language": "python",
   "name": "python3"
  },
  "language_info": {
   "codemirror_mode": {
    "name": "ipython",
    "version": 3
   },
   "file_extension": ".py",
   "mimetype": "text/x-python",
   "name": "python",
   "nbconvert_exporter": "python",
   "pygments_lexer": "ipython3",
   "version": "3.6.9"
  },
  "toc": {
   "base_numbering": 1,
   "nav_menu": {},
   "number_sections": true,
   "sideBar": true,
   "skip_h1_title": false,
   "title_cell": "Table of Contents",
   "title_sidebar": "Contents",
   "toc_cell": false,
   "toc_position": {},
   "toc_section_display": true,
   "toc_window_display": false
  },
  "varInspector": {
   "cols": {
    "lenName": 16,
    "lenType": 16,
    "lenVar": 40
   },
   "kernels_config": {
    "python": {
     "delete_cmd_postfix": "",
     "delete_cmd_prefix": "del ",
     "library": "var_list.py",
     "varRefreshCmd": "print(var_dic_list())"
    },
    "r": {
     "delete_cmd_postfix": ") ",
     "delete_cmd_prefix": "rm(",
     "library": "var_list.r",
     "varRefreshCmd": "cat(var_dic_list()) "
    }
   },
   "types_to_exclude": [
    "module",
    "function",
    "builtin_function_or_method",
    "instance",
    "_Feature"
   ],
   "window_display": false
  }
 },
 "nbformat": 4,
 "nbformat_minor": 2
}
