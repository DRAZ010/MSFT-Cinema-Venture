{
 "cells": [
  {
   "cell_type": "markdown",
   "metadata": {},
   "source": [
    "# Importing Libraries"
   ]
  },
  {
   "cell_type": "code",
   "execution_count": 3,
   "metadata": {
    "ExecuteTime": {
     "end_time": "2020-06-20T12:09:05.367873Z",
     "start_time": "2020-06-20T12:09:04.243843Z"
    }
   },
   "outputs": [],
   "source": [
    "#importing technologies/libraries\n",
    "import os\n",
    "import pandas as pd\n",
    "import numpy as np\n",
    "import matplotlib.pyplot as plt\n",
    "import seaborn as sns\n",
    "from glob import glob\n",
    "import math \n",
    "import sys"
   ]
  },
  {
   "cell_type": "code",
   "execution_count": 4,
   "metadata": {
    "ExecuteTime": {
     "end_time": "2020-06-20T12:09:05.372873Z",
     "start_time": "2020-06-20T12:09:05.368870Z"
    }
   },
   "outputs": [
    {
     "data": {
      "text/plain": [
       "['./zippedData\\\\bom.movie_gross.csv.gz',\n",
       " './zippedData\\\\imdb.name.basics.csv.gz',\n",
       " './zippedData\\\\imdb.title.akas.csv.gz',\n",
       " './zippedData\\\\imdb.title.basics.csv.gz',\n",
       " './zippedData\\\\imdb.title.crew.csv.gz',\n",
       " './zippedData\\\\imdb.title.principals.csv.gz',\n",
       " './zippedData\\\\imdb.title.ratings.csv.gz',\n",
       " './zippedData\\\\tmdb.movies.csv.gz',\n",
       " './zippedData\\\\tn.movie_budgets.csv.gz']"
      ]
     },
     "execution_count": 4,
     "metadata": {},
     "output_type": "execute_result"
    }
   ],
   "source": [
    "#loading csv files into notebook\n",
    "csv_files = glob(\"./zippedData/*.csv.gz\") #\n",
    "csv_files"
   ]
  },
  {
   "cell_type": "markdown",
   "metadata": {},
   "source": [
    "## Cleaning the file names"
   ]
  },
  {
   "cell_type": "code",
   "execution_count": 5,
   "metadata": {
    "ExecuteTime": {
     "end_time": "2020-06-20T12:09:07.888369Z",
     "start_time": "2020-06-20T12:09:05.373871Z"
    }
   },
   "outputs": [],
   "source": [
    "#renaming csv files to cleaner format\n",
    "csv_files_dict = {}\n",
    "for filename in csv_files:\n",
    "    filename_cleaned = os.path.basename(filename).replace(\".csv\", \"\").replace(\".\", \"_\").replace(\"_gz\",\"\") \n",
    "    filename_df = pd.read_csv(filename, index_col=0)\n",
    "    csv_files_dict[filename_cleaned] = filename_df"
   ]
  },
  {
   "cell_type": "code",
   "execution_count": 6,
   "metadata": {
    "ExecuteTime": {
     "end_time": "2020-06-20T12:09:07.892247Z",
     "start_time": "2020-06-20T12:09:07.889255Z"
    }
   },
   "outputs": [
    {
     "data": {
      "text/plain": [
       "dict_keys(['bom_movie_gross', 'imdb_name_basics', 'imdb_title_akas', 'imdb_title_basics', 'imdb_title_crew', 'imdb_title_principals', 'imdb_title_ratings', 'tmdb_movies', 'tn_movie_budgets'])"
      ]
     },
     "execution_count": 6,
     "metadata": {},
     "output_type": "execute_result"
    }
   ],
   "source": [
    "#creating a dictionary with keys as file names\n",
    "csv_files_dict.keys()"
   ]
  },
  {
   "cell_type": "code",
   "execution_count": 7,
   "metadata": {
    "ExecuteTime": {
     "end_time": "2020-06-20T12:09:07.903218Z",
     "start_time": "2020-06-20T12:09:07.892247Z"
    }
   },
   "outputs": [],
   "source": [
    "#declaring variables for each file imported file\n",
    "bom_movie_gross = csv_files_dict['bom_movie_gross']\n",
    "imdb_name_basics = csv_files_dict['imdb_name_basics']\n",
    "imdb_title_akas = csv_files_dict['imdb_title_akas']\n",
    "imdb_title_basics = csv_files_dict['imdb_title_basics']\n",
    "imdb_title_crew = csv_files_dict['imdb_title_crew']\n",
    "imdb_title_principals = csv_files_dict['imdb_title_principals']\n",
    "imdb_title_ratings = csv_files_dict['imdb_title_ratings']\n",
    "tmdb_movies = csv_files_dict['tmdb_movies']\n",
    "movie_budgets = csv_files_dict['tn_movie_budgets']\n",
    "rt_movie = pd.read_csv('zippedData/rt.movie_info.tsv.gz', delimiter = '\\t', encoding = 'unicode_escape')\n",
    " #data copied and pasted from \"https://www.the-numbers.com/\"\n",
    "top_producers_intl = pd.read_csv('databases/top_producers_intl.csv', encoding='cp1252')\n",
    "genre_market_share = pd.read_csv('databases/genre_market_share.csv', encoding='cp1252')\n",
    "rating_market_share = pd.read_csv('databases/rating_market_share.csv', encoding='cp1252')\n",
    "#data copied and pasted to csv from wikipedia\n",
    "franchises = pd.read_csv('databases/franchises_clean.csv')"
   ]
  },
  {
   "cell_type": "markdown",
   "metadata": {},
   "source": [
    "# Cleaning each database"
   ]
  },
  {
   "cell_type": "markdown",
   "metadata": {},
   "source": [
    "## Box Office Mojo"
   ]
  },
  {
   "cell_type": "code",
   "execution_count": 97,
   "metadata": {
    "ExecuteTime": {
     "end_time": "2020-06-20T14:14:09.369786Z",
     "start_time": "2020-06-20T14:14:09.364812Z"
    }
   },
   "outputs": [
    {
     "name": "stdout",
     "output_type": "stream",
     "text": [
      "<class 'pandas.core.frame.DataFrame'>\n",
      "Index: 3356 entries, Toy Story 3 to An Actor Prepares\n",
      "Data columns (total 3 columns):\n",
      " #   Column          Non-Null Count  Dtype  \n",
      "---  ------          --------------  -----  \n",
      " 0   studio          3356 non-null   object \n",
      " 1   domestic_gross  3356 non-null   float64\n",
      " 2   year            3356 non-null   int64  \n",
      "dtypes: float64(1), int64(1), object(1)\n",
      "memory usage: 104.9+ KB\n"
     ]
    }
   ],
   "source": [
    "#getting data types and null counts\n",
    "bom_movie_gross.info()"
   ]
  },
  {
   "cell_type": "code",
   "execution_count": 98,
   "metadata": {
    "ExecuteTime": {
     "end_time": "2020-06-20T14:15:45.428590Z",
     "start_time": "2020-06-20T14:15:45.421625Z"
    }
   },
   "outputs": [
    {
     "data": {
      "text/html": [
       "<div>\n",
       "<style scoped>\n",
       "    .dataframe tbody tr th:only-of-type {\n",
       "        vertical-align: middle;\n",
       "    }\n",
       "\n",
       "    .dataframe tbody tr th {\n",
       "        vertical-align: top;\n",
       "    }\n",
       "\n",
       "    .dataframe thead th {\n",
       "        text-align: right;\n",
       "    }\n",
       "</style>\n",
       "<table border=\"1\" class=\"dataframe\">\n",
       "  <thead>\n",
       "    <tr style=\"text-align: right;\">\n",
       "      <th></th>\n",
       "      <th>studio</th>\n",
       "      <th>domestic_gross</th>\n",
       "      <th>year</th>\n",
       "    </tr>\n",
       "    <tr>\n",
       "      <th>title</th>\n",
       "      <th></th>\n",
       "      <th></th>\n",
       "      <th></th>\n",
       "    </tr>\n",
       "  </thead>\n",
       "  <tbody>\n",
       "    <tr>\n",
       "      <th>Toy Story 3</th>\n",
       "      <td>BV</td>\n",
       "      <td>415000000.0</td>\n",
       "      <td>2010</td>\n",
       "    </tr>\n",
       "    <tr>\n",
       "      <th>Alice in Wonderland (2010)</th>\n",
       "      <td>BV</td>\n",
       "      <td>334200000.0</td>\n",
       "      <td>2010</td>\n",
       "    </tr>\n",
       "    <tr>\n",
       "      <th>Harry Potter and the Deathly Hallows Part 1</th>\n",
       "      <td>WB</td>\n",
       "      <td>296000000.0</td>\n",
       "      <td>2010</td>\n",
       "    </tr>\n",
       "    <tr>\n",
       "      <th>Inception</th>\n",
       "      <td>WB</td>\n",
       "      <td>292600000.0</td>\n",
       "      <td>2010</td>\n",
       "    </tr>\n",
       "    <tr>\n",
       "      <th>Shrek Forever After</th>\n",
       "      <td>P/DW</td>\n",
       "      <td>238700000.0</td>\n",
       "      <td>2010</td>\n",
       "    </tr>\n",
       "  </tbody>\n",
       "</table>\n",
       "</div>"
      ],
      "text/plain": [
       "                                            studio  domestic_gross  year\n",
       "title                                                                   \n",
       "Toy Story 3                                     BV     415000000.0  2010\n",
       "Alice in Wonderland (2010)                      BV     334200000.0  2010\n",
       "Harry Potter and the Deathly Hallows Part 1     WB     296000000.0  2010\n",
       "Inception                                       WB     292600000.0  2010\n",
       "Shrek Forever After                           P/DW     238700000.0  2010"
      ]
     },
     "execution_count": 98,
     "metadata": {},
     "output_type": "execute_result"
    }
   ],
   "source": [
    "#visually inspecting the data\n",
    "bom_movie_gross.head()"
   ]
  },
  {
   "cell_type": "code",
   "execution_count": 10,
   "metadata": {
    "ExecuteTime": {
     "end_time": "2020-06-20T12:09:07.929149Z",
     "start_time": "2020-06-20T12:09:07.924162Z"
    }
   },
   "outputs": [
    {
     "name": "stdout",
     "output_type": "stream",
     "text": [
      "Percentage of Null foreign_gross values: 0.3985828166519043\n"
     ]
    }
   ],
   "source": [
    "# evaluating if it is appropriate to remove 'foreign_gross' column\n",
    "print('Percentage of Null foreign_gross values:', \n",
    "      len(bom_movie_gross[bom_movie_gross.foreign_gross.isna()])/ len(bom_movie_gross))"
   ]
  },
  {
   "cell_type": "markdown",
   "metadata": {},
   "source": [
    "We are going to remove the foreign_gross column as 40% of values are null"
   ]
  },
  {
   "cell_type": "code",
   "execution_count": 11,
   "metadata": {
    "ExecuteTime": {
     "end_time": "2020-06-20T12:09:07.935132Z",
     "start_time": "2020-06-20T12:09:07.930146Z"
    }
   },
   "outputs": [],
   "source": [
    "#code to remove the 'foreign_gross' column\n",
    "bom_movie_gross = bom_movie_gross.drop(['foreign_gross'], axis = 1)"
   ]
  },
  {
   "cell_type": "code",
   "execution_count": 12,
   "metadata": {
    "ExecuteTime": {
     "end_time": "2020-06-20T12:09:07.942114Z",
     "start_time": "2020-06-20T12:09:07.936130Z"
    }
   },
   "outputs": [
    {
     "name": "stdout",
     "output_type": "stream",
     "text": [
      "<class 'pandas.core.frame.DataFrame'>\n",
      "Index: 3387 entries, Toy Story 3 to An Actor Prepares\n",
      "Data columns (total 3 columns):\n",
      " #   Column          Non-Null Count  Dtype  \n",
      "---  ------          --------------  -----  \n",
      " 0   studio          3382 non-null   object \n",
      " 1   domestic_gross  3359 non-null   float64\n",
      " 2   year            3387 non-null   int64  \n",
      "dtypes: float64(1), int64(1), object(1)\n",
      "memory usage: 105.8+ KB\n"
     ]
    }
   ],
   "source": [
    "# Checkoint for data types and null counts\n",
    "bom_movie_gross.info()"
   ]
  },
  {
   "cell_type": "markdown",
   "metadata": {},
   "source": [
    "Still need to remove null values from other columns"
   ]
  },
  {
   "cell_type": "code",
   "execution_count": 13,
   "metadata": {
    "ExecuteTime": {
     "end_time": "2020-06-20T12:09:07.950093Z",
     "start_time": "2020-06-20T12:09:07.943112Z"
    }
   },
   "outputs": [
    {
     "data": {
      "text/plain": [
       "studio            0\n",
       "domestic_gross    0\n",
       "year              0\n",
       "dtype: int64"
      ]
     },
     "execution_count": 13,
     "metadata": {},
     "output_type": "execute_result"
    }
   ],
   "source": [
    "#decided to remove remaininng rows containing null values\n",
    "bom_movie_gross = bom_movie_gross.dropna()\n",
    "bom_movie_gross.isna().sum()"
   ]
  },
  {
   "cell_type": "code",
   "execution_count": 14,
   "metadata": {
    "ExecuteTime": {
     "end_time": "2020-06-20T12:09:07.963058Z",
     "start_time": "2020-06-20T12:09:07.951090Z"
    }
   },
   "outputs": [],
   "source": [
    "#looks good, so exporting clean data to new file\n",
    "bom_movie_gross.to_csv('databases/bom_movie_gross_clean.csv')"
   ]
  },
  {
   "cell_type": "markdown",
   "metadata": {},
   "source": []
  },
  {
   "cell_type": "markdown",
   "metadata": {},
   "source": [
    "Null values removed! Data cleaned in bom_movie_gross_gz"
   ]
  },
  {
   "cell_type": "markdown",
   "metadata": {},
   "source": [
    "## The Numbers: Movie Budgets"
   ]
  },
  {
   "cell_type": "code",
   "execution_count": 15,
   "metadata": {
    "ExecuteTime": {
     "end_time": "2020-06-20T12:09:07.971036Z",
     "start_time": "2020-06-20T12:09:07.964055Z"
    }
   },
   "outputs": [
    {
     "data": {
      "text/html": [
       "<div>\n",
       "<style scoped>\n",
       "    .dataframe tbody tr th:only-of-type {\n",
       "        vertical-align: middle;\n",
       "    }\n",
       "\n",
       "    .dataframe tbody tr th {\n",
       "        vertical-align: top;\n",
       "    }\n",
       "\n",
       "    .dataframe thead th {\n",
       "        text-align: right;\n",
       "    }\n",
       "</style>\n",
       "<table border=\"1\" class=\"dataframe\">\n",
       "  <thead>\n",
       "    <tr style=\"text-align: right;\">\n",
       "      <th></th>\n",
       "      <th>release_date</th>\n",
       "      <th>movie</th>\n",
       "      <th>production_budget</th>\n",
       "      <th>domestic_gross</th>\n",
       "      <th>worldwide_gross</th>\n",
       "    </tr>\n",
       "    <tr>\n",
       "      <th>id</th>\n",
       "      <th></th>\n",
       "      <th></th>\n",
       "      <th></th>\n",
       "      <th></th>\n",
       "      <th></th>\n",
       "    </tr>\n",
       "  </thead>\n",
       "  <tbody>\n",
       "    <tr>\n",
       "      <th>1</th>\n",
       "      <td>Dec 18, 2009</td>\n",
       "      <td>Avatar</td>\n",
       "      <td>$425,000,000</td>\n",
       "      <td>$760,507,625</td>\n",
       "      <td>$2,776,345,279</td>\n",
       "    </tr>\n",
       "    <tr>\n",
       "      <th>2</th>\n",
       "      <td>May 20, 2011</td>\n",
       "      <td>Pirates of the Caribbean: On Stranger Tides</td>\n",
       "      <td>$410,600,000</td>\n",
       "      <td>$241,063,875</td>\n",
       "      <td>$1,045,663,875</td>\n",
       "    </tr>\n",
       "    <tr>\n",
       "      <th>3</th>\n",
       "      <td>Jun 7, 2019</td>\n",
       "      <td>Dark Phoenix</td>\n",
       "      <td>$350,000,000</td>\n",
       "      <td>$42,762,350</td>\n",
       "      <td>$149,762,350</td>\n",
       "    </tr>\n",
       "    <tr>\n",
       "      <th>4</th>\n",
       "      <td>May 1, 2015</td>\n",
       "      <td>Avengers: Age of Ultron</td>\n",
       "      <td>$330,600,000</td>\n",
       "      <td>$459,005,868</td>\n",
       "      <td>$1,403,013,963</td>\n",
       "    </tr>\n",
       "    <tr>\n",
       "      <th>5</th>\n",
       "      <td>Dec 15, 2017</td>\n",
       "      <td>Star Wars Ep. VIII: The Last Jedi</td>\n",
       "      <td>$317,000,000</td>\n",
       "      <td>$620,181,382</td>\n",
       "      <td>$1,316,721,747</td>\n",
       "    </tr>\n",
       "  </tbody>\n",
       "</table>\n",
       "</div>"
      ],
      "text/plain": [
       "    release_date                                        movie  \\\n",
       "id                                                              \n",
       "1   Dec 18, 2009                                       Avatar   \n",
       "2   May 20, 2011  Pirates of the Caribbean: On Stranger Tides   \n",
       "3    Jun 7, 2019                                 Dark Phoenix   \n",
       "4    May 1, 2015                      Avengers: Age of Ultron   \n",
       "5   Dec 15, 2017            Star Wars Ep. VIII: The Last Jedi   \n",
       "\n",
       "   production_budget domestic_gross worldwide_gross  \n",
       "id                                                   \n",
       "1       $425,000,000   $760,507,625  $2,776,345,279  \n",
       "2       $410,600,000   $241,063,875  $1,045,663,875  \n",
       "3       $350,000,000    $42,762,350    $149,762,350  \n",
       "4       $330,600,000   $459,005,868  $1,403,013,963  \n",
       "5       $317,000,000   $620,181,382  $1,316,721,747  "
      ]
     },
     "execution_count": 15,
     "metadata": {},
     "output_type": "execute_result"
    }
   ],
   "source": [
    "#Initial visual expection of the data\n",
    "movie_budgets.head() "
   ]
  },
  {
   "cell_type": "code",
   "execution_count": 17,
   "metadata": {
    "ExecuteTime": {
     "end_time": "2020-06-20T12:09:07.990001Z",
     "start_time": "2020-06-20T12:09:07.984002Z"
    }
   },
   "outputs": [
    {
     "data": {
      "text/plain": [
       "$0              367\n",
       "$8,000,000        9\n",
       "$2,000,000        6\n",
       "$7,000,000        6\n",
       "$4,000,000        4\n",
       "               ... \n",
       "$52,460,543       1\n",
       "$367,582          1\n",
       "$128,885,873      1\n",
       "$4,495,262        1\n",
       "$247,812,011      1\n",
       "Name: worldwide_gross, Length: 5356, dtype: int64"
      ]
     },
     "execution_count": 17,
     "metadata": {},
     "output_type": "execute_result"
    }
   ],
   "source": [
    "#exploring data to look for redundant or missing values\n",
    "movie_budgets.worldwide_gross.value_counts(normalize= False)"
   ]
  },
  {
   "cell_type": "code",
   "execution_count": 16,
   "metadata": {
    "ExecuteTime": {
     "end_time": "2020-06-20T12:09:07.983005Z",
     "start_time": "2020-06-20T12:09:07.972033Z"
    }
   },
   "outputs": [
    {
     "data": {
      "text/html": [
       "<div>\n",
       "<style scoped>\n",
       "    .dataframe tbody tr th:only-of-type {\n",
       "        vertical-align: middle;\n",
       "    }\n",
       "\n",
       "    .dataframe tbody tr th {\n",
       "        vertical-align: top;\n",
       "    }\n",
       "\n",
       "    .dataframe thead th {\n",
       "        text-align: right;\n",
       "    }\n",
       "</style>\n",
       "<table border=\"1\" class=\"dataframe\">\n",
       "  <thead>\n",
       "    <tr style=\"text-align: right;\">\n",
       "      <th></th>\n",
       "      <th>release_date</th>\n",
       "      <th>movie</th>\n",
       "      <th>production_budget</th>\n",
       "      <th>domestic_gross</th>\n",
       "      <th>worldwide_gross</th>\n",
       "    </tr>\n",
       "    <tr>\n",
       "      <th>id</th>\n",
       "      <th></th>\n",
       "      <th></th>\n",
       "      <th></th>\n",
       "      <th></th>\n",
       "      <th></th>\n",
       "    </tr>\n",
       "  </thead>\n",
       "  <tbody>\n",
       "    <tr>\n",
       "      <th>82</th>\n",
       "      <td>Oct 26, 2012</td>\n",
       "      <td>Mientras duermes</td>\n",
       "      <td>$5,000,000</td>\n",
       "      <td>$0</td>\n",
       "      <td>$9,109,597</td>\n",
       "    </tr>\n",
       "    <tr>\n",
       "      <th>9</th>\n",
       "      <td>Nov 4, 2005</td>\n",
       "      <td>Wal-Mart: The High Cost of Low Price</td>\n",
       "      <td>$1,500,000</td>\n",
       "      <td>$0</td>\n",
       "      <td>$58,692</td>\n",
       "    </tr>\n",
       "    <tr>\n",
       "      <th>8</th>\n",
       "      <td>Jul 20, 2018</td>\n",
       "      <td>Teefa in Trouble</td>\n",
       "      <td>$1,500,000</td>\n",
       "      <td>$0</td>\n",
       "      <td>$98,806</td>\n",
       "    </tr>\n",
       "    <tr>\n",
       "      <th>7</th>\n",
       "      <td>Oct 17, 2014</td>\n",
       "      <td>Housebound</td>\n",
       "      <td>$1,500,000</td>\n",
       "      <td>$0</td>\n",
       "      <td>$236,863</td>\n",
       "    </tr>\n",
       "    <tr>\n",
       "      <th>58</th>\n",
       "      <td>Dec 31, 2008</td>\n",
       "      <td>Bathory</td>\n",
       "      <td>$15,000,000</td>\n",
       "      <td>$0</td>\n",
       "      <td>$3,436,763</td>\n",
       "    </tr>\n",
       "    <tr>\n",
       "      <th>...</th>\n",
       "      <td>...</td>\n",
       "      <td>...</td>\n",
       "      <td>...</td>\n",
       "      <td>...</td>\n",
       "      <td>...</td>\n",
       "    </tr>\n",
       "    <tr>\n",
       "      <th>8</th>\n",
       "      <td>Jun 13, 1997</td>\n",
       "      <td>Hercules</td>\n",
       "      <td>$70,000,000</td>\n",
       "      <td>$99,112,101</td>\n",
       "      <td>$250,700,000</td>\n",
       "    </tr>\n",
       "    <tr>\n",
       "      <th>74</th>\n",
       "      <td>Jun 4, 1999</td>\n",
       "      <td>Desert Blue</td>\n",
       "      <td>$5,000,000</td>\n",
       "      <td>$99,147</td>\n",
       "      <td>$99,147</td>\n",
       "    </tr>\n",
       "    <tr>\n",
       "      <th>43</th>\n",
       "      <td>Aug 3, 2018</td>\n",
       "      <td>Christopher Robin</td>\n",
       "      <td>$75,000,000</td>\n",
       "      <td>$99,215,042</td>\n",
       "      <td>$197,504,758</td>\n",
       "    </tr>\n",
       "    <tr>\n",
       "      <th>6</th>\n",
       "      <td>Feb 11, 2011</td>\n",
       "      <td>Gnomeo and Juliet</td>\n",
       "      <td>$36,000,000</td>\n",
       "      <td>$99,967,670</td>\n",
       "      <td>$193,737,977</td>\n",
       "    </tr>\n",
       "    <tr>\n",
       "      <th>12</th>\n",
       "      <td>Jul 4, 2008</td>\n",
       "      <td>AstÃ©rix aux Jeux Olympiques</td>\n",
       "      <td>$113,500,000</td>\n",
       "      <td>$999,811</td>\n",
       "      <td>$132,999,811</td>\n",
       "    </tr>\n",
       "  </tbody>\n",
       "</table>\n",
       "<p>5782 rows × 5 columns</p>\n",
       "</div>"
      ],
      "text/plain": [
       "    release_date                                 movie production_budget  \\\n",
       "id                                                                         \n",
       "82  Oct 26, 2012                      Mientras duermes        $5,000,000   \n",
       "9    Nov 4, 2005  Wal-Mart: The High Cost of Low Price        $1,500,000   \n",
       "8   Jul 20, 2018                      Teefa in Trouble        $1,500,000   \n",
       "7   Oct 17, 2014                            Housebound        $1,500,000   \n",
       "58  Dec 31, 2008                               Bathory       $15,000,000   \n",
       "..           ...                                   ...               ...   \n",
       "8   Jun 13, 1997                              Hercules       $70,000,000   \n",
       "74   Jun 4, 1999                           Desert Blue        $5,000,000   \n",
       "43   Aug 3, 2018                     Christopher Robin       $75,000,000   \n",
       "6   Feb 11, 2011                     Gnomeo and Juliet       $36,000,000   \n",
       "12   Jul 4, 2008          AstÃ©rix aux Jeux Olympiques      $113,500,000   \n",
       "\n",
       "   domestic_gross worldwide_gross  \n",
       "id                                 \n",
       "82             $0      $9,109,597  \n",
       "9              $0         $58,692  \n",
       "8              $0         $98,806  \n",
       "7              $0        $236,863  \n",
       "58             $0      $3,436,763  \n",
       "..            ...             ...  \n",
       "8     $99,112,101    $250,700,000  \n",
       "74        $99,147         $99,147  \n",
       "43    $99,215,042    $197,504,758  \n",
       "6     $99,967,670    $193,737,977  \n",
       "12       $999,811    $132,999,811  \n",
       "\n",
       "[5782 rows x 5 columns]"
      ]
     },
     "execution_count": 16,
     "metadata": {},
     "output_type": "execute_result"
    }
   ],
   "source": [
    "#examining the data with 0's in domestic gross, as MSFT is not interested in movies just released abroad\n",
    "movie_budgets.sort_values(by='domestic_gross')"
   ]
  },
  {
   "cell_type": "markdown",
   "metadata": {},
   "source": [
    "Looks like there are a lot of $0's will remove these as movies with no revenue are not of interest"
   ]
  },
  {
   "cell_type": "code",
   "execution_count": 104,
   "metadata": {
    "ExecuteTime": {
     "end_time": "2020-06-20T14:36:10.827897Z",
     "start_time": "2020-06-20T14:36:10.821914Z"
    }
   },
   "outputs": [
    {
     "data": {
      "text/plain": [
       "20000000     221\n",
       "10000000     197\n",
       "30000000     171\n",
       "40000000     163\n",
       "15000000     162\n",
       "            ... \n",
       "420000         1\n",
       "7303082        1\n",
       "306000000      1\n",
       "4638783        1\n",
       "28500000       1\n",
       "Name: production_budget, Length: 472, dtype: int64"
      ]
     },
     "execution_count": 104,
     "metadata": {},
     "output_type": "execute_result"
    }
   ],
   "source": [
    "#exploring data to look for redundant or missing values\n",
    "movie_budgets.production_budget.value_counts(normalize= False)"
   ]
  },
  {
   "cell_type": "markdown",
   "metadata": {},
   "source": [
    "Looks like estimates or rounding is used creating multiple entries at the same value.  This is acceptible."
   ]
  },
  {
   "cell_type": "code",
   "execution_count": 100,
   "metadata": {
    "ExecuteTime": {
     "end_time": "2020-06-20T14:33:23.926255Z",
     "start_time": "2020-06-20T14:33:23.921269Z"
    }
   },
   "outputs": [
    {
     "data": {
      "text/plain": [
       "8000000      9\n",
       "2000000      7\n",
       "7000000      7\n",
       "10000000     6\n",
       "11000000     5\n",
       "            ..\n",
       "449865       1\n",
       "10547117     1\n",
       "4476235      1\n",
       "56653        1\n",
       "130179072    1\n",
       "Name: domestic_gross, Length: 5163, dtype: int64"
      ]
     },
     "execution_count": 100,
     "metadata": {},
     "output_type": "execute_result"
    }
   ],
   "source": [
    "#exploring data to look for redundant or missing values\n",
    "movie_budgets.domestic_gross.value_counts(normalize= False)"
   ]
  },
  {
   "cell_type": "code",
   "execution_count": 20,
   "metadata": {
    "ExecuteTime": {
     "end_time": "2020-06-20T12:09:08.022897Z",
     "start_time": "2020-06-20T12:09:08.015916Z"
    }
   },
   "outputs": [
    {
     "name": "stdout",
     "output_type": "stream",
     "text": [
      "<class 'pandas.core.frame.DataFrame'>\n",
      "Int64Index: 5782 entries, 1 to 82\n",
      "Data columns (total 5 columns):\n",
      " #   Column             Non-Null Count  Dtype \n",
      "---  ------             --------------  ----- \n",
      " 0   release_date       5782 non-null   object\n",
      " 1   movie              5782 non-null   object\n",
      " 2   production_budget  5782 non-null   object\n",
      " 3   domestic_gross     5782 non-null   object\n",
      " 4   worldwide_gross    5782 non-null   object\n",
      "dtypes: object(5)\n",
      "memory usage: 271.0+ KB\n"
     ]
    }
   ],
   "source": [
    "#examining data types\n",
    "movie_budgets.info()"
   ]
  },
  {
   "cell_type": "markdown",
   "metadata": {},
   "source": [
    "Need to convert financial data to Int data type to enable statistical calculations"
   ]
  },
  {
   "cell_type": "code",
   "execution_count": 99,
   "metadata": {
    "ExecuteTime": {
     "end_time": "2020-06-20T14:31:24.732776Z",
     "start_time": "2020-06-20T14:31:24.728787Z"
    }
   },
   "outputs": [],
   "source": [
    "#First create a function to remove '$', ',' and change to int data type\n",
    "def convert_amt_to_int(df, col):\n",
    "    df[col] = df[col].str.replace(\"$\", \"\").str.replace(\",\", \"\").astype('int64')\n",
    "    return df"
   ]
  },
  {
   "cell_type": "code",
   "execution_count": 22,
   "metadata": {
    "ExecuteTime": {
     "end_time": "2020-06-20T12:09:08.044837Z",
     "start_time": "2020-06-20T12:09:08.027884Z"
    }
   },
   "outputs": [],
   "source": [
    "#Declare variable with columns to be altered\n",
    "money_cols = ['production_budget', 'domestic_gross', 'worldwide_gross']\n",
    "#input the column variable into the preceeding function\n",
    "for col in money_cols:\n",
    "    movie_budgets = convert_amt_to_int(movie_budgets, col)"
   ]
  },
  {
   "cell_type": "code",
   "execution_count": 105,
   "metadata": {
    "ExecuteTime": {
     "end_time": "2020-06-20T14:37:07.744072Z",
     "start_time": "2020-06-20T14:37:07.737089Z"
    }
   },
   "outputs": [],
   "source": [
    "# remove '0' values from the financial data\n",
    "movie_budgets = movie_budgets[movie_budgets['domestic_gross'] > 0]\n",
    "movie_budgets = movie_budgets[movie_budgets['production_budget'] > 0]"
   ]
  },
  {
   "cell_type": "code",
   "execution_count": 106,
   "metadata": {
    "ExecuteTime": {
     "end_time": "2020-06-20T14:37:09.890507Z",
     "start_time": "2020-06-20T14:37:09.884496Z"
    }
   },
   "outputs": [
    {
     "name": "stdout",
     "output_type": "stream",
     "text": [
      "<class 'pandas.core.frame.DataFrame'>\n",
      "Int64Index: 5234 entries, 1 to 82\n",
      "Data columns (total 5 columns):\n",
      " #   Column             Non-Null Count  Dtype \n",
      "---  ------             --------------  ----- \n",
      " 0   release_date       5234 non-null   object\n",
      " 1   movie              5234 non-null   object\n",
      " 2   production_budget  5234 non-null   int64 \n",
      " 3   domestic_gross     5234 non-null   int64 \n",
      " 4   worldwide_gross    5234 non-null   int64 \n",
      "dtypes: int64(3), object(2)\n",
      "memory usage: 245.3+ KB\n"
     ]
    }
   ],
   "source": [
    "#data looks as desired\n",
    "movie_budgets.info()"
   ]
  },
  {
   "cell_type": "code",
   "execution_count": 25,
   "metadata": {
    "ExecuteTime": {
     "end_time": "2020-06-20T12:09:08.072763Z",
     "start_time": "2020-06-20T12:09:08.058817Z"
    }
   },
   "outputs": [],
   "source": [
    "#looks good, so exporting clean data to new file\n",
    "movie_budgets.to_csv('databases/movie_budgets_clean.csv')"
   ]
  },
  {
   "cell_type": "markdown",
   "metadata": {},
   "source": []
  },
  {
   "cell_type": "markdown",
   "metadata": {},
   "source": [
    "## The Numbers: Top Producers International"
   ]
  },
  {
   "cell_type": "markdown",
   "metadata": {},
   "source": [
    "This data was retrieved by our team from:\n",
    "https://www.the-numbers.com/box-office-star-records/domestic/lifetime-specific-technical-role/producer\n",
    "We copied the data into a csv file using copy and paste"
   ]
  },
  {
   "cell_type": "code",
   "execution_count": 26,
   "metadata": {
    "ExecuteTime": {
     "end_time": "2020-06-20T12:09:08.079761Z",
     "start_time": "2020-06-20T12:09:08.073777Z"
    }
   },
   "outputs": [
    {
     "data": {
      "text/html": [
       "<div>\n",
       "<style scoped>\n",
       "    .dataframe tbody tr th:only-of-type {\n",
       "        vertical-align: middle;\n",
       "    }\n",
       "\n",
       "    .dataframe tbody tr th {\n",
       "        vertical-align: top;\n",
       "    }\n",
       "\n",
       "    .dataframe thead th {\n",
       "        text-align: right;\n",
       "    }\n",
       "</style>\n",
       "<table border=\"1\" class=\"dataframe\">\n",
       "  <thead>\n",
       "    <tr style=\"text-align: right;\">\n",
       "      <th></th>\n",
       "      <th>rank</th>\n",
       "      <th>name</th>\n",
       "      <th>interantional</th>\n",
       "      <th>movies</th>\n",
       "      <th>average</th>\n",
       "    </tr>\n",
       "  </thead>\n",
       "  <tbody>\n",
       "    <tr>\n",
       "      <th>0</th>\n",
       "      <td>1</td>\n",
       "      <td>Kevin Feige</td>\n",
       "      <td>1.403169e+10</td>\n",
       "      <td>30.0</td>\n",
       "      <td>467723155.0</td>\n",
       "    </tr>\n",
       "    <tr>\n",
       "      <th>1</th>\n",
       "      <td>2</td>\n",
       "      <td>David Heyman</td>\n",
       "      <td>7.867445e+09</td>\n",
       "      <td>26.0</td>\n",
       "      <td>302594047.0</td>\n",
       "    </tr>\n",
       "    <tr>\n",
       "      <th>2</th>\n",
       "      <td>3</td>\n",
       "      <td>Kathleen Kennedy</td>\n",
       "      <td>6.903513e+09</td>\n",
       "      <td>35.0</td>\n",
       "      <td>197243218.0</td>\n",
       "    </tr>\n",
       "    <tr>\n",
       "      <th>3</th>\n",
       "      <td>4</td>\n",
       "      <td>Jerry Bruckheimer</td>\n",
       "      <td>6.520507e+09</td>\n",
       "      <td>36.0</td>\n",
       "      <td>181125190.0</td>\n",
       "    </tr>\n",
       "    <tr>\n",
       "      <th>4</th>\n",
       "      <td>5</td>\n",
       "      <td>Neal H. Moritz</td>\n",
       "      <td>6.049582e+09</td>\n",
       "      <td>49.0</td>\n",
       "      <td>123460866.0</td>\n",
       "    </tr>\n",
       "  </tbody>\n",
       "</table>\n",
       "</div>"
      ],
      "text/plain": [
       "   rank               name   interantional    movies      average \n",
       "0     1        Kevin Feige     1.403169e+10      30.0  467723155.0\n",
       "1     2       David Heyman     7.867445e+09      26.0  302594047.0\n",
       "2     3   Kathleen Kennedy     6.903513e+09      35.0  197243218.0\n",
       "3     4  Jerry Bruckheimer     6.520507e+09      36.0  181125190.0\n",
       "4     5     Neal H. Moritz     6.049582e+09      49.0  123460866.0"
      ]
     },
     "execution_count": 26,
     "metadata": {},
     "output_type": "execute_result"
    }
   ],
   "source": [
    "#Initial visual expection of the data\n",
    "top_producers_intl.head()"
   ]
  },
  {
   "cell_type": "code",
   "execution_count": 27,
   "metadata": {
    "ExecuteTime": {
     "end_time": "2020-06-20T12:09:08.086742Z",
     "start_time": "2020-06-20T12:09:08.079761Z"
    }
   },
   "outputs": [
    {
     "name": "stdout",
     "output_type": "stream",
     "text": [
      "<class 'pandas.core.frame.DataFrame'>\n",
      "RangeIndex: 500 entries, 0 to 499\n",
      "Data columns (total 5 columns):\n",
      " #   Column           Non-Null Count  Dtype  \n",
      "---  ------           --------------  -----  \n",
      " 0   rank             500 non-null    int64  \n",
      " 1   name             500 non-null    object \n",
      " 2    interantional   500 non-null    float64\n",
      " 3    movies          500 non-null    float64\n",
      " 4    average         500 non-null    float64\n",
      "dtypes: float64(3), int64(1), object(1)\n",
      "memory usage: 19.7+ KB\n"
     ]
    }
   ],
   "source": [
    "#examining data types and looking for null values\n",
    "top_producers_intl.info()"
   ]
  },
  {
   "cell_type": "markdown",
   "metadata": {},
   "source": [
    "## The Numbers: Genre Market Share"
   ]
  },
  {
   "cell_type": "markdown",
   "metadata": {},
   "source": [
    "This data was retrieved by our team from:\n",
    "https://www.the-numbers.com/box-office-star-records/domestic/lifetime-specific-technical-role/producer\n",
    "We copied the data into a csv file using copy and paste"
   ]
  },
  {
   "cell_type": "code",
   "execution_count": 28,
   "metadata": {
    "ExecuteTime": {
     "end_time": "2020-06-20T12:09:08.096716Z",
     "start_time": "2020-06-20T12:09:08.087725Z"
    }
   },
   "outputs": [
    {
     "data": {
      "text/html": [
       "<div>\n",
       "<style scoped>\n",
       "    .dataframe tbody tr th:only-of-type {\n",
       "        vertical-align: middle;\n",
       "    }\n",
       "\n",
       "    .dataframe tbody tr th {\n",
       "        vertical-align: top;\n",
       "    }\n",
       "\n",
       "    .dataframe thead th {\n",
       "        text-align: right;\n",
       "    }\n",
       "</style>\n",
       "<table border=\"1\" class=\"dataframe\">\n",
       "  <thead>\n",
       "    <tr style=\"text-align: right;\">\n",
       "      <th></th>\n",
       "      <th>rank</th>\n",
       "      <th>genre</th>\n",
       "      <th>movies</th>\n",
       "      <th>total_box_office</th>\n",
       "      <th>tickets</th>\n",
       "      <th>share</th>\n",
       "    </tr>\n",
       "  </thead>\n",
       "  <tbody>\n",
       "    <tr>\n",
       "      <th>0</th>\n",
       "      <td>1</td>\n",
       "      <td>Adventure</td>\n",
       "      <td>1056.0</td>\n",
       "      <td>6.369154e+10</td>\n",
       "      <td>9.114757e+09</td>\n",
       "      <td>0.27</td>\n",
       "    </tr>\n",
       "    <tr>\n",
       "      <th>1</th>\n",
       "      <td>2</td>\n",
       "      <td>Action</td>\n",
       "      <td>1049.0</td>\n",
       "      <td>4.772832e+10</td>\n",
       "      <td>6.766371e+09</td>\n",
       "      <td>0.20</td>\n",
       "    </tr>\n",
       "    <tr>\n",
       "      <th>2</th>\n",
       "      <td>3</td>\n",
       "      <td>Drama</td>\n",
       "      <td>5370.0</td>\n",
       "      <td>3.738627e+10</td>\n",
       "      <td>5.723810e+09</td>\n",
       "      <td>0.16</td>\n",
       "    </tr>\n",
       "    <tr>\n",
       "      <th>3</th>\n",
       "      <td>4</td>\n",
       "      <td>Comedy</td>\n",
       "      <td>2350.0</td>\n",
       "      <td>3.419589e+10</td>\n",
       "      <td>5.261717e+09</td>\n",
       "      <td>0.15</td>\n",
       "    </tr>\n",
       "    <tr>\n",
       "      <th>4</th>\n",
       "      <td>5</td>\n",
       "      <td>Thriller/Suspense</td>\n",
       "      <td>1110.0</td>\n",
       "      <td>1.971082e+10</td>\n",
       "      <td>2.870965e+09</td>\n",
       "      <td>0.08</td>\n",
       "    </tr>\n",
       "  </tbody>\n",
       "</table>\n",
       "</div>"
      ],
      "text/plain": [
       "   rank              genre  movies  total_box_office       tickets share\n",
       "0     1          Adventure  1056.0      6.369154e+10  9.114757e+09  0.27\n",
       "1     2             Action  1049.0      4.772832e+10  6.766371e+09  0.20\n",
       "2     3              Drama  5370.0      3.738627e+10  5.723810e+09  0.16\n",
       "3     4             Comedy  2350.0      3.419589e+10  5.261717e+09  0.15\n",
       "4     5  Thriller/Suspense  1110.0      1.971082e+10  2.870965e+09  0.08"
      ]
     },
     "execution_count": 28,
     "metadata": {},
     "output_type": "execute_result"
    }
   ],
   "source": [
    "#Initial visual expection of the data\n",
    "genre_market_share.head()"
   ]
  },
  {
   "cell_type": "code",
   "execution_count": 29,
   "metadata": {
    "ExecuteTime": {
     "end_time": "2020-06-20T12:09:08.102684Z",
     "start_time": "2020-06-20T12:09:08.097721Z"
    }
   },
   "outputs": [
    {
     "name": "stdout",
     "output_type": "stream",
     "text": [
      "<class 'pandas.core.frame.DataFrame'>\n",
      "RangeIndex: 14 entries, 0 to 13\n",
      "Data columns (total 6 columns):\n",
      " #   Column            Non-Null Count  Dtype  \n",
      "---  ------            --------------  -----  \n",
      " 0   rank              14 non-null     int64  \n",
      " 1   genre             14 non-null     object \n",
      " 2   movies            14 non-null     float64\n",
      " 3   total_box_office  14 non-null     float64\n",
      " 4   tickets           14 non-null     float64\n",
      " 5   share             14 non-null     object \n",
      "dtypes: float64(3), int64(1), object(2)\n",
      "memory usage: 800.0+ bytes\n"
     ]
    }
   ],
   "source": [
    "#examining data types and looking for null values\n",
    "genre_market_share.info()"
   ]
  },
  {
   "cell_type": "markdown",
   "metadata": {},
   "source": [
    "Data is clean to need to alter"
   ]
  },
  {
   "cell_type": "markdown",
   "metadata": {},
   "source": [
    "## The Numbers: Ratings Market Share\n"
   ]
  },
  {
   "cell_type": "markdown",
   "metadata": {},
   "source": [
    "This data was retrieved by our team from: \n",
    "https://www.the-numbers.com/market/mpaa-ratings \n",
    "We copied the data into a csv file using copy and paste"
   ]
  },
  {
   "cell_type": "code",
   "execution_count": 30,
   "metadata": {
    "ExecuteTime": {
     "end_time": "2020-06-20T12:09:08.111683Z",
     "start_time": "2020-06-20T12:09:08.103681Z"
    }
   },
   "outputs": [
    {
     "data": {
      "text/html": [
       "<div>\n",
       "<style scoped>\n",
       "    .dataframe tbody tr th:only-of-type {\n",
       "        vertical-align: middle;\n",
       "    }\n",
       "\n",
       "    .dataframe tbody tr th {\n",
       "        vertical-align: top;\n",
       "    }\n",
       "\n",
       "    .dataframe thead th {\n",
       "        text-align: right;\n",
       "    }\n",
       "</style>\n",
       "<table border=\"1\" class=\"dataframe\">\n",
       "  <thead>\n",
       "    <tr style=\"text-align: right;\">\n",
       "      <th></th>\n",
       "      <th>rank</th>\n",
       "      <th>rating</th>\n",
       "      <th>movies</th>\n",
       "      <th>total_box_office</th>\n",
       "      <th>tickets</th>\n",
       "      <th>share</th>\n",
       "    </tr>\n",
       "  </thead>\n",
       "  <tbody>\n",
       "    <tr>\n",
       "      <th>0</th>\n",
       "      <td>1</td>\n",
       "      <td>PG-13</td>\n",
       "      <td>3143.0</td>\n",
       "      <td>1.113364e+11</td>\n",
       "      <td>1.604386e+10</td>\n",
       "      <td>0.48</td>\n",
       "    </tr>\n",
       "    <tr>\n",
       "      <th>1</th>\n",
       "      <td>2</td>\n",
       "      <td>R</td>\n",
       "      <td>5329.0</td>\n",
       "      <td>6.274039e+10</td>\n",
       "      <td>9.569086e+09</td>\n",
       "      <td>0.27</td>\n",
       "    </tr>\n",
       "    <tr>\n",
       "      <th>2</th>\n",
       "      <td>3</td>\n",
       "      <td>PG</td>\n",
       "      <td>1478.0</td>\n",
       "      <td>4.861201e+10</td>\n",
       "      <td>6.958419e+09</td>\n",
       "      <td>0.21</td>\n",
       "    </tr>\n",
       "    <tr>\n",
       "      <th>3</th>\n",
       "      <td>4</td>\n",
       "      <td>G</td>\n",
       "      <td>387.0</td>\n",
       "      <td>9.579448e+09</td>\n",
       "      <td>1.534342e+09</td>\n",
       "      <td>0.04</td>\n",
       "    </tr>\n",
       "    <tr>\n",
       "      <th>4</th>\n",
       "      <td>5</td>\n",
       "      <td>Not Rated</td>\n",
       "      <td>5815.0</td>\n",
       "      <td>1.917703e+09</td>\n",
       "      <td>2.850633e+08</td>\n",
       "      <td>0.01</td>\n",
       "    </tr>\n",
       "  </tbody>\n",
       "</table>\n",
       "</div>"
      ],
      "text/plain": [
       "   rank     rating  movies  total_box_office       tickets  share\n",
       "0     1      PG-13  3143.0      1.113364e+11  1.604386e+10   0.48\n",
       "1     2          R  5329.0      6.274039e+10  9.569086e+09   0.27\n",
       "2     3         PG  1478.0      4.861201e+10  6.958419e+09   0.21\n",
       "3     4          G   387.0      9.579448e+09  1.534342e+09   0.04\n",
       "4     5  Not Rated  5815.0      1.917703e+09  2.850633e+08   0.01"
      ]
     },
     "execution_count": 30,
     "metadata": {},
     "output_type": "execute_result"
    }
   ],
   "source": [
    "#Initial visual expection of the data\n",
    "rating_market_share.head()"
   ]
  },
  {
   "cell_type": "code",
   "execution_count": 31,
   "metadata": {
    "ExecuteTime": {
     "end_time": "2020-06-20T12:09:08.118653Z",
     "start_time": "2020-06-20T12:09:08.112657Z"
    }
   },
   "outputs": [
    {
     "name": "stdout",
     "output_type": "stream",
     "text": [
      "<class 'pandas.core.frame.DataFrame'>\n",
      "RangeIndex: 9 entries, 0 to 8\n",
      "Data columns (total 6 columns):\n",
      " #   Column            Non-Null Count  Dtype  \n",
      "---  ------            --------------  -----  \n",
      " 0   rank              9 non-null      int64  \n",
      " 1   rating            9 non-null      object \n",
      " 2   movies            9 non-null      float64\n",
      " 3   total_box_office  9 non-null      float64\n",
      " 4   tickets           9 non-null      float64\n",
      " 5   share             9 non-null      float64\n",
      "dtypes: float64(4), int64(1), object(1)\n",
      "memory usage: 560.0+ bytes\n"
     ]
    }
   ],
   "source": [
    "#examining data types and looking for null values\n",
    "ating_market_share.info()"
   ]
  },
  {
   "cell_type": "markdown",
   "metadata": {},
   "source": [
    "Data is clean to need to alter"
   ]
  },
  {
   "cell_type": "markdown",
   "metadata": {},
   "source": [
    "## IMDB \"Name Basics\""
   ]
  },
  {
   "cell_type": "code",
   "execution_count": 107,
   "metadata": {
    "ExecuteTime": {
     "end_time": "2020-06-20T14:43:48.567859Z",
     "start_time": "2020-06-20T14:43:48.561863Z"
    }
   },
   "outputs": [
    {
     "data": {
      "text/html": [
       "<div>\n",
       "<style scoped>\n",
       "    .dataframe tbody tr th:only-of-type {\n",
       "        vertical-align: middle;\n",
       "    }\n",
       "\n",
       "    .dataframe tbody tr th {\n",
       "        vertical-align: top;\n",
       "    }\n",
       "\n",
       "    .dataframe thead th {\n",
       "        text-align: right;\n",
       "    }\n",
       "</style>\n",
       "<table border=\"1\" class=\"dataframe\">\n",
       "  <thead>\n",
       "    <tr style=\"text-align: right;\">\n",
       "      <th></th>\n",
       "      <th>primary_name</th>\n",
       "      <th>primary_profession</th>\n",
       "      <th>known_for_titles</th>\n",
       "    </tr>\n",
       "    <tr>\n",
       "      <th>nconst</th>\n",
       "      <th></th>\n",
       "      <th></th>\n",
       "      <th></th>\n",
       "    </tr>\n",
       "  </thead>\n",
       "  <tbody>\n",
       "    <tr>\n",
       "      <th>nm0061671</th>\n",
       "      <td>Mary Ellen Bauder</td>\n",
       "      <td>miscellaneous,production_manager,producer</td>\n",
       "      <td>tt0837562,tt2398241,tt0844471,tt0118553</td>\n",
       "    </tr>\n",
       "    <tr>\n",
       "      <th>nm0061865</th>\n",
       "      <td>Joseph Bauer</td>\n",
       "      <td>composer,music_department,sound_department</td>\n",
       "      <td>tt0896534,tt6791238,tt0287072,tt1682940</td>\n",
       "    </tr>\n",
       "    <tr>\n",
       "      <th>nm0062070</th>\n",
       "      <td>Bruce Baum</td>\n",
       "      <td>miscellaneous,actor,writer</td>\n",
       "      <td>tt1470654,tt0363631,tt0104030,tt0102898</td>\n",
       "    </tr>\n",
       "    <tr>\n",
       "      <th>nm0062195</th>\n",
       "      <td>Axel Baumann</td>\n",
       "      <td>camera_department,cinematographer,art_department</td>\n",
       "      <td>tt0114371,tt2004304,tt1618448,tt1224387</td>\n",
       "    </tr>\n",
       "    <tr>\n",
       "      <th>nm0062798</th>\n",
       "      <td>Pete Baxter</td>\n",
       "      <td>production_designer,art_department,set_decorator</td>\n",
       "      <td>tt0452644,tt0452692,tt3458030,tt2178256</td>\n",
       "    </tr>\n",
       "  </tbody>\n",
       "</table>\n",
       "</div>"
      ],
      "text/plain": [
       "                primary_name  \\\n",
       "nconst                         \n",
       "nm0061671  Mary Ellen Bauder   \n",
       "nm0061865       Joseph Bauer   \n",
       "nm0062070         Bruce Baum   \n",
       "nm0062195       Axel Baumann   \n",
       "nm0062798        Pete Baxter   \n",
       "\n",
       "                                         primary_profession  \\\n",
       "nconst                                                        \n",
       "nm0061671         miscellaneous,production_manager,producer   \n",
       "nm0061865        composer,music_department,sound_department   \n",
       "nm0062070                        miscellaneous,actor,writer   \n",
       "nm0062195  camera_department,cinematographer,art_department   \n",
       "nm0062798  production_designer,art_department,set_decorator   \n",
       "\n",
       "                                  known_for_titles  \n",
       "nconst                                              \n",
       "nm0061671  tt0837562,tt2398241,tt0844471,tt0118553  \n",
       "nm0061865  tt0896534,tt6791238,tt0287072,tt1682940  \n",
       "nm0062070  tt1470654,tt0363631,tt0104030,tt0102898  \n",
       "nm0062195  tt0114371,tt2004304,tt1618448,tt1224387  \n",
       "nm0062798  tt0452644,tt0452692,tt3458030,tt2178256  "
      ]
     },
     "execution_count": 107,
     "metadata": {},
     "output_type": "execute_result"
    }
   ],
   "source": [
    "#Initial visual expection of the data\n",
    "imdb_name_basics.head()"
   ]
  },
  {
   "cell_type": "code",
   "execution_count": 33,
   "metadata": {
    "ExecuteTime": {
     "end_time": "2020-06-20T12:09:08.132622Z",
     "start_time": "2020-06-20T12:09:08.130633Z"
    }
   },
   "outputs": [],
   "source": [
    "line_1 =imdb_name_basics.iloc[0]"
   ]
  },
  {
   "cell_type": "code",
   "execution_count": 34,
   "metadata": {
    "ExecuteTime": {
     "end_time": "2020-06-20T12:09:08.136613Z",
     "start_time": "2020-06-20T12:09:08.132622Z"
    }
   },
   "outputs": [],
   "source": [
    "def print_line(row):\n",
    "    list_of_rows=[]\n",
    "    for title_id in row['known_for_titles']:\n",
    "        list_of_rows.append((row[['nconst', 'primary_profession', 'known_for_title']]))\n",
    "        "
   ]
  },
  {
   "cell_type": "code",
   "execution_count": 35,
   "metadata": {
    "ExecuteTime": {
     "end_time": "2020-06-20T12:09:08.193458Z",
     "start_time": "2020-06-20T12:09:08.136613Z"
    },
    "scrolled": true
   },
   "outputs": [
    {
     "name": "stdout",
     "output_type": "stream",
     "text": [
      "<class 'pandas.core.frame.DataFrame'>\n",
      "Index: 606648 entries, nm0061671 to nm9993380\n",
      "Data columns (total 5 columns):\n",
      " #   Column              Non-Null Count   Dtype  \n",
      "---  ------              --------------   -----  \n",
      " 0   primary_name        606648 non-null  object \n",
      " 1   birth_year          82736 non-null   float64\n",
      " 2   death_year          6783 non-null    float64\n",
      " 3   primary_profession  555308 non-null  object \n",
      " 4   known_for_titles    576444 non-null  object \n",
      "dtypes: float64(2), object(3)\n",
      "memory usage: 27.8+ MB\n"
     ]
    }
   ],
   "source": [
    "#examining data types and looking for null values\n",
    "imdb_name_basics.info()"
   ]
  },
  {
   "cell_type": "code",
   "execution_count": 36,
   "metadata": {
    "ExecuteTime": {
     "end_time": "2020-06-20T12:09:08.239340Z",
     "start_time": "2020-06-20T12:09:08.194455Z"
    }
   },
   "outputs": [
    {
     "name": "stdout",
     "output_type": "stream",
     "text": [
      "Percentage of Null birth_year Values: 0.8636177816460286\n"
     ]
    }
   ],
   "source": [
    "# evaluating if it is appropriate to remove 'birth_year' column\n",
    "print('Percentage of Null birth_year Values:', len(imdb_name_basics[imdb_name_basics.birth_year.isna()])/ len(imdb_name_basics))"
   ]
  },
  {
   "cell_type": "code",
   "execution_count": 37,
   "metadata": {
    "ExecuteTime": {
     "end_time": "2020-06-20T12:09:08.286209Z",
     "start_time": "2020-06-20T12:09:08.240315Z"
    }
   },
   "outputs": [
    {
     "name": "stdout",
     "output_type": "stream",
     "text": [
      "Percentage of Null death_year Values: 0.9888188867349764\n"
     ]
    }
   ],
   "source": [
    "# evaluating if it is appropriate to remove 'death_year' column\n",
    "print('Percentage of Null death_year Values:', len(imdb_name_basics[imdb_name_basics.death_year.isna()])/ len(imdb_name_basics))"
   ]
  },
  {
   "cell_type": "code",
   "execution_count": 38,
   "metadata": {
    "ExecuteTime": {
     "end_time": "2020-06-20T12:09:08.306157Z",
     "start_time": "2020-06-20T12:09:08.286209Z"
    }
   },
   "outputs": [],
   "source": [
    "#removing birth year column\n",
    "imdb_name_basics = imdb_name_basics.drop('birth_year', axis = 1)"
   ]
  },
  {
   "cell_type": "code",
   "execution_count": 39,
   "metadata": {
    "ExecuteTime": {
     "end_time": "2020-06-20T12:09:08.337084Z",
     "start_time": "2020-06-20T12:09:08.307137Z"
    }
   },
   "outputs": [],
   "source": [
    "#removing death year column\n",
    "imdb_name_basics = imdb_name_basics.drop('death_year', axis = 1)"
   ]
  },
  {
   "cell_type": "code",
   "execution_count": 40,
   "metadata": {
    "ExecuteTime": {
     "end_time": "2020-06-20T12:09:08.386939Z",
     "start_time": "2020-06-20T12:09:08.338055Z"
    }
   },
   "outputs": [
    {
     "name": "stdout",
     "output_type": "stream",
     "text": [
      "<class 'pandas.core.frame.DataFrame'>\n",
      "Index: 606648 entries, nm0061671 to nm9993380\n",
      "Data columns (total 3 columns):\n",
      " #   Column              Non-Null Count   Dtype \n",
      "---  ------              --------------   ----- \n",
      " 0   primary_name        606648 non-null  object\n",
      " 1   primary_profession  555308 non-null  object\n",
      " 2   known_for_titles    576444 non-null  object\n",
      "dtypes: object(3)\n",
      "memory usage: 18.5+ MB\n"
     ]
    }
   ],
   "source": [
    "#Checkpoint to reexamine the data for null objects\n",
    "imdb_name_basics.info()"
   ]
  },
  {
   "cell_type": "code",
   "execution_count": 41,
   "metadata": {
    "ExecuteTime": {
     "end_time": "2020-06-20T12:09:08.592390Z",
     "start_time": "2020-06-20T12:09:08.387921Z"
    }
   },
   "outputs": [
    {
     "data": {
      "text/plain": [
       "primary_name          0\n",
       "primary_profession    0\n",
       "known_for_titles      0\n",
       "dtype: int64"
      ]
     },
     "execution_count": 41,
     "metadata": {},
     "output_type": "execute_result"
    }
   ],
   "source": [
    "#decided to remove rows with null values for the remaining series.  \n",
    "imdb_name_basics = imdb_name_basics.dropna()\n",
    "imdb_name_basics.isna().sum()"
   ]
  },
  {
   "cell_type": "code",
   "execution_count": 112,
   "metadata": {
    "ExecuteTime": {
     "end_time": "2020-06-20T14:57:49.746493Z",
     "start_time": "2020-06-20T14:57:49.739512Z"
    }
   },
   "outputs": [
    {
     "data": {
      "text/html": [
       "<div>\n",
       "<style scoped>\n",
       "    .dataframe tbody tr th:only-of-type {\n",
       "        vertical-align: middle;\n",
       "    }\n",
       "\n",
       "    .dataframe tbody tr th {\n",
       "        vertical-align: top;\n",
       "    }\n",
       "\n",
       "    .dataframe thead th {\n",
       "        text-align: right;\n",
       "    }\n",
       "</style>\n",
       "<table border=\"1\" class=\"dataframe\">\n",
       "  <thead>\n",
       "    <tr style=\"text-align: right;\">\n",
       "      <th></th>\n",
       "      <th>primary_name</th>\n",
       "      <th>primary_profession</th>\n",
       "      <th>known_for_titles</th>\n",
       "    </tr>\n",
       "    <tr>\n",
       "      <th>nconst</th>\n",
       "      <th></th>\n",
       "      <th></th>\n",
       "      <th></th>\n",
       "    </tr>\n",
       "  </thead>\n",
       "  <tbody>\n",
       "    <tr>\n",
       "      <th>nm0061671</th>\n",
       "      <td>Mary Ellen Bauder</td>\n",
       "      <td>miscellaneous,production_manager,producer</td>\n",
       "      <td>tt0837562,tt2398241,tt0844471,tt0118553</td>\n",
       "    </tr>\n",
       "    <tr>\n",
       "      <th>nm0061865</th>\n",
       "      <td>Joseph Bauer</td>\n",
       "      <td>composer,music_department,sound_department</td>\n",
       "      <td>tt0896534,tt6791238,tt0287072,tt1682940</td>\n",
       "    </tr>\n",
       "    <tr>\n",
       "      <th>nm0062070</th>\n",
       "      <td>Bruce Baum</td>\n",
       "      <td>miscellaneous,actor,writer</td>\n",
       "      <td>tt1470654,tt0363631,tt0104030,tt0102898</td>\n",
       "    </tr>\n",
       "    <tr>\n",
       "      <th>nm0062195</th>\n",
       "      <td>Axel Baumann</td>\n",
       "      <td>camera_department,cinematographer,art_department</td>\n",
       "      <td>tt0114371,tt2004304,tt1618448,tt1224387</td>\n",
       "    </tr>\n",
       "    <tr>\n",
       "      <th>nm0062798</th>\n",
       "      <td>Pete Baxter</td>\n",
       "      <td>production_designer,art_department,set_decorator</td>\n",
       "      <td>tt0452644,tt0452692,tt3458030,tt2178256</td>\n",
       "    </tr>\n",
       "  </tbody>\n",
       "</table>\n",
       "</div>"
      ],
      "text/plain": [
       "                primary_name  \\\n",
       "nconst                         \n",
       "nm0061671  Mary Ellen Bauder   \n",
       "nm0061865       Joseph Bauer   \n",
       "nm0062070         Bruce Baum   \n",
       "nm0062195       Axel Baumann   \n",
       "nm0062798        Pete Baxter   \n",
       "\n",
       "                                         primary_profession  \\\n",
       "nconst                                                        \n",
       "nm0061671         miscellaneous,production_manager,producer   \n",
       "nm0061865        composer,music_department,sound_department   \n",
       "nm0062070                        miscellaneous,actor,writer   \n",
       "nm0062195  camera_department,cinematographer,art_department   \n",
       "nm0062798  production_designer,art_department,set_decorator   \n",
       "\n",
       "                                  known_for_titles  \n",
       "nconst                                              \n",
       "nm0061671  tt0837562,tt2398241,tt0844471,tt0118553  \n",
       "nm0061865  tt0896534,tt6791238,tt0287072,tt1682940  \n",
       "nm0062070  tt1470654,tt0363631,tt0104030,tt0102898  \n",
       "nm0062195  tt0114371,tt2004304,tt1618448,tt1224387  \n",
       "nm0062798  tt0452644,tt0452692,tt3458030,tt2178256  "
      ]
     },
     "execution_count": 112,
     "metadata": {},
     "output_type": "execute_result"
    }
   ],
   "source": [
    "#another visual inspection\n",
    "imdb_name_basics.head()"
   ]
  },
  {
   "cell_type": "code",
   "execution_count": 43,
   "metadata": {
    "ExecuteTime": {
     "end_time": "2020-06-20T12:09:09.322534Z",
     "start_time": "2020-06-20T12:09:08.601355Z"
    }
   },
   "outputs": [],
   "source": [
    "#looks good, so exporting clean data to new file\n",
    "imdb_name_basics.to_csv('databases/imdb_name_basics_clean.csv')"
   ]
  },
  {
   "cell_type": "markdown",
   "metadata": {},
   "source": [
    "## IMDB \"Title Akas\""
   ]
  },
  {
   "cell_type": "code",
   "execution_count": 44,
   "metadata": {
    "ExecuteTime": {
     "end_time": "2020-06-20T12:09:09.495987Z",
     "start_time": "2020-06-20T12:09:09.323419Z"
    }
   },
   "outputs": [
    {
     "data": {
      "text/html": [
       "<div>\n",
       "<style scoped>\n",
       "    .dataframe tbody tr th:only-of-type {\n",
       "        vertical-align: middle;\n",
       "    }\n",
       "\n",
       "    .dataframe tbody tr th {\n",
       "        vertical-align: top;\n",
       "    }\n",
       "\n",
       "    .dataframe thead th {\n",
       "        text-align: right;\n",
       "    }\n",
       "</style>\n",
       "<table border=\"1\" class=\"dataframe\">\n",
       "  <thead>\n",
       "    <tr style=\"text-align: right;\">\n",
       "      <th></th>\n",
       "      <th>ordering</th>\n",
       "      <th>title</th>\n",
       "      <th>region</th>\n",
       "      <th>language</th>\n",
       "      <th>types</th>\n",
       "      <th>attributes</th>\n",
       "      <th>is_original_title</th>\n",
       "    </tr>\n",
       "    <tr>\n",
       "      <th>title_id</th>\n",
       "      <th></th>\n",
       "      <th></th>\n",
       "      <th></th>\n",
       "      <th></th>\n",
       "      <th></th>\n",
       "      <th></th>\n",
       "      <th></th>\n",
       "    </tr>\n",
       "  </thead>\n",
       "  <tbody>\n",
       "    <tr>\n",
       "      <th>tt3156000</th>\n",
       "      <td>3</td>\n",
       "      <td>Nick</td>\n",
       "      <td>AD</td>\n",
       "      <td>NaN</td>\n",
       "      <td>NaN</td>\n",
       "      <td>NaN</td>\n",
       "      <td>0.0</td>\n",
       "    </tr>\n",
       "    <tr>\n",
       "      <th>tt6079382</th>\n",
       "      <td>1</td>\n",
       "      <td>Impacto</td>\n",
       "      <td>AD</td>\n",
       "      <td>NaN</td>\n",
       "      <td>NaN</td>\n",
       "      <td>NaN</td>\n",
       "      <td>0.0</td>\n",
       "    </tr>\n",
       "    <tr>\n",
       "      <th>tt5162282</th>\n",
       "      <td>1</td>\n",
       "      <td>73'</td>\n",
       "      <td>AD</td>\n",
       "      <td>NaN</td>\n",
       "      <td>NaN</td>\n",
       "      <td>NaN</td>\n",
       "      <td>0.0</td>\n",
       "    </tr>\n",
       "    <tr>\n",
       "      <th>tt1811329</th>\n",
       "      <td>2</td>\n",
       "      <td>Teta, Alf Marra</td>\n",
       "      <td>AE</td>\n",
       "      <td>NaN</td>\n",
       "      <td>NaN</td>\n",
       "      <td>NaN</td>\n",
       "      <td>0.0</td>\n",
       "    </tr>\n",
       "    <tr>\n",
       "      <th>tt7480896</th>\n",
       "      <td>1</td>\n",
       "      <td>Desert Dream</td>\n",
       "      <td>AE</td>\n",
       "      <td>NaN</td>\n",
       "      <td>NaN</td>\n",
       "      <td>NaN</td>\n",
       "      <td>0.0</td>\n",
       "    </tr>\n",
       "    <tr>\n",
       "      <th>...</th>\n",
       "      <td>...</td>\n",
       "      <td>...</td>\n",
       "      <td>...</td>\n",
       "      <td>...</td>\n",
       "      <td>...</td>\n",
       "      <td>...</td>\n",
       "      <td>...</td>\n",
       "    </tr>\n",
       "    <tr>\n",
       "      <th>tt9723084</th>\n",
       "      <td>2</td>\n",
       "      <td>Anderswo. Allein in Afrika</td>\n",
       "      <td>NaN</td>\n",
       "      <td>NaN</td>\n",
       "      <td>original</td>\n",
       "      <td>NaN</td>\n",
       "      <td>1.0</td>\n",
       "    </tr>\n",
       "    <tr>\n",
       "      <th>tt9726638</th>\n",
       "      <td>2</td>\n",
       "      <td>Monkey King: The Volcano</td>\n",
       "      <td>NaN</td>\n",
       "      <td>NaN</td>\n",
       "      <td>original</td>\n",
       "      <td>NaN</td>\n",
       "      <td>1.0</td>\n",
       "    </tr>\n",
       "    <tr>\n",
       "      <th>tt9755806</th>\n",
       "      <td>3</td>\n",
       "      <td>Big Shark</td>\n",
       "      <td>NaN</td>\n",
       "      <td>NaN</td>\n",
       "      <td>original</td>\n",
       "      <td>NaN</td>\n",
       "      <td>1.0</td>\n",
       "    </tr>\n",
       "    <tr>\n",
       "      <th>tt9827784</th>\n",
       "      <td>2</td>\n",
       "      <td>Sayonara kuchibiru</td>\n",
       "      <td>NaN</td>\n",
       "      <td>NaN</td>\n",
       "      <td>original</td>\n",
       "      <td>NaN</td>\n",
       "      <td>1.0</td>\n",
       "    </tr>\n",
       "    <tr>\n",
       "      <th>tt9880178</th>\n",
       "      <td>1</td>\n",
       "      <td>La atención</td>\n",
       "      <td>NaN</td>\n",
       "      <td>NaN</td>\n",
       "      <td>original</td>\n",
       "      <td>NaN</td>\n",
       "      <td>1.0</td>\n",
       "    </tr>\n",
       "  </tbody>\n",
       "</table>\n",
       "<p>331703 rows × 7 columns</p>\n",
       "</div>"
      ],
      "text/plain": [
       "           ordering                       title region language     types  \\\n",
       "title_id                                                                    \n",
       "tt3156000         3                        Nick     AD      NaN       NaN   \n",
       "tt6079382         1                     Impacto     AD      NaN       NaN   \n",
       "tt5162282         1                         73'     AD      NaN       NaN   \n",
       "tt1811329         2             Teta, Alf Marra     AE      NaN       NaN   \n",
       "tt7480896         1                Desert Dream     AE      NaN       NaN   \n",
       "...             ...                         ...    ...      ...       ...   \n",
       "tt9723084         2  Anderswo. Allein in Afrika    NaN      NaN  original   \n",
       "tt9726638         2    Monkey King: The Volcano    NaN      NaN  original   \n",
       "tt9755806         3                   Big Shark    NaN      NaN  original   \n",
       "tt9827784         2          Sayonara kuchibiru    NaN      NaN  original   \n",
       "tt9880178         1                 La atención    NaN      NaN  original   \n",
       "\n",
       "          attributes  is_original_title  \n",
       "title_id                                 \n",
       "tt3156000        NaN                0.0  \n",
       "tt6079382        NaN                0.0  \n",
       "tt5162282        NaN                0.0  \n",
       "tt1811329        NaN                0.0  \n",
       "tt7480896        NaN                0.0  \n",
       "...              ...                ...  \n",
       "tt9723084        NaN                1.0  \n",
       "tt9726638        NaN                1.0  \n",
       "tt9755806        NaN                1.0  \n",
       "tt9827784        NaN                1.0  \n",
       "tt9880178        NaN                1.0  \n",
       "\n",
       "[331703 rows x 7 columns]"
      ]
     },
     "execution_count": 44,
     "metadata": {},
     "output_type": "execute_result"
    }
   ],
   "source": [
    "#Initial visual expection of the data\n",
    "imdb_title_akas.sort_values(by='region')"
   ]
  },
  {
   "cell_type": "code",
   "execution_count": 45,
   "metadata": {
    "ExecuteTime": {
     "end_time": "2020-06-20T12:09:09.539856Z",
     "start_time": "2020-06-20T12:09:09.495987Z"
    }
   },
   "outputs": [
    {
     "name": "stdout",
     "output_type": "stream",
     "text": [
      "<class 'pandas.core.frame.DataFrame'>\n",
      "Index: 331703 entries, tt0369610 to tt9880178\n",
      "Data columns (total 7 columns):\n",
      " #   Column             Non-Null Count   Dtype  \n",
      "---  ------             --------------   -----  \n",
      " 0   ordering           331703 non-null  int64  \n",
      " 1   title              331703 non-null  object \n",
      " 2   region             278410 non-null  object \n",
      " 3   language           41715 non-null   object \n",
      " 4   types              168447 non-null  object \n",
      " 5   attributes         14925 non-null   object \n",
      " 6   is_original_title  331678 non-null  float64\n",
      "dtypes: float64(1), int64(1), object(5)\n",
      "memory usage: 20.2+ MB\n"
     ]
    }
   ],
   "source": [
    "#examining data types and looking for null values\n",
    "imdb_title_akas.info()"
   ]
  },
  {
   "cell_type": "code",
   "execution_count": 46,
   "metadata": {
    "ExecuteTime": {
     "end_time": "2020-06-20T12:09:09.572769Z",
     "start_time": "2020-06-20T12:09:09.539856Z"
    }
   },
   "outputs": [
    {
     "name": "stdout",
     "output_type": "stream",
     "text": [
      "Percentage of Null death_year Values: 0.87423990738703\n"
     ]
    }
   ],
   "source": [
    "# evaluating if it is appropriate to remove 'language' column\n",
    "print('Percentage of Null death_year Values:', len(imdb_title_akas[imdb_title_akas.language.isna()])/ len(imdb_title_akas))\n",
    "#answer is yes"
   ]
  },
  {
   "cell_type": "code",
   "execution_count": 47,
   "metadata": {
    "ExecuteTime": {
     "end_time": "2020-06-20T12:09:09.608672Z",
     "start_time": "2020-06-20T12:09:09.572769Z"
    }
   },
   "outputs": [
    {
     "name": "stdout",
     "output_type": "stream",
     "text": [
      "Percentage of Null death_year Values: 0.9550049291082685\n"
     ]
    }
   ],
   "source": [
    "# evaluating if it is appropriate to remove 'attributes' column\n",
    "print('Percentage of Null death_year Values:', len(imdb_title_akas[imdb_title_akas.attributes.isna()])/ len(imdb_title_akas))\n",
    "#answer is yes"
   ]
  },
  {
   "cell_type": "code",
   "execution_count": 48,
   "metadata": {
    "ExecuteTime": {
     "end_time": "2020-06-20T12:09:09.635611Z",
     "start_time": "2020-06-20T12:09:09.609653Z"
    }
   },
   "outputs": [
    {
     "name": "stdout",
     "output_type": "stream",
     "text": [
      "Percentage of Null death_year Values: 0.49217522904526034\n"
     ]
    }
   ],
   "source": [
    "# evaluating if it is appropriate to remove 'types' column\n",
    "print('Percentage of Null death_year Values:', len(imdb_title_akas[imdb_title_akas.types.isna()])/ len(imdb_title_akas))\n",
    "#answer is yes"
   ]
  },
  {
   "cell_type": "code",
   "execution_count": 49,
   "metadata": {
    "ExecuteTime": {
     "end_time": "2020-06-20T12:09:09.650544Z",
     "start_time": "2020-06-20T12:09:09.635611Z"
    }
   },
   "outputs": [],
   "source": [
    "#removing the 'types' column\n",
    "imdb_title_akas = imdb_title_akas.drop('types', axis = 1)"
   ]
  },
  {
   "cell_type": "code",
   "execution_count": 50,
   "metadata": {
    "ExecuteTime": {
     "end_time": "2020-06-20T12:09:09.668512Z",
     "start_time": "2020-06-20T12:09:09.651542Z"
    }
   },
   "outputs": [],
   "source": [
    "#removing the 'attributes' column\n",
    "imdb_title_akas = imdb_title_akas.drop('attributes', axis = 1)"
   ]
  },
  {
   "cell_type": "code",
   "execution_count": 51,
   "metadata": {
    "ExecuteTime": {
     "end_time": "2020-06-20T12:09:09.683473Z",
     "start_time": "2020-06-20T12:09:09.669493Z"
    }
   },
   "outputs": [],
   "source": [
    "#removing the 'language' column\n",
    "imdb_title_akas = imdb_title_akas.drop('language', axis = 1)"
   ]
  },
  {
   "cell_type": "code",
   "execution_count": 52,
   "metadata": {
    "ExecuteTime": {
     "end_time": "2020-06-20T12:09:09.707412Z",
     "start_time": "2020-06-20T12:09:09.684454Z"
    }
   },
   "outputs": [
    {
     "name": "stdout",
     "output_type": "stream",
     "text": [
      "<class 'pandas.core.frame.DataFrame'>\n",
      "Index: 331703 entries, tt0369610 to tt9880178\n",
      "Data columns (total 4 columns):\n",
      " #   Column             Non-Null Count   Dtype  \n",
      "---  ------             --------------   -----  \n",
      " 0   ordering           331703 non-null  int64  \n",
      " 1   title              331703 non-null  object \n",
      " 2   region             278410 non-null  object \n",
      " 3   is_original_title  331678 non-null  float64\n",
      "dtypes: float64(1), int64(1), object(2)\n",
      "memory usage: 12.7+ MB\n"
     ]
    }
   ],
   "source": [
    "#Checkpoint to reexamine the data for null objects\n",
    "imdb_title_akas.info()"
   ]
  },
  {
   "cell_type": "code",
   "execution_count": 53,
   "metadata": {
    "ExecuteTime": {
     "end_time": "2020-06-20T12:09:09.714400Z",
     "start_time": "2020-06-20T12:09:09.708389Z"
    }
   },
   "outputs": [],
   "source": [
    "#Filling the 'is_original_title' column null values with '0' values as we aren't\n",
    "#willing to drop those rows.\n",
    "imdb_title_akas['is_original_title'] = imdb_title_akas['is_original_title'].fillna(value = 0)"
   ]
  },
  {
   "cell_type": "code",
   "execution_count": 54,
   "metadata": {
    "ExecuteTime": {
     "end_time": "2020-06-20T12:09:09.729358Z",
     "start_time": "2020-06-20T12:09:09.715370Z"
    }
   },
   "outputs": [],
   "source": [
    "#Filling the 'region' column null values with 'no region' as we aren't will to drop those rows\n",
    "imdb_title_akas['region'] = imdb_title_akas['region'].fillna(value= 'no region')"
   ]
  },
  {
   "cell_type": "code",
   "execution_count": 113,
   "metadata": {
    "ExecuteTime": {
     "end_time": "2020-06-20T15:05:28.208562Z",
     "start_time": "2020-06-20T15:05:28.183641Z"
    }
   },
   "outputs": [
    {
     "name": "stdout",
     "output_type": "stream",
     "text": [
      "<class 'pandas.core.frame.DataFrame'>\n",
      "Index: 331703 entries, tt0369610 to tt9880178\n",
      "Data columns (total 4 columns):\n",
      " #   Column             Non-Null Count   Dtype  \n",
      "---  ------             --------------   -----  \n",
      " 0   ordering           331703 non-null  int64  \n",
      " 1   title              331703 non-null  object \n",
      " 2   region             331703 non-null  object \n",
      " 3   is_original_title  331703 non-null  float64\n",
      "dtypes: float64(1), int64(1), object(2)\n",
      "memory usage: 12.7+ MB\n"
     ]
    }
   ],
   "source": [
    "#Checkpoint to reexamine the data for null objects\n",
    "imdb_title_akas.info()"
   ]
  },
  {
   "cell_type": "code",
   "execution_count": 55,
   "metadata": {
    "ExecuteTime": {
     "end_time": "2020-06-20T12:09:10.154197Z",
     "start_time": "2020-06-20T12:09:09.729358Z"
    }
   },
   "outputs": [],
   "source": [
    "#looks good, so exporting clean data to new file\n",
    "imdb_title_akas.to_csv('databases/imdb_title_akas_clean.csv')"
   ]
  },
  {
   "cell_type": "markdown",
   "metadata": {},
   "source": [
    "## IMDB \"Title Crew\""
   ]
  },
  {
   "cell_type": "code",
   "execution_count": 108,
   "metadata": {
    "ExecuteTime": {
     "end_time": "2020-06-20T14:45:01.619131Z",
     "start_time": "2020-06-20T14:45:01.613146Z"
    }
   },
   "outputs": [
    {
     "data": {
      "text/html": [
       "<div>\n",
       "<style scoped>\n",
       "    .dataframe tbody tr th:only-of-type {\n",
       "        vertical-align: middle;\n",
       "    }\n",
       "\n",
       "    .dataframe tbody tr th {\n",
       "        vertical-align: top;\n",
       "    }\n",
       "\n",
       "    .dataframe thead th {\n",
       "        text-align: right;\n",
       "    }\n",
       "</style>\n",
       "<table border=\"1\" class=\"dataframe\">\n",
       "  <thead>\n",
       "    <tr style=\"text-align: right;\">\n",
       "      <th></th>\n",
       "      <th>directors</th>\n",
       "      <th>writers</th>\n",
       "    </tr>\n",
       "    <tr>\n",
       "      <th>tconst</th>\n",
       "      <th></th>\n",
       "      <th></th>\n",
       "    </tr>\n",
       "  </thead>\n",
       "  <tbody>\n",
       "    <tr>\n",
       "      <th>tt0285252</th>\n",
       "      <td>nm0899854</td>\n",
       "      <td>nm0899854</td>\n",
       "    </tr>\n",
       "    <tr>\n",
       "      <th>tt0438973</th>\n",
       "      <td>unknown</td>\n",
       "      <td>nm0175726,nm1802864</td>\n",
       "    </tr>\n",
       "    <tr>\n",
       "      <th>tt0462036</th>\n",
       "      <td>nm1940585</td>\n",
       "      <td>nm1940585</td>\n",
       "    </tr>\n",
       "    <tr>\n",
       "      <th>tt0835418</th>\n",
       "      <td>nm0151540</td>\n",
       "      <td>nm0310087,nm0841532</td>\n",
       "    </tr>\n",
       "    <tr>\n",
       "      <th>tt0878654</th>\n",
       "      <td>nm0089502,nm2291498,nm2292011</td>\n",
       "      <td>nm0284943</td>\n",
       "    </tr>\n",
       "  </tbody>\n",
       "</table>\n",
       "</div>"
      ],
      "text/plain": [
       "                               directors              writers\n",
       "tconst                                                       \n",
       "tt0285252                      nm0899854            nm0899854\n",
       "tt0438973                        unknown  nm0175726,nm1802864\n",
       "tt0462036                      nm1940585            nm1940585\n",
       "tt0835418                      nm0151540  nm0310087,nm0841532\n",
       "tt0878654  nm0089502,nm2291498,nm2292011            nm0284943"
      ]
     },
     "execution_count": 108,
     "metadata": {},
     "output_type": "execute_result"
    }
   ],
   "source": [
    "#Initial visual expection of the data\n",
    "imdb_title_crew.head()"
   ]
  },
  {
   "cell_type": "code",
   "execution_count": 57,
   "metadata": {
    "ExecuteTime": {
     "end_time": "2020-06-20T12:09:10.176139Z",
     "start_time": "2020-06-20T12:09:10.163173Z"
    }
   },
   "outputs": [
    {
     "name": "stdout",
     "output_type": "stream",
     "text": [
      "<class 'pandas.core.frame.DataFrame'>\n",
      "Index: 146144 entries, tt0285252 to tt9010172\n",
      "Data columns (total 2 columns):\n",
      " #   Column     Non-Null Count   Dtype \n",
      "---  ------     --------------   ----- \n",
      " 0   directors  140417 non-null  object\n",
      " 1   writers    110261 non-null  object\n",
      "dtypes: object(2)\n",
      "memory usage: 3.3+ MB\n"
     ]
    }
   ],
   "source": [
    "#examining data types and looking for null values\n",
    "imdb_title_crew.info()"
   ]
  },
  {
   "cell_type": "code",
   "execution_count": 58,
   "metadata": {
    "ExecuteTime": {
     "end_time": "2020-06-20T12:09:10.190101Z",
     "start_time": "2020-06-20T12:09:10.177136Z"
    }
   },
   "outputs": [
    {
     "data": {
      "text/plain": [
       "directors     5727\n",
       "writers      35883\n",
       "dtype: int64"
      ]
     },
     "execution_count": 58,
     "metadata": {},
     "output_type": "execute_result"
    }
   ],
   "source": [
    "#determining if there is overlap\n",
    "imdb_title_crew.isna().sum()"
   ]
  },
  {
   "cell_type": "code",
   "execution_count": 114,
   "metadata": {
    "ExecuteTime": {
     "end_time": "2020-06-20T15:11:37.198845Z",
     "start_time": "2020-06-20T15:11:37.178898Z"
    }
   },
   "outputs": [],
   "source": [
    "#there is overlap and we are unwilling to remove 35k rows, going to fill null values with 'unknown'\n",
    "imdb_title_crew['writers'] = imdb_title_crew['writers'].fillna(value= 'unknown')\n",
    "imdb_title_crew['directors'] = imdb_title_crew['directors'].fillna(value= 'unknown')"
   ]
  },
  {
   "cell_type": "code",
   "execution_count": 60,
   "metadata": {
    "ExecuteTime": {
     "end_time": "2020-06-20T12:09:10.226006Z",
     "start_time": "2020-06-20T12:09:10.212043Z"
    }
   },
   "outputs": [
    {
     "name": "stdout",
     "output_type": "stream",
     "text": [
      "<class 'pandas.core.frame.DataFrame'>\n",
      "Index: 146144 entries, tt0285252 to tt9010172\n",
      "Data columns (total 2 columns):\n",
      " #   Column     Non-Null Count   Dtype \n",
      "---  ------     --------------   ----- \n",
      " 0   directors  146144 non-null  object\n",
      " 1   writers    146144 non-null  object\n",
      "dtypes: object(2)\n",
      "memory usage: 3.3+ MB\n"
     ]
    }
   ],
   "source": [
    "#Checkpoint to reexamine the data for null objects\n",
    "imdb_title_crew.info()"
   ]
  },
  {
   "cell_type": "code",
   "execution_count": 61,
   "metadata": {
    "ExecuteTime": {
     "end_time": "2020-06-20T12:09:10.344687Z",
     "start_time": "2020-06-20T12:09:10.227003Z"
    }
   },
   "outputs": [],
   "source": [
    "#looks good, so exporting clean data to new file\n",
    "imdb_title_crew.to_csv('databases/imdb_title_crew_clean.csv')"
   ]
  },
  {
   "cell_type": "markdown",
   "metadata": {},
   "source": [
    "## IMDB \"Title Principals\""
   ]
  },
  {
   "cell_type": "code",
   "execution_count": 62,
   "metadata": {
    "ExecuteTime": {
     "end_time": "2020-06-20T12:09:10.352666Z",
     "start_time": "2020-06-20T12:09:10.344687Z"
    }
   },
   "outputs": [
    {
     "data": {
      "text/html": [
       "<div>\n",
       "<style scoped>\n",
       "    .dataframe tbody tr th:only-of-type {\n",
       "        vertical-align: middle;\n",
       "    }\n",
       "\n",
       "    .dataframe tbody tr th {\n",
       "        vertical-align: top;\n",
       "    }\n",
       "\n",
       "    .dataframe thead th {\n",
       "        text-align: right;\n",
       "    }\n",
       "</style>\n",
       "<table border=\"1\" class=\"dataframe\">\n",
       "  <thead>\n",
       "    <tr style=\"text-align: right;\">\n",
       "      <th></th>\n",
       "      <th>ordering</th>\n",
       "      <th>nconst</th>\n",
       "      <th>category</th>\n",
       "      <th>job</th>\n",
       "      <th>characters</th>\n",
       "    </tr>\n",
       "    <tr>\n",
       "      <th>tconst</th>\n",
       "      <th></th>\n",
       "      <th></th>\n",
       "      <th></th>\n",
       "      <th></th>\n",
       "      <th></th>\n",
       "    </tr>\n",
       "  </thead>\n",
       "  <tbody>\n",
       "    <tr>\n",
       "      <th>tt0111414</th>\n",
       "      <td>1</td>\n",
       "      <td>nm0246005</td>\n",
       "      <td>actor</td>\n",
       "      <td>NaN</td>\n",
       "      <td>[\"The Man\"]</td>\n",
       "    </tr>\n",
       "    <tr>\n",
       "      <th>tt0111414</th>\n",
       "      <td>2</td>\n",
       "      <td>nm0398271</td>\n",
       "      <td>director</td>\n",
       "      <td>NaN</td>\n",
       "      <td>NaN</td>\n",
       "    </tr>\n",
       "    <tr>\n",
       "      <th>tt0111414</th>\n",
       "      <td>3</td>\n",
       "      <td>nm3739909</td>\n",
       "      <td>producer</td>\n",
       "      <td>producer</td>\n",
       "      <td>NaN</td>\n",
       "    </tr>\n",
       "    <tr>\n",
       "      <th>tt0323808</th>\n",
       "      <td>10</td>\n",
       "      <td>nm0059247</td>\n",
       "      <td>editor</td>\n",
       "      <td>NaN</td>\n",
       "      <td>NaN</td>\n",
       "    </tr>\n",
       "    <tr>\n",
       "      <th>tt0323808</th>\n",
       "      <td>1</td>\n",
       "      <td>nm3579312</td>\n",
       "      <td>actress</td>\n",
       "      <td>NaN</td>\n",
       "      <td>[\"Beth Boothby\"]</td>\n",
       "    </tr>\n",
       "  </tbody>\n",
       "</table>\n",
       "</div>"
      ],
      "text/plain": [
       "           ordering     nconst  category       job        characters\n",
       "tconst                                                              \n",
       "tt0111414         1  nm0246005     actor       NaN       [\"The Man\"]\n",
       "tt0111414         2  nm0398271  director       NaN               NaN\n",
       "tt0111414         3  nm3739909  producer  producer               NaN\n",
       "tt0323808        10  nm0059247    editor       NaN               NaN\n",
       "tt0323808         1  nm3579312   actress       NaN  [\"Beth Boothby\"]"
      ]
     },
     "execution_count": 62,
     "metadata": {},
     "output_type": "execute_result"
    }
   ],
   "source": [
    "#Initial visual expection of the data\n",
    "imdb_title_principals.head()"
   ]
  },
  {
   "cell_type": "code",
   "execution_count": 63,
   "metadata": {
    "ExecuteTime": {
     "end_time": "2020-06-20T12:09:10.458384Z",
     "start_time": "2020-06-20T12:09:10.353664Z"
    }
   },
   "outputs": [
    {
     "name": "stdout",
     "output_type": "stream",
     "text": [
      "<class 'pandas.core.frame.DataFrame'>\n",
      "Index: 1028186 entries, tt0111414 to tt9692684\n",
      "Data columns (total 5 columns):\n",
      " #   Column      Non-Null Count    Dtype \n",
      "---  ------      --------------    ----- \n",
      " 0   ordering    1028186 non-null  int64 \n",
      " 1   nconst      1028186 non-null  object\n",
      " 2   category    1028186 non-null  object\n",
      " 3   job         177684 non-null   object\n",
      " 4   characters  393360 non-null   object\n",
      "dtypes: int64(1), object(4)\n",
      "memory usage: 47.1+ MB\n"
     ]
    }
   ],
   "source": [
    "#examining data types and looking for null values\n",
    "imdb_title_principals.info()"
   ]
  },
  {
   "cell_type": "code",
   "execution_count": 64,
   "metadata": {
    "ExecuteTime": {
     "end_time": "2020-06-20T12:09:10.491296Z",
     "start_time": "2020-06-20T12:09:10.459381Z"
    }
   },
   "outputs": [],
   "source": [
    "imdb_title_principals = imdb_title_principals.drop('job', axis = 1)\n",
    "# dropped job because it was redundent of catagory"
   ]
  },
  {
   "cell_type": "code",
   "execution_count": 65,
   "metadata": {
    "ExecuteTime": {
     "end_time": "2020-06-20T12:09:10.542188Z",
     "start_time": "2020-06-20T12:09:10.492293Z"
    }
   },
   "outputs": [],
   "source": [
    "# want to keep the character column and null rows, going to fill null values with 'not applicable'\n",
    "imdb_title_principals['characters'] = imdb_title_principals['characters'].fillna(value= 'not applicable')"
   ]
  },
  {
   "cell_type": "code",
   "execution_count": 66,
   "metadata": {
    "ExecuteTime": {
     "end_time": "2020-06-20T12:09:10.624969Z",
     "start_time": "2020-06-20T12:09:10.543158Z"
    }
   },
   "outputs": [
    {
     "name": "stdout",
     "output_type": "stream",
     "text": [
      "<class 'pandas.core.frame.DataFrame'>\n",
      "Index: 1028186 entries, tt0111414 to tt9692684\n",
      "Data columns (total 4 columns):\n",
      " #   Column      Non-Null Count    Dtype \n",
      "---  ------      --------------    ----- \n",
      " 0   ordering    1028186 non-null  int64 \n",
      " 1   nconst      1028186 non-null  object\n",
      " 2   category    1028186 non-null  object\n",
      " 3   characters  1028186 non-null  object\n",
      "dtypes: int64(1), object(3)\n",
      "memory usage: 39.2+ MB\n"
     ]
    }
   ],
   "source": [
    "#Checkpoint to reexamine the data for null objects\n",
    "imdb_title_principals.info()"
   ]
  },
  {
   "cell_type": "code",
   "execution_count": 67,
   "metadata": {
    "ExecuteTime": {
     "end_time": "2020-06-20T12:09:11.617300Z",
     "start_time": "2020-06-20T12:09:10.625952Z"
    }
   },
   "outputs": [],
   "source": [
    "#looks good, so exporting clean data to new file\n",
    "imdb_title_principals.to_csv('databases/imdb_title_principals_clean.csv')"
   ]
  },
  {
   "cell_type": "markdown",
   "metadata": {},
   "source": [
    "## IMDB \"Title Ratings\""
   ]
  },
  {
   "cell_type": "code",
   "execution_count": 109,
   "metadata": {
    "ExecuteTime": {
     "end_time": "2020-06-20T14:45:16.248878Z",
     "start_time": "2020-06-20T14:45:16.242879Z"
    }
   },
   "outputs": [
    {
     "data": {
      "text/html": [
       "<div>\n",
       "<style scoped>\n",
       "    .dataframe tbody tr th:only-of-type {\n",
       "        vertical-align: middle;\n",
       "    }\n",
       "\n",
       "    .dataframe tbody tr th {\n",
       "        vertical-align: top;\n",
       "    }\n",
       "\n",
       "    .dataframe thead th {\n",
       "        text-align: right;\n",
       "    }\n",
       "</style>\n",
       "<table border=\"1\" class=\"dataframe\">\n",
       "  <thead>\n",
       "    <tr style=\"text-align: right;\">\n",
       "      <th></th>\n",
       "      <th>averagerating</th>\n",
       "      <th>numvotes</th>\n",
       "    </tr>\n",
       "    <tr>\n",
       "      <th>tconst</th>\n",
       "      <th></th>\n",
       "      <th></th>\n",
       "    </tr>\n",
       "  </thead>\n",
       "  <tbody>\n",
       "    <tr>\n",
       "      <th>tt10356526</th>\n",
       "      <td>8.3</td>\n",
       "      <td>31</td>\n",
       "    </tr>\n",
       "    <tr>\n",
       "      <th>tt10384606</th>\n",
       "      <td>8.9</td>\n",
       "      <td>559</td>\n",
       "    </tr>\n",
       "    <tr>\n",
       "      <th>tt1042974</th>\n",
       "      <td>6.4</td>\n",
       "      <td>20</td>\n",
       "    </tr>\n",
       "    <tr>\n",
       "      <th>tt1043726</th>\n",
       "      <td>4.2</td>\n",
       "      <td>50352</td>\n",
       "    </tr>\n",
       "    <tr>\n",
       "      <th>tt1060240</th>\n",
       "      <td>6.5</td>\n",
       "      <td>21</td>\n",
       "    </tr>\n",
       "  </tbody>\n",
       "</table>\n",
       "</div>"
      ],
      "text/plain": [
       "            averagerating  numvotes\n",
       "tconst                             \n",
       "tt10356526            8.3        31\n",
       "tt10384606            8.9       559\n",
       "tt1042974             6.4        20\n",
       "tt1043726             4.2     50352\n",
       "tt1060240             6.5        21"
      ]
     },
     "execution_count": 109,
     "metadata": {},
     "output_type": "execute_result"
    }
   ],
   "source": [
    "#Initial visual expection of the data\n",
    "imdb_title_ratings.head()"
   ]
  },
  {
   "cell_type": "code",
   "execution_count": 69,
   "metadata": {
    "ExecuteTime": {
     "end_time": "2020-06-20T12:09:11.643235Z",
     "start_time": "2020-06-20T12:09:11.626261Z"
    }
   },
   "outputs": [
    {
     "name": "stdout",
     "output_type": "stream",
     "text": [
      "<class 'pandas.core.frame.DataFrame'>\n",
      "Index: 73856 entries, tt10356526 to tt9894098\n",
      "Data columns (total 2 columns):\n",
      " #   Column         Non-Null Count  Dtype  \n",
      "---  ------         --------------  -----  \n",
      " 0   averagerating  73856 non-null  float64\n",
      " 1   numvotes       73856 non-null  int64  \n",
      "dtypes: float64(1), int64(1)\n",
      "memory usage: 1.7+ MB\n"
     ]
    }
   ],
   "source": [
    "#examining data types and looking for null values\n",
    "imdb_title_ratings.info()"
   ]
  },
  {
   "cell_type": "code",
   "execution_count": 70,
   "metadata": {
    "ExecuteTime": {
     "end_time": "2020-06-20T12:09:11.654210Z",
     "start_time": "2020-06-20T12:09:11.648214Z"
    }
   },
   "outputs": [
    {
     "data": {
      "text/plain": [
       "7.0     2262\n",
       "6.6     2251\n",
       "7.2     2249\n",
       "6.8     2239\n",
       "6.5     2221\n",
       "        ... \n",
       "9.6       18\n",
       "10.0      16\n",
       "9.8       15\n",
       "9.7       12\n",
       "9.9        5\n",
       "Name: averagerating, Length: 91, dtype: int64"
      ]
     },
     "execution_count": 70,
     "metadata": {},
     "output_type": "execute_result"
    }
   ],
   "source": [
    "#examning value counts, nothing out of the ordinary\n",
    "imdb_title_ratings.averagerating.value_counts(normalize= False)"
   ]
  },
  {
   "cell_type": "code",
   "execution_count": 115,
   "metadata": {
    "ExecuteTime": {
     "end_time": "2020-06-20T15:12:42.598675Z",
     "start_time": "2020-06-20T15:12:42.591694Z"
    }
   },
   "outputs": [
    {
     "data": {
      "text/plain": [
       "6        2875\n",
       "5        2699\n",
       "7        2476\n",
       "8        2167\n",
       "9        1929\n",
       "         ... \n",
       "18286       1\n",
       "16289       1\n",
       "1958        1\n",
       "4007        1\n",
       "4098        1\n",
       "Name: numvotes, Length: 7349, dtype: int64"
      ]
     },
     "execution_count": 115,
     "metadata": {},
     "output_type": "execute_result"
    }
   ],
   "source": [
    "#examning value counts, nothing out of the ordinary\n",
    "imdb_title_ratings.numvotes.value_counts(normalize= False)"
   ]
  },
  {
   "cell_type": "code",
   "execution_count": 72,
   "metadata": {
    "ExecuteTime": {
     "end_time": "2020-06-20T12:09:11.734986Z",
     "start_time": "2020-06-20T12:09:11.664159Z"
    }
   },
   "outputs": [],
   "source": [
    "#looks good, so exporting clean data to new file\n",
    "imdb_title_ratings.to_csv('databases/imdb_title_ratings_clean.csv')"
   ]
  },
  {
   "cell_type": "markdown",
   "metadata": {},
   "source": [
    "## The Movie DB \"Movies\""
   ]
  },
  {
   "cell_type": "code",
   "execution_count": 110,
   "metadata": {
    "ExecuteTime": {
     "end_time": "2020-06-20T14:45:26.941913Z",
     "start_time": "2020-06-20T14:45:26.933934Z"
    }
   },
   "outputs": [
    {
     "data": {
      "text/html": [
       "<div>\n",
       "<style scoped>\n",
       "    .dataframe tbody tr th:only-of-type {\n",
       "        vertical-align: middle;\n",
       "    }\n",
       "\n",
       "    .dataframe tbody tr th {\n",
       "        vertical-align: top;\n",
       "    }\n",
       "\n",
       "    .dataframe thead th {\n",
       "        text-align: right;\n",
       "    }\n",
       "</style>\n",
       "<table border=\"1\" class=\"dataframe\">\n",
       "  <thead>\n",
       "    <tr style=\"text-align: right;\">\n",
       "      <th></th>\n",
       "      <th>genre_ids</th>\n",
       "      <th>id</th>\n",
       "      <th>original_language</th>\n",
       "      <th>original_title</th>\n",
       "      <th>popularity</th>\n",
       "      <th>release_date</th>\n",
       "      <th>title</th>\n",
       "      <th>vote_average</th>\n",
       "      <th>vote_count</th>\n",
       "    </tr>\n",
       "  </thead>\n",
       "  <tbody>\n",
       "    <tr>\n",
       "      <th>0</th>\n",
       "      <td>[12, 14, 10751]</td>\n",
       "      <td>12444</td>\n",
       "      <td>en</td>\n",
       "      <td>Harry Potter and the Deathly Hallows: Part 1</td>\n",
       "      <td>33.533</td>\n",
       "      <td>2010-11-19</td>\n",
       "      <td>Harry Potter and the Deathly Hallows: Part 1</td>\n",
       "      <td>7.7</td>\n",
       "      <td>10788</td>\n",
       "    </tr>\n",
       "    <tr>\n",
       "      <th>1</th>\n",
       "      <td>[14, 12, 16, 10751]</td>\n",
       "      <td>10191</td>\n",
       "      <td>en</td>\n",
       "      <td>How to Train Your Dragon</td>\n",
       "      <td>28.734</td>\n",
       "      <td>2010-03-26</td>\n",
       "      <td>How to Train Your Dragon</td>\n",
       "      <td>7.7</td>\n",
       "      <td>7610</td>\n",
       "    </tr>\n",
       "    <tr>\n",
       "      <th>2</th>\n",
       "      <td>[12, 28, 878]</td>\n",
       "      <td>10138</td>\n",
       "      <td>en</td>\n",
       "      <td>Iron Man 2</td>\n",
       "      <td>28.515</td>\n",
       "      <td>2010-05-07</td>\n",
       "      <td>Iron Man 2</td>\n",
       "      <td>6.8</td>\n",
       "      <td>12368</td>\n",
       "    </tr>\n",
       "    <tr>\n",
       "      <th>3</th>\n",
       "      <td>[16, 35, 10751]</td>\n",
       "      <td>862</td>\n",
       "      <td>en</td>\n",
       "      <td>Toy Story</td>\n",
       "      <td>28.005</td>\n",
       "      <td>1995-11-22</td>\n",
       "      <td>Toy Story</td>\n",
       "      <td>7.9</td>\n",
       "      <td>10174</td>\n",
       "    </tr>\n",
       "    <tr>\n",
       "      <th>4</th>\n",
       "      <td>[28, 878, 12]</td>\n",
       "      <td>27205</td>\n",
       "      <td>en</td>\n",
       "      <td>Inception</td>\n",
       "      <td>27.920</td>\n",
       "      <td>2010-07-16</td>\n",
       "      <td>Inception</td>\n",
       "      <td>8.3</td>\n",
       "      <td>22186</td>\n",
       "    </tr>\n",
       "  </tbody>\n",
       "</table>\n",
       "</div>"
      ],
      "text/plain": [
       "             genre_ids     id original_language  \\\n",
       "0      [12, 14, 10751]  12444                en   \n",
       "1  [14, 12, 16, 10751]  10191                en   \n",
       "2        [12, 28, 878]  10138                en   \n",
       "3      [16, 35, 10751]    862                en   \n",
       "4        [28, 878, 12]  27205                en   \n",
       "\n",
       "                                 original_title  popularity release_date  \\\n",
       "0  Harry Potter and the Deathly Hallows: Part 1      33.533   2010-11-19   \n",
       "1                      How to Train Your Dragon      28.734   2010-03-26   \n",
       "2                                    Iron Man 2      28.515   2010-05-07   \n",
       "3                                     Toy Story      28.005   1995-11-22   \n",
       "4                                     Inception      27.920   2010-07-16   \n",
       "\n",
       "                                          title  vote_average  vote_count  \n",
       "0  Harry Potter and the Deathly Hallows: Part 1           7.7       10788  \n",
       "1                      How to Train Your Dragon           7.7        7610  \n",
       "2                                    Iron Man 2           6.8       12368  \n",
       "3                                     Toy Story           7.9       10174  \n",
       "4                                     Inception           8.3       22186  "
      ]
     },
     "execution_count": 110,
     "metadata": {},
     "output_type": "execute_result"
    }
   ],
   "source": [
    "#Initial visual expection of the data\n",
    "tmdb_movies.head()"
   ]
  },
  {
   "cell_type": "code",
   "execution_count": 74,
   "metadata": {
    "ExecuteTime": {
     "end_time": "2020-06-20T12:09:11.758905Z",
     "start_time": "2020-06-20T12:09:11.749929Z"
    }
   },
   "outputs": [
    {
     "name": "stdout",
     "output_type": "stream",
     "text": [
      "<class 'pandas.core.frame.DataFrame'>\n",
      "Int64Index: 26517 entries, 0 to 26516\n",
      "Data columns (total 9 columns):\n",
      " #   Column             Non-Null Count  Dtype  \n",
      "---  ------             --------------  -----  \n",
      " 0   genre_ids          26517 non-null  object \n",
      " 1   id                 26517 non-null  int64  \n",
      " 2   original_language  26517 non-null  object \n",
      " 3   original_title     26517 non-null  object \n",
      " 4   popularity         26517 non-null  float64\n",
      " 5   release_date       26517 non-null  object \n",
      " 6   title              26517 non-null  object \n",
      " 7   vote_average       26517 non-null  float64\n",
      " 8   vote_count         26517 non-null  int64  \n",
      "dtypes: float64(2), int64(2), object(5)\n",
      "memory usage: 2.0+ MB\n"
     ]
    }
   ],
   "source": [
    "#examining data types and looking for null values\n",
    "tmdb_movies.info()"
   ]
  },
  {
   "cell_type": "code",
   "execution_count": 116,
   "metadata": {
    "ExecuteTime": {
     "end_time": "2020-06-20T15:17:35.494252Z",
     "start_time": "2020-06-20T15:17:35.490247Z"
    }
   },
   "outputs": [],
   "source": [
    "#lots of columns to examine with value_counts so we are writing a function\n",
    "list_of_values= []\n",
    "def value_count(df):\n",
    "    for header in df: #iterates through each column with value_counts\n",
    "         list_of_values.append(df[header].value_counts(normalize= False))\n",
    "    "
   ]
  },
  {
   "cell_type": "code",
   "execution_count": 117,
   "metadata": {
    "ExecuteTime": {
     "end_time": "2020-06-20T15:17:36.245241Z",
     "start_time": "2020-06-20T15:17:36.226291Z"
    }
   },
   "outputs": [
    {
     "data": {
      "text/plain": [
       "[[18]                         962\n",
       " [99]                         668\n",
       " [35]                         635\n",
       " [27]                         316\n",
       " [35, 18]                     251\n",
       "                             ... \n",
       " [14, 28, 878]                  1\n",
       " [12, 14, 27, 28, 53, 878]      1\n",
       " [16, 12, 10749]                1\n",
       " [53, 18, 14, 27]               1\n",
       " [28, 53, 10752, 18]            1\n",
       " Name: genre_ids, Length: 1729, dtype: int64,\n",
       " 121803    3\n",
       " 192767    3\n",
       " 152042    3\n",
       " 244539    3\n",
       " 228108    3\n",
       "          ..\n",
       " 51764     1\n",
       " 82485     1\n",
       " 245855    1\n",
       " 520370    1\n",
       " 524288    1\n",
       " Name: id, Length: 9349, dtype: int64,\n",
       " en    8301\n",
       " fr     337\n",
       " es     195\n",
       " ja     182\n",
       " hi     132\n",
       " ru     111\n",
       " de     106\n",
       " zh      91\n",
       " ko      57\n",
       " it      56\n",
       " sv      45\n",
       " pt      43\n",
       " da      35\n",
       " cn      31\n",
       " nl      31\n",
       " no      31\n",
       " pl      24\n",
       " he      22\n",
       " th      18\n",
       " ar      15\n",
       " fa      13\n",
       " tr      11\n",
       " ro      10\n",
       " is       8\n",
       " te       7\n",
       " id       7\n",
       " fi       7\n",
       " el       6\n",
       " hu       6\n",
       " sr       5\n",
       " ta       4\n",
       " uk       4\n",
       " tl       4\n",
       " xx       4\n",
       " et       4\n",
       " ka       4\n",
       " ml       3\n",
       " lt       3\n",
       " lo       2\n",
       " ca       2\n",
       " kn       2\n",
       " lv       2\n",
       " ur       2\n",
       " sq       2\n",
       " cs       1\n",
       " nb       1\n",
       " hz       1\n",
       " ne       1\n",
       " bs       1\n",
       " mi       1\n",
       " ku       1\n",
       " ab       1\n",
       " hr       1\n",
       " eu       1\n",
       " yi       1\n",
       " sw       1\n",
       " vi       1\n",
       " xh       1\n",
       " Name: original_language, dtype: int64,\n",
       " Legend                                           5\n",
       " Eden                                             5\n",
       " Detour                                           3\n",
       " 劇場版 魔法少女まどか☆マギカ [前編] 始まりの物語                      3\n",
       " Shelter                                          3\n",
       "                                                 ..\n",
       " Da Sweet Blood of Jesus                          1\n",
       " They Found Hell                                  1\n",
       " Bunraku                                          1\n",
       " Eagles of Death Metal: Nos Amis (Our Friends)    1\n",
       " Cropsey                                          1\n",
       " Name: original_title, Length: 9225, dtype: int64,\n",
       " 1.400     52\n",
       " 0.600     50\n",
       " 1.960     14\n",
       " 0.840     11\n",
       " 4.145      7\n",
       "           ..\n",
       " 4.675      1\n",
       " 12.046     1\n",
       " 11.894     1\n",
       " 9.609      1\n",
       " 15.879     1\n",
       " Name: popularity, Length: 6450, dtype: int64,\n",
       " 2016-10-21    31\n",
       " 2011-11-11    31\n",
       " 2014-10-10    29\n",
       " 2015-10-16    28\n",
       " 2010-01-01    27\n",
       "               ..\n",
       " 2011-12-22     1\n",
       " 2014-04-14     1\n",
       " 2011-08-30     1\n",
       " 2014-05-26     1\n",
       " 2014-06-23     1\n",
       " Name: release_date, Length: 2615, dtype: int64,\n",
       " Legend                                          5\n",
       " Eden                                            5\n",
       " The Gateway                                     3\n",
       " In Bloom                                        3\n",
       " The Invoking                                    3\n",
       "                                                ..\n",
       " Kingsman: The Golden Circle                     1\n",
       " Scooby-Doo! & Batman: The Brave and the Bold    1\n",
       " TINY: A Story About Living Small                1\n",
       " All Saints                                      1\n",
       " Journey to the West: The Demons Strike Back     1\n",
       " Name: title, Length: 9184, dtype: int64,\n",
       " 5.9    397\n",
       " 6.1    397\n",
       " 6.6    387\n",
       " 5.8    378\n",
       " 6.2    377\n",
       "       ... \n",
       " 1.9      1\n",
       " 8.8      1\n",
       " 1.8      1\n",
       " 1.6      1\n",
       " 9.1      1\n",
       " Name: vote_average, Length: 75, dtype: int64,\n",
       " 11      347\n",
       " 12      327\n",
       " 13      276\n",
       " 14      258\n",
       " 15      245\n",
       "        ... \n",
       " 1068      1\n",
       " 1076      1\n",
       " 3141      1\n",
       " 1100      1\n",
       " 2049      1\n",
       " Name: vote_count, Length: 1683, dtype: int64]"
      ]
     },
     "execution_count": 117,
     "metadata": {},
     "output_type": "execute_result"
    }
   ],
   "source": [
    "#using function to look for missing or redundant data\n",
    "value_count(tmdb_movies)\n",
    "list_of_values"
   ]
  },
  {
   "cell_type": "code",
   "execution_count": 77,
   "metadata": {
    "ExecuteTime": {
     "end_time": "2020-06-20T12:09:11.820766Z",
     "start_time": "2020-06-20T12:09:11.815753Z"
    }
   },
   "outputs": [],
   "source": [
    "#removing rows from data where the 'vote_count' is less than 10\n",
    "tmdb_movies = tmdb_movies[tmdb_movies['vote_count'] > 10]\n",
    "#validaty of rating is questionable with less than 10 votes"
   ]
  },
  {
   "cell_type": "code",
   "execution_count": 78,
   "metadata": {
    "ExecuteTime": {
     "end_time": "2020-06-20T12:09:11.860649Z",
     "start_time": "2020-06-20T12:09:11.821737Z"
    }
   },
   "outputs": [],
   "source": [
    "#looks good, so exporting clean data to new file\n",
    "tmdb_movies.to_csv('databases/tmdb_movies_clean.csv')"
   ]
  },
  {
   "cell_type": "markdown",
   "metadata": {},
   "source": [
    "## Rotten Tomatoes \"Movie\""
   ]
  },
  {
   "cell_type": "code",
   "execution_count": 111,
   "metadata": {
    "ExecuteTime": {
     "end_time": "2020-06-20T14:46:45.852263Z",
     "start_time": "2020-06-20T14:46:45.845281Z"
    }
   },
   "outputs": [
    {
     "data": {
      "text/html": [
       "<div>\n",
       "<style scoped>\n",
       "    .dataframe tbody tr th:only-of-type {\n",
       "        vertical-align: middle;\n",
       "    }\n",
       "\n",
       "    .dataframe tbody tr th {\n",
       "        vertical-align: top;\n",
       "    }\n",
       "\n",
       "    .dataframe thead th {\n",
       "        text-align: right;\n",
       "    }\n",
       "</style>\n",
       "<table border=\"1\" class=\"dataframe\">\n",
       "  <thead>\n",
       "    <tr style=\"text-align: right;\">\n",
       "      <th></th>\n",
       "      <th>id</th>\n",
       "      <th>synopsis</th>\n",
       "      <th>rating</th>\n",
       "      <th>genre</th>\n",
       "      <th>director</th>\n",
       "      <th>writer</th>\n",
       "      <th>theater_date</th>\n",
       "    </tr>\n",
       "  </thead>\n",
       "  <tbody>\n",
       "    <tr>\n",
       "      <th>0</th>\n",
       "      <td>1</td>\n",
       "      <td>This gritty, fast-paced, and innovative police...</td>\n",
       "      <td>R</td>\n",
       "      <td>Action and Adventure|Classics|Drama</td>\n",
       "      <td>William Friedkin</td>\n",
       "      <td>Ernest Tidyman</td>\n",
       "      <td>Oct 9, 1971</td>\n",
       "    </tr>\n",
       "    <tr>\n",
       "      <th>1</th>\n",
       "      <td>3</td>\n",
       "      <td>New York City, not-too-distant-future: Eric Pa...</td>\n",
       "      <td>R</td>\n",
       "      <td>Drama|Science Fiction and Fantasy</td>\n",
       "      <td>David Cronenberg</td>\n",
       "      <td>David Cronenberg|Don DeLillo</td>\n",
       "      <td>Aug 17, 2012</td>\n",
       "    </tr>\n",
       "    <tr>\n",
       "      <th>2</th>\n",
       "      <td>5</td>\n",
       "      <td>Illeana Douglas delivers a superb performance ...</td>\n",
       "      <td>R</td>\n",
       "      <td>Drama|Musical and Performing Arts</td>\n",
       "      <td>Allison Anders</td>\n",
       "      <td>Allison Anders</td>\n",
       "      <td>Sep 13, 1996</td>\n",
       "    </tr>\n",
       "    <tr>\n",
       "      <th>3</th>\n",
       "      <td>6</td>\n",
       "      <td>Michael Douglas runs afoul of a treacherous su...</td>\n",
       "      <td>R</td>\n",
       "      <td>Drama|Mystery and Suspense</td>\n",
       "      <td>Barry Levinson</td>\n",
       "      <td>Paul Attanasio|Michael Crichton</td>\n",
       "      <td>Dec 9, 1994</td>\n",
       "    </tr>\n",
       "    <tr>\n",
       "      <th>4</th>\n",
       "      <td>7</td>\n",
       "      <td>NaN</td>\n",
       "      <td>NR</td>\n",
       "      <td>Drama|Romance</td>\n",
       "      <td>Rodney Bennett</td>\n",
       "      <td>Giles Cooper</td>\n",
       "      <td>NaN</td>\n",
       "    </tr>\n",
       "  </tbody>\n",
       "</table>\n",
       "</div>"
      ],
      "text/plain": [
       "   id                                           synopsis rating  \\\n",
       "0   1  This gritty, fast-paced, and innovative police...      R   \n",
       "1   3  New York City, not-too-distant-future: Eric Pa...      R   \n",
       "2   5  Illeana Douglas delivers a superb performance ...      R   \n",
       "3   6  Michael Douglas runs afoul of a treacherous su...      R   \n",
       "4   7                                                NaN     NR   \n",
       "\n",
       "                                 genre          director  \\\n",
       "0  Action and Adventure|Classics|Drama  William Friedkin   \n",
       "1    Drama|Science Fiction and Fantasy  David Cronenberg   \n",
       "2    Drama|Musical and Performing Arts    Allison Anders   \n",
       "3           Drama|Mystery and Suspense    Barry Levinson   \n",
       "4                        Drama|Romance    Rodney Bennett   \n",
       "\n",
       "                            writer  theater_date  \n",
       "0                   Ernest Tidyman   Oct 9, 1971  \n",
       "1     David Cronenberg|Don DeLillo  Aug 17, 2012  \n",
       "2                   Allison Anders  Sep 13, 1996  \n",
       "3  Paul Attanasio|Michael Crichton   Dec 9, 1994  \n",
       "4                     Giles Cooper           NaN  "
      ]
     },
     "execution_count": 111,
     "metadata": {},
     "output_type": "execute_result"
    }
   ],
   "source": [
    "#Initial visual expection of the data\n",
    "rt_movie.head()"
   ]
  },
  {
   "cell_type": "code",
   "execution_count": 81,
   "metadata": {
    "ExecuteTime": {
     "end_time": "2020-06-20T12:09:11.906512Z",
     "start_time": "2020-06-20T12:09:11.899530Z"
    }
   },
   "outputs": [
    {
     "name": "stdout",
     "output_type": "stream",
     "text": [
      "<class 'pandas.core.frame.DataFrame'>\n",
      "RangeIndex: 1560 entries, 0 to 1559\n",
      "Data columns (total 12 columns):\n",
      " #   Column        Non-Null Count  Dtype \n",
      "---  ------        --------------  ----- \n",
      " 0   id            1560 non-null   int64 \n",
      " 1   synopsis      1498 non-null   object\n",
      " 2   rating        1557 non-null   object\n",
      " 3   genre         1552 non-null   object\n",
      " 4   director      1361 non-null   object\n",
      " 5   writer        1111 non-null   object\n",
      " 6   theater_date  1201 non-null   object\n",
      " 7   dvd_date      1201 non-null   object\n",
      " 8   currency      340 non-null    object\n",
      " 9   box_office    340 non-null    object\n",
      " 10  runtime       1530 non-null   object\n",
      " 11  studio        494 non-null    object\n",
      "dtypes: int64(1), object(11)\n",
      "memory usage: 146.4+ KB\n"
     ]
    }
   ],
   "source": [
    "rt_movie.info()"
   ]
  },
  {
   "cell_type": "code",
   "execution_count": 82,
   "metadata": {
    "ExecuteTime": {
     "end_time": "2020-06-20T12:09:11.916484Z",
     "start_time": "2020-06-20T12:09:11.907509Z"
    },
    "scrolled": true
   },
   "outputs": [
    {
     "name": "stdout",
     "output_type": "stream",
     "text": [
      "<class 'pandas.core.frame.DataFrame'>\n",
      "RangeIndex: 1560 entries, 0 to 1559\n",
      "Data columns (total 7 columns):\n",
      " #   Column        Non-Null Count  Dtype \n",
      "---  ------        --------------  ----- \n",
      " 0   id            1560 non-null   int64 \n",
      " 1   synopsis      1498 non-null   object\n",
      " 2   rating        1557 non-null   object\n",
      " 3   genre         1552 non-null   object\n",
      " 4   director      1361 non-null   object\n",
      " 5   writer        1111 non-null   object\n",
      " 6   theater_date  1201 non-null   object\n",
      "dtypes: int64(1), object(6)\n",
      "memory usage: 85.4+ KB\n"
     ]
    }
   ],
   "source": [
    "#Removing columns that are not of interest, we plan to merge this dataframe with the \n",
    "#movie_budget dataframe so we don't need to box office here\n",
    "rt_movie = rt_movie.drop(['currency'], axis = 1)\n",
    "rt_movie = rt_movie.drop(['box_office'], axis = 1)\n",
    "rt_movie = rt_movie.drop(['dvd_date'], axis = 1)\n",
    "rt_movie = rt_movie.drop(['runtime'], axis = 1)\n",
    "rt_movie = rt_movie.drop(['studio'], axis = 1)\n",
    "rt_movie.info()"
   ]
  },
  {
   "cell_type": "code",
   "execution_count": 83,
   "metadata": {
    "ExecuteTime": {
     "end_time": "2020-06-20T12:09:11.938426Z",
     "start_time": "2020-06-20T12:09:11.917482Z"
    }
   },
   "outputs": [],
   "source": [
    "# Will to accept null values in this dataframe as we will be mergine with movie_budgets\n",
    "rt_movie.to_csv('databases/rt_movie_clean.csv')"
   ]
  },
  {
   "cell_type": "markdown",
   "metadata": {},
   "source": [
    "## Franchise Databases"
   ]
  },
  {
   "cell_type": "code",
   "execution_count": 86,
   "metadata": {
    "ExecuteTime": {
     "end_time": "2020-06-20T12:09:11.958372Z",
     "start_time": "2020-06-20T12:09:11.953386Z"
    }
   },
   "outputs": [],
   "source": []
  },
  {
   "cell_type": "code",
   "execution_count": 87,
   "metadata": {
    "ExecuteTime": {
     "end_time": "2020-06-20T12:09:11.968348Z",
     "start_time": "2020-06-20T12:09:11.959370Z"
    }
   },
   "outputs": [
    {
     "data": {
      "text/html": [
       "<div>\n",
       "<style scoped>\n",
       "    .dataframe tbody tr th:only-of-type {\n",
       "        vertical-align: middle;\n",
       "    }\n",
       "\n",
       "    .dataframe tbody tr th {\n",
       "        vertical-align: top;\n",
       "    }\n",
       "\n",
       "    .dataframe thead th {\n",
       "        text-align: right;\n",
       "    }\n",
       "</style>\n",
       "<table border=\"1\" class=\"dataframe\">\n",
       "  <thead>\n",
       "    <tr style=\"text-align: right;\">\n",
       "      <th></th>\n",
       "      <th>Rank</th>\n",
       "      <th>Franchise</th>\n",
       "      <th>Total Gross</th>\n",
       "      <th>Movie Count</th>\n",
       "      <th>Average Gross</th>\n",
       "    </tr>\n",
       "  </thead>\n",
       "  <tbody>\n",
       "    <tr>\n",
       "      <th>0</th>\n",
       "      <td>1</td>\n",
       "      <td>Marvel Cinematic Universe</td>\n",
       "      <td>8,525</td>\n",
       "      <td>23</td>\n",
       "      <td>371</td>\n",
       "    </tr>\n",
       "    <tr>\n",
       "      <th>1</th>\n",
       "      <td>2</td>\n",
       "      <td>Star Wars</td>\n",
       "      <td>4,221</td>\n",
       "      <td>11</td>\n",
       "      <td>384</td>\n",
       "    </tr>\n",
       "    <tr>\n",
       "      <th>2</th>\n",
       "      <td>3</td>\n",
       "      <td>Disney Live Action Reimaginings</td>\n",
       "      <td>3,220</td>\n",
       "      <td>14</td>\n",
       "      <td>230</td>\n",
       "    </tr>\n",
       "    <tr>\n",
       "      <th>3</th>\n",
       "      <td>4</td>\n",
       "      <td>Wizarding World</td>\n",
       "      <td>2,785</td>\n",
       "      <td>10</td>\n",
       "      <td>253</td>\n",
       "    </tr>\n",
       "    <tr>\n",
       "      <th>4</th>\n",
       "      <td>5</td>\n",
       "      <td>Avengers</td>\n",
       "      <td>2,619</td>\n",
       "      <td>4</td>\n",
       "      <td>655</td>\n",
       "    </tr>\n",
       "    <tr>\n",
       "      <th>...</th>\n",
       "      <td>...</td>\n",
       "      <td>...</td>\n",
       "      <td>...</td>\n",
       "      <td>...</td>\n",
       "      <td>...</td>\n",
       "    </tr>\n",
       "    <tr>\n",
       "      <th>62</th>\n",
       "      <td>63</td>\n",
       "      <td>The Secret Life of Pets</td>\n",
       "      <td>525</td>\n",
       "      <td>2</td>\n",
       "      <td>263</td>\n",
       "    </tr>\n",
       "    <tr>\n",
       "      <th>63</th>\n",
       "      <td>64</td>\n",
       "      <td>Monsters, Inc.</td>\n",
       "      <td>524</td>\n",
       "      <td>2</td>\n",
       "      <td>262</td>\n",
       "    </tr>\n",
       "    <tr>\n",
       "      <th>64</th>\n",
       "      <td>65</td>\n",
       "      <td>Kung Fu Panda</td>\n",
       "      <td>524</td>\n",
       "      <td>3</td>\n",
       "      <td>175</td>\n",
       "    </tr>\n",
       "    <tr>\n",
       "      <th>65</th>\n",
       "      <td>66</td>\n",
       "      <td>Rush Hour</td>\n",
       "      <td>508</td>\n",
       "      <td>3</td>\n",
       "      <td>169</td>\n",
       "    </tr>\n",
       "    <tr>\n",
       "      <th>66</th>\n",
       "      <td>67</td>\n",
       "      <td>Die Hard</td>\n",
       "      <td>502</td>\n",
       "      <td>5</td>\n",
       "      <td>101</td>\n",
       "    </tr>\n",
       "  </tbody>\n",
       "</table>\n",
       "<p>67 rows × 5 columns</p>\n",
       "</div>"
      ],
      "text/plain": [
       "    Rank                        Franchise  Total Gross    Movie Count   \\\n",
       "0      1        Marvel Cinematic Universe         8,525             23   \n",
       "1      2                        Star Wars         4,221             11   \n",
       "2      3  Disney Live Action Reimaginings         3,220             14   \n",
       "3      4                  Wizarding World         2,785             10   \n",
       "4      5                         Avengers         2,619              4   \n",
       "..   ...                              ...           ...            ...   \n",
       "62    63          The Secret Life of Pets           525              2   \n",
       "63    64                   Monsters, Inc.           524              2   \n",
       "64    65                    Kung Fu Panda           524              3   \n",
       "65    66                        Rush Hour           508              3   \n",
       "66    67                         Die Hard           502              5   \n",
       "\n",
       "     Average Gross   \n",
       "0               371  \n",
       "1               384  \n",
       "2               230  \n",
       "3               253  \n",
       "4               655  \n",
       "..              ...  \n",
       "62              263  \n",
       "63              262  \n",
       "64              175  \n",
       "65              169  \n",
       "66              101  \n",
       "\n",
       "[67 rows x 5 columns]"
      ]
     },
     "execution_count": 87,
     "metadata": {},
     "output_type": "execute_result"
    }
   ],
   "source": [
    "franchises"
   ]
  },
  {
   "cell_type": "code",
   "execution_count": 88,
   "metadata": {
    "ExecuteTime": {
     "end_time": "2020-06-20T12:09:11.976325Z",
     "start_time": "2020-06-20T12:09:11.969343Z"
    }
   },
   "outputs": [
    {
     "name": "stdout",
     "output_type": "stream",
     "text": [
      "<class 'pandas.core.frame.DataFrame'>\n",
      "RangeIndex: 67 entries, 0 to 66\n",
      "Data columns (total 5 columns):\n",
      " #   Column           Non-Null Count  Dtype \n",
      "---  ------           --------------  ----- \n",
      " 0   Rank             67 non-null     int64 \n",
      " 1   Franchise        67 non-null     object\n",
      " 2    Total Gross     67 non-null     object\n",
      " 3    Movie Count     67 non-null     int64 \n",
      " 4    Average Gross   67 non-null     int64 \n",
      "dtypes: int64(3), object(2)\n",
      "memory usage: 2.7+ KB\n"
     ]
    }
   ],
   "source": [
    "franchises.info()"
   ]
  },
  {
   "cell_type": "code",
   "execution_count": 89,
   "metadata": {
    "ExecuteTime": {
     "end_time": "2020-06-20T12:09:11.981310Z",
     "start_time": "2020-06-20T12:09:11.977322Z"
    }
   },
   "outputs": [],
   "source": [
    "franchises = franchises.set_index('Rank')"
   ]
  },
  {
   "cell_type": "code",
   "execution_count": 90,
   "metadata": {
    "ExecuteTime": {
     "end_time": "2020-06-20T12:09:11.987295Z",
     "start_time": "2020-06-20T12:09:11.982308Z"
    }
   },
   "outputs": [],
   "source": [
    "#looks good, so exporting clean data to new file\n",
    "franchises.to_csv('databases/franchises_clean.csv')"
   ]
  },
  {
   "cell_type": "code",
   "execution_count": 91,
   "metadata": {
    "ExecuteTime": {
     "end_time": "2020-06-20T12:09:11.994276Z",
     "start_time": "2020-06-20T12:09:11.988293Z"
    }
   },
   "outputs": [],
   "source": [
    "extfranchises = pd.read_csv('databases/extfranchises_clean.csv', encoding='cp1252')"
   ]
  },
  {
   "cell_type": "code",
   "execution_count": 92,
   "metadata": {
    "ExecuteTime": {
     "end_time": "2020-06-20T12:09:12.008264Z",
     "start_time": "2020-06-20T12:09:11.995274Z"
    }
   },
   "outputs": [
    {
     "data": {
      "text/html": [
       "<div>\n",
       "<style scoped>\n",
       "    .dataframe tbody tr th:only-of-type {\n",
       "        vertical-align: middle;\n",
       "    }\n",
       "\n",
       "    .dataframe tbody tr th {\n",
       "        vertical-align: top;\n",
       "    }\n",
       "\n",
       "    .dataframe thead th {\n",
       "        text-align: right;\n",
       "    }\n",
       "</style>\n",
       "<table border=\"1\" class=\"dataframe\">\n",
       "  <thead>\n",
       "    <tr style=\"text-align: right;\">\n",
       "      <th></th>\n",
       "      <th>Unnamed: 0</th>\n",
       "      <th>Unnamed: 0.1</th>\n",
       "      <th>Unnamed: 0.1.1</th>\n",
       "      <th>Unnamed: 0.1.1.1</th>\n",
       "      <th>Unnamed: 0.1.1.1.1</th>\n",
       "      <th>Unnamed: 0.1.1.1.1.1</th>\n",
       "      <th>Unnamed: 0.1.1.1.1.1.1</th>\n",
       "      <th>Unnamed: 0.1.1.1.1.1.1.1</th>\n",
       "      <th>Franchise</th>\n",
       "      <th>#movies</th>\n",
       "      <th>domesticboxoffice</th>\n",
       "      <th>infl_adj_box_office</th>\n",
       "      <th>worldwideboxoffice</th>\n",
       "      <th>firstyear</th>\n",
       "      <th>last year</th>\n",
       "      <th>#years</th>\n",
       "    </tr>\n",
       "  </thead>\n",
       "  <tbody>\n",
       "    <tr>\n",
       "      <th>0</th>\n",
       "      <td>0</td>\n",
       "      <td>0</td>\n",
       "      <td>0</td>\n",
       "      <td>0</td>\n",
       "      <td>0</td>\n",
       "      <td>0</td>\n",
       "      <td>0</td>\n",
       "      <td>0</td>\n",
       "      <td>Marvel Cinematic Universe</td>\n",
       "      <td>31</td>\n",
       "      <td>8545426433</td>\n",
       "      <td>9102945801</td>\n",
       "      <td>22576311289</td>\n",
       "      <td>2008</td>\n",
       "      <td>2022</td>\n",
       "      <td>14</td>\n",
       "    </tr>\n",
       "    <tr>\n",
       "      <th>1</th>\n",
       "      <td>1</td>\n",
       "      <td>1</td>\n",
       "      <td>1</td>\n",
       "      <td>1</td>\n",
       "      <td>1</td>\n",
       "      <td>1</td>\n",
       "      <td>1</td>\n",
       "      <td>1</td>\n",
       "      <td>Star Wars</td>\n",
       "      <td>15</td>\n",
       "      <td>5079119579</td>\n",
       "      <td>8039797255</td>\n",
       "      <td>10323355075</td>\n",
       "      <td>1977</td>\n",
       "      <td>2026</td>\n",
       "      <td>49</td>\n",
       "    </tr>\n",
       "    <tr>\n",
       "      <th>2</th>\n",
       "      <td>2</td>\n",
       "      <td>2</td>\n",
       "      <td>2</td>\n",
       "      <td>2</td>\n",
       "      <td>2</td>\n",
       "      <td>2</td>\n",
       "      <td>2</td>\n",
       "      <td>2</td>\n",
       "      <td>Harry Potter</td>\n",
       "      <td>12</td>\n",
       "      <td>2786938291</td>\n",
       "      <td>3638704111</td>\n",
       "      <td>9195390708</td>\n",
       "      <td>2001</td>\n",
       "      <td>2021</td>\n",
       "      <td>20</td>\n",
       "    </tr>\n",
       "    <tr>\n",
       "      <th>3</th>\n",
       "      <td>3</td>\n",
       "      <td>3</td>\n",
       "      <td>3</td>\n",
       "      <td>3</td>\n",
       "      <td>3</td>\n",
       "      <td>3</td>\n",
       "      <td>3</td>\n",
       "      <td>3</td>\n",
       "      <td>Batman</td>\n",
       "      <td>22</td>\n",
       "      <td>2786778902</td>\n",
       "      <td>3949355696</td>\n",
       "      <td>6049670921</td>\n",
       "      <td>1989</td>\n",
       "      <td>2021</td>\n",
       "      <td>32</td>\n",
       "    </tr>\n",
       "    <tr>\n",
       "      <th>4</th>\n",
       "      <td>4</td>\n",
       "      <td>4</td>\n",
       "      <td>4</td>\n",
       "      <td>4</td>\n",
       "      <td>4</td>\n",
       "      <td>4</td>\n",
       "      <td>4</td>\n",
       "      <td>4</td>\n",
       "      <td>Spider-Man</td>\n",
       "      <td>11</td>\n",
       "      <td>2711115724</td>\n",
       "      <td>3292639145</td>\n",
       "      <td>7219770479</td>\n",
       "      <td>2002</td>\n",
       "      <td>2019</td>\n",
       "      <td>17</td>\n",
       "    </tr>\n",
       "    <tr>\n",
       "      <th>...</th>\n",
       "      <td>...</td>\n",
       "      <td>...</td>\n",
       "      <td>...</td>\n",
       "      <td>...</td>\n",
       "      <td>...</td>\n",
       "      <td>...</td>\n",
       "      <td>...</td>\n",
       "      <td>...</td>\n",
       "      <td>...</td>\n",
       "      <td>...</td>\n",
       "      <td>...</td>\n",
       "      <td>...</td>\n",
       "      <td>...</td>\n",
       "      <td>...</td>\n",
       "      <td>...</td>\n",
       "      <td>...</td>\n",
       "    </tr>\n",
       "    <tr>\n",
       "      <th>673</th>\n",
       "      <td>673</td>\n",
       "      <td>673</td>\n",
       "      <td>673</td>\n",
       "      <td>673</td>\n",
       "      <td>673</td>\n",
       "      <td>673</td>\n",
       "      <td>673</td>\n",
       "      <td>673</td>\n",
       "      <td>Django</td>\n",
       "      <td>2</td>\n",
       "      <td>19391</td>\n",
       "      <td>22137</td>\n",
       "      <td>19391</td>\n",
       "      <td>1966</td>\n",
       "      <td>2020</td>\n",
       "      <td>54</td>\n",
       "    </tr>\n",
       "    <tr>\n",
       "      <th>674</th>\n",
       "      <td>674</td>\n",
       "      <td>674</td>\n",
       "      <td>674</td>\n",
       "      <td>674</td>\n",
       "      <td>674</td>\n",
       "      <td>674</td>\n",
       "      <td>674</td>\n",
       "      <td>674</td>\n",
       "      <td>St. Trinian's</td>\n",
       "      <td>2</td>\n",
       "      <td>15000</td>\n",
       "      <td>18220</td>\n",
       "      <td>29830239</td>\n",
       "      <td>2009</td>\n",
       "      <td>2009</td>\n",
       "      <td></td>\n",
       "    </tr>\n",
       "    <tr>\n",
       "      <th>675</th>\n",
       "      <td>675</td>\n",
       "      <td>675</td>\n",
       "      <td>675</td>\n",
       "      <td>675</td>\n",
       "      <td>675</td>\n",
       "      <td>675</td>\n",
       "      <td>675</td>\n",
       "      <td>675</td>\n",
       "      <td>The Wedding Party</td>\n",
       "      <td>2</td>\n",
       "      <td>11140</td>\n",
       "      <td>11140</td>\n",
       "      <td>73115</td>\n",
       "      <td>2017</td>\n",
       "      <td>2017</td>\n",
       "      <td></td>\n",
       "    </tr>\n",
       "    <tr>\n",
       "      <th>676</th>\n",
       "      <td>676</td>\n",
       "      <td>676</td>\n",
       "      <td>676</td>\n",
       "      <td>676</td>\n",
       "      <td>676</td>\n",
       "      <td>676</td>\n",
       "      <td>676</td>\n",
       "      <td>676</td>\n",
       "      <td>Donald Strachey</td>\n",
       "      <td>2</td>\n",
       "      <td>4269</td>\n",
       "      <td>5402</td>\n",
       "      <td>4269</td>\n",
       "      <td>2008</td>\n",
       "      <td>2008</td>\n",
       "      <td></td>\n",
       "    </tr>\n",
       "    <tr>\n",
       "      <th>677</th>\n",
       "      <td>677</td>\n",
       "      <td>677</td>\n",
       "      <td>677</td>\n",
       "      <td>677</td>\n",
       "      <td>677</td>\n",
       "      <td>677</td>\n",
       "      <td>677</td>\n",
       "      <td>677</td>\n",
       "      <td>Contracted</td>\n",
       "      <td>2</td>\n",
       "      <td>3328</td>\n",
       "      <td>3726</td>\n",
       "      <td>287928</td>\n",
       "      <td>2013</td>\n",
       "      <td>2015</td>\n",
       "      <td>2</td>\n",
       "    </tr>\n",
       "  </tbody>\n",
       "</table>\n",
       "<p>678 rows × 16 columns</p>\n",
       "</div>"
      ],
      "text/plain": [
       "     Unnamed: 0  Unnamed: 0.1  Unnamed: 0.1.1  Unnamed: 0.1.1.1  \\\n",
       "0             0             0               0                 0   \n",
       "1             1             1               1                 1   \n",
       "2             2             2               2                 2   \n",
       "3             3             3               3                 3   \n",
       "4             4             4               4                 4   \n",
       "..          ...           ...             ...               ...   \n",
       "673         673           673             673               673   \n",
       "674         674           674             674               674   \n",
       "675         675           675             675               675   \n",
       "676         676           676             676               676   \n",
       "677         677           677             677               677   \n",
       "\n",
       "     Unnamed: 0.1.1.1.1  Unnamed: 0.1.1.1.1.1  Unnamed: 0.1.1.1.1.1.1  \\\n",
       "0                     0                     0                       0   \n",
       "1                     1                     1                       1   \n",
       "2                     2                     2                       2   \n",
       "3                     3                     3                       3   \n",
       "4                     4                     4                       4   \n",
       "..                  ...                   ...                     ...   \n",
       "673                 673                   673                     673   \n",
       "674                 674                   674                     674   \n",
       "675                 675                   675                     675   \n",
       "676                 676                   676                     676   \n",
       "677                 677                   677                     677   \n",
       "\n",
       "     Unnamed: 0.1.1.1.1.1.1.1                  Franchise  #movies  \\\n",
       "0                           0  Marvel Cinematic Universe       31   \n",
       "1                           1                  Star Wars       15   \n",
       "2                           2               Harry Potter       12   \n",
       "3                           3                     Batman       22   \n",
       "4                           4                 Spider-Man       11   \n",
       "..                        ...                        ...      ...   \n",
       "673                       673                     Django        2   \n",
       "674                       674              St. Trinian's        2   \n",
       "675                       675          The Wedding Party        2   \n",
       "676                       676            Donald Strachey        2   \n",
       "677                       677                 Contracted        2   \n",
       "\n",
       "     domesticboxoffice  infl_adj_box_office  worldwideboxoffice  firstyear  \\\n",
       "0           8545426433           9102945801         22576311289       2008   \n",
       "1           5079119579           8039797255         10323355075       1977   \n",
       "2           2786938291           3638704111          9195390708       2001   \n",
       "3           2786778902           3949355696          6049670921       1989   \n",
       "4           2711115724           3292639145          7219770479       2002   \n",
       "..                 ...                  ...                 ...        ...   \n",
       "673              19391                22137               19391       1966   \n",
       "674              15000                18220            29830239       2009   \n",
       "675              11140                11140               73115       2017   \n",
       "676               4269                 5402                4269       2008   \n",
       "677               3328                 3726              287928       2013   \n",
       "\n",
       "     last year #years  \n",
       "0         2022     14  \n",
       "1         2026     49  \n",
       "2         2021     20  \n",
       "3         2021     32  \n",
       "4         2019     17  \n",
       "..         ...    ...  \n",
       "673       2020     54  \n",
       "674       2009         \n",
       "675       2017         \n",
       "676       2008         \n",
       "677       2015      2  \n",
       "\n",
       "[678 rows x 16 columns]"
      ]
     },
     "execution_count": 92,
     "metadata": {},
     "output_type": "execute_result"
    }
   ],
   "source": [
    "extfranchises"
   ]
  },
  {
   "cell_type": "code",
   "execution_count": 93,
   "metadata": {
    "ExecuteTime": {
     "end_time": "2020-06-20T12:09:12.016233Z",
     "start_time": "2020-06-20T12:09:12.009236Z"
    }
   },
   "outputs": [
    {
     "name": "stdout",
     "output_type": "stream",
     "text": [
      "<class 'pandas.core.frame.DataFrame'>\n",
      "RangeIndex: 678 entries, 0 to 677\n",
      "Data columns (total 16 columns):\n",
      " #   Column                    Non-Null Count  Dtype \n",
      "---  ------                    --------------  ----- \n",
      " 0   Unnamed: 0                678 non-null    int64 \n",
      " 1   Unnamed: 0.1              678 non-null    int64 \n",
      " 2   Unnamed: 0.1.1            678 non-null    int64 \n",
      " 3   Unnamed: 0.1.1.1          678 non-null    int64 \n",
      " 4   Unnamed: 0.1.1.1.1        678 non-null    int64 \n",
      " 5   Unnamed: 0.1.1.1.1.1      678 non-null    int64 \n",
      " 6   Unnamed: 0.1.1.1.1.1.1    678 non-null    int64 \n",
      " 7   Unnamed: 0.1.1.1.1.1.1.1  678 non-null    int64 \n",
      " 8   Franchise                 678 non-null    object\n",
      " 9   #movies                   678 non-null    int64 \n",
      " 10  domesticboxoffice         678 non-null    int64 \n",
      " 11  infl_adj_box_office       678 non-null    int64 \n",
      " 12  worldwideboxoffice        678 non-null    int64 \n",
      " 13  firstyear                 678 non-null    int64 \n",
      " 14  last year                 678 non-null    int64 \n",
      " 15  #years                    678 non-null    object\n",
      "dtypes: int64(14), object(2)\n",
      "memory usage: 84.9+ KB\n"
     ]
    }
   ],
   "source": [
    "extfranchises.info()"
   ]
  },
  {
   "cell_type": "code",
   "execution_count": 94,
   "metadata": {
    "ExecuteTime": {
     "end_time": "2020-06-20T12:09:12.024220Z",
     "start_time": "2020-06-20T12:09:12.017214Z"
    }
   },
   "outputs": [],
   "source": [
    "#looks good, so exporting clean data to new file\n",
    "extfranchises.to_csv('databases/extfranchises_clean.csv')"
   ]
  },
  {
   "cell_type": "markdown",
   "metadata": {},
   "source": []
  }
 ],
 "metadata": {
  "kernelspec": {
   "display_name": "Python 3",
   "language": "python",
   "name": "python3"
  },
  "language_info": {
   "codemirror_mode": {
    "name": "ipython",
    "version": 3
   },
   "file_extension": ".py",
   "mimetype": "text/x-python",
   "name": "python",
   "nbconvert_exporter": "python",
   "pygments_lexer": "ipython3",
   "version": "3.7.6"
  },
  "toc": {
   "base_numbering": 1,
   "nav_menu": {},
   "number_sections": true,
   "sideBar": true,
   "skip_h1_title": false,
   "title_cell": "Table of Contents",
   "title_sidebar": "Contents",
   "toc_cell": false,
   "toc_position": {
    "height": "calc(100% - 180px)",
    "left": "10px",
    "top": "150px",
    "width": "246.8px"
   },
   "toc_section_display": true,
   "toc_window_display": true
  },
  "varInspector": {
   "cols": {
    "lenName": 16,
    "lenType": 16,
    "lenVar": 40
   },
   "kernels_config": {
    "python": {
     "delete_cmd_postfix": "",
     "delete_cmd_prefix": "del ",
     "library": "var_list.py",
     "varRefreshCmd": "print(var_dic_list())"
    },
    "r": {
     "delete_cmd_postfix": ") ",
     "delete_cmd_prefix": "rm(",
     "library": "var_list.r",
     "varRefreshCmd": "cat(var_dic_list()) "
    }
   },
   "types_to_exclude": [
    "module",
    "function",
    "builtin_function_or_method",
    "instance",
    "_Feature"
   ],
   "window_display": false
  }
 },
 "nbformat": 4,
 "nbformat_minor": 2
}
