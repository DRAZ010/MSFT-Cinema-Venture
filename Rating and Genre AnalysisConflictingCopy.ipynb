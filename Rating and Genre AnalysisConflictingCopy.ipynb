{
 "cells": [
  {
   "cell_type": "markdown",
   "metadata": {
    "ExecuteTime": {
     "end_time": "2020-06-19T23:23:11.430666Z",
     "start_time": "2020-06-19T23:23:11.426514Z"
    }
   },
   "source": [
    "# Importing necessary libraries "
   ]
  },
  {
   "cell_type": "code",
   "execution_count": 1,
   "metadata": {
    "ExecuteTime": {
     "end_time": "2020-06-20T16:08:19.683399Z",
     "start_time": "2020-06-20T16:08:16.764189Z"
    }
   },
   "outputs": [],
   "source": [
    "import os\n",
    "import pandas as pd\n",
    "import numpy as np\n",
    "import matplotlib.pyplot as plt\n",
    "import seaborn as sns\n",
    "from glob import glob\n",
    "import math \n",
    "import sys\n",
    "import statistics as stats"
   ]
  },
  {
   "cell_type": "markdown",
   "metadata": {},
   "source": [
    "# Import csv files"
   ]
  },
  {
   "cell_type": "code",
   "execution_count": 2,
   "metadata": {
    "ExecuteTime": {
     "end_time": "2020-06-20T16:08:19.790214Z",
     "start_time": "2020-06-20T16:08:19.712430Z"
    }
   },
   "outputs": [],
   "source": [
    "movie_budgets = pd.read_csv('databases/movie_budgets_clean.csv')\n",
    "rt_movie = pd.read_csv('databases/rt_movie_clean.csv')"
   ]
  },
  {
   "cell_type": "code",
   "execution_count": 3,
   "metadata": {
    "ExecuteTime": {
     "end_time": "2020-06-20T16:08:19.905573Z",
     "start_time": "2020-06-20T16:08:19.880175Z"
    }
   },
   "outputs": [
    {
     "name": "stdout",
     "output_type": "stream",
     "text": [
      "<class 'pandas.core.frame.DataFrame'>\n",
      "RangeIndex: 1560 entries, 0 to 1559\n",
      "Data columns (total 8 columns):\n",
      "Unnamed: 0      1560 non-null int64\n",
      "id              1560 non-null int64\n",
      "synopsis        1498 non-null object\n",
      "rating          1557 non-null object\n",
      "genre           1552 non-null object\n",
      "director        1361 non-null object\n",
      "writer          1111 non-null object\n",
      "theater_date    1201 non-null object\n",
      "dtypes: int64(2), object(6)\n",
      "memory usage: 97.6+ KB\n"
     ]
    }
   ],
   "source": [
    "rt_movie.info()"
   ]
  },
  {
   "cell_type": "markdown",
   "metadata": {},
   "source": [
    "## Additional data cleaning"
   ]
  },
  {
   "cell_type": "code",
   "execution_count": 4,
   "metadata": {
    "ExecuteTime": {
     "end_time": "2020-06-20T16:08:20.007443Z",
     "start_time": "2020-06-20T16:08:19.985615Z"
    }
   },
   "outputs": [],
   "source": [
    "rt_movie = rt_movie.drop(['writer'], axis = 1)\n",
    "rt_movie = rt_movie.drop(['director'], axis = 1)\n",
    "rt_movie = rt_movie.drop(['synopsis'], axis = 1)"
   ]
  },
  {
   "cell_type": "code",
   "execution_count": 5,
   "metadata": {
    "ExecuteTime": {
     "end_time": "2020-06-20T16:08:20.126047Z",
     "start_time": "2020-06-20T16:08:20.096641Z"
    }
   },
   "outputs": [
    {
     "name": "stdout",
     "output_type": "stream",
     "text": [
      "<class 'pandas.core.frame.DataFrame'>\n",
      "RangeIndex: 1560 entries, 0 to 1559\n",
      "Data columns (total 5 columns):\n",
      "Unnamed: 0      1560 non-null int64\n",
      "id              1560 non-null int64\n",
      "rating          1557 non-null object\n",
      "genre           1552 non-null object\n",
      "theater_date    1201 non-null object\n",
      "dtypes: int64(2), object(3)\n",
      "memory usage: 61.1+ KB\n"
     ]
    }
   ],
   "source": [
    "rt_movie.info()"
   ]
  },
  {
   "cell_type": "code",
   "execution_count": 6,
   "metadata": {
    "ExecuteTime": {
     "end_time": "2020-06-20T16:08:20.224071Z",
     "start_time": "2020-06-20T16:08:20.207079Z"
    }
   },
   "outputs": [],
   "source": [
    "rt_movie = rt_movie.dropna()"
   ]
  },
  {
   "cell_type": "code",
   "execution_count": 7,
   "metadata": {
    "ExecuteTime": {
     "end_time": "2020-06-20T16:08:20.308257Z",
     "start_time": "2020-06-20T16:08:20.291396Z"
    }
   },
   "outputs": [
    {
     "name": "stdout",
     "output_type": "stream",
     "text": [
      "<class 'pandas.core.frame.DataFrame'>\n",
      "Int64Index: 1201 entries, 0 to 1559\n",
      "Data columns (total 5 columns):\n",
      "Unnamed: 0      1201 non-null int64\n",
      "id              1201 non-null int64\n",
      "rating          1201 non-null object\n",
      "genre           1201 non-null object\n",
      "theater_date    1201 non-null object\n",
      "dtypes: int64(2), object(3)\n",
      "memory usage: 56.3+ KB\n"
     ]
    }
   ],
   "source": [
    "rt_movie.info()"
   ]
  },
  {
   "cell_type": "markdown",
   "metadata": {},
   "source": [
    "### Display data frames"
   ]
  },
  {
   "cell_type": "code",
   "execution_count": 8,
   "metadata": {
    "ExecuteTime": {
     "end_time": "2020-06-20T16:08:20.440034Z",
     "start_time": "2020-06-20T16:08:20.386179Z"
    }
   },
   "outputs": [
    {
     "data": {
      "text/html": [
       "<div>\n",
       "<style scoped>\n",
       "    .dataframe tbody tr th:only-of-type {\n",
       "        vertical-align: middle;\n",
       "    }\n",
       "\n",
       "    .dataframe tbody tr th {\n",
       "        vertical-align: top;\n",
       "    }\n",
       "\n",
       "    .dataframe thead th {\n",
       "        text-align: right;\n",
       "    }\n",
       "</style>\n",
       "<table border=\"1\" class=\"dataframe\">\n",
       "  <thead>\n",
       "    <tr style=\"text-align: right;\">\n",
       "      <th></th>\n",
       "      <th>id</th>\n",
       "      <th>release_date</th>\n",
       "      <th>movie</th>\n",
       "      <th>production_budget</th>\n",
       "      <th>domestic_gross</th>\n",
       "      <th>worldwide_gross</th>\n",
       "    </tr>\n",
       "  </thead>\n",
       "  <tbody>\n",
       "    <tr>\n",
       "      <td>0</td>\n",
       "      <td>1</td>\n",
       "      <td>Dec 18, 2009</td>\n",
       "      <td>Avatar</td>\n",
       "      <td>425000000</td>\n",
       "      <td>760507625</td>\n",
       "      <td>2776345279</td>\n",
       "    </tr>\n",
       "    <tr>\n",
       "      <td>1</td>\n",
       "      <td>2</td>\n",
       "      <td>May 20, 2011</td>\n",
       "      <td>Pirates of the Caribbean: On Stranger Tides</td>\n",
       "      <td>410600000</td>\n",
       "      <td>241063875</td>\n",
       "      <td>1045663875</td>\n",
       "    </tr>\n",
       "    <tr>\n",
       "      <td>2</td>\n",
       "      <td>3</td>\n",
       "      <td>Jun 7, 2019</td>\n",
       "      <td>Dark Phoenix</td>\n",
       "      <td>350000000</td>\n",
       "      <td>42762350</td>\n",
       "      <td>149762350</td>\n",
       "    </tr>\n",
       "    <tr>\n",
       "      <td>3</td>\n",
       "      <td>4</td>\n",
       "      <td>May 1, 2015</td>\n",
       "      <td>Avengers: Age of Ultron</td>\n",
       "      <td>330600000</td>\n",
       "      <td>459005868</td>\n",
       "      <td>1403013963</td>\n",
       "    </tr>\n",
       "    <tr>\n",
       "      <td>4</td>\n",
       "      <td>5</td>\n",
       "      <td>Dec 15, 2017</td>\n",
       "      <td>Star Wars Ep. VIII: The Last Jedi</td>\n",
       "      <td>317000000</td>\n",
       "      <td>620181382</td>\n",
       "      <td>1316721747</td>\n",
       "    </tr>\n",
       "  </tbody>\n",
       "</table>\n",
       "</div>"
      ],
      "text/plain": [
       "   id  release_date                                        movie  \\\n",
       "0   1  Dec 18, 2009                                       Avatar   \n",
       "1   2  May 20, 2011  Pirates of the Caribbean: On Stranger Tides   \n",
       "2   3   Jun 7, 2019                                 Dark Phoenix   \n",
       "3   4   May 1, 2015                      Avengers: Age of Ultron   \n",
       "4   5  Dec 15, 2017            Star Wars Ep. VIII: The Last Jedi   \n",
       "\n",
       "   production_budget  domestic_gross  worldwide_gross  \n",
       "0          425000000       760507625       2776345279  \n",
       "1          410600000       241063875       1045663875  \n",
       "2          350000000        42762350        149762350  \n",
       "3          330600000       459005868       1403013963  \n",
       "4          317000000       620181382       1316721747  "
      ]
     },
     "metadata": {},
     "output_type": "display_data"
    },
    {
     "data": {
      "text/html": [
       "<div>\n",
       "<style scoped>\n",
       "    .dataframe tbody tr th:only-of-type {\n",
       "        vertical-align: middle;\n",
       "    }\n",
       "\n",
       "    .dataframe tbody tr th {\n",
       "        vertical-align: top;\n",
       "    }\n",
       "\n",
       "    .dataframe thead th {\n",
       "        text-align: right;\n",
       "    }\n",
       "</style>\n",
       "<table border=\"1\" class=\"dataframe\">\n",
       "  <thead>\n",
       "    <tr style=\"text-align: right;\">\n",
       "      <th></th>\n",
       "      <th>Unnamed: 0</th>\n",
       "      <th>id</th>\n",
       "      <th>rating</th>\n",
       "      <th>genre</th>\n",
       "      <th>theater_date</th>\n",
       "    </tr>\n",
       "  </thead>\n",
       "  <tbody>\n",
       "    <tr>\n",
       "      <td>0</td>\n",
       "      <td>0</td>\n",
       "      <td>1</td>\n",
       "      <td>R</td>\n",
       "      <td>Action and Adventure|Classics|Drama</td>\n",
       "      <td>Oct 9, 1971</td>\n",
       "    </tr>\n",
       "    <tr>\n",
       "      <td>1</td>\n",
       "      <td>1</td>\n",
       "      <td>3</td>\n",
       "      <td>R</td>\n",
       "      <td>Drama|Science Fiction and Fantasy</td>\n",
       "      <td>Aug 17, 2012</td>\n",
       "    </tr>\n",
       "    <tr>\n",
       "      <td>2</td>\n",
       "      <td>2</td>\n",
       "      <td>5</td>\n",
       "      <td>R</td>\n",
       "      <td>Drama|Musical and Performing Arts</td>\n",
       "      <td>Sep 13, 1996</td>\n",
       "    </tr>\n",
       "    <tr>\n",
       "      <td>3</td>\n",
       "      <td>3</td>\n",
       "      <td>6</td>\n",
       "      <td>R</td>\n",
       "      <td>Drama|Mystery and Suspense</td>\n",
       "      <td>Dec 9, 1994</td>\n",
       "    </tr>\n",
       "    <tr>\n",
       "      <td>5</td>\n",
       "      <td>5</td>\n",
       "      <td>8</td>\n",
       "      <td>PG</td>\n",
       "      <td>Drama|Kids and Family</td>\n",
       "      <td>Mar 3, 2000</td>\n",
       "    </tr>\n",
       "  </tbody>\n",
       "</table>\n",
       "</div>"
      ],
      "text/plain": [
       "   Unnamed: 0  id rating                                genre  theater_date\n",
       "0           0   1      R  Action and Adventure|Classics|Drama   Oct 9, 1971\n",
       "1           1   3      R    Drama|Science Fiction and Fantasy  Aug 17, 2012\n",
       "2           2   5      R    Drama|Musical and Performing Arts  Sep 13, 1996\n",
       "3           3   6      R           Drama|Mystery and Suspense   Dec 9, 1994\n",
       "5           5   8     PG                Drama|Kids and Family   Mar 3, 2000"
      ]
     },
     "execution_count": 8,
     "metadata": {},
     "output_type": "execute_result"
    }
   ],
   "source": [
    "display(movie_budgets.head())\n",
    "rt_movie.head()"
   ]
  },
  {
   "cell_type": "markdown",
   "metadata": {},
   "source": [
    "# Data Analysis"
   ]
  },
  {
   "cell_type": "code",
   "execution_count": 9,
   "metadata": {
    "ExecuteTime": {
     "end_time": "2020-06-20T16:08:20.553753Z",
     "start_time": "2020-06-20T16:08:20.537075Z"
    }
   },
   "outputs": [],
   "source": [
    "rt_date_count = rt_movie.groupby('theater_date').count()"
   ]
  },
  {
   "cell_type": "code",
   "execution_count": 10,
   "metadata": {
    "ExecuteTime": {
     "end_time": "2020-06-20T16:08:20.693028Z",
     "start_time": "2020-06-20T16:08:20.659878Z"
    },
    "scrolled": true
   },
   "outputs": [
    {
     "data": {
      "text/html": [
       "<div>\n",
       "<style scoped>\n",
       "    .dataframe tbody tr th:only-of-type {\n",
       "        vertical-align: middle;\n",
       "    }\n",
       "\n",
       "    .dataframe tbody tr th {\n",
       "        vertical-align: top;\n",
       "    }\n",
       "\n",
       "    .dataframe thead th {\n",
       "        text-align: right;\n",
       "    }\n",
       "</style>\n",
       "<table border=\"1\" class=\"dataframe\">\n",
       "  <thead>\n",
       "    <tr style=\"text-align: right;\">\n",
       "      <th></th>\n",
       "      <th>Unnamed: 0</th>\n",
       "      <th>id</th>\n",
       "      <th>rating</th>\n",
       "      <th>genre</th>\n",
       "    </tr>\n",
       "    <tr>\n",
       "      <th>theater_date</th>\n",
       "      <th></th>\n",
       "      <th></th>\n",
       "      <th></th>\n",
       "      <th></th>\n",
       "    </tr>\n",
       "  </thead>\n",
       "  <tbody>\n",
       "    <tr>\n",
       "      <td>Apr 1, 1952</td>\n",
       "      <td>1</td>\n",
       "      <td>1</td>\n",
       "      <td>1</td>\n",
       "      <td>1</td>\n",
       "    </tr>\n",
       "    <tr>\n",
       "      <td>Apr 1, 1975</td>\n",
       "      <td>1</td>\n",
       "      <td>1</td>\n",
       "      <td>1</td>\n",
       "      <td>1</td>\n",
       "    </tr>\n",
       "    <tr>\n",
       "      <td>Apr 1, 1976</td>\n",
       "      <td>1</td>\n",
       "      <td>1</td>\n",
       "      <td>1</td>\n",
       "      <td>1</td>\n",
       "    </tr>\n",
       "    <tr>\n",
       "      <td>Apr 1, 1981</td>\n",
       "      <td>1</td>\n",
       "      <td>1</td>\n",
       "      <td>1</td>\n",
       "      <td>1</td>\n",
       "    </tr>\n",
       "    <tr>\n",
       "      <td>Apr 1, 1982</td>\n",
       "      <td>1</td>\n",
       "      <td>1</td>\n",
       "      <td>1</td>\n",
       "      <td>1</td>\n",
       "    </tr>\n",
       "    <tr>\n",
       "      <td>...</td>\n",
       "      <td>...</td>\n",
       "      <td>...</td>\n",
       "      <td>...</td>\n",
       "      <td>...</td>\n",
       "    </tr>\n",
       "    <tr>\n",
       "      <td>Sep 8, 1996</td>\n",
       "      <td>1</td>\n",
       "      <td>1</td>\n",
       "      <td>1</td>\n",
       "      <td>1</td>\n",
       "    </tr>\n",
       "    <tr>\n",
       "      <td>Sep 8, 2000</td>\n",
       "      <td>1</td>\n",
       "      <td>1</td>\n",
       "      <td>1</td>\n",
       "      <td>1</td>\n",
       "    </tr>\n",
       "    <tr>\n",
       "      <td>Sep 9, 1986</td>\n",
       "      <td>1</td>\n",
       "      <td>1</td>\n",
       "      <td>1</td>\n",
       "      <td>1</td>\n",
       "    </tr>\n",
       "    <tr>\n",
       "      <td>Sep 9, 1988</td>\n",
       "      <td>1</td>\n",
       "      <td>1</td>\n",
       "      <td>1</td>\n",
       "      <td>1</td>\n",
       "    </tr>\n",
       "    <tr>\n",
       "      <td>Sep 9, 1992</td>\n",
       "      <td>1</td>\n",
       "      <td>1</td>\n",
       "      <td>1</td>\n",
       "      <td>1</td>\n",
       "    </tr>\n",
       "  </tbody>\n",
       "</table>\n",
       "<p>897 rows × 4 columns</p>\n",
       "</div>"
      ],
      "text/plain": [
       "              Unnamed: 0  id  rating  genre\n",
       "theater_date                               \n",
       "Apr 1, 1952            1   1       1      1\n",
       "Apr 1, 1975            1   1       1      1\n",
       "Apr 1, 1976            1   1       1      1\n",
       "Apr 1, 1981            1   1       1      1\n",
       "Apr 1, 1982            1   1       1      1\n",
       "...                  ...  ..     ...    ...\n",
       "Sep 8, 1996            1   1       1      1\n",
       "Sep 8, 2000            1   1       1      1\n",
       "Sep 9, 1986            1   1       1      1\n",
       "Sep 9, 1988            1   1       1      1\n",
       "Sep 9, 1992            1   1       1      1\n",
       "\n",
       "[897 rows x 4 columns]"
      ]
     },
     "execution_count": 10,
     "metadata": {},
     "output_type": "execute_result"
    }
   ],
   "source": [
    "rt_date_count.loc[rt_date_count['rating'] == 1]"
   ]
  },
  {
   "cell_type": "code",
   "execution_count": 11,
   "metadata": {
    "ExecuteTime": {
     "end_time": "2020-06-20T16:08:20.848490Z",
     "start_time": "2020-06-20T16:08:20.819973Z"
    }
   },
   "outputs": [],
   "source": [
    "movie_date_count = movie_budgets.groupby('release_date').count()"
   ]
  },
  {
   "cell_type": "code",
   "execution_count": 12,
   "metadata": {
    "ExecuteTime": {
     "end_time": "2020-06-20T16:08:20.985937Z",
     "start_time": "2020-06-20T16:08:20.974040Z"
    }
   },
   "outputs": [],
   "source": [
    "movie_date_count = movie_date_count.loc[movie_date_count['movie'] == 1]"
   ]
  },
  {
   "cell_type": "code",
   "execution_count": 13,
   "metadata": {
    "ExecuteTime": {
     "end_time": "2020-06-20T16:08:21.122746Z",
     "start_time": "2020-06-20T16:08:21.110490Z"
    }
   },
   "outputs": [],
   "source": [
    "movie_date_count = movie_date_count.reset_index()"
   ]
  },
  {
   "cell_type": "code",
   "execution_count": 14,
   "metadata": {
    "ExecuteTime": {
     "end_time": "2020-06-20T16:08:22.753072Z",
     "start_time": "2020-06-20T16:08:22.720701Z"
    }
   },
   "outputs": [
    {
     "data": {
      "text/html": [
       "<div>\n",
       "<style scoped>\n",
       "    .dataframe tbody tr th:only-of-type {\n",
       "        vertical-align: middle;\n",
       "    }\n",
       "\n",
       "    .dataframe tbody tr th {\n",
       "        vertical-align: top;\n",
       "    }\n",
       "\n",
       "    .dataframe thead th {\n",
       "        text-align: right;\n",
       "    }\n",
       "</style>\n",
       "<table border=\"1\" class=\"dataframe\">\n",
       "  <thead>\n",
       "    <tr style=\"text-align: right;\">\n",
       "      <th></th>\n",
       "      <th>release_date</th>\n",
       "      <th>id</th>\n",
       "      <th>movie</th>\n",
       "      <th>production_budget</th>\n",
       "      <th>domestic_gross</th>\n",
       "      <th>worldwide_gross</th>\n",
       "    </tr>\n",
       "  </thead>\n",
       "  <tbody>\n",
       "    <tr>\n",
       "      <td>0</td>\n",
       "      <td>Apr 1, 1988</td>\n",
       "      <td>1</td>\n",
       "      <td>1</td>\n",
       "      <td>1</td>\n",
       "      <td>1</td>\n",
       "      <td>1</td>\n",
       "    </tr>\n",
       "    <tr>\n",
       "      <td>1</td>\n",
       "      <td>Apr 1, 1996</td>\n",
       "      <td>1</td>\n",
       "      <td>1</td>\n",
       "      <td>1</td>\n",
       "      <td>1</td>\n",
       "      <td>1</td>\n",
       "    </tr>\n",
       "    <tr>\n",
       "      <td>2</td>\n",
       "      <td>Apr 1, 2005</td>\n",
       "      <td>1</td>\n",
       "      <td>1</td>\n",
       "      <td>1</td>\n",
       "      <td>1</td>\n",
       "      <td>1</td>\n",
       "    </tr>\n",
       "    <tr>\n",
       "      <td>3</td>\n",
       "      <td>Apr 1, 2010</td>\n",
       "      <td>1</td>\n",
       "      <td>1</td>\n",
       "      <td>1</td>\n",
       "      <td>1</td>\n",
       "      <td>1</td>\n",
       "    </tr>\n",
       "    <tr>\n",
       "      <td>4</td>\n",
       "      <td>Apr 1, 2015</td>\n",
       "      <td>1</td>\n",
       "      <td>1</td>\n",
       "      <td>1</td>\n",
       "      <td>1</td>\n",
       "      <td>1</td>\n",
       "    </tr>\n",
       "    <tr>\n",
       "      <td>...</td>\n",
       "      <td>...</td>\n",
       "      <td>...</td>\n",
       "      <td>...</td>\n",
       "      <td>...</td>\n",
       "      <td>...</td>\n",
       "      <td>...</td>\n",
       "    </tr>\n",
       "    <tr>\n",
       "      <td>991</td>\n",
       "      <td>Sep 6, 1935</td>\n",
       "      <td>1</td>\n",
       "      <td>1</td>\n",
       "      <td>1</td>\n",
       "      <td>1</td>\n",
       "      <td>1</td>\n",
       "    </tr>\n",
       "    <tr>\n",
       "      <td>992</td>\n",
       "      <td>Sep 6, 1996</td>\n",
       "      <td>1</td>\n",
       "      <td>1</td>\n",
       "      <td>1</td>\n",
       "      <td>1</td>\n",
       "      <td>1</td>\n",
       "    </tr>\n",
       "    <tr>\n",
       "      <td>993</td>\n",
       "      <td>Sep 7, 2018</td>\n",
       "      <td>1</td>\n",
       "      <td>1</td>\n",
       "      <td>1</td>\n",
       "      <td>1</td>\n",
       "      <td>1</td>\n",
       "    </tr>\n",
       "    <tr>\n",
       "      <td>994</td>\n",
       "      <td>Sep 8, 1989</td>\n",
       "      <td>1</td>\n",
       "      <td>1</td>\n",
       "      <td>1</td>\n",
       "      <td>1</td>\n",
       "      <td>1</td>\n",
       "    </tr>\n",
       "    <tr>\n",
       "      <td>995</td>\n",
       "      <td>Sep 9, 2009</td>\n",
       "      <td>1</td>\n",
       "      <td>1</td>\n",
       "      <td>1</td>\n",
       "      <td>1</td>\n",
       "      <td>1</td>\n",
       "    </tr>\n",
       "  </tbody>\n",
       "</table>\n",
       "<p>996 rows × 6 columns</p>\n",
       "</div>"
      ],
      "text/plain": [
       "    release_date  id  movie  production_budget  domestic_gross  \\\n",
       "0    Apr 1, 1988   1      1                  1               1   \n",
       "1    Apr 1, 1996   1      1                  1               1   \n",
       "2    Apr 1, 2005   1      1                  1               1   \n",
       "3    Apr 1, 2010   1      1                  1               1   \n",
       "4    Apr 1, 2015   1      1                  1               1   \n",
       "..           ...  ..    ...                ...             ...   \n",
       "991  Sep 6, 1935   1      1                  1               1   \n",
       "992  Sep 6, 1996   1      1                  1               1   \n",
       "993  Sep 7, 2018   1      1                  1               1   \n",
       "994  Sep 8, 1989   1      1                  1               1   \n",
       "995  Sep 9, 2009   1      1                  1               1   \n",
       "\n",
       "     worldwide_gross  \n",
       "0                  1  \n",
       "1                  1  \n",
       "2                  1  \n",
       "3                  1  \n",
       "4                  1  \n",
       "..               ...  \n",
       "991                1  \n",
       "992                1  \n",
       "993                1  \n",
       "994                1  \n",
       "995                1  \n",
       "\n",
       "[996 rows x 6 columns]"
      ]
     },
     "execution_count": 14,
     "metadata": {},
     "output_type": "execute_result"
    }
   ],
   "source": [
    "movie_date_count"
   ]
  },
  {
   "cell_type": "code",
   "execution_count": 15,
   "metadata": {
    "ExecuteTime": {
     "end_time": "2020-06-20T16:08:22.939025Z",
     "start_time": "2020-06-20T16:08:22.930897Z"
    }
   },
   "outputs": [],
   "source": [
    "#movie_budgets[movie_budgets['release_date'] in list(movie_date_count['release_date'])]"
   ]
  },
  {
   "cell_type": "code",
   "execution_count": 16,
   "metadata": {
    "ExecuteTime": {
     "end_time": "2020-06-20T16:08:23.100916Z",
     "start_time": "2020-06-20T16:08:23.091175Z"
    }
   },
   "outputs": [],
   "source": [
    "#movie_budgets = movie_budgets.loc[movie_date_count['release_date'].isin(list(movie_budgets['release_date']))]"
   ]
  },
  {
   "cell_type": "markdown",
   "metadata": {},
   "source": [
    "## Merged data frame"
   ]
  },
  {
   "cell_type": "code",
   "execution_count": 17,
   "metadata": {
    "ExecuteTime": {
     "end_time": "2020-06-20T16:08:23.616672Z",
     "start_time": "2020-06-20T16:08:23.592256Z"
    }
   },
   "outputs": [],
   "source": [
    "merged_df= rt_movie.merge(movie_budgets, left_on='theater_date', right_on='release_date', how='inner')"
   ]
  },
  {
   "cell_type": "code",
   "execution_count": 18,
   "metadata": {
    "ExecuteTime": {
     "end_time": "2020-06-20T16:08:23.890961Z",
     "start_time": "2020-06-20T16:08:23.869302Z"
    }
   },
   "outputs": [],
   "source": [
    "#creates only uniques dates\n",
    "duplicated_dates= merged_df.drop_duplicates(subset=['theater_date'], keep= 'first', inplace=True)"
   ]
  },
  {
   "cell_type": "code",
   "execution_count": 19,
   "metadata": {
    "ExecuteTime": {
     "end_time": "2020-06-20T16:08:28.182115Z",
     "start_time": "2020-06-20T16:08:28.164844Z"
    }
   },
   "outputs": [],
   "source": [
    "merged_df['roi'] = (merged_df['worldwide_gross'] / merged_df['production_budget'] ) -1"
   ]
  },
  {
   "cell_type": "markdown",
   "metadata": {
    "ExecuteTime": {
     "end_time": "2020-06-20T03:15:50.777552Z",
     "start_time": "2020-06-20T03:15:50.773572Z"
    }
   },
   "source": [
    "## Formatting df columns into unique dictionaries"
   ]
  },
  {
   "cell_type": "markdown",
   "metadata": {},
   "source": [
    "### Creating list of selected column"
   ]
  },
  {
   "cell_type": "code",
   "execution_count": 20,
   "metadata": {
    "ExecuteTime": {
     "end_time": "2020-06-20T16:08:29.186731Z",
     "start_time": "2020-06-20T16:08:29.175216Z"
    }
   },
   "outputs": [],
   "source": [
    "full_genre = list(merged_df['genre'].map(lambda x: x.split('|')))"
   ]
  },
  {
   "cell_type": "code",
   "execution_count": 21,
   "metadata": {
    "ExecuteTime": {
     "end_time": "2020-06-20T16:08:29.430386Z",
     "start_time": "2020-06-20T16:08:29.418826Z"
    }
   },
   "outputs": [],
   "source": [
    "genre = []\n",
    "for i in full_genre:\n",
    "    genre.append(i[0])"
   ]
  },
  {
   "cell_type": "code",
   "execution_count": 22,
   "metadata": {
    "ExecuteTime": {
     "end_time": "2020-06-20T16:08:29.646382Z",
     "start_time": "2020-06-20T16:08:29.629376Z"
    },
    "scrolled": true
   },
   "outputs": [
    {
     "name": "stdout",
     "output_type": "stream",
     "text": [
      "{'NC17', 'PG-13', 'NR', 'G', 'PG', 'R'}\n"
     ]
    },
    {
     "data": {
      "text/plain": [
       "{'Action and Adventure',\n",
       " 'Animation',\n",
       " 'Art House and International',\n",
       " 'Classics',\n",
       " 'Comedy',\n",
       " 'Documentary',\n",
       " 'Drama',\n",
       " 'Horror',\n",
       " 'Kids and Family',\n",
       " 'Mystery and Suspense'}"
      ]
     },
     "execution_count": 22,
     "metadata": {},
     "output_type": "execute_result"
    }
   ],
   "source": [
    "rating= list(merged_df['rating'])\n",
    "roi = list(merged_df['roi'])\n",
    "print(set(rating))\n",
    "set(genre)\n"
   ]
  },
  {
   "cell_type": "code",
   "execution_count": 23,
   "metadata": {
    "ExecuteTime": {
     "end_time": "2020-06-20T16:08:31.995502Z",
     "start_time": "2020-06-20T16:08:31.986747Z"
    }
   },
   "outputs": [],
   "source": [
    "full = zip(genre, rating, roi)\n",
    "full= list(full)"
   ]
  },
  {
   "cell_type": "code",
   "execution_count": 24,
   "metadata": {
    "ExecuteTime": {
     "end_time": "2020-06-20T16:08:33.018158Z",
     "start_time": "2020-06-20T16:08:32.940109Z"
    }
   },
   "outputs": [
    {
     "data": {
      "text/plain": [
       "[('Action and Adventure', 'R', 17.70852590909091),\n",
       " ('Drama', 'R', 2.11979256),\n",
       " ('Drama', 'R', 1.06811716),\n",
       " ('Drama', 'R', 2.8581818181818184),\n",
       " ('Drama', 'PG', -0.87416796),\n",
       " ('Comedy', 'PG-13', 1.406039277777778),\n",
       " ('Drama', 'R', 9.383865117647058),\n",
       " ('Action and Adventure', 'PG-13', 2.04044666),\n",
       " ('Documentary', 'NR', -0.30530517241379307),\n",
       " ('Comedy', 'R', -0.9521213333333334),\n",
       " ('Comedy', 'R', 1.0003138150000002),\n",
       " ('Drama', 'R', 0.542110525),\n",
       " ('Action and Adventure', 'PG', -0.1069035517241379),\n",
       " ('Action and Adventure', 'PG-13', -0.13304677142857146),\n",
       " ('Art House and International', 'R', 2.2277417666666666),\n",
       " ('Action and Adventure', 'R', 9.175336620689656),\n",
       " ('Drama', 'R', 3.4305453999999997),\n",
       " ('Horror', 'R', 4.108913625),\n",
       " ('Drama', 'R', 0.5967522000000001),\n",
       " ('Comedy', 'R', 73.64268085714286),\n",
       " ('Comedy', 'PG', -0.62643945),\n",
       " ('Comedy', 'NR', 3.2844535294117643),\n",
       " ('Drama', 'R', 0.6661253600000001),\n",
       " ('Comedy', 'R', 1.1165579448275862),\n",
       " ('Horror', 'R', 0.2301184615384615),\n",
       " ('Action and Adventure', 'R', 0.9865809249999999),\n",
       " ('Action and Adventure', 'R', 0.5655555555555556),\n",
       " ('Comedy', 'PG-13', 1.9163930666666666),\n",
       " ('Comedy', 'PG', 3.0045193058823525),\n",
       " ('Mystery and Suspense', 'R', 1.451795255),\n",
       " ('Horror', 'R', 1.1896235333333331),\n",
       " ('Action and Adventure', 'PG', 17.37260395),\n",
       " ('Action and Adventure', 'R', 0.2819628676470589),\n",
       " ('Comedy', 'PG-13', 1.0483045),\n",
       " ('Action and Adventure', 'R', 3.0677962888888892),\n",
       " ('Comedy', 'R', -0.3465304),\n",
       " ('Art House and International', 'PG', 1.794281857142857),\n",
       " ('Comedy', 'R', 6.46207823076923),\n",
       " ('Drama', 'R', 3.457793627777778),\n",
       " ('Comedy', 'PG-13', 0.8878826907216495),\n",
       " ('Comedy', 'R', 3.77182336),\n",
       " ('Comedy', 'R', 2.4832547857142857),\n",
       " ('Animation', 'G', 1.1202697499999998),\n",
       " ('Action and Adventure', 'R', 0.4231699863013698),\n",
       " ('Action and Adventure', 'PG-13', 1.291931425),\n",
       " ('Action and Adventure', 'NR', -0.76886588),\n",
       " ('Action and Adventure', 'R', 0.21660363888888878),\n",
       " ('Drama', 'R', 3.8888888888888893),\n",
       " ('Horror', 'R', 4.623053375),\n",
       " ('Drama', 'PG-13', 0.6774300166666667),\n",
       " ('Drama', 'PG', 0.22029333333333323),\n",
       " ('Comedy', 'R', -0.895037619047619),\n",
       " ('Comedy', 'R', 2.80047146),\n",
       " ('Comedy', 'PG', 2.0179741555555557),\n",
       " ('Comedy', 'R', 1.0672113333333333),\n",
       " ('Drama', 'PG-13', -0.001111073684210484),\n",
       " ('Action and Adventure', 'PG-13', 1.8466666666666667),\n",
       " ('Horror', 'R', -0.7718194054054054),\n",
       " ('Action and Adventure', 'PG', 0.05975507999999996),\n",
       " ('Comedy', 'R', 4.151181179310345),\n",
       " ('Drama', 'NR', 1.1631731894736843),\n",
       " ('Art House and International', 'R', 3.0933333333333337),\n",
       " ('Action and Adventure', 'PG-13', 2.2075757575757575),\n",
       " ('Comedy', 'PG-13', 0.8083759666666666),\n",
       " ('Drama', 'NR', -0.506857616),\n",
       " ('Horror', 'R', -0.412752),\n",
       " ('Drama', 'PG-13', 0.11408660000000004),\n",
       " ('Comedy', 'PG-13', 3.2713442941176467),\n",
       " ('Classics', 'NR', 9.0),\n",
       " ('Drama', 'PG-13', 4.171218458333334),\n",
       " ('Action and Adventure', 'R', 0.13894995),\n",
       " ('Comedy', 'PG', 1.6239008974358975),\n",
       " ('Action and Adventure', 'PG', 2.1578947368421053),\n",
       " ('Comedy', 'PG-13', 0.6667084000000001),\n",
       " ('Action and Adventure', 'PG-13', 1.258025388235294),\n",
       " ('Action and Adventure', 'R', 3.4435320873786406),\n",
       " ('Drama', 'R', 4.454822066666667),\n",
       " ('Drama', 'R', 1.795054125),\n",
       " ('Action and Adventure', 'R', 1.8810313818181816),\n",
       " ('Art House and International', 'R', 0.36960258),\n",
       " ('Drama', 'R', 3.0561674187500003),\n",
       " ('Horror', 'R', 2.7976845384615383),\n",
       " ('Horror', 'R', -0.871085),\n",
       " ('Horror', 'R', 2.493945392857143),\n",
       " ('Comedy', 'R', 2.3304689555555558),\n",
       " ('Horror', 'R', -0.506408808),\n",
       " ('Action and Adventure', 'R', 2.6971367285714285),\n",
       " ('Comedy', 'R', 1.96484375),\n",
       " ('Drama', 'R', 0.08762399999999992),\n",
       " ('Comedy', 'R', 3.214092972222222),\n",
       " ('Mystery and Suspense', 'NR', 0.9383445833333333),\n",
       " ('Comedy', 'R', 4.1996556),\n",
       " ('Action and Adventure', 'R', 0.21347078518518514),\n",
       " ('Action and Adventure', 'PG-13', 2.66041025),\n",
       " ('Drama', 'PG-13', -0.43462630588235296),\n",
       " ('Drama', 'PG-13', 1.3027887749999998),\n",
       " ('Comedy', 'R', 0.028283999999999976),\n",
       " ('Drama', 'R', 0.4051039999999999),\n",
       " ('Art House and International', 'PG-13', -0.9895),\n",
       " ('Drama', 'R', -0.591480825),\n",
       " ('Horror', 'R', 1.7397469655172415),\n",
       " ('Comedy', 'PG-13', 1.500701625),\n",
       " ('Documentary', 'PG-13', 2.3025839761904763),\n",
       " ('Art House and International', 'R', 1.8768765461538464),\n",
       " ('Comedy', 'PG-13', 1.9419639242424243),\n",
       " ('Drama', 'PG-13', 0.0010902200000000306),\n",
       " ('Classics', 'NR', 22.80952380952381),\n",
       " ('Art House and International', 'NR', 0.5355190761904762),\n",
       " ('Comedy', 'R', 0.030392580000000002),\n",
       " ('Drama', 'R', 0.45205948333333335),\n",
       " ('Action and Adventure', 'PG', 0.8166018833333333),\n",
       " ('Drama', 'PG', -0.96878696),\n",
       " ('Drama', 'PG-13', 0.30490034285714285),\n",
       " ('Drama', 'PG-13', 1.8060276666666666),\n",
       " ('Comedy', 'R', 1.1848054352941175),\n",
       " ('Comedy', 'PG-13', 0.2966930750000001),\n",
       " ('Comedy', 'R', 3.684615675),\n",
       " ('Action and Adventure', 'R', -0.5574883269230769),\n",
       " ('Art House and International', 'NR', -0.071191),\n",
       " ('Action and Adventure', 'PG', 22.114285714285714),\n",
       " ('Classics', 'PG', 2.466666666666667),\n",
       " ('Drama', 'PG-13', 2.0386389),\n",
       " ('Comedy', 'R', -0.7957879714285714),\n",
       " ('Action and Adventure', 'PG-13', 0.5495652173913044),\n",
       " ('Drama', 'R', 11.88788528),\n",
       " ('Comedy', 'R', 0.7350150499999999),\n",
       " ('Drama', 'R', -0.7097847428571429),\n",
       " ('Comedy', 'R', -0.11545454545454548),\n",
       " ('Art House and International', 'PG', 0.6767668),\n",
       " ('Art House and International', 'R', -0.7161347571428571),\n",
       " ('Mystery and Suspense', 'PG-13', 1.6333967733333332),\n",
       " ('Documentary', 'NR', -0.5891278363636363),\n",
       " ('Comedy', 'PG-13', 0.21100000000000008),\n",
       " ('Art House and International', 'PG', 0.12188043333333343),\n",
       " ('Action and Adventure', 'PG-13', 30.778978333333335),\n",
       " ('Comedy', 'PG-13', 1.621111111111111),\n",
       " ('Action and Adventure', 'PG-13', -0.3249716086956522),\n",
       " ('Art House and International', 'NR', 33.0),\n",
       " ('Mystery and Suspense', 'NR', 4.145638086956522),\n",
       " ('Action and Adventure', 'R', -0.6067106296296296),\n",
       " ('Action and Adventure', 'PG-13', 2.8072314285714284),\n",
       " ('Drama', 'R', 1.4890287999999998),\n",
       " ('Action and Adventure', 'PG', 0.5923093333333334),\n",
       " ('Action and Adventure', 'PG', -0.008547517241379365),\n",
       " ('Action and Adventure', 'R', 0.30134495000000006),\n",
       " ('Comedy', 'PG-13', 4.1594549),\n",
       " ('Action and Adventure', 'PG', 7.660192500000001),\n",
       " ('Horror', 'R', -0.47470584705882357),\n",
       " ('Drama', 'PG', -0.06411493749999997),\n",
       " ('Mystery and Suspense', 'R', 7.944444444444445),\n",
       " ('Comedy', 'PG-13', 0.039172045454545446),\n",
       " ('Documentary', 'PG-13', 0.32972215294117646),\n",
       " ('Action and Adventure', 'PG-13', -0.8697512000000001),\n",
       " ('Art House and International', 'R', 4.227400666666667),\n",
       " ('Comedy', 'R', 2.958298226666667),\n",
       " ('Action and Adventure', 'PG', -0.7363349466666667),\n",
       " ('Art House and International', 'NR', -0.035056336842105296),\n",
       " ('Comedy', 'NR', 3.7359842199999997),\n",
       " ('Animation', 'PG', 0.91729718),\n",
       " ('Comedy', 'PG', 0.45013513571428576),\n",
       " ('Comedy', 'PG', -0.10656040833333336),\n",
       " ('Comedy', 'R', 0.9346128076923077),\n",
       " ('Art House and International', 'R', -0.641049175),\n",
       " ('Drama', 'R', 0.2866493000000001),\n",
       " ('Comedy', 'R', 0.01666211731843581),\n",
       " ('Drama', 'PG', 7.483132733333333),\n",
       " ('Comedy', 'R', 0.18244700000000003),\n",
       " ('Action and Adventure', 'R', 0.7920950499999999),\n",
       " ('Art House and International', 'R', 1.1244444444444444),\n",
       " ('Drama', 'NR', 3.114078391608391),\n",
       " ('Action and Adventure', 'R', 1.3223413777777777),\n",
       " ('Classics', 'PG-13', 40.63333333333333),\n",
       " ('Action and Adventure', 'PG-13', 4.34439761),\n",
       " ('Comedy', 'PG-13', 2.8023473719008263),\n",
       " ('Art House and International', 'NR', 4.738422428571429),\n",
       " ('Comedy', 'PG-13', 2.35964295),\n",
       " ('Action and Adventure', 'PG', 1.18676686),\n",
       " ('Art House and International', 'G', 4.11707625),\n",
       " ('Comedy', 'PG-13', -0.199073955882353),\n",
       " ('Action and Adventure', 'PG-13', 0.5120536),\n",
       " ('Comedy', 'PG-13', -0.5896781538461539),\n",
       " ('Comedy', 'PG', -0.07545131250000003),\n",
       " ('Mystery and Suspense', 'PG-13', 3.4783489523809523),\n",
       " ('Comedy', 'PG-13', -0.8050255733333334),\n",
       " ('Drama', 'R', 1.4338861399999998),\n",
       " ('Action and Adventure', 'R', 1.4734172987012988),\n",
       " ('Drama', 'PG-13', -0.20035703636363633),\n",
       " ('Action and Adventure', 'PG', 8.840415566666668),\n",
       " ('Comedy', 'R', -0.7987247608695652),\n",
       " ('Documentary', 'G', -0.49816197500000003),\n",
       " ('Action and Adventure', 'PG', -0.3395397647058823),\n",
       " ('Drama', 'R', 0.960746642857143),\n",
       " ('Comedy', 'PG-13', -0.8241694285714286),\n",
       " ('Drama', 'PG', -0.841454375),\n",
       " ('Comedy', 'R', 2.739313875),\n",
       " ('Action and Adventure', 'PG-13', 1.6979803225806451),\n",
       " ('Action and Adventure', 'R', 0.13565047058823532),\n",
       " ('Horror', 'R', -0.638785275),\n",
       " ('Comedy', 'R', 3.0215384615384613),\n",
       " ('Drama', 'NR', -0.024769799999999953),\n",
       " ('Comedy', 'R', -0.5426791315789474),\n",
       " ('Drama', 'R', 1.2448340833333331),\n",
       " ('Comedy', 'PG-13', 3.3312462399999996),\n",
       " ('Kids and Family', 'G', 0.7005914625),\n",
       " ('Comedy', 'R', 6.769230769230769),\n",
       " ('Comedy', 'PG', 1.7648438999999998),\n",
       " ('Comedy', 'PG', 1.8818181818181818),\n",
       " ('Animation', 'PG', 3.826409410958904),\n",
       " ('Comedy', 'PG', -0.1910035333333333),\n",
       " ('Drama', 'PG-13', 2.838347466666667),\n",
       " ('Drama', 'PG', -0.8095485),\n",
       " ('Comedy', 'R', 0.22054627272727267),\n",
       " ('Drama', 'PG', -0.45981831250000005),\n",
       " ('Comedy', 'R', 3.1234292162162163),\n",
       " ('Horror', 'PG-13', 0.14731215384615393),\n",
       " ('Drama', 'R', 5.8261755),\n",
       " ('Comedy', 'PG', 10.185397333333333),\n",
       " ('Comedy', 'R', 2.345),\n",
       " ('Comedy', 'R', 0.8910254500000001),\n",
       " ('Comedy', 'R', 2.194325632352941),\n",
       " ('Drama', 'R', 1.0897676600000001),\n",
       " ('Art House and International', 'NR', -0.6840325),\n",
       " ('Drama', 'R', -0.4854213538461538),\n",
       " ('Drama', 'R', 0.6660828285714286),\n",
       " ('Documentary', 'R', 0.8777983428571428),\n",
       " ('Action and Adventure', 'PG-13', 2.934408602150538),\n",
       " ('Action and Adventure', 'R', -0.28314700000000004),\n",
       " ('Art House and International', 'R', 0.6073994),\n",
       " ('Classics', 'NR', 7.199999999999999),\n",
       " ('Documentary', 'NR', -0.48193874999999997),\n",
       " ('Action and Adventure', 'PG-13', 0.7305625333333334),\n",
       " ('Drama', 'R', -0.5638293894736842),\n",
       " ('Action and Adventure', 'R', 2.8942148333333333),\n",
       " ('Drama', 'R', 6.151641427272727),\n",
       " ('Comedy', 'PG-13', 1.3624111789473683),\n",
       " ('Art House and International', 'R', 1.6758718666666668),\n",
       " ('Comedy', 'R', 9.040553538461538),\n",
       " ('Drama', 'R', -0.17941514285714288),\n",
       " ('Comedy', 'R', 21.326315789473686),\n",
       " ('Drama', 'R', 0.6352363999999999),\n",
       " ('Action and Adventure', 'R', 2.7090394470588235),\n",
       " ('Comedy', 'R', -0.05623115000000001),\n",
       " ('Comedy', 'NR', 2.6221174),\n",
       " ('Action and Adventure', 'PG', 1.013029),\n",
       " ('Action and Adventure', 'R', -0.11980599999999997),\n",
       " ('Drama', 'PG-13', -0.3079322),\n",
       " ('Action and Adventure', 'R', 1.4673201333333332),\n",
       " ('Action and Adventure', 'PG-13', 3.5972464772727273),\n",
       " ('Drama', 'PG-13', 0.4805368333333333),\n",
       " ('Drama', 'R', 0.61166622),\n",
       " ('Action and Adventure', 'PG-13', 1.6136713555555557),\n",
       " ('Action and Adventure', 'PG', 1.0034390000000002),\n",
       " ('Drama', 'R', -0.5138086363636364),\n",
       " ('Action and Adventure', 'R', 3.2449512962962963),\n",
       " ('Drama', 'PG-13', 4.561424633333333),\n",
       " ('Drama', 'PG', 2.251020083333333),\n",
       " ('Action and Adventure', 'R', -0.39926799999999996),\n",
       " ('Drama', 'R', 23.658413),\n",
       " ('Comedy', 'PG-13', 7.609459583333333),\n",
       " ('Comedy', 'R', 5.681812521739131),\n",
       " ('Action and Adventure', 'R', 1.1428991020408161),\n",
       " ('Drama', 'PG', 0.00912466666666667),\n",
       " ('Documentary', 'G', 0.08484412500000005),\n",
       " ('Drama', 'R', 1.4950975333333334),\n",
       " ('Comedy', 'NR', 0.49585437499999996),\n",
       " ('Comedy', 'R', -0.3369265),\n",
       " ('Documentary', 'PG', 1.6871869125),\n",
       " ('Comedy', 'PG-13', 2.7112977333333332),\n",
       " ('Drama', 'R', 0.456253775),\n",
       " ('Drama', 'NR', 2.0444201555555557),\n",
       " ('Drama', 'R', 2.515381890909091),\n",
       " ('Comedy', 'R', 0.33144137500000004),\n",
       " ('Drama', 'R', 0.10979651999999995),\n",
       " ('Documentary', 'NR', 0.5880177866666667),\n",
       " ('Comedy', 'R', 3.958893906666667),\n",
       " ('Art House and International', 'R', 3.4391877040816325),\n",
       " ('Action and Adventure', 'R', -0.16061174285714286),\n",
       " ('Drama', 'R', -0.4655663043478261),\n",
       " ('Action and Adventure', 'PG', 9.25),\n",
       " ('Comedy', 'R', 3.07266741025641),\n",
       " ('Drama', 'PG-13', -0.8141450666666666),\n",
       " ('Drama', 'R', 2.440511076923077),\n",
       " ('Horror', 'NR', 2.634594054054054),\n",
       " ('Drama', 'PG-13', 5.6644590243902435),\n",
       " ('Action and Adventure', 'NR', 0.15288389090909082),\n",
       " ('Action and Adventure', 'R', -0.0029613714285714465),\n",
       " ('Horror', 'R', 2.875279125),\n",
       " ('Drama', 'R', -0.13816140476190475),\n",
       " ('Comedy', 'R', -0.7794463333333334),\n",
       " ('Drama', 'PG-13', 1.0601997375),\n",
       " ('Action and Adventure', 'R', -0.9263365),\n",
       " ('Drama', 'PG-13', -0.7210608333333333),\n",
       " ('Comedy', 'PG-13', 2.57781564),\n",
       " ('Action and Adventure', 'PG-13', 2.38316175),\n",
       " ('Drama', 'R', 2.653861111764706),\n",
       " ('Classics', 'PG', 4.833333333333333),\n",
       " ('Comedy', 'PG', 2.15829375),\n",
       " ('Action and Adventure', 'PG', 12.608144),\n",
       " ('Drama', 'R', 1.0319536571428571),\n",
       " ('Drama', 'NR', -0.49893658333333335),\n",
       " ('Drama', 'R', 23.89367696),\n",
       " ('Documentary', 'NR', 0.27430332),\n",
       " ('Action and Adventure', 'PG-13', 15.489088634920634),\n",
       " ('Action and Adventure', 'R', 0.68179838),\n",
       " ('Comedy', 'PG-13', 7.0160445),\n",
       " ('Drama', 'R', -0.7127438142857143),\n",
       " ('Art House and International', 'NR', -0.662284125),\n",
       " ('Comedy', 'PG', 0.8181528124999999),\n",
       " ('Animation', 'PG', 5.74129112),\n",
       " ('Horror', 'R', 8.962014574468085),\n",
       " ('Drama', 'PG', 10.823340453333333),\n",
       " ('Comedy', 'R', 0.7093647000000001),\n",
       " ('Comedy', 'R', 0.19499086666666665),\n",
       " ('Comedy', 'R', 0.10808737499999999),\n",
       " ('Drama', 'R', 1.4937831052631578),\n",
       " ('Comedy', 'R', 8.75609756097561),\n",
       " ('Action and Adventure', 'PG-13', 3.068014272),\n",
       " ('Comedy', 'PG-13', 0.8475811526315788),\n",
       " ('Comedy', 'R', 2.4174942),\n",
       " ('Drama', 'PG', 2.3193627142857145),\n",
       " ('Drama', 'PG-13', -0.6576388666666666),\n",
       " ('Comedy', 'PG-13', 2.7159653),\n",
       " ('Action and Adventure', 'R', 2.96319795),\n",
       " ('Comedy', 'R', 5.79619744),\n",
       " ('Comedy', 'R', -0.5932549166666667),\n",
       " ('Horror', 'PG-13', 1.585626153846154),\n",
       " ('Action and Adventure', 'PG-13', 0.48194235714285716),\n",
       " ('Action and Adventure', 'NR', 1.549635775),\n",
       " ('Art House and International', 'R', 14.4),\n",
       " ('Documentary', 'PG', 3.201516933333333),\n",
       " ('Comedy', 'R', -0.04903655294117648),\n",
       " ('Comedy', 'PG-13', 0.87688375),\n",
       " ('Action and Adventure', 'R', 3.3250070232558135),\n",
       " ('Mystery and Suspense', 'PG-13', -0.27162011249999995),\n",
       " ('Comedy', 'PG-13', -0.446255463768116),\n",
       " ('Drama', 'R', 2.9978718266666666),\n",
       " ('Comedy', 'R', 0.31650218064516134),\n",
       " ('Action and Adventure', 'PG', 3.297926042857143),\n",
       " ('Drama', 'NR', 1.9269248933333332),\n",
       " ('Drama', 'R', 4.132727272727273),\n",
       " ('Drama', 'R', -0.6697215142857142),\n",
       " ('Mystery and Suspense', 'R', 3.2385260000000002),\n",
       " ('Comedy', 'R', -0.454402),\n",
       " ('Drama', 'R', 1.6657748166666666),\n",
       " ('Comedy', 'PG-13', -0.54984716),\n",
       " ('Comedy', 'PG', 2.059289),\n",
       " ('Animation', 'G', 5.668804672727273),\n",
       " ('Drama', 'PG-13', -0.12577487692307687),\n",
       " ('Action and Adventure', 'PG-13', 0.2943606363636364),\n",
       " ('Comedy', 'R', 0.888814),\n",
       " ('Mystery and Suspense', 'R', 24.4900667),\n",
       " ('Comedy', 'PG-13', 2.86535332),\n",
       " ('Comedy', 'R', 2.0091607333333332),\n",
       " ('Comedy', 'PG', 0.7137791600000001),\n",
       " ('Action and Adventure', 'R', 0.639491325),\n",
       " ('Art House and International', 'R', 0.14176610666666667),\n",
       " ('Drama', 'R', 1.1681484571428573),\n",
       " ('Animation', 'PG', 1.231103082191781),\n",
       " ('Drama', 'PG-13', 0.5073658461538462),\n",
       " ('Action and Adventure', 'PG', 4.6483446285714285),\n",
       " ('Comedy', 'PG-13', 2.492358543478261),\n",
       " ('Drama', 'R', 4.994350829268293),\n",
       " ('Drama', 'PG-13', 3.5345148),\n",
       " ('Action and Adventure', 'R', 0.8123586704545454),\n",
       " ('Art House and International', 'NR', -0.37859978102189784),\n",
       " ('Drama', 'PG-13', -0.8351316666666666),\n",
       " ('Comedy', 'PG-13', 1.0294066444444443),\n",
       " ('Comedy', 'R', 5.281611263157894),\n",
       " ('Art House and International', 'R', -0.79281988),\n",
       " ('Comedy', 'PG', -0.2021123657142857),\n",
       " ('Comedy', 'PG-13', -0.8674777),\n",
       " ('Action and Adventure', 'PG', 2.653063375),\n",
       " ('Action and Adventure', 'PG', -0.8459348615384615),\n",
       " ('Classics', 'NR', 2.657142857142857),\n",
       " ('Comedy', 'NR', 2.5232692470588236),\n",
       " ('Art House and International', 'NR', 0.882838),\n",
       " ('Art House and International', 'NR', 3.9478696400000004),\n",
       " ('Drama', 'PG-13', -0.8561403666666667),\n",
       " ('Action and Adventure', 'R', 4.8961886),\n",
       " ('Action and Adventure', 'R', 0.19533218333333324),\n",
       " ('Comedy', 'PG-13', 1.8741737166666668),\n",
       " ('Comedy', 'R', 6.973307345454545),\n",
       " ('Animation', 'PG', 5.710167385620915),\n",
       " ('Drama', 'R', 1.1152443623188404),\n",
       " ('Action and Adventure', 'PG-13', -0.6928903636363637),\n",
       " ('Comedy', 'R', -0.6526457999999999),\n",
       " ('Drama', 'PG', 1.7685278727272729),\n",
       " ('Drama', 'R', 1.102327717948718),\n",
       " ('Drama', 'R', 17.001793535714285),\n",
       " ('Action and Adventure', 'NR', -0.04635638666666664),\n",
       " ('Art House and International', 'R', -0.019712173333333305),\n",
       " ('Horror', 'R', -0.23626477777777777),\n",
       " ('Action and Adventure', 'G', 4.423664642857143),\n",
       " ('Comedy', 'R', 2.1505604210526315),\n",
       " ('Comedy', 'PG-13', 0.5084547034482758),\n",
       " ('Kids and Family', 'PG', 7.792251350000001),\n",
       " ('Comedy', 'PG-13', 5.007728),\n",
       " ('Art House and International', 'R', -0.8125725853658536),\n",
       " ('Comedy', 'PG-13', -0.07999999999999996),\n",
       " ('Comedy', 'R', -0.69876425),\n",
       " ('Drama', 'PG-13', -0.7190713714285715),\n",
       " ('Drama', 'R', -0.8941819230769231),\n",
       " ('Action and Adventure', 'PG', -0.3594424153846154),\n",
       " ('Comedy', 'G', -0.13585175000000005),\n",
       " ('Drama', 'R', 0.8058350666666667),\n",
       " ('Comedy', 'PG-13', 0.6320683),\n",
       " ('Animation', 'G', 1.206302742857143),\n",
       " ('Art House and International', 'PG-13', -0.7),\n",
       " ('Drama', 'R', 1.6597107777777778),\n",
       " ('Drama', 'PG-13', -0.2677112222222222),\n",
       " ('Comedy', 'PG', 0.8315599235294118),\n",
       " ('Action and Adventure', 'R', -0.4722326),\n",
       " ('Comedy', 'PG', 2.0349786666666665),\n",
       " ('Comedy', 'R', -0.6687068823529412),\n",
       " ('Action and Adventure', 'PG', 0.889445),\n",
       " ('Drama', 'R', -0.9583326923076924),\n",
       " ('Drama', 'PG-13', -0.6374238611111112),\n",
       " ('Drama', 'PG-13', 1.278165),\n",
       " ('Comedy', 'R', -0.4715933076923077),\n",
       " ('Comedy', 'PG-13', 4.7592889),\n",
       " ('Action and Adventure', 'PG-13', 3.2053274),\n",
       " ('Art House and International', 'R', 1.3849340916666666),\n",
       " ('Action and Adventure', 'PG-13', 2.110665881578947),\n",
       " ('Horror', 'R', 2.218451322222222),\n",
       " ('Drama', 'PG-13', -0.3579591666666667),\n",
       " ('Kids and Family', 'G', -0.16256147368421048),\n",
       " ('Art House and International', 'NR', -0.9012879142857143),\n",
       " ('Comedy', 'R', 0.5022616321243523),\n",
       " ('Comedy', 'NC17', 1.34423784),\n",
       " ('Drama', 'PG', 11.684953846153846),\n",
       " ('Drama', 'PG', 3.478852466666667),\n",
       " ('Comedy', 'R', 2.6213639304347827),\n",
       " ('Drama', 'PG', -0.9285714285714286),\n",
       " ('Drama', 'R', 2.5671356666666667),\n",
       " ('Drama', 'R', 0.15230275362318846),\n",
       " ('Action and Adventure', 'PG-13', 0.20109322641509442),\n",
       " ('Art House and International', 'NR', 0.021907076923076918),\n",
       " ('Action and Adventure', 'R', 0.8876464),\n",
       " ('Action and Adventure', 'PG-13', 1.5078585714285713),\n",
       " ('Action and Adventure', 'PG-13', 2.255004288),\n",
       " ('Action and Adventure', 'PG', 0.8201822222222221),\n",
       " ('Drama', 'PG', 1.3497891818181817),\n",
       " ('Animation', 'G', 1.8687952),\n",
       " ('Action and Adventure', 'PG-13', 0.8942808363636363),\n",
       " ('Comedy', 'R', 0.7454771444444444),\n",
       " ('Art House and International', 'PG-13', 3.1192262),\n",
       " ('Comedy', 'R', -0.5184923333333333),\n",
       " ('Classics', 'NR', 1.2029922000000002),\n",
       " ('Drama', 'R', 1.2417730740740742),\n",
       " ('Comedy', 'R', 0.6379751714285715),\n",
       " ('Art House and International', 'NR', 0.8073815499999999),\n",
       " ('Action and Adventure', 'PG', 2.613652890909091),\n",
       " ('Action and Adventure', 'R', -0.1465873333333333),\n",
       " ('Drama', 'R', 1.1195226923076924),\n",
       " ('Drama', 'R', 0.5515646923076922),\n",
       " ('Action and Adventure', 'NR', -0.21689245454545458),\n",
       " ('Drama', 'R', 0.13602859999999994),\n",
       " ('Drama', 'PG-13', 5.751829436363637),\n",
       " ('Drama', 'R', 0.4165717874999999),\n",
       " ('Action and Adventure', 'PG-13', -0.07774720000000002),\n",
       " ('Action and Adventure', 'PG', -0.08199999999999996),\n",
       " ('Drama', 'R', 2.12799288),\n",
       " ('Drama', 'PG-13', 1.2573157375),\n",
       " ('Action and Adventure', 'PG-13', -0.17854621000000004),\n",
       " ('Art House and International', 'PG', 3.656489866666667),\n",
       " ('Drama', 'PG-13', 14.182697533333334),\n",
       " ('Drama', 'NR', -0.03681673333333335),\n",
       " ('Action and Adventure', 'PG-13', -0.16035546),\n",
       " ('Comedy', 'G', 1.7126985555555554),\n",
       " ('Drama', 'PG-13', 0.7801121973333334),\n",
       " ('Action and Adventure', 'PG-13', 4.041307632),\n",
       " ('Action and Adventure', 'R', 0.25934736),\n",
       " ('Action and Adventure', 'PG', 3.47129216),\n",
       " ('Action and Adventure', 'PG-13', -0.8638235294117647),\n",
       " ('Action and Adventure', 'PG', 1.0573085333333334),\n",
       " ('Classics', 'PG-13', -0.7650193454545454),\n",
       " ('Drama', 'R', 1.92390318),\n",
       " ('Drama', 'PG-13', 1.1522614615384614),\n",
       " ('Comedy', 'R', 0.43235845454545463),\n",
       " ('Drama', 'PG-13', 2.880038032),\n",
       " ('Comedy', 'PG', 2.1275),\n",
       " ('Drama', 'PG-13', 1.7115756000000002),\n",
       " ('Action and Adventure', 'R', -0.9880791428571428),\n",
       " ('Comedy', 'R', 0.4433481860465116),\n",
       " ('Action and Adventure', 'R', 6.269945131034483),\n",
       " ('Comedy', 'PG-13', 0.40573182142857145),\n",
       " ('Drama', 'PG', 2.27250564),\n",
       " ('Animation', 'PG', -0.5975252),\n",
       " ('Comedy', 'R', 1.8859565555555555),\n",
       " ('Drama', 'PG-13', 4.96912312),\n",
       " ('Comedy', 'PG-13', -0.9611535555555556),\n",
       " ('Action and Adventure', 'PG', 0.4528211111111111),\n",
       " ('Drama', 'G', -0.6),\n",
       " ('Comedy', 'PG-13', -0.286397),\n",
       " ('Action and Adventure', 'PG-13', 2.86193424),\n",
       " ('Art House and International', 'PG-13', 1.1350690625),\n",
       " ('Action and Adventure', 'PG', 5.818181818181818),\n",
       " ('Drama', 'R', 6.8699981625),\n",
       " ('Drama', 'R', -0.08342071666666662),\n",
       " ('Comedy', 'R', 1.06),\n",
       " ('Drama', 'PG', 2.415718430769231),\n",
       " ('Documentary', 'PG', 2.4271353782608696),\n",
       " ('Drama', 'R', 1.1877828936170212),\n",
       " ('Action and Adventure', 'R', -0.5554459666666667),\n",
       " ('Drama', 'R', 0.9534288823529411),\n",
       " ('Action and Adventure', 'R', 1.0385714285714287),\n",
       " ('Action and Adventure', 'R', 0.7283943828571429),\n",
       " ('Action and Adventure', 'R', 1.25739768),\n",
       " ('Drama', 'PG-13', 1.465267434782609),\n",
       " ('Drama', 'R', -0.022587247058823534),\n",
       " ('Horror', 'R', 94.576),\n",
       " ('Drama', 'R', 1.4210526315789473),\n",
       " ('Art House and International', 'PG', 3.4193099090909094),\n",
       " ('Horror', 'R', 2.6846865),\n",
       " ('Comedy', 'PG', 1.8458592761904762),\n",
       " ('Comedy', 'PG-13', 0.23763333749999993),\n",
       " ('Action and Adventure', 'PG', 0.3351519058823529),\n",
       " ('Action and Adventure', 'PG', 16.62169473846154),\n",
       " ('Action and Adventure', 'R', 0.8849211384615385),\n",
       " ('Comedy', 'PG', 3.9258363999999997),\n",
       " ('Comedy', 'PG-13', 0.5880632343750001),\n",
       " ('Comedy', 'PG', 0.85782353125),\n",
       " ('Action and Adventure', 'PG-13', 1.0936666666666666),\n",
       " ('Drama', 'PG-13', 1.7113842400000001),\n",
       " ('Action and Adventure', 'PG-13', 2.320281761904762),\n",
       " ('Drama', 'PG-13', 0.654205457142857),\n",
       " ('Art House and International', 'R', 2.2629326785714285),\n",
       " ('Action and Adventure', 'PG-13', 1.0832318454545455),\n",
       " ('Comedy', 'PG', 0.8017416333333334),\n",
       " ('Horror', 'R', 4.15610486),\n",
       " ('Art House and International', 'PG-13', 0.5757244399999999),\n",
       " ('Comedy', 'R', 0.6112833727272726),\n",
       " ('Drama', 'PG-13', 6.978028045454545),\n",
       " ('Comedy', 'PG-13', 2.3590871379310343),\n",
       " ('Animation', 'G', 1.1828096499999998),\n",
       " ('Comedy', 'PG-13', -0.9622844857142857),\n",
       " ('Comedy', 'PG', 1.37458146),\n",
       " ('Action and Adventure', 'R', -0.7510438666666667),\n",
       " ('Action and Adventure', 'R', 0.534054),\n",
       " ('Drama', 'NR', 11.831800460526315),\n",
       " ('Comedy', 'NR', 7.395720088888888),\n",
       " ('Art House and International', 'PG', -0.669799425),\n",
       " ('Action and Adventure', 'PG-13', 0.2641676285714285),\n",
       " ('Action and Adventure', 'R', 0.879418606060606)]"
      ]
     },
     "execution_count": 24,
     "metadata": {},
     "output_type": "execute_result"
    }
   ],
   "source": [
    "full"
   ]
  },
  {
   "cell_type": "markdown",
   "metadata": {},
   "source": [
    "### Sepreating list by genre and corresponding rating ROI"
   ]
  },
  {
   "cell_type": "code",
   "execution_count": 25,
   "metadata": {
    "ExecuteTime": {
     "end_time": "2020-06-20T16:08:40.116447Z",
     "start_time": "2020-06-20T16:08:40.091918Z"
    }
   },
   "outputs": [],
   "source": [
    "Action_and_Adventure=[]\n",
    "Animation=[]\n",
    "Art_House_and_International=[]\n",
    "Classics=[]\n",
    "Comedy=[]\n",
    "Documentary=[]\n",
    "Drama=[]\n",
    "Horror=[]\n",
    "Kids_and_Family=[]\n",
    "Mystery_and_Suspense=[]\n",
    "Science_Fiction_and_Fantasy=[]\n",
    "\n",
    "\n",
    "for tup in full:\n",
    "    if tup[0] == 'Action and Adventure':\n",
    "        Action_and_Adventure.append(tup[1:])\n",
    "        \n",
    "    elif tup[0] == 'Animation':\n",
    "        Animation.append(tup[1:])\n",
    "        \n",
    "    elif tup[0] == 'Art House and International':\n",
    "        Art_House_and_International.append(tup[1:])\n",
    "        \n",
    "    elif tup[0] == 'Classics':\n",
    "        Classics.append(tup[1:])\n",
    "        \n",
    "    elif tup[0] == 'Comedy':\n",
    "        Comedy.append(tup[1:])\n",
    "        \n",
    "    elif tup[0] == 'Documentary':\n",
    "        Documentary.append(tup[1:])\n",
    "        \n",
    "    elif tup[0] == 'Drama':\n",
    "        Drama.append(tup[1:])\n",
    "        \n",
    "    elif tup[0] == 'Horror':\n",
    "        Horror.append(tup[1:])\n",
    "        \n",
    "    elif tup[0] == 'Kids and Family':\n",
    "        Kids_and_Family.append(tup[1:])\n",
    "        \n",
    "    elif tup[0] == 'Mystery and Suspense':\n",
    "        Mystery_and_Suspense.append(tup[1:])\n",
    "        \n",
    "    else:\n",
    "        Science_Fiction_and_Fantasy.append(tup[1:])\n",
    "\n",
    "        "
   ]
  },
  {
   "cell_type": "code",
   "execution_count": 26,
   "metadata": {
    "ExecuteTime": {
     "end_time": "2020-06-20T16:09:10.221985Z",
     "start_time": "2020-06-20T16:09:10.199827Z"
    }
   },
   "outputs": [],
   "source": [
    "def median_rating(db):\n",
    "    new={}\n",
    "    G=[]\n",
    "    PG=[]\n",
    "    PG_13=[]\n",
    "    R=[]\n",
    "    NR=[]\n",
    "    NC17=[]\n",
    "    for i in db:\n",
    "            if i[0] == 'G':\n",
    "                G.append(i[1])\n",
    "                if G != 0:\n",
    "                    new['G']=stats.median(G)\n",
    "            elif i[0] == 'PG':\n",
    "                PG.append(i[1])\n",
    "                if PG != 0:\n",
    "                    new['PG']=stats.median(PG)\n",
    "            elif i[0] == 'PG-13':\n",
    "                PG_13.append(i[1]) \n",
    "                if PG_13 != 0:\n",
    "                    new['PG-13']=stats.median(PG_13)\n",
    "            elif i[0] == 'R':\n",
    "                R.append(i[1])  \n",
    "                if R != 0:\n",
    "                    new['R']= stats.median(R)\n",
    "            elif i[0] == 'NR':\n",
    "                NR.append(i[1]) \n",
    "                if NR != 0:\n",
    "                    new['NR']=stats.median(NR)\n",
    "            else:\n",
    "                NC17.append(i[1]) \n",
    "                if NC17 != 0:\n",
    "                     new['NC17']=stats.median(NC17) \n",
    "    return new\n"
   ]
  },
  {
   "cell_type": "code",
   "execution_count": 27,
   "metadata": {
    "ExecuteTime": {
     "end_time": "2020-06-20T16:09:51.234430Z",
     "start_time": "2020-06-20T16:09:51.217930Z"
    }
   },
   "outputs": [],
   "source": [
    "Action_and_Adventure = median_rating(Action_and_Adventure)\n",
    "Animation = median_rating(Animation)\n",
    "Art_House_and_International = median_rating(Art_House_and_International)\n",
    "Classics = median_rating(Classics)\n",
    "Comedy = median_rating(Comedy)\n",
    "Documentary = median_rating(Documentary)\n",
    "Drama = median_rating(Drama)\n",
    "Horror = median_rating(Horror)\n",
    "Kids_and_Family = median_rating(Kids_and_Family)\n",
    "Mystery_and_Suspense = median_rating(Mystery_and_Suspense)\n",
    "Science_Fiction_and_Fantasy = median_rating(Science_Fiction_and_Fantasy)\n",
    "\n",
    "\n"
   ]
  },
  {
   "cell_type": "code",
   "execution_count": 28,
   "metadata": {
    "ExecuteTime": {
     "end_time": "2020-06-20T16:09:54.285264Z",
     "start_time": "2020-06-20T16:09:54.265603Z"
    }
   },
   "outputs": [],
   "source": [
    "cats = [Action_and_Adventure,\n",
    "Animation,\n",
    "Art_House_and_International,\n",
    "Classics,\n",
    "Comedy,\n",
    "Documentary,\n",
    "Drama,\n",
    "Horror,\n",
    "Kids_and_Family,\n",
    "Mystery_and_Suspense,\n",
    "Science_Fiction_and_Fantasy]\n",
    "\n",
    "\n",
    "\n",
    "cats_string =['Action_and_Adventure',\n",
    "'Animation',\n",
    "'Art_House_and_International',\n",
    "'Classics',\n",
    "'Comedy',\n",
    "'Documentary',\n",
    "'Drama',\n",
    "'Horror',\n",
    "'Kids_and_Family',\n",
    "'Mystery_and_Suspense',\n",
    "'Science_Fiction_and_Fantasy']"
   ]
  },
  {
   "cell_type": "markdown",
   "metadata": {},
   "source": [
    "## subplots on rating and genre"
   ]
  },
  {
   "cell_type": "code",
   "execution_count": 29,
   "metadata": {
    "ExecuteTime": {
     "end_time": "2020-06-20T16:10:02.806499Z",
     "start_time": "2020-06-20T16:09:56.639953Z"
    },
    "scrolled": true
   },
   "outputs": [
    {
     "data": {
      "image/png": "[encoded data removed]",
      "text/plain": [
       "<Figure size 720x720 with 10 Axes>"
      ]
     },
     "metadata": {
      "needs_background": "light"
     },
     "output_type": "display_data"
    }
   ],
   "source": [
    "fig, axes = plt.subplots(nrows=4, ncols=3, figsize=(10,10))\n",
    "for n in range(1,11):#(1,12) if keeping duplicates\n",
    "    row=(n-1) // 3\n",
    "    col=n%3-1\n",
    "    ax= axes[row][col]\n",
    "    x= list(cats[n-1].keys())\n",
    "    y= list(cats[n-1].values())\n",
    "    \n",
    "    ax.set_title(cats_string[n-1])\n",
    "    ax.set_ylabel('ROI')\n",
    "   \n",
    "    \n",
    "    sns.set_style(\"whitegrid\")\n",
    "    fig.tight_layout()\n",
    "    \n",
    "    sns.barplot(x=x, y= y, ax=ax);\n",
    "for n in range(10,12):\n",
    "    row=(n-1) // 3\n",
    "    col=n%3-3\n",
    "    ax= axes[row][col]\n",
    "    fig.delaxes(ax) "
   ]
  },
  {
   "cell_type": "code",
   "execution_count": null,
   "metadata": {
    "ExecuteTime": {
     "end_time": "2020-06-20T13:58:22.911721Z",
     "start_time": "2020-06-20T13:58:22.847443Z"
    }
   },
   "outputs": [],
   "source": []
  },
  {
   "cell_type": "code",
   "execution_count": null,
   "metadata": {
    "ExecuteTime": {
     "end_time": "2020-06-20T04:21:44.874287Z",
     "start_time": "2020-06-20T04:21:44.863324Z"
    }
   },
   "outputs": [],
   "source": []
  },
  {
   "cell_type": "code",
   "execution_count": null,
   "metadata": {},
   "outputs": [],
   "source": []
  }
 ],
 "metadata": {
  "kernelspec": {
   "display_name": "Python 3",
   "language": "python",
   "name": "python3"
  },
  "language_info": {
   "codemirror_mode": {
    "name": "ipython",
    "version": 3
   },
   "file_extension": ".py",
   "mimetype": "text/x-python",
   "name": "python",
   "nbconvert_exporter": "python",
   "pygments_lexer": "ipython3",
   "version": "3.7.6"
  },
  "toc": {
   "base_numbering": 1,
   "nav_menu": {},
   "number_sections": true,
   "sideBar": true,
   "skip_h1_title": false,
   "title_cell": "Table of Contents",
   "title_sidebar": "Contents",
   "toc_cell": false,
   "toc_position": {},
   "toc_section_display": true,
   "toc_window_display": true
  },
  "varInspector": {
   "cols": {
    "lenName": 16,
    "lenType": 16,
    "lenVar": 40
   },
   "kernels_config": {
    "python": {
     "delete_cmd_postfix": "",
     "delete_cmd_prefix": "del ",
     "library": "var_list.py",
     "varRefreshCmd": "print(var_dic_list())"
    },
    "r": {
     "delete_cmd_postfix": ") ",
     "delete_cmd_prefix": "rm(",
     "library": "var_list.r",
     "varRefreshCmd": "cat(var_dic_list()) "
    }
   },
   "types_to_exclude": [
    "module",
    "function",
    "builtin_function_or_method",
    "instance",
    "_Feature"
   ],
   "window_display": false
  }
 },
 "nbformat": 4,
 "nbformat_minor": 2
}
