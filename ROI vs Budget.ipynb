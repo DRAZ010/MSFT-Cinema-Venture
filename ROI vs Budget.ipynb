{
 "cells": [
  {
   "cell_type": "markdown",
   "metadata": {},
   "source": [
    "# Importing the Libraries"
   ]
  },
  {
   "cell_type": "code",
   "execution_count": 4,
   "metadata": {
    "ExecuteTime": {
     "end_time": "2020-06-20T23:32:28.740559Z",
     "start_time": "2020-06-20T23:32:28.736583Z"
    }
   },
   "outputs": [],
   "source": [
    "#importing the libraries\n",
    "import os\n",
    "import pandas as pd\n",
    "import numpy as np\n",
    "import matplotlib.pyplot as plt\n",
    "import seaborn as sns\n",
    "from glob import glob\n",
    "import math \n",
    "import sys\n",
    "import statistics as stats"
   ]
  },
  {
   "cell_type": "markdown",
   "metadata": {},
   "source": [
    "# Importing .csv File"
   ]
  },
  {
   "cell_type": "code",
   "execution_count": 5,
   "metadata": {
    "ExecuteTime": {
     "end_time": "2020-06-20T23:32:29.120254Z",
     "start_time": "2020-06-20T23:32:29.108270Z"
    }
   },
   "outputs": [],
   "source": [
    "#importing movie_budgets_clean.csv\n",
    "movie_budgets_clean= pd.read_csv('databases/movie_budgets_clean.csv')"
   ]
  },
  {
   "cell_type": "code",
   "execution_count": 6,
   "metadata": {
    "ExecuteTime": {
     "end_time": "2020-06-20T23:32:29.291918Z",
     "start_time": "2020-06-20T23:32:29.286915Z"
    }
   },
   "outputs": [
    {
     "name": "stdout",
     "output_type": "stream",
     "text": [
      "<class 'pandas.core.frame.DataFrame'>\n",
      "RangeIndex: 5234 entries, 0 to 5233\n",
      "Data columns (total 6 columns):\n",
      " #   Column             Non-Null Count  Dtype \n",
      "---  ------             --------------  ----- \n",
      " 0   id                 5234 non-null   int64 \n",
      " 1   release_date       5234 non-null   object\n",
      " 2   movie              5234 non-null   object\n",
      " 3   production_budget  5234 non-null   int64 \n",
      " 4   domestic_gross     5234 non-null   int64 \n",
      " 5   worldwide_gross    5234 non-null   int64 \n",
      "dtypes: int64(4), object(2)\n",
      "memory usage: 245.5+ KB\n"
     ]
    }
   ],
   "source": [
    "#checking for null values and datatypes\n",
    "movie_budgets_clean.info()"
   ]
  },
  {
   "cell_type": "markdown",
   "metadata": {},
   "source": [
    "# Data Manipulation"
   ]
  },
  {
   "cell_type": "code",
   "execution_count": 28,
   "metadata": {
    "ExecuteTime": {
     "end_time": "2020-06-20T23:45:38.520393Z",
     "start_time": "2020-06-20T23:45:38.516390Z"
    }
   },
   "outputs": [],
   "source": [
    "#adding column 'profit' for each movies total profit\n",
    "movie_budgets_clean['profit'] = movie_budgets_clean['worldwide_gross'] - movie_budgets_clean['production_budget']\n"
   ]
  },
  {
   "cell_type": "code",
   "execution_count": 29,
   "metadata": {
    "ExecuteTime": {
     "end_time": "2020-06-20T23:45:43.599212Z",
     "start_time": "2020-06-20T23:45:43.597212Z"
    }
   },
   "outputs": [],
   "source": [
    "#calculate the return on investment(ROI) for each movie\n",
    "movie_budgets_clean['roi'] = (movie_budgets_clean['worldwide_gross'] / movie_budgets_clean['production_budget'] ) -1"
   ]
  },
  {
   "cell_type": "code",
   "execution_count": 30,
   "metadata": {
    "ExecuteTime": {
     "end_time": "2020-06-20T23:45:44.121608Z",
     "start_time": "2020-06-20T23:45:44.113635Z"
    }
   },
   "outputs": [
    {
     "data": {
      "text/html": [
       "<div>\n",
       "<style scoped>\n",
       "    .dataframe tbody tr th:only-of-type {\n",
       "        vertical-align: middle;\n",
       "    }\n",
       "\n",
       "    .dataframe tbody tr th {\n",
       "        vertical-align: top;\n",
       "    }\n",
       "\n",
       "    .dataframe thead th {\n",
       "        text-align: right;\n",
       "    }\n",
       "</style>\n",
       "<table border=\"1\" class=\"dataframe\">\n",
       "  <thead>\n",
       "    <tr style=\"text-align: right;\">\n",
       "      <th></th>\n",
       "      <th>id</th>\n",
       "      <th>release_date</th>\n",
       "      <th>movie</th>\n",
       "      <th>production_budget</th>\n",
       "      <th>domestic_gross</th>\n",
       "      <th>worldwide_gross</th>\n",
       "      <th>profit</th>\n",
       "      <th>roi</th>\n",
       "    </tr>\n",
       "  </thead>\n",
       "  <tbody>\n",
       "    <tr>\n",
       "      <th>0</th>\n",
       "      <td>1</td>\n",
       "      <td>Dec 18, 2009</td>\n",
       "      <td>Avatar</td>\n",
       "      <td>425000000</td>\n",
       "      <td>760507625</td>\n",
       "      <td>2776345279</td>\n",
       "      <td>2351345279</td>\n",
       "      <td>5.532577</td>\n",
       "    </tr>\n",
       "    <tr>\n",
       "      <th>1</th>\n",
       "      <td>2</td>\n",
       "      <td>May 20, 2011</td>\n",
       "      <td>Pirates of the Caribbean: On Stranger Tides</td>\n",
       "      <td>410600000</td>\n",
       "      <td>241063875</td>\n",
       "      <td>1045663875</td>\n",
       "      <td>635063875</td>\n",
       "      <td>1.546673</td>\n",
       "    </tr>\n",
       "    <tr>\n",
       "      <th>2</th>\n",
       "      <td>3</td>\n",
       "      <td>Jun 7, 2019</td>\n",
       "      <td>Dark Phoenix</td>\n",
       "      <td>350000000</td>\n",
       "      <td>42762350</td>\n",
       "      <td>149762350</td>\n",
       "      <td>-200237650</td>\n",
       "      <td>-0.572108</td>\n",
       "    </tr>\n",
       "    <tr>\n",
       "      <th>3</th>\n",
       "      <td>4</td>\n",
       "      <td>May 1, 2015</td>\n",
       "      <td>Avengers: Age of Ultron</td>\n",
       "      <td>330600000</td>\n",
       "      <td>459005868</td>\n",
       "      <td>1403013963</td>\n",
       "      <td>1072413963</td>\n",
       "      <td>3.243841</td>\n",
       "    </tr>\n",
       "    <tr>\n",
       "      <th>4</th>\n",
       "      <td>5</td>\n",
       "      <td>Dec 15, 2017</td>\n",
       "      <td>Star Wars Ep. VIII: The Last Jedi</td>\n",
       "      <td>317000000</td>\n",
       "      <td>620181382</td>\n",
       "      <td>1316721747</td>\n",
       "      <td>999721747</td>\n",
       "      <td>3.153696</td>\n",
       "    </tr>\n",
       "  </tbody>\n",
       "</table>\n",
       "</div>"
      ],
      "text/plain": [
       "   id  release_date                                        movie  \\\n",
       "0   1  Dec 18, 2009                                       Avatar   \n",
       "1   2  May 20, 2011  Pirates of the Caribbean: On Stranger Tides   \n",
       "2   3   Jun 7, 2019                                 Dark Phoenix   \n",
       "3   4   May 1, 2015                      Avengers: Age of Ultron   \n",
       "4   5  Dec 15, 2017            Star Wars Ep. VIII: The Last Jedi   \n",
       "\n",
       "   production_budget  domestic_gross  worldwide_gross      profit       roi  \n",
       "0          425000000       760507625       2776345279  2351345279  5.532577  \n",
       "1          410600000       241063875       1045663875   635063875  1.546673  \n",
       "2          350000000        42762350        149762350  -200237650 -0.572108  \n",
       "3          330600000       459005868       1403013963  1072413963  3.243841  \n",
       "4          317000000       620181382       1316721747   999721747  3.153696  "
      ]
     },
     "execution_count": 30,
     "metadata": {},
     "output_type": "execute_result"
    }
   ],
   "source": [
    "#checkpoint to inspect data with additional columns\n",
    "movie_budgets_clean.head()"
   ]
  },
  {
   "cell_type": "code",
   "execution_count": 31,
   "metadata": {
    "ExecuteTime": {
     "end_time": "2020-06-20T23:45:44.792999Z",
     "start_time": "2020-06-20T23:45:44.776044Z"
    }
   },
   "outputs": [
    {
     "data": {
      "text/html": [
       "<div>\n",
       "<style scoped>\n",
       "    .dataframe tbody tr th:only-of-type {\n",
       "        vertical-align: middle;\n",
       "    }\n",
       "\n",
       "    .dataframe tbody tr th {\n",
       "        vertical-align: top;\n",
       "    }\n",
       "\n",
       "    .dataframe thead th {\n",
       "        text-align: right;\n",
       "    }\n",
       "</style>\n",
       "<table border=\"1\" class=\"dataframe\">\n",
       "  <thead>\n",
       "    <tr style=\"text-align: right;\">\n",
       "      <th></th>\n",
       "      <th>id</th>\n",
       "      <th>production_budget</th>\n",
       "      <th>domestic_gross</th>\n",
       "      <th>worldwide_gross</th>\n",
       "      <th>profit</th>\n",
       "      <th>roi</th>\n",
       "    </tr>\n",
       "  </thead>\n",
       "  <tbody>\n",
       "    <tr>\n",
       "      <th>count</th>\n",
       "      <td>5234.000000</td>\n",
       "      <td>5.234000e+03</td>\n",
       "      <td>5.234000e+03</td>\n",
       "      <td>5.234000e+03</td>\n",
       "      <td>5.234000e+03</td>\n",
       "      <td>5234.000000</td>\n",
       "    </tr>\n",
       "    <tr>\n",
       "      <th>mean</th>\n",
       "      <td>50.346580</td>\n",
       "      <td>3.403348e+07</td>\n",
       "      <td>4.625747e+07</td>\n",
       "      <td>1.007615e+08</td>\n",
       "      <td>6.672803e+07</td>\n",
       "      <td>4.267876</td>\n",
       "    </tr>\n",
       "    <tr>\n",
       "      <th>std</th>\n",
       "      <td>28.848667</td>\n",
       "      <td>4.296048e+07</td>\n",
       "      <td>7.029651e+07</td>\n",
       "      <td>1.811226e+08</td>\n",
       "      <td>1.518522e+08</td>\n",
       "      <td>30.997659</td>\n",
       "    </tr>\n",
       "    <tr>\n",
       "      <th>min</th>\n",
       "      <td>1.000000</td>\n",
       "      <td>1.100000e+03</td>\n",
       "      <td>3.880000e+02</td>\n",
       "      <td>4.010000e+02</td>\n",
       "      <td>-2.002376e+08</td>\n",
       "      <td>-0.999875</td>\n",
       "    </tr>\n",
       "    <tr>\n",
       "      <th>25%</th>\n",
       "      <td>25.000000</td>\n",
       "      <td>6.500000e+06</td>\n",
       "      <td>4.289718e+06</td>\n",
       "      <td>8.142571e+06</td>\n",
       "      <td>-1.396634e+06</td>\n",
       "      <td>-0.241161</td>\n",
       "    </tr>\n",
       "    <tr>\n",
       "      <th>50%</th>\n",
       "      <td>50.000000</td>\n",
       "      <td>2.000000e+07</td>\n",
       "      <td>2.198422e+07</td>\n",
       "      <td>3.543844e+07</td>\n",
       "      <td>1.357260e+07</td>\n",
       "      <td>0.961653</td>\n",
       "    </tr>\n",
       "    <tr>\n",
       "      <th>75%</th>\n",
       "      <td>75.000000</td>\n",
       "      <td>4.500000e+07</td>\n",
       "      <td>5.756598e+07</td>\n",
       "      <td>1.093357e+08</td>\n",
       "      <td>7.088258e+07</td>\n",
       "      <td>3.059457</td>\n",
       "    </tr>\n",
       "    <tr>\n",
       "      <th>max</th>\n",
       "      <td>100.000000</td>\n",
       "      <td>4.250000e+08</td>\n",
       "      <td>9.366622e+08</td>\n",
       "      <td>2.776345e+09</td>\n",
       "      <td>2.351345e+09</td>\n",
       "      <td>1799.000000</td>\n",
       "    </tr>\n",
       "  </tbody>\n",
       "</table>\n",
       "</div>"
      ],
      "text/plain": [
       "                id  production_budget  domestic_gross  worldwide_gross  \\\n",
       "count  5234.000000       5.234000e+03    5.234000e+03     5.234000e+03   \n",
       "mean     50.346580       3.403348e+07    4.625747e+07     1.007615e+08   \n",
       "std      28.848667       4.296048e+07    7.029651e+07     1.811226e+08   \n",
       "min       1.000000       1.100000e+03    3.880000e+02     4.010000e+02   \n",
       "25%      25.000000       6.500000e+06    4.289718e+06     8.142571e+06   \n",
       "50%      50.000000       2.000000e+07    2.198422e+07     3.543844e+07   \n",
       "75%      75.000000       4.500000e+07    5.756598e+07     1.093357e+08   \n",
       "max     100.000000       4.250000e+08    9.366622e+08     2.776345e+09   \n",
       "\n",
       "             profit          roi  \n",
       "count  5.234000e+03  5234.000000  \n",
       "mean   6.672803e+07     4.267876  \n",
       "std    1.518522e+08    30.997659  \n",
       "min   -2.002376e+08    -0.999875  \n",
       "25%   -1.396634e+06    -0.241161  \n",
       "50%    1.357260e+07     0.961653  \n",
       "75%    7.088258e+07     3.059457  \n",
       "max    2.351345e+09  1799.000000  "
      ]
     },
     "execution_count": 31,
     "metadata": {},
     "output_type": "execute_result"
    }
   ],
   "source": [
    "#Evaluating descriptive statistics, mean is much higher then median for profit\n",
    "# and ROI so we will remove outliers\n",
    "movie_budgets_clean.describe()"
   ]
  },
  {
   "cell_type": "code",
   "execution_count": 32,
   "metadata": {
    "ExecuteTime": {
     "end_time": "2020-06-20T23:45:45.415895Z",
     "start_time": "2020-06-20T23:45:45.411890Z"
    }
   },
   "outputs": [],
   "source": [
    "#remove outliers, any data below 2 standard deviations from the median are removed\n",
    "movie_budgets_outliers = movie_budgets_clean[movie_budgets_clean['roi'] < 0.961653 + (2*30.997659)] "
   ]
  },
  {
   "cell_type": "code",
   "execution_count": 33,
   "metadata": {
    "ExecuteTime": {
     "end_time": "2020-06-20T23:45:47.841033Z",
     "start_time": "2020-06-20T23:45:47.837031Z"
    }
   },
   "outputs": [],
   "source": [
    "#removing outliers from worldwide_gross column using the same method\n",
    "movie_budgets_outliers = movie_budgets_clean[movie_budgets_clean['worldwide_gross'] < 3.543844e+07+(2*1.811226e+08) ]"
   ]
  },
  {
   "cell_type": "code",
   "execution_count": 34,
   "metadata": {
    "ExecuteTime": {
     "end_time": "2020-06-20T23:45:48.242907Z",
     "start_time": "2020-06-20T23:45:48.239907Z"
    }
   },
   "outputs": [],
   "source": [
    "#removing any production budget below $10M as we assume that Microsoft will spend at least that\n",
    "movie_budgets_outliers = movie_budgets_clean[movie_budgets_clean['production_budget'] > 100000000]"
   ]
  },
  {
   "cell_type": "code",
   "execution_count": 35,
   "metadata": {
    "ExecuteTime": {
     "end_time": "2020-06-20T23:45:48.730506Z",
     "start_time": "2020-06-20T23:45:48.723526Z"
    }
   },
   "outputs": [
    {
     "data": {
      "text/html": [
       "<div>\n",
       "<style scoped>\n",
       "    .dataframe tbody tr th:only-of-type {\n",
       "        vertical-align: middle;\n",
       "    }\n",
       "\n",
       "    .dataframe tbody tr th {\n",
       "        vertical-align: top;\n",
       "    }\n",
       "\n",
       "    .dataframe thead th {\n",
       "        text-align: right;\n",
       "    }\n",
       "</style>\n",
       "<table border=\"1\" class=\"dataframe\">\n",
       "  <thead>\n",
       "    <tr style=\"text-align: right;\">\n",
       "      <th></th>\n",
       "      <th>id</th>\n",
       "      <th>release_date</th>\n",
       "      <th>movie</th>\n",
       "      <th>production_budget</th>\n",
       "      <th>domestic_gross</th>\n",
       "      <th>worldwide_gross</th>\n",
       "      <th>profit</th>\n",
       "      <th>roi</th>\n",
       "    </tr>\n",
       "  </thead>\n",
       "  <tbody>\n",
       "    <tr>\n",
       "      <th>0</th>\n",
       "      <td>1</td>\n",
       "      <td>Dec 18, 2009</td>\n",
       "      <td>Avatar</td>\n",
       "      <td>425000000</td>\n",
       "      <td>760507625</td>\n",
       "      <td>2776345279</td>\n",
       "      <td>2351345279</td>\n",
       "      <td>5.532577</td>\n",
       "    </tr>\n",
       "    <tr>\n",
       "      <th>1</th>\n",
       "      <td>2</td>\n",
       "      <td>May 20, 2011</td>\n",
       "      <td>Pirates of the Caribbean: On Stranger Tides</td>\n",
       "      <td>410600000</td>\n",
       "      <td>241063875</td>\n",
       "      <td>1045663875</td>\n",
       "      <td>635063875</td>\n",
       "      <td>1.546673</td>\n",
       "    </tr>\n",
       "    <tr>\n",
       "      <th>2</th>\n",
       "      <td>3</td>\n",
       "      <td>Jun 7, 2019</td>\n",
       "      <td>Dark Phoenix</td>\n",
       "      <td>350000000</td>\n",
       "      <td>42762350</td>\n",
       "      <td>149762350</td>\n",
       "      <td>-200237650</td>\n",
       "      <td>-0.572108</td>\n",
       "    </tr>\n",
       "    <tr>\n",
       "      <th>3</th>\n",
       "      <td>4</td>\n",
       "      <td>May 1, 2015</td>\n",
       "      <td>Avengers: Age of Ultron</td>\n",
       "      <td>330600000</td>\n",
       "      <td>459005868</td>\n",
       "      <td>1403013963</td>\n",
       "      <td>1072413963</td>\n",
       "      <td>3.243841</td>\n",
       "    </tr>\n",
       "    <tr>\n",
       "      <th>4</th>\n",
       "      <td>5</td>\n",
       "      <td>Dec 15, 2017</td>\n",
       "      <td>Star Wars Ep. VIII: The Last Jedi</td>\n",
       "      <td>317000000</td>\n",
       "      <td>620181382</td>\n",
       "      <td>1316721747</td>\n",
       "      <td>999721747</td>\n",
       "      <td>3.153696</td>\n",
       "    </tr>\n",
       "  </tbody>\n",
       "</table>\n",
       "</div>"
      ],
      "text/plain": [
       "   id  release_date                                        movie  \\\n",
       "0   1  Dec 18, 2009                                       Avatar   \n",
       "1   2  May 20, 2011  Pirates of the Caribbean: On Stranger Tides   \n",
       "2   3   Jun 7, 2019                                 Dark Phoenix   \n",
       "3   4   May 1, 2015                      Avengers: Age of Ultron   \n",
       "4   5  Dec 15, 2017            Star Wars Ep. VIII: The Last Jedi   \n",
       "\n",
       "   production_budget  domestic_gross  worldwide_gross      profit       roi  \n",
       "0          425000000       760507625       2776345279  2351345279  5.532577  \n",
       "1          410600000       241063875       1045663875   635063875  1.546673  \n",
       "2          350000000        42762350        149762350  -200237650 -0.572108  \n",
       "3          330600000       459005868       1403013963  1072413963  3.243841  \n",
       "4          317000000       620181382       1316721747   999721747  3.153696  "
      ]
     },
     "execution_count": 35,
     "metadata": {},
     "output_type": "execute_result"
    }
   ],
   "source": [
    "#recheking the data\n",
    "movie_budgets_outliers.head()"
   ]
  },
  {
   "cell_type": "markdown",
   "metadata": {},
   "source": [
    "# Visualizing the Data"
   ]
  },
  {
   "cell_type": "code",
   "execution_count": 25,
   "metadata": {
    "ExecuteTime": {
     "end_time": "2020-06-20T23:45:07.557448Z",
     "start_time": "2020-06-20T23:45:07.371442Z"
    }
   },
   "outputs": [
    {
     "data": {
      "text/plain": [
       "Text(0.5, 1.0, 'Production Budget vs Return on Investment')"
      ]
     },
     "execution_count": 25,
     "metadata": {},
     "output_type": "execute_result"
    },
    {
     "data": {
      "image/png": "[encoded data removed]",
      "text/plain": [
       "<Figure size 1080x720 with 1 Axes>"
      ]
     },
     "metadata": {},
     "output_type": "display_data"
    }
   ],
   "source": [
    "#creating scatterplot to visualize the relationship between ROI and Production Budget\n",
    "sns.set(rc={'figure.figsize':(15,10)})\n",
    "axis = sns.scatterplot(x= movie_budgets_outliers['roi'], \n",
    "                   y= movie_budgets_outliers['production_budget'], \n",
    "                   data=movie_budgets_outliers, color= 'dodgerblue')\n",
    "axis = axis.set(xlabel='Return on Investment (in percentages)'\n",
    "                , ylabel='Production Budget (in $100m)')\n",
    "plt.title('Production Budget vs Return on Investment')\n"
   ]
  },
  {
   "cell_type": "code",
   "execution_count": 24,
   "metadata": {
    "ExecuteTime": {
     "end_time": "2020-06-20T23:43:48.271344Z",
     "start_time": "2020-06-20T23:43:48.080659Z"
    }
   },
   "outputs": [
    {
     "data": {
      "text/plain": [
       "<matplotlib.axes._subplots.AxesSubplot at 0x1f2c1ce42c8>"
      ]
     },
     "execution_count": 24,
     "metadata": {},
     "output_type": "execute_result"
    },
    {
     "data": {
      "image/png": "[encoded data removed]",
      "text/plain": [
       "<Figure size 1080x720 with 1 Axes>"
      ]
     },
     "metadata": {},
     "output_type": "display_data"
    }
   ],
   "source": [
    "# Looking at the distribution of of ROI\n",
    "x = np.random.normal(size=100)\n",
    "sns.distplot(movie_budgets_outliers['roi'])"
   ]
  },
  {
   "cell_type": "code",
   "execution_count": 36,
   "metadata": {
    "ExecuteTime": {
     "end_time": "2020-06-20T23:46:28.457125Z",
     "start_time": "2020-06-20T23:46:28.251130Z"
    }
   },
   "outputs": [
    {
     "data": {
      "text/plain": [
       "<matplotlib.axes._subplots.AxesSubplot at 0x1f2c1cf68c8>"
      ]
     },
     "execution_count": 36,
     "metadata": {},
     "output_type": "execute_result"
    },
    {
     "data": {
      "image/png": "[encoded data removed]",
      "text/plain": [
       "<Figure size 1080x720 with 1 Axes>"
      ]
     },
     "metadata": {},
     "output_type": "display_data"
    }
   ],
   "source": [
    "#looking at the distribution of production budget\n",
    "x = np.random.normal(size=100)\n",
    "sns.distplot(movie_budgets_outliers['production_budget'])"
   ]
  },
  {
   "cell_type": "markdown",
   "metadata": {},
   "source": [
    " # Calculate Correlation"
   ]
  },
  {
   "cell_type": "code",
   "execution_count": 17,
   "metadata": {
    "ExecuteTime": {
     "end_time": "2020-06-20T23:32:32.523850Z",
     "start_time": "2020-06-20T23:32:32.519845Z"
    }
   },
   "outputs": [],
   "source": [
    "#normalize each dataset around the mean to prepare for covariance calculation\n",
    "def mean_normalize(var):\n",
    "\n",
    "    norm = [] # Vector for storing output values \n",
    "    \n",
    "    mean = sum(var)/len(var)\n",
    "        \n",
    "    # for each element in the vector, subtract from mean and add the result to norm\n",
    "    for i in var:\n",
    "        diff = i - mean\n",
    "        norm.append(diff)\n",
    "    \n",
    "    return norm"
   ]
  },
  {
   "cell_type": "code",
   "execution_count": 37,
   "metadata": {
    "ExecuteTime": {
     "end_time": "2020-06-20T23:48:09.836669Z",
     "start_time": "2020-06-20T23:48:09.833660Z"
    }
   },
   "outputs": [],
   "source": [
    "roi_normalized = mean_normalize(movie_budgets_outliers['roi'])\n",
    "production_budget_normalized = mean_normalize(movie_budgets_outliers['production_budget'])"
   ]
  },
  {
   "cell_type": "code",
   "execution_count": 20,
   "metadata": {
    "ExecuteTime": {
     "end_time": "2020-06-20T23:32:43.899819Z",
     "start_time": "2020-06-20T23:32:43.888849Z"
    }
   },
   "outputs": [
    {
     "data": {
      "text/plain": [
       "129350596286.0"
      ]
     },
     "execution_count": 20,
     "metadata": {},
     "output_type": "execute_result"
    }
   ],
   "source": [
    "# prepare a dot_product function between the two variables in preparation for covariance\n",
    "def dot_product(x, y):\n",
    "\n",
    "    prod_vec = 0  \n",
    "    \n",
    "    for i in range(len(x)):\n",
    "        prod = x[i]* y[i]\n",
    "        prod_vec += prod\n",
    "        \n",
    "\n",
    "    return prod_vec\n",
    "\n",
    "a = movie_budgets_outliers['roi']\n",
    "b = movie_budgets_outliers['production_budget']\n",
    "\n",
    "dot_product(a, b)"
   ]
  },
  {
   "cell_type": "code",
   "execution_count": 21,
   "metadata": {
    "ExecuteTime": {
     "end_time": "2020-06-20T23:32:46.488146Z",
     "start_time": "2020-06-20T23:32:46.483160Z"
    }
   },
   "outputs": [
    {
     "data": {
      "text/plain": [
       "7994308.750853862"
      ]
     },
     "execution_count": 21,
     "metadata": {},
     "output_type": "execute_result"
    }
   ],
   "source": [
    "#calculate covariance with the preceding two functions as precedence\n",
    "def covariance(var1, var2):\n",
    "\n",
    "\n",
    "    if len(var1) != len(var2):\n",
    "        return 'The lengths of both the lists should be equal.' \n",
    "    else: \n",
    "       \n",
    "        # Mean normalize both variables \n",
    "        x = mean_normalize(var1)\n",
    "        y = mean_normalize(var2)\n",
    "        \n",
    "        # Take the dot product of mean normalized variables\n",
    "        result = dot_product(x, y)\n",
    "\n",
    "        # divide the dot product by n-1    \n",
    "        return result /((len(var1)) - 1)\n",
    "\n",
    "\n",
    "covariance(movie_budgets_outliers['roi'], movie_budgets_outliers['production_budget'])"
   ]
  },
  {
   "cell_type": "code",
   "execution_count": 22,
   "metadata": {
    "ExecuteTime": {
     "end_time": "2020-06-20T23:32:48.493066Z",
     "start_time": "2020-06-20T23:32:48.487066Z"
    }
   },
   "outputs": [
    {
     "data": {
      "text/plain": [
       "0.09"
      ]
     },
     "execution_count": 22,
     "metadata": {},
     "output_type": "execute_result"
    }
   ],
   "source": [
    "#calculate the correclation using covariance and variance\n",
    "import math\n",
    "def correlation(var1, var2):\n",
    "    \n",
    "    if len(var1) != len(var2):\n",
    "        return 'The lengths of both the lists should be equal.' \n",
    "    else: \n",
    "       \n",
    "        mean_norm_var1 = mean_normalize(var1)\n",
    "        mean_norm_var2 = mean_normalize(var2)\n",
    "        \n",
    "        var1_dot_var2 = dot_product(mean_norm_var1, mean_norm_var2)\n",
    "        \n",
    "        var1_squared = [i * i for i in mean_norm_var1]\n",
    "        var2_squared = [i * i for i in mean_norm_var2]\n",
    "        \n",
    "        return round(var1_dot_var2 / math.sqrt(sum(var1_squared) * sum(var2_squared)), 2)\n",
    "\n",
    "correlation(movie_budgets_outliers['roi'], movie_budgets_outliers['production_budget'])"
   ]
  }
 ],
 "metadata": {
  "kernelspec": {
   "display_name": "Python 3",
   "language": "python",
   "name": "python3"
  },
  "language_info": {
   "codemirror_mode": {
    "name": "ipython",
    "version": 3
   },
   "file_extension": ".py",
   "mimetype": "text/x-python",
   "name": "python",
   "nbconvert_exporter": "python",
   "pygments_lexer": "ipython3",
   "version": "3.7.6"
  },
  "toc": {
   "base_numbering": 1,
   "nav_menu": {},
   "number_sections": true,
   "sideBar": true,
   "skip_h1_title": false,
   "title_cell": "Table of Contents",
   "title_sidebar": "Contents",
   "toc_cell": false,
   "toc_position": {},
   "toc_section_display": true,
   "toc_window_display": false
  },
  "varInspector": {
   "cols": {
    "lenName": 16,
    "lenType": 16,
    "lenVar": 40
   },
   "kernels_config": {
    "python": {
     "delete_cmd_postfix": "",
     "delete_cmd_prefix": "del ",
     "library": "var_list.py",
     "varRefreshCmd": "print(var_dic_list())"
    },
    "r": {
     "delete_cmd_postfix": ") ",
     "delete_cmd_prefix": "rm(",
     "library": "var_list.r",
     "varRefreshCmd": "cat(var_dic_list()) "
    }
   },
   "types_to_exclude": [
    "module",
    "function",
    "builtin_function_or_method",
    "instance",
    "_Feature"
   ],
   "window_display": false
  }
 },
 "nbformat": 4,
 "nbformat_minor": 2
}
