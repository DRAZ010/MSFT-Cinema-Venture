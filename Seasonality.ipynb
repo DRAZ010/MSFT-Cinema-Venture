{
 "cells": [
  {
   "cell_type": "markdown",
   "metadata": {},
   "source": [
    "# Importing necessary libraries"
   ]
  },
  {
   "cell_type": "code",
   "execution_count": 1,
   "metadata": {
    "ExecuteTime": {
     "end_time": "2020-06-20T19:07:18.936533Z",
     "start_time": "2020-06-20T19:07:18.202468Z"
    }
   },
   "outputs": [],
   "source": [
    "#importing the necessary libraries\n",
    "import os\n",
    "import pandas as pd\n",
    "import numpy as np\n",
    "import matplotlib.pyplot as plt\n",
    "import seaborn as sns\n",
    "from glob import glob\n",
    "import math \n",
    "import sys\n",
    "import statistics as stats"
   ]
  },
  {
   "cell_type": "markdown",
   "metadata": {},
   "source": [
    "# Import .csv Files"
   ]
  },
  {
   "cell_type": "code",
   "execution_count": 2,
   "metadata": {
    "ExecuteTime": {
     "end_time": "2020-06-20T19:07:18.948474Z",
     "start_time": "2020-06-20T19:07:18.937528Z"
    }
   },
   "outputs": [],
   "source": [
    "#importing movie_budgets_clean.csv\n",
    "movie_budgets_clean= pd.read_csv('databases/movie_budgets_clean.csv')"
   ]
  },
  {
   "cell_type": "code",
   "execution_count": 3,
   "metadata": {
    "ExecuteTime": {
     "end_time": "2020-06-20T19:07:18.955472Z",
     "start_time": "2020-06-20T19:07:18.949483Z"
    }
   },
   "outputs": [
    {
     "name": "stdout",
     "output_type": "stream",
     "text": [
      "<class 'pandas.core.frame.DataFrame'>\n",
      "RangeIndex: 5234 entries, 0 to 5233\n",
      "Data columns (total 6 columns):\n",
      "id                   5234 non-null int64\n",
      "release_date         5234 non-null object\n",
      "movie                5234 non-null object\n",
      "production_budget    5234 non-null int64\n",
      "domestic_gross       5234 non-null int64\n",
      "worldwide_gross      5234 non-null int64\n",
      "dtypes: int64(4), object(2)\n",
      "memory usage: 245.5+ KB\n"
     ]
    }
   ],
   "source": [
    "#checking for null values and datatypes\n",
    "movie_budgets_clean.info()"
   ]
  },
  {
   "cell_type": "markdown",
   "metadata": {},
   "source": [
    "# Data Engineering and Manipulation"
   ]
  },
  {
   "cell_type": "code",
   "execution_count": 4,
   "metadata": {
    "ExecuteTime": {
     "end_time": "2020-06-20T19:07:18.961452Z",
     "start_time": "2020-06-20T19:07:18.956465Z"
    }
   },
   "outputs": [],
   "source": [
    "#adding column 'profit' for each movies total profit\n",
    "movie_budgets_clean['profit'] = movie_budgets_clean['worldwide_gross'] - movie_budgets_clean['production_budget']\n"
   ]
  },
  {
   "cell_type": "code",
   "execution_count": 5,
   "metadata": {
    "ExecuteTime": {
     "end_time": "2020-06-20T19:07:18.966426Z",
     "start_time": "2020-06-20T19:07:18.962449Z"
    }
   },
   "outputs": [],
   "source": [
    "#calculate the return on investment(ROI) for each movie\n",
    "movie_budgets_clean['roi'] = (movie_budgets_clean['worldwide_gross'] / movie_budgets_clean['production_budget'] ) -1"
   ]
  },
  {
   "cell_type": "code",
   "execution_count": 6,
   "metadata": {
    "ExecuteTime": {
     "end_time": "2020-06-20T19:07:18.977416Z",
     "start_time": "2020-06-20T19:07:18.966426Z"
    }
   },
   "outputs": [
    {
     "data": {
      "text/html": [
       "<div>\n",
       "<style scoped>\n",
       "    .dataframe tbody tr th:only-of-type {\n",
       "        vertical-align: middle;\n",
       "    }\n",
       "\n",
       "    .dataframe tbody tr th {\n",
       "        vertical-align: top;\n",
       "    }\n",
       "\n",
       "    .dataframe thead th {\n",
       "        text-align: right;\n",
       "    }\n",
       "</style>\n",
       "<table border=\"1\" class=\"dataframe\">\n",
       "  <thead>\n",
       "    <tr style=\"text-align: right;\">\n",
       "      <th></th>\n",
       "      <th>id</th>\n",
       "      <th>release_date</th>\n",
       "      <th>movie</th>\n",
       "      <th>production_budget</th>\n",
       "      <th>domestic_gross</th>\n",
       "      <th>worldwide_gross</th>\n",
       "      <th>profit</th>\n",
       "      <th>roi</th>\n",
       "    </tr>\n",
       "  </thead>\n",
       "  <tbody>\n",
       "    <tr>\n",
       "      <td>0</td>\n",
       "      <td>1</td>\n",
       "      <td>Dec 18, 2009</td>\n",
       "      <td>Avatar</td>\n",
       "      <td>425000000</td>\n",
       "      <td>760507625</td>\n",
       "      <td>2776345279</td>\n",
       "      <td>2351345279</td>\n",
       "      <td>5.532577</td>\n",
       "    </tr>\n",
       "    <tr>\n",
       "      <td>1</td>\n",
       "      <td>2</td>\n",
       "      <td>May 20, 2011</td>\n",
       "      <td>Pirates of the Caribbean: On Stranger Tides</td>\n",
       "      <td>410600000</td>\n",
       "      <td>241063875</td>\n",
       "      <td>1045663875</td>\n",
       "      <td>635063875</td>\n",
       "      <td>1.546673</td>\n",
       "    </tr>\n",
       "    <tr>\n",
       "      <td>2</td>\n",
       "      <td>3</td>\n",
       "      <td>Jun 7, 2019</td>\n",
       "      <td>Dark Phoenix</td>\n",
       "      <td>350000000</td>\n",
       "      <td>42762350</td>\n",
       "      <td>149762350</td>\n",
       "      <td>-200237650</td>\n",
       "      <td>-0.572108</td>\n",
       "    </tr>\n",
       "    <tr>\n",
       "      <td>3</td>\n",
       "      <td>4</td>\n",
       "      <td>May 1, 2015</td>\n",
       "      <td>Avengers: Age of Ultron</td>\n",
       "      <td>330600000</td>\n",
       "      <td>459005868</td>\n",
       "      <td>1403013963</td>\n",
       "      <td>1072413963</td>\n",
       "      <td>3.243841</td>\n",
       "    </tr>\n",
       "    <tr>\n",
       "      <td>4</td>\n",
       "      <td>5</td>\n",
       "      <td>Dec 15, 2017</td>\n",
       "      <td>Star Wars Ep. VIII: The Last Jedi</td>\n",
       "      <td>317000000</td>\n",
       "      <td>620181382</td>\n",
       "      <td>1316721747</td>\n",
       "      <td>999721747</td>\n",
       "      <td>3.153696</td>\n",
       "    </tr>\n",
       "  </tbody>\n",
       "</table>\n",
       "</div>"
      ],
      "text/plain": [
       "   id  release_date                                        movie  \\\n",
       "0   1  Dec 18, 2009                                       Avatar   \n",
       "1   2  May 20, 2011  Pirates of the Caribbean: On Stranger Tides   \n",
       "2   3   Jun 7, 2019                                 Dark Phoenix   \n",
       "3   4   May 1, 2015                      Avengers: Age of Ultron   \n",
       "4   5  Dec 15, 2017            Star Wars Ep. VIII: The Last Jedi   \n",
       "\n",
       "   production_budget  domestic_gross  worldwide_gross      profit       roi  \n",
       "0          425000000       760507625       2776345279  2351345279  5.532577  \n",
       "1          410600000       241063875       1045663875   635063875  1.546673  \n",
       "2          350000000        42762350        149762350  -200237650 -0.572108  \n",
       "3          330600000       459005868       1403013963  1072413963  3.243841  \n",
       "4          317000000       620181382       1316721747   999721747  3.153696  "
      ]
     },
     "execution_count": 6,
     "metadata": {},
     "output_type": "execute_result"
    }
   ],
   "source": [
    "#checkpoint to inspect data with additional columns\n",
    "movie_budgets_clean.head()"
   ]
  },
  {
   "cell_type": "code",
   "execution_count": 7,
   "metadata": {
    "ExecuteTime": {
     "end_time": "2020-06-20T19:07:18.998353Z",
     "start_time": "2020-06-20T19:07:18.978393Z"
    }
   },
   "outputs": [
    {
     "data": {
      "text/html": [
       "<div>\n",
       "<style scoped>\n",
       "    .dataframe tbody tr th:only-of-type {\n",
       "        vertical-align: middle;\n",
       "    }\n",
       "\n",
       "    .dataframe tbody tr th {\n",
       "        vertical-align: top;\n",
       "    }\n",
       "\n",
       "    .dataframe thead th {\n",
       "        text-align: right;\n",
       "    }\n",
       "</style>\n",
       "<table border=\"1\" class=\"dataframe\">\n",
       "  <thead>\n",
       "    <tr style=\"text-align: right;\">\n",
       "      <th></th>\n",
       "      <th>id</th>\n",
       "      <th>production_budget</th>\n",
       "      <th>domestic_gross</th>\n",
       "      <th>worldwide_gross</th>\n",
       "      <th>profit</th>\n",
       "      <th>roi</th>\n",
       "    </tr>\n",
       "  </thead>\n",
       "  <tbody>\n",
       "    <tr>\n",
       "      <td>count</td>\n",
       "      <td>5234.000000</td>\n",
       "      <td>5.234000e+03</td>\n",
       "      <td>5.234000e+03</td>\n",
       "      <td>5.234000e+03</td>\n",
       "      <td>5.234000e+03</td>\n",
       "      <td>5234.000000</td>\n",
       "    </tr>\n",
       "    <tr>\n",
       "      <td>mean</td>\n",
       "      <td>50.346580</td>\n",
       "      <td>3.403348e+07</td>\n",
       "      <td>4.625747e+07</td>\n",
       "      <td>1.007615e+08</td>\n",
       "      <td>6.672803e+07</td>\n",
       "      <td>4.267876</td>\n",
       "    </tr>\n",
       "    <tr>\n",
       "      <td>std</td>\n",
       "      <td>28.848667</td>\n",
       "      <td>4.296048e+07</td>\n",
       "      <td>7.029651e+07</td>\n",
       "      <td>1.811226e+08</td>\n",
       "      <td>1.518522e+08</td>\n",
       "      <td>30.997659</td>\n",
       "    </tr>\n",
       "    <tr>\n",
       "      <td>min</td>\n",
       "      <td>1.000000</td>\n",
       "      <td>1.100000e+03</td>\n",
       "      <td>3.880000e+02</td>\n",
       "      <td>4.010000e+02</td>\n",
       "      <td>-2.002376e+08</td>\n",
       "      <td>-0.999875</td>\n",
       "    </tr>\n",
       "    <tr>\n",
       "      <td>25%</td>\n",
       "      <td>25.000000</td>\n",
       "      <td>6.500000e+06</td>\n",
       "      <td>4.289718e+06</td>\n",
       "      <td>8.142571e+06</td>\n",
       "      <td>-1.396634e+06</td>\n",
       "      <td>-0.241161</td>\n",
       "    </tr>\n",
       "    <tr>\n",
       "      <td>50%</td>\n",
       "      <td>50.000000</td>\n",
       "      <td>2.000000e+07</td>\n",
       "      <td>2.198422e+07</td>\n",
       "      <td>3.543844e+07</td>\n",
       "      <td>1.357260e+07</td>\n",
       "      <td>0.961653</td>\n",
       "    </tr>\n",
       "    <tr>\n",
       "      <td>75%</td>\n",
       "      <td>75.000000</td>\n",
       "      <td>4.500000e+07</td>\n",
       "      <td>5.756598e+07</td>\n",
       "      <td>1.093357e+08</td>\n",
       "      <td>7.088258e+07</td>\n",
       "      <td>3.059457</td>\n",
       "    </tr>\n",
       "    <tr>\n",
       "      <td>max</td>\n",
       "      <td>100.000000</td>\n",
       "      <td>4.250000e+08</td>\n",
       "      <td>9.366622e+08</td>\n",
       "      <td>2.776345e+09</td>\n",
       "      <td>2.351345e+09</td>\n",
       "      <td>1799.000000</td>\n",
       "    </tr>\n",
       "  </tbody>\n",
       "</table>\n",
       "</div>"
      ],
      "text/plain": [
       "                id  production_budget  domestic_gross  worldwide_gross  \\\n",
       "count  5234.000000       5.234000e+03    5.234000e+03     5.234000e+03   \n",
       "mean     50.346580       3.403348e+07    4.625747e+07     1.007615e+08   \n",
       "std      28.848667       4.296048e+07    7.029651e+07     1.811226e+08   \n",
       "min       1.000000       1.100000e+03    3.880000e+02     4.010000e+02   \n",
       "25%      25.000000       6.500000e+06    4.289718e+06     8.142571e+06   \n",
       "50%      50.000000       2.000000e+07    2.198422e+07     3.543844e+07   \n",
       "75%      75.000000       4.500000e+07    5.756598e+07     1.093357e+08   \n",
       "max     100.000000       4.250000e+08    9.366622e+08     2.776345e+09   \n",
       "\n",
       "             profit          roi  \n",
       "count  5.234000e+03  5234.000000  \n",
       "mean   6.672803e+07     4.267876  \n",
       "std    1.518522e+08    30.997659  \n",
       "min   -2.002376e+08    -0.999875  \n",
       "25%   -1.396634e+06    -0.241161  \n",
       "50%    1.357260e+07     0.961653  \n",
       "75%    7.088258e+07     3.059457  \n",
       "max    2.351345e+09  1799.000000  "
      ]
     },
     "execution_count": 7,
     "metadata": {},
     "output_type": "execute_result"
    }
   ],
   "source": [
    "#Evaluating descriptive statistics, mean is much higher then median for profit\n",
    "# and ROI so we will remove outliers\n",
    "movie_budgets_clean.describe()"
   ]
  },
  {
   "cell_type": "code",
   "execution_count": 8,
   "metadata": {
    "ExecuteTime": {
     "end_time": "2020-06-20T19:07:19.003327Z",
     "start_time": "2020-06-20T19:07:18.999337Z"
    }
   },
   "outputs": [],
   "source": [
    "#remove outliers, any data below 2 standard deviations from the median are removed\n",
    "movie_budgets_outliers = movie_budgets_clean[movie_budgets_clean['roi'] < 0.961653 + (2*30.997659)] "
   ]
  },
  {
   "cell_type": "code",
   "execution_count": 9,
   "metadata": {
    "ExecuteTime": {
     "end_time": "2020-06-20T19:07:19.008313Z",
     "start_time": "2020-06-20T19:07:19.003327Z"
    }
   },
   "outputs": [],
   "source": [
    "#removing outliers from worldwide_gross column using the same method\n",
    "movie_budgets_outliers = movie_budgets_clean[movie_budgets_clean['worldwide_gross'] < 3.543844e+07+(2*1.811226e+08) ]"
   ]
  },
  {
   "cell_type": "code",
   "execution_count": 10,
   "metadata": {
    "ExecuteTime": {
     "end_time": "2020-06-20T19:07:19.013300Z",
     "start_time": "2020-06-20T19:07:19.009311Z"
    }
   },
   "outputs": [],
   "source": [
    "#removing any production budget below $10M as we assume that Microsoft will spend at least that\n",
    "movie_budgets_outliers = movie_budgets_clean[movie_budgets_clean['production_budget'] > 100000000]"
   ]
  },
  {
   "cell_type": "code",
   "execution_count": 11,
   "metadata": {
    "ExecuteTime": {
     "end_time": "2020-06-20T19:07:19.021279Z",
     "start_time": "2020-06-20T19:07:19.014297Z"
    }
   },
   "outputs": [
    {
     "data": {
      "text/html": [
       "<div>\n",
       "<style scoped>\n",
       "    .dataframe tbody tr th:only-of-type {\n",
       "        vertical-align: middle;\n",
       "    }\n",
       "\n",
       "    .dataframe tbody tr th {\n",
       "        vertical-align: top;\n",
       "    }\n",
       "\n",
       "    .dataframe thead th {\n",
       "        text-align: right;\n",
       "    }\n",
       "</style>\n",
       "<table border=\"1\" class=\"dataframe\">\n",
       "  <thead>\n",
       "    <tr style=\"text-align: right;\">\n",
       "      <th></th>\n",
       "      <th>0</th>\n",
       "      <th>1</th>\n",
       "      <th>2</th>\n",
       "    </tr>\n",
       "  </thead>\n",
       "  <tbody>\n",
       "    <tr>\n",
       "      <td>0</td>\n",
       "      <td>Dec</td>\n",
       "      <td>18,</td>\n",
       "      <td>2009</td>\n",
       "    </tr>\n",
       "    <tr>\n",
       "      <td>1</td>\n",
       "      <td>May</td>\n",
       "      <td>20,</td>\n",
       "      <td>2011</td>\n",
       "    </tr>\n",
       "    <tr>\n",
       "      <td>2</td>\n",
       "      <td>Jun</td>\n",
       "      <td>7,</td>\n",
       "      <td>2019</td>\n",
       "    </tr>\n",
       "    <tr>\n",
       "      <td>3</td>\n",
       "      <td>May</td>\n",
       "      <td>1,</td>\n",
       "      <td>2015</td>\n",
       "    </tr>\n",
       "    <tr>\n",
       "      <td>4</td>\n",
       "      <td>Dec</td>\n",
       "      <td>15,</td>\n",
       "      <td>2017</td>\n",
       "    </tr>\n",
       "  </tbody>\n",
       "</table>\n",
       "</div>"
      ],
      "text/plain": [
       "     0    1     2\n",
       "0  Dec  18,  2009\n",
       "1  May  20,  2011\n",
       "2  Jun   7,  2019\n",
       "3  May   1,  2015\n",
       "4  Dec  15,  2017"
      ]
     },
     "execution_count": 11,
     "metadata": {},
     "output_type": "execute_result"
    }
   ],
   "source": [
    "#in order to complete a seasonality analysis we need to group data by month in order\n",
    "#to access monthly data we need to break up the release_date column\n",
    "date_split = movie_budgets_outliers.release_date.str.split(\" \",expand=True)\n",
    "#new dataframe called \"date_split\"  contains the month, day, year from the release_date column\n",
    "date_split.head()"
   ]
  },
  {
   "cell_type": "code",
   "execution_count": 12,
   "metadata": {
    "ExecuteTime": {
     "end_time": "2020-06-20T19:07:19.033247Z",
     "start_time": "2020-06-20T19:07:19.022276Z"
    }
   },
   "outputs": [
    {
     "data": {
      "text/html": [
       "<div>\n",
       "<style scoped>\n",
       "    .dataframe tbody tr th:only-of-type {\n",
       "        vertical-align: middle;\n",
       "    }\n",
       "\n",
       "    .dataframe tbody tr th {\n",
       "        vertical-align: top;\n",
       "    }\n",
       "\n",
       "    .dataframe thead th {\n",
       "        text-align: right;\n",
       "    }\n",
       "</style>\n",
       "<table border=\"1\" class=\"dataframe\">\n",
       "  <thead>\n",
       "    <tr style=\"text-align: right;\">\n",
       "      <th></th>\n",
       "      <th>0</th>\n",
       "      <th>1</th>\n",
       "      <th>2</th>\n",
       "      <th>id</th>\n",
       "      <th>release_date</th>\n",
       "      <th>movie</th>\n",
       "      <th>production_budget</th>\n",
       "      <th>domestic_gross</th>\n",
       "      <th>worldwide_gross</th>\n",
       "      <th>profit</th>\n",
       "      <th>roi</th>\n",
       "    </tr>\n",
       "  </thead>\n",
       "  <tbody>\n",
       "    <tr>\n",
       "      <td>0</td>\n",
       "      <td>Dec</td>\n",
       "      <td>18,</td>\n",
       "      <td>2009</td>\n",
       "      <td>1</td>\n",
       "      <td>Dec 18, 2009</td>\n",
       "      <td>Avatar</td>\n",
       "      <td>425000000</td>\n",
       "      <td>760507625</td>\n",
       "      <td>2776345279</td>\n",
       "      <td>2351345279</td>\n",
       "      <td>5.532577</td>\n",
       "    </tr>\n",
       "    <tr>\n",
       "      <td>1</td>\n",
       "      <td>May</td>\n",
       "      <td>20,</td>\n",
       "      <td>2011</td>\n",
       "      <td>2</td>\n",
       "      <td>May 20, 2011</td>\n",
       "      <td>Pirates of the Caribbean: On Stranger Tides</td>\n",
       "      <td>410600000</td>\n",
       "      <td>241063875</td>\n",
       "      <td>1045663875</td>\n",
       "      <td>635063875</td>\n",
       "      <td>1.546673</td>\n",
       "    </tr>\n",
       "    <tr>\n",
       "      <td>2</td>\n",
       "      <td>Jun</td>\n",
       "      <td>7,</td>\n",
       "      <td>2019</td>\n",
       "      <td>3</td>\n",
       "      <td>Jun 7, 2019</td>\n",
       "      <td>Dark Phoenix</td>\n",
       "      <td>350000000</td>\n",
       "      <td>42762350</td>\n",
       "      <td>149762350</td>\n",
       "      <td>-200237650</td>\n",
       "      <td>-0.572108</td>\n",
       "    </tr>\n",
       "    <tr>\n",
       "      <td>3</td>\n",
       "      <td>May</td>\n",
       "      <td>1,</td>\n",
       "      <td>2015</td>\n",
       "      <td>4</td>\n",
       "      <td>May 1, 2015</td>\n",
       "      <td>Avengers: Age of Ultron</td>\n",
       "      <td>330600000</td>\n",
       "      <td>459005868</td>\n",
       "      <td>1403013963</td>\n",
       "      <td>1072413963</td>\n",
       "      <td>3.243841</td>\n",
       "    </tr>\n",
       "    <tr>\n",
       "      <td>4</td>\n",
       "      <td>Dec</td>\n",
       "      <td>15,</td>\n",
       "      <td>2017</td>\n",
       "      <td>5</td>\n",
       "      <td>Dec 15, 2017</td>\n",
       "      <td>Star Wars Ep. VIII: The Last Jedi</td>\n",
       "      <td>317000000</td>\n",
       "      <td>620181382</td>\n",
       "      <td>1316721747</td>\n",
       "      <td>999721747</td>\n",
       "      <td>3.153696</td>\n",
       "    </tr>\n",
       "  </tbody>\n",
       "</table>\n",
       "</div>"
      ],
      "text/plain": [
       "     0    1     2  id  release_date  \\\n",
       "0  Dec  18,  2009   1  Dec 18, 2009   \n",
       "1  May  20,  2011   2  May 20, 2011   \n",
       "2  Jun   7,  2019   3   Jun 7, 2019   \n",
       "3  May   1,  2015   4   May 1, 2015   \n",
       "4  Dec  15,  2017   5  Dec 15, 2017   \n",
       "\n",
       "                                         movie  production_budget  \\\n",
       "0                                       Avatar          425000000   \n",
       "1  Pirates of the Caribbean: On Stranger Tides          410600000   \n",
       "2                                 Dark Phoenix          350000000   \n",
       "3                      Avengers: Age of Ultron          330600000   \n",
       "4            Star Wars Ep. VIII: The Last Jedi          317000000   \n",
       "\n",
       "   domestic_gross  worldwide_gross      profit       roi  \n",
       "0       760507625       2776345279  2351345279  5.532577  \n",
       "1       241063875       1045663875   635063875  1.546673  \n",
       "2        42762350        149762350  -200237650 -0.572108  \n",
       "3       459005868       1403013963  1072413963  3.243841  \n",
       "4       620181382       1316721747   999721747  3.153696  "
      ]
     },
     "execution_count": 12,
     "metadata": {},
     "output_type": "execute_result"
    }
   ],
   "source": [
    "#we need to combine the date_split dataframe with the movie_budge_outliers dataframe\n",
    "#to group revenue, profits and roi by month\n",
    "seasonlity_analysis = pd.concat([date_split, movie_budgets_outliers], axis=1)\n",
    "#forumula above concatenates the two dataframes into a new dataframe called 'seasonality_analysis' \n",
    "seasonlity_analysis.head()"
   ]
  },
  {
   "cell_type": "code",
   "execution_count": 13,
   "metadata": {
    "ExecuteTime": {
     "end_time": "2020-06-20T19:07:19.039231Z",
     "start_time": "2020-06-20T19:07:19.034244Z"
    }
   },
   "outputs": [],
   "source": [
    "#renaming the date columns\n",
    "seasonlity_analysis = seasonlity_analysis.rename(columns={ 0 : 'month', 1: 'day', 2: 'year'})"
   ]
  },
  {
   "cell_type": "code",
   "execution_count": 14,
   "metadata": {
    "ExecuteTime": {
     "end_time": "2020-06-20T19:07:19.053193Z",
     "start_time": "2020-06-20T19:07:19.040228Z"
    }
   },
   "outputs": [
    {
     "data": {
      "text/html": [
       "<div>\n",
       "<style scoped>\n",
       "    .dataframe tbody tr th:only-of-type {\n",
       "        vertical-align: middle;\n",
       "    }\n",
       "\n",
       "    .dataframe tbody tr th {\n",
       "        vertical-align: top;\n",
       "    }\n",
       "\n",
       "    .dataframe thead th {\n",
       "        text-align: right;\n",
       "    }\n",
       "</style>\n",
       "<table border=\"1\" class=\"dataframe\">\n",
       "  <thead>\n",
       "    <tr style=\"text-align: right;\">\n",
       "      <th></th>\n",
       "      <th>month</th>\n",
       "      <th>day</th>\n",
       "      <th>year</th>\n",
       "      <th>id</th>\n",
       "      <th>release_date</th>\n",
       "      <th>movie</th>\n",
       "      <th>production_budget</th>\n",
       "      <th>domestic_gross</th>\n",
       "      <th>worldwide_gross</th>\n",
       "      <th>profit</th>\n",
       "      <th>roi</th>\n",
       "    </tr>\n",
       "  </thead>\n",
       "  <tbody>\n",
       "    <tr>\n",
       "      <td>201</td>\n",
       "      <td>Apr</td>\n",
       "      <td>8,</td>\n",
       "      <td>2005</td>\n",
       "      <td>3</td>\n",
       "      <td>Apr 8, 2005</td>\n",
       "      <td>Sahara</td>\n",
       "      <td>145000000</td>\n",
       "      <td>68671925</td>\n",
       "      <td>121671925</td>\n",
       "      <td>-23328075</td>\n",
       "      <td>-0.160883</td>\n",
       "    </tr>\n",
       "    <tr>\n",
       "      <td>22</td>\n",
       "      <td>Apr</td>\n",
       "      <td>14,</td>\n",
       "      <td>2017</td>\n",
       "      <td>23</td>\n",
       "      <td>Apr 14, 2017</td>\n",
       "      <td>The Fate of the Furious</td>\n",
       "      <td>250000000</td>\n",
       "      <td>225764765</td>\n",
       "      <td>1234846267</td>\n",
       "      <td>984846267</td>\n",
       "      <td>3.939385</td>\n",
       "    </tr>\n",
       "    <tr>\n",
       "      <td>66</td>\n",
       "      <td>Apr</td>\n",
       "      <td>3,</td>\n",
       "      <td>2015</td>\n",
       "      <td>67</td>\n",
       "      <td>Apr 3, 2015</td>\n",
       "      <td>Furious 7</td>\n",
       "      <td>190000000</td>\n",
       "      <td>353007020</td>\n",
       "      <td>1518722794</td>\n",
       "      <td>1328722794</td>\n",
       "      <td>6.993278</td>\n",
       "    </tr>\n",
       "    <tr>\n",
       "      <td>96</td>\n",
       "      <td>Apr</td>\n",
       "      <td>15,</td>\n",
       "      <td>2016</td>\n",
       "      <td>97</td>\n",
       "      <td>Apr 15, 2016</td>\n",
       "      <td>The Jungle Book</td>\n",
       "      <td>175000000</td>\n",
       "      <td>364001123</td>\n",
       "      <td>962854547</td>\n",
       "      <td>787854547</td>\n",
       "      <td>4.502026</td>\n",
       "    </tr>\n",
       "    <tr>\n",
       "      <td>308</td>\n",
       "      <td>Apr</td>\n",
       "      <td>22,</td>\n",
       "      <td>2016</td>\n",
       "      <td>10</td>\n",
       "      <td>Apr 22, 2016</td>\n",
       "      <td>The Huntsman: Winterâs War</td>\n",
       "      <td>115000000</td>\n",
       "      <td>48003015</td>\n",
       "      <td>165149302</td>\n",
       "      <td>50149302</td>\n",
       "      <td>0.436081</td>\n",
       "    </tr>\n",
       "    <tr>\n",
       "      <td>...</td>\n",
       "      <td>...</td>\n",
       "      <td>...</td>\n",
       "      <td>...</td>\n",
       "      <td>...</td>\n",
       "      <td>...</td>\n",
       "      <td>...</td>\n",
       "      <td>...</td>\n",
       "      <td>...</td>\n",
       "      <td>...</td>\n",
       "      <td>...</td>\n",
       "      <td>...</td>\n",
       "    </tr>\n",
       "    <tr>\n",
       "      <td>344</td>\n",
       "      <td>Oct</td>\n",
       "      <td>2,</td>\n",
       "      <td>2015</td>\n",
       "      <td>46</td>\n",
       "      <td>Oct 2, 2015</td>\n",
       "      <td>The Martian</td>\n",
       "      <td>108000000</td>\n",
       "      <td>228433663</td>\n",
       "      <td>655271443</td>\n",
       "      <td>547271443</td>\n",
       "      <td>5.067328</td>\n",
       "    </tr>\n",
       "    <tr>\n",
       "      <td>361</td>\n",
       "      <td>Oct</td>\n",
       "      <td>26,</td>\n",
       "      <td>2012</td>\n",
       "      <td>63</td>\n",
       "      <td>Oct 26, 2012</td>\n",
       "      <td>Cloud Atlas</td>\n",
       "      <td>102000000</td>\n",
       "      <td>27108272</td>\n",
       "      <td>130673154</td>\n",
       "      <td>28673154</td>\n",
       "      <td>0.281109</td>\n",
       "    </tr>\n",
       "    <tr>\n",
       "      <td>352</td>\n",
       "      <td>Sep</td>\n",
       "      <td>22,</td>\n",
       "      <td>2017</td>\n",
       "      <td>54</td>\n",
       "      <td>Sep 22, 2017</td>\n",
       "      <td>Kingsman: The Golden Circle</td>\n",
       "      <td>104000000</td>\n",
       "      <td>100234838</td>\n",
       "      <td>408803696</td>\n",
       "      <td>304803696</td>\n",
       "      <td>2.930805</td>\n",
       "    </tr>\n",
       "    <tr>\n",
       "      <td>328</td>\n",
       "      <td>Sep</td>\n",
       "      <td>30,</td>\n",
       "      <td>2016</td>\n",
       "      <td>30</td>\n",
       "      <td>Sep 30, 2016</td>\n",
       "      <td>Miss Peregrineâs Home for Peculiar Children</td>\n",
       "      <td>110000000</td>\n",
       "      <td>87242834</td>\n",
       "      <td>295986876</td>\n",
       "      <td>185986876</td>\n",
       "      <td>1.690790</td>\n",
       "    </tr>\n",
       "    <tr>\n",
       "      <td>146</td>\n",
       "      <td>Sep</td>\n",
       "      <td>30,</td>\n",
       "      <td>2016</td>\n",
       "      <td>47</td>\n",
       "      <td>Sep 30, 2016</td>\n",
       "      <td>Deepwater Horizon</td>\n",
       "      <td>156000000</td>\n",
       "      <td>61433527</td>\n",
       "      <td>122603824</td>\n",
       "      <td>-33396176</td>\n",
       "      <td>-0.214078</td>\n",
       "    </tr>\n",
       "  </tbody>\n",
       "</table>\n",
       "<p>362 rows × 11 columns</p>\n",
       "</div>"
      ],
      "text/plain": [
       "    month  day  year  id  release_date  \\\n",
       "201   Apr   8,  2005   3   Apr 8, 2005   \n",
       "22    Apr  14,  2017  23  Apr 14, 2017   \n",
       "66    Apr   3,  2015  67   Apr 3, 2015   \n",
       "96    Apr  15,  2016  97  Apr 15, 2016   \n",
       "308   Apr  22,  2016  10  Apr 22, 2016   \n",
       "..    ...  ...   ...  ..           ...   \n",
       "344   Oct   2,  2015  46   Oct 2, 2015   \n",
       "361   Oct  26,  2012  63  Oct 26, 2012   \n",
       "352   Sep  22,  2017  54  Sep 22, 2017   \n",
       "328   Sep  30,  2016  30  Sep 30, 2016   \n",
       "146   Sep  30,  2016  47  Sep 30, 2016   \n",
       "\n",
       "                                             movie  production_budget  \\\n",
       "201                                         Sahara          145000000   \n",
       "22                         The Fate of the Furious          250000000   \n",
       "66                                       Furious 7          190000000   \n",
       "96                                 The Jungle Book          175000000   \n",
       "308                   The Huntsman: Winterâs War          115000000   \n",
       "..                                             ...                ...   \n",
       "344                                    The Martian          108000000   \n",
       "361                                    Cloud Atlas          102000000   \n",
       "352                    Kingsman: The Golden Circle          104000000   \n",
       "328  Miss Peregrineâs Home for Peculiar Children          110000000   \n",
       "146                              Deepwater Horizon          156000000   \n",
       "\n",
       "     domestic_gross  worldwide_gross      profit       roi  \n",
       "201        68671925        121671925   -23328075 -0.160883  \n",
       "22        225764765       1234846267   984846267  3.939385  \n",
       "66        353007020       1518722794  1328722794  6.993278  \n",
       "96        364001123        962854547   787854547  4.502026  \n",
       "308        48003015        165149302    50149302  0.436081  \n",
       "..              ...              ...         ...       ...  \n",
       "344       228433663        655271443   547271443  5.067328  \n",
       "361        27108272        130673154    28673154  0.281109  \n",
       "352       100234838        408803696   304803696  2.930805  \n",
       "328        87242834        295986876   185986876  1.690790  \n",
       "146        61433527        122603824   -33396176 -0.214078  \n",
       "\n",
       "[362 rows x 11 columns]"
      ]
     },
     "execution_count": 14,
     "metadata": {},
     "output_type": "execute_result"
    }
   ],
   "source": [
    "seasonlity_analysis = seasonlity_analysis.sort_values('month')\n",
    "#function above sort's the dataframe by the month column,\n",
    "#months are not in order we need to find a solution to order the months\n",
    "seasonlity_analysis"
   ]
  },
  {
   "cell_type": "code",
   "execution_count": 15,
   "metadata": {
    "ExecuteTime": {
     "end_time": "2020-06-20T19:07:19.060175Z",
     "start_time": "2020-06-20T19:07:19.053193Z"
    }
   },
   "outputs": [],
   "source": [
    "#code below creates a dictionary of months with their rank\n",
    "monthdict = { 'Jan' : 1, 'Feb': 2, 'Mar': 3, 'Apr': 4, \"May\": 5, \"Jun\": 6,\n",
    "         'Jul' : 7, 'Aug' : 8, 'Sep' : 9, 'Oct' : 10, 'Nov' : 11, 'Dec' : 12}\n",
    "#then we replace the current named months by a numberical value corresponding to\n",
    "#each months ranked order in the year (below)\n",
    "seasonlity_analysis = seasonlity_analysis.replace({'month': monthdict})                         "
   ]
  },
  {
   "cell_type": "code",
   "execution_count": 16,
   "metadata": {
    "ExecuteTime": {
     "end_time": "2020-06-20T19:07:19.065161Z",
     "start_time": "2020-06-20T19:07:19.061172Z"
    }
   },
   "outputs": [],
   "source": [
    "#in the code below we sort the dataframe by the new month column\n",
    "seasonlity_analysis = seasonlity_analysis.sort_values('month')"
   ]
  },
  {
   "cell_type": "code",
   "execution_count": 17,
   "metadata": {
    "ExecuteTime": {
     "end_time": "2020-06-20T19:07:19.076150Z",
     "start_time": "2020-06-20T19:07:19.066160Z"
    }
   },
   "outputs": [
    {
     "data": {
      "text/html": [
       "<div>\n",
       "<style scoped>\n",
       "    .dataframe tbody tr th:only-of-type {\n",
       "        vertical-align: middle;\n",
       "    }\n",
       "\n",
       "    .dataframe tbody tr th {\n",
       "        vertical-align: top;\n",
       "    }\n",
       "\n",
       "    .dataframe thead th {\n",
       "        text-align: right;\n",
       "    }\n",
       "</style>\n",
       "<table border=\"1\" class=\"dataframe\">\n",
       "  <thead>\n",
       "    <tr style=\"text-align: right;\">\n",
       "      <th></th>\n",
       "      <th>month</th>\n",
       "      <th>day</th>\n",
       "      <th>year</th>\n",
       "      <th>id</th>\n",
       "      <th>release_date</th>\n",
       "      <th>movie</th>\n",
       "      <th>production_budget</th>\n",
       "      <th>domestic_gross</th>\n",
       "      <th>worldwide_gross</th>\n",
       "      <th>profit</th>\n",
       "      <th>roi</th>\n",
       "    </tr>\n",
       "  </thead>\n",
       "  <tbody>\n",
       "    <tr>\n",
       "      <td>279</td>\n",
       "      <td>1</td>\n",
       "      <td>13,</td>\n",
       "      <td>2017</td>\n",
       "      <td>81</td>\n",
       "      <td>Jan 13, 2017</td>\n",
       "      <td>Monster Trucks</td>\n",
       "      <td>125000000</td>\n",
       "      <td>33370166</td>\n",
       "      <td>61642798</td>\n",
       "      <td>-63357202</td>\n",
       "      <td>-0.506858</td>\n",
       "    </tr>\n",
       "    <tr>\n",
       "      <td>327</td>\n",
       "      <td>1</td>\n",
       "      <td>14,</td>\n",
       "      <td>2011</td>\n",
       "      <td>29</td>\n",
       "      <td>Jan 14, 2011</td>\n",
       "      <td>The Green Hornet</td>\n",
       "      <td>110000000</td>\n",
       "      <td>98780042</td>\n",
       "      <td>229155503</td>\n",
       "      <td>119155503</td>\n",
       "      <td>1.083232</td>\n",
       "    </tr>\n",
       "    <tr>\n",
       "      <td>209</td>\n",
       "      <td>1</td>\n",
       "      <td>29,</td>\n",
       "      <td>2016</td>\n",
       "      <td>11</td>\n",
       "      <td>Jan 29, 2016</td>\n",
       "      <td>Kung Fu Panda 3</td>\n",
       "      <td>140000000</td>\n",
       "      <td>143528619</td>\n",
       "      <td>517599142</td>\n",
       "      <td>377599142</td>\n",
       "      <td>2.697137</td>\n",
       "    </tr>\n",
       "    <tr>\n",
       "      <td>190</td>\n",
       "      <td>2</td>\n",
       "      <td>12,</td>\n",
       "      <td>2010</td>\n",
       "      <td>91</td>\n",
       "      <td>Feb 12, 2010</td>\n",
       "      <td>The Wolfman</td>\n",
       "      <td>150000000</td>\n",
       "      <td>62189884</td>\n",
       "      <td>142634358</td>\n",
       "      <td>-7365642</td>\n",
       "      <td>-0.049104</td>\n",
       "    </tr>\n",
       "    <tr>\n",
       "      <td>90</td>\n",
       "      <td>2</td>\n",
       "      <td>6,</td>\n",
       "      <td>2015</td>\n",
       "      <td>91</td>\n",
       "      <td>Feb 6, 2015</td>\n",
       "      <td>Jupiter Ascending</td>\n",
       "      <td>179000000</td>\n",
       "      <td>47482519</td>\n",
       "      <td>181982519</td>\n",
       "      <td>2982519</td>\n",
       "      <td>0.016662</td>\n",
       "    </tr>\n",
       "    <tr>\n",
       "      <td>287</td>\n",
       "      <td>2</td>\n",
       "      <td>16,</td>\n",
       "      <td>2007</td>\n",
       "      <td>89</td>\n",
       "      <td>Feb 16, 2007</td>\n",
       "      <td>Ghost Rider</td>\n",
       "      <td>120000000</td>\n",
       "      <td>115802596</td>\n",
       "      <td>229545589</td>\n",
       "      <td>109545589</td>\n",
       "      <td>0.912880</td>\n",
       "    </tr>\n",
       "    <tr>\n",
       "      <td>191</td>\n",
       "      <td>2</td>\n",
       "      <td>17,</td>\n",
       "      <td>2017</td>\n",
       "      <td>92</td>\n",
       "      <td>Feb 17, 2017</td>\n",
       "      <td>The Great Wall</td>\n",
       "      <td>150000000</td>\n",
       "      <td>45157105</td>\n",
       "      <td>334486852</td>\n",
       "      <td>184486852</td>\n",
       "      <td>1.229912</td>\n",
       "    </tr>\n",
       "    <tr>\n",
       "      <td>123</td>\n",
       "      <td>2</td>\n",
       "      <td>14,</td>\n",
       "      <td>2019</td>\n",
       "      <td>24</td>\n",
       "      <td>Feb 14, 2019</td>\n",
       "      <td>Alita: Battle Angel</td>\n",
       "      <td>170000000</td>\n",
       "      <td>85710210</td>\n",
       "      <td>402976036</td>\n",
       "      <td>232976036</td>\n",
       "      <td>1.370447</td>\n",
       "    </tr>\n",
       "    <tr>\n",
       "      <td>294</td>\n",
       "      <td>2</td>\n",
       "      <td>12,</td>\n",
       "      <td>2014</td>\n",
       "      <td>96</td>\n",
       "      <td>Feb 12, 2014</td>\n",
       "      <td>RoboCop</td>\n",
       "      <td>120000000</td>\n",
       "      <td>58607007</td>\n",
       "      <td>242981799</td>\n",
       "      <td>122981799</td>\n",
       "      <td>1.024848</td>\n",
       "    </tr>\n",
       "    <tr>\n",
       "      <td>41</td>\n",
       "      <td>2</td>\n",
       "      <td>16,</td>\n",
       "      <td>2018</td>\n",
       "      <td>42</td>\n",
       "      <td>Feb 16, 2018</td>\n",
       "      <td>Black Panther</td>\n",
       "      <td>200000000</td>\n",
       "      <td>700059566</td>\n",
       "      <td>1348258224</td>\n",
       "      <td>1148258224</td>\n",
       "      <td>5.741291</td>\n",
       "    </tr>\n",
       "    <tr>\n",
       "      <td>216</td>\n",
       "      <td>2</td>\n",
       "      <td>26,</td>\n",
       "      <td>2016</td>\n",
       "      <td>18</td>\n",
       "      <td>Feb 26, 2016</td>\n",
       "      <td>Gods of Egypt</td>\n",
       "      <td>140000000</td>\n",
       "      <td>31153464</td>\n",
       "      <td>138836756</td>\n",
       "      <td>-1163244</td>\n",
       "      <td>-0.008309</td>\n",
       "    </tr>\n",
       "    <tr>\n",
       "      <td>254</td>\n",
       "      <td>2</td>\n",
       "      <td>22,</td>\n",
       "      <td>2019</td>\n",
       "      <td>56</td>\n",
       "      <td>Feb 22, 2019</td>\n",
       "      <td>How to Train Your Dragon: The Hidden World</td>\n",
       "      <td>129000000</td>\n",
       "      <td>160791800</td>\n",
       "      <td>519258283</td>\n",
       "      <td>390258283</td>\n",
       "      <td>3.025258</td>\n",
       "    </tr>\n",
       "    <tr>\n",
       "      <td>307</td>\n",
       "      <td>2</td>\n",
       "      <td>7,</td>\n",
       "      <td>1997</td>\n",
       "      <td>9</td>\n",
       "      <td>Feb 7, 1997</td>\n",
       "      <td>Dante's Peak</td>\n",
       "      <td>115000000</td>\n",
       "      <td>67163857</td>\n",
       "      <td>178200000</td>\n",
       "      <td>63200000</td>\n",
       "      <td>0.549565</td>\n",
       "    </tr>\n",
       "    <tr>\n",
       "      <td>320</td>\n",
       "      <td>3</td>\n",
       "      <td>20,</td>\n",
       "      <td>2015</td>\n",
       "      <td>22</td>\n",
       "      <td>Mar 20, 2015</td>\n",
       "      <td>The Divergent Series: Insurgent</td>\n",
       "      <td>110000000</td>\n",
       "      <td>130179072</td>\n",
       "      <td>295075882</td>\n",
       "      <td>185075882</td>\n",
       "      <td>1.682508</td>\n",
       "    </tr>\n",
       "    <tr>\n",
       "      <td>77</td>\n",
       "      <td>3</td>\n",
       "      <td>10,</td>\n",
       "      <td>2017</td>\n",
       "      <td>78</td>\n",
       "      <td>Mar 10, 2017</td>\n",
       "      <td>Kong: Skull Island</td>\n",
       "      <td>185000000</td>\n",
       "      <td>168052812</td>\n",
       "      <td>561072059</td>\n",
       "      <td>376072059</td>\n",
       "      <td>2.032822</td>\n",
       "    </tr>\n",
       "  </tbody>\n",
       "</table>\n",
       "</div>"
      ],
      "text/plain": [
       "     month  day  year  id  release_date  \\\n",
       "279      1  13,  2017  81  Jan 13, 2017   \n",
       "327      1  14,  2011  29  Jan 14, 2011   \n",
       "209      1  29,  2016  11  Jan 29, 2016   \n",
       "190      2  12,  2010  91  Feb 12, 2010   \n",
       "90       2   6,  2015  91   Feb 6, 2015   \n",
       "287      2  16,  2007  89  Feb 16, 2007   \n",
       "191      2  17,  2017  92  Feb 17, 2017   \n",
       "123      2  14,  2019  24  Feb 14, 2019   \n",
       "294      2  12,  2014  96  Feb 12, 2014   \n",
       "41       2  16,  2018  42  Feb 16, 2018   \n",
       "216      2  26,  2016  18  Feb 26, 2016   \n",
       "254      2  22,  2019  56  Feb 22, 2019   \n",
       "307      2   7,  1997   9   Feb 7, 1997   \n",
       "320      3  20,  2015  22  Mar 20, 2015   \n",
       "77       3  10,  2017  78  Mar 10, 2017   \n",
       "\n",
       "                                          movie  production_budget  \\\n",
       "279                              Monster Trucks          125000000   \n",
       "327                            The Green Hornet          110000000   \n",
       "209                             Kung Fu Panda 3          140000000   \n",
       "190                                 The Wolfman          150000000   \n",
       "90                            Jupiter Ascending          179000000   \n",
       "287                                 Ghost Rider          120000000   \n",
       "191                              The Great Wall          150000000   \n",
       "123                         Alita: Battle Angel          170000000   \n",
       "294                                     RoboCop          120000000   \n",
       "41                                Black Panther          200000000   \n",
       "216                               Gods of Egypt          140000000   \n",
       "254  How to Train Your Dragon: The Hidden World          129000000   \n",
       "307                                Dante's Peak          115000000   \n",
       "320             The Divergent Series: Insurgent          110000000   \n",
       "77                           Kong: Skull Island          185000000   \n",
       "\n",
       "     domestic_gross  worldwide_gross      profit       roi  \n",
       "279        33370166         61642798   -63357202 -0.506858  \n",
       "327        98780042        229155503   119155503  1.083232  \n",
       "209       143528619        517599142   377599142  2.697137  \n",
       "190        62189884        142634358    -7365642 -0.049104  \n",
       "90         47482519        181982519     2982519  0.016662  \n",
       "287       115802596        229545589   109545589  0.912880  \n",
       "191        45157105        334486852   184486852  1.229912  \n",
       "123        85710210        402976036   232976036  1.370447  \n",
       "294        58607007        242981799   122981799  1.024848  \n",
       "41        700059566       1348258224  1148258224  5.741291  \n",
       "216        31153464        138836756    -1163244 -0.008309  \n",
       "254       160791800        519258283   390258283  3.025258  \n",
       "307        67163857        178200000    63200000  0.549565  \n",
       "320       130179072        295075882   185075882  1.682508  \n",
       "77        168052812        561072059   376072059  2.032822  "
      ]
     },
     "execution_count": 17,
     "metadata": {},
     "output_type": "execute_result"
    }
   ],
   "source": [
    "#checking the dataframe to make sure that the months are in order as expected\n",
    "seasonlity_analysis.head(15)"
   ]
  },
  {
   "cell_type": "markdown",
   "metadata": {},
   "source": [
    "# Visualizing the data"
   ]
  },
  {
   "cell_type": "code",
   "execution_count": 27,
   "metadata": {
    "ExecuteTime": {
     "end_time": "2020-06-20T19:13:44.655315Z",
     "start_time": "2020-06-20T19:13:44.378527Z"
    }
   },
   "outputs": [
    {
     "data": {
      "text/plain": [
       "Text(0.5, 1.0, 'Global Revenue Distribution by Month (in Billions USD)')"
      ]
     },
     "execution_count": 27,
     "metadata": {},
     "output_type": "execute_result"
    },
    {
     "data": {
      "image/png": "[encoded data removed]",
      "text/plain": [
       "<Figure size 842.4x595.44 with 1 Axes>"
      ]
     },
     "metadata": {},
     "output_type": "display_data"
    }
   ],
   "source": [
    "#creating a boxplot with Seaborn comparing each month on the worldwide_gross column\n",
    "sns.set(rc={'figure.figsize':(11.7,8.27)})\n",
    "\n",
    "axis = sns.boxplot(x= seasonlity_analysis['month'], y= seasonlity_analysis['worldwide_gross'], data=seasonlity_analysis)\n",
    "axis = axis.set(xlabel='Month', ylabel='Worldwide Gross',)\n",
    "plt.title('Global Revenue Distribution by Month (in Billions USD)')"
   ]
  },
  {
   "cell_type": "code",
   "execution_count": 30,
   "metadata": {
    "ExecuteTime": {
     "end_time": "2020-06-20T19:17:18.361286Z",
     "start_time": "2020-06-20T19:17:18.045068Z"
    }
   },
   "outputs": [
    {
     "data": {
      "text/plain": [
       "Text(0.5, 1.0, 'Return on Investment Distribution by Month (in percentages)')"
      ]
     },
     "execution_count": 30,
     "metadata": {},
     "output_type": "execute_result"
    },
    {
     "data": {
      "image/png": "[encoded data removed]",
      "text/plain": [
       "<Figure size 842.4x595.44 with 1 Axes>"
      ]
     },
     "metadata": {},
     "output_type": "display_data"
    }
   ],
   "source": [
    "#creating a boxplot with Seaborn comparing each month on the roi column\n",
    "\n",
    "axis2 = sns.boxplot(x= seasonlity_analysis['month'], y= seasonlity_analysis['roi'], data=seasonlity_analysis)\n",
    "axis2 = axis2.set(xlabel='Month', ylabel='Return on Investment',)\n",
    "plt.title('Return on Investment Distribution by Month (in percentages)')"
   ]
  },
  {
   "cell_type": "code",
   "execution_count": 31,
   "metadata": {
    "ExecuteTime": {
     "end_time": "2020-06-20T19:18:34.427303Z",
     "start_time": "2020-06-20T19:18:34.154510Z"
    }
   },
   "outputs": [
    {
     "data": {
      "text/plain": [
       "Text(0.5, 1.0, 'Profit Distribution by Month (in Billions USD')"
      ]
     },
     "execution_count": 31,
     "metadata": {},
     "output_type": "execute_result"
    },
    {
     "data": {
      "image/png": "[encoded data removed]",
      "text/plain": [
       "<Figure size 842.4x595.44 with 1 Axes>"
      ]
     },
     "metadata": {},
     "output_type": "display_data"
    }
   ],
   "source": [
    "#creating a boxplot with Seaborn comparing each month on the roi column\n",
    "axis3 =sns.boxplot(x= seasonlity_analysis['month'], y= seasonlity_analysis['profit'], data=seasonlity_analysis)\n",
    "axis3 = axis3.set(xlabel='Month', ylabel='Profit',)\n",
    "plt.title('Profit Distribution by Month (in Billions USD')"
   ]
  }
 ],
 "metadata": {
  "kernelspec": {
   "display_name": "Python [conda env:learn-env] *",
   "language": "python",
   "name": "conda-env-learn-env-py"
  },
  "language_info": {
   "codemirror_mode": {
    "name": "ipython",
    "version": 3
   },
   "file_extension": ".py",
   "mimetype": "text/x-python",
   "name": "python",
   "nbconvert_exporter": "python",
   "pygments_lexer": "ipython3",
   "version": "3.6.9"
  },
  "toc": {
   "base_numbering": 1,
   "nav_menu": {},
   "number_sections": true,
   "sideBar": true,
   "skip_h1_title": false,
   "title_cell": "Table of Contents",
   "title_sidebar": "Contents",
   "toc_cell": false,
   "toc_position": {
    "height": "calc(100% - 180px)",
    "left": "10px",
    "top": "150px",
    "width": "301.112px"
   },
   "toc_section_display": true,
   "toc_window_display": true
  },
  "varInspector": {
   "cols": {
    "lenName": 16,
    "lenType": 16,
    "lenVar": 40
   },
   "kernels_config": {
    "python": {
     "delete_cmd_postfix": "",
     "delete_cmd_prefix": "del ",
     "library": "var_list.py",
     "varRefreshCmd": "print(var_dic_list())"
    },
    "r": {
     "delete_cmd_postfix": ") ",
     "delete_cmd_prefix": "rm(",
     "library": "var_list.r",
     "varRefreshCmd": "cat(var_dic_list()) "
    }
   },
   "types_to_exclude": [
    "module",
    "function",
    "builtin_function_or_method",
    "instance",
    "_Feature"
   ],
   "window_display": false
  }
 },
 "nbformat": 4,
 "nbformat_minor": 2
}
