{
 "cells": [
  {
   "cell_type": "markdown",
   "metadata": {},
   "source": [
    "# Studio analysis"
   ]
  },
  {
   "cell_type": "markdown",
   "metadata": {},
   "source": [
    "## import libraries"
   ]
  },
  {
   "cell_type": "code",
   "execution_count": 1,
   "metadata": {
    "ExecuteTime": {
     "end_time": "2020-06-20T20:08:45.218318Z",
     "start_time": "2020-06-20T20:08:41.958027Z"
    }
   },
   "outputs": [],
   "source": [
    "import os\n",
    "import pandas as pd\n",
    "import numpy as np\n",
    "import matplotlib.pyplot as plt\n",
    "import seaborn as sns\n",
    "from glob import glob\n",
    "import math \n",
    "import sys"
   ]
  },
  {
   "cell_type": "markdown",
   "metadata": {},
   "source": [
    "## Add csv files"
   ]
  },
  {
   "cell_type": "code",
   "execution_count": 2,
   "metadata": {
    "ExecuteTime": {
     "end_time": "2020-06-20T20:08:45.274312Z",
     "start_time": "2020-06-20T20:08:45.222243Z"
    }
   },
   "outputs": [],
   "source": [
    "movie_budgets = pd.read_csv('databases/movie_budgets_clean.csv')"
   ]
  },
  {
   "cell_type": "code",
   "execution_count": 3,
   "metadata": {
    "ExecuteTime": {
     "end_time": "2020-06-20T20:08:45.344212Z",
     "start_time": "2020-06-20T20:08:45.280287Z"
    }
   },
   "outputs": [
    {
     "data": {
      "text/html": [
       "<div>\n",
       "<style scoped>\n",
       "    .dataframe tbody tr th:only-of-type {\n",
       "        vertical-align: middle;\n",
       "    }\n",
       "\n",
       "    .dataframe tbody tr th {\n",
       "        vertical-align: top;\n",
       "    }\n",
       "\n",
       "    .dataframe thead th {\n",
       "        text-align: right;\n",
       "    }\n",
       "</style>\n",
       "<table border=\"1\" class=\"dataframe\">\n",
       "  <thead>\n",
       "    <tr style=\"text-align: right;\">\n",
       "      <th></th>\n",
       "      <th>title</th>\n",
       "      <th>studio</th>\n",
       "      <th>domestic_gross</th>\n",
       "      <th>year</th>\n",
       "    </tr>\n",
       "  </thead>\n",
       "  <tbody>\n",
       "    <tr>\n",
       "      <td>0</td>\n",
       "      <td>Toy Story 3</td>\n",
       "      <td>BV</td>\n",
       "      <td>415000000.0</td>\n",
       "      <td>2010</td>\n",
       "    </tr>\n",
       "    <tr>\n",
       "      <td>1</td>\n",
       "      <td>Alice in Wonderland (2010)</td>\n",
       "      <td>BV</td>\n",
       "      <td>334200000.0</td>\n",
       "      <td>2010</td>\n",
       "    </tr>\n",
       "    <tr>\n",
       "      <td>2</td>\n",
       "      <td>Harry Potter and the Deathly Hallows Part 1</td>\n",
       "      <td>WB</td>\n",
       "      <td>296000000.0</td>\n",
       "      <td>2010</td>\n",
       "    </tr>\n",
       "    <tr>\n",
       "      <td>3</td>\n",
       "      <td>Inception</td>\n",
       "      <td>WB</td>\n",
       "      <td>292600000.0</td>\n",
       "      <td>2010</td>\n",
       "    </tr>\n",
       "    <tr>\n",
       "      <td>4</td>\n",
       "      <td>Shrek Forever After</td>\n",
       "      <td>P/DW</td>\n",
       "      <td>238700000.0</td>\n",
       "      <td>2010</td>\n",
       "    </tr>\n",
       "    <tr>\n",
       "      <td>...</td>\n",
       "      <td>...</td>\n",
       "      <td>...</td>\n",
       "      <td>...</td>\n",
       "      <td>...</td>\n",
       "    </tr>\n",
       "    <tr>\n",
       "      <td>3351</td>\n",
       "      <td>The Quake</td>\n",
       "      <td>Magn.</td>\n",
       "      <td>6200.0</td>\n",
       "      <td>2018</td>\n",
       "    </tr>\n",
       "    <tr>\n",
       "      <td>3352</td>\n",
       "      <td>Edward II (2018 re-release)</td>\n",
       "      <td>FM</td>\n",
       "      <td>4800.0</td>\n",
       "      <td>2018</td>\n",
       "    </tr>\n",
       "    <tr>\n",
       "      <td>3353</td>\n",
       "      <td>El Pacto</td>\n",
       "      <td>Sony</td>\n",
       "      <td>2500.0</td>\n",
       "      <td>2018</td>\n",
       "    </tr>\n",
       "    <tr>\n",
       "      <td>3354</td>\n",
       "      <td>The Swan</td>\n",
       "      <td>Synergetic</td>\n",
       "      <td>2400.0</td>\n",
       "      <td>2018</td>\n",
       "    </tr>\n",
       "    <tr>\n",
       "      <td>3355</td>\n",
       "      <td>An Actor Prepares</td>\n",
       "      <td>Grav.</td>\n",
       "      <td>1700.0</td>\n",
       "      <td>2018</td>\n",
       "    </tr>\n",
       "  </tbody>\n",
       "</table>\n",
       "<p>3356 rows × 4 columns</p>\n",
       "</div>"
      ],
      "text/plain": [
       "                                            title      studio  domestic_gross  \\\n",
       "0                                     Toy Story 3          BV     415000000.0   \n",
       "1                      Alice in Wonderland (2010)          BV     334200000.0   \n",
       "2     Harry Potter and the Deathly Hallows Part 1          WB     296000000.0   \n",
       "3                                       Inception          WB     292600000.0   \n",
       "4                             Shrek Forever After        P/DW     238700000.0   \n",
       "...                                           ...         ...             ...   \n",
       "3351                                    The Quake       Magn.          6200.0   \n",
       "3352                  Edward II (2018 re-release)          FM          4800.0   \n",
       "3353                                     El Pacto        Sony          2500.0   \n",
       "3354                                     The Swan  Synergetic          2400.0   \n",
       "3355                            An Actor Prepares       Grav.          1700.0   \n",
       "\n",
       "      year  \n",
       "0     2010  \n",
       "1     2010  \n",
       "2     2010  \n",
       "3     2010  \n",
       "4     2010  \n",
       "...    ...  \n",
       "3351  2018  \n",
       "3352  2018  \n",
       "3353  2018  \n",
       "3354  2018  \n",
       "3355  2018  \n",
       "\n",
       "[3356 rows x 4 columns]"
      ]
     },
     "execution_count": 3,
     "metadata": {},
     "output_type": "execute_result"
    }
   ],
   "source": [
    "bom_movie_gross_clean = pd.read_csv('databases/bom_movie_gross_clean.csv')\n",
    "bom_movie_gross_clean"
   ]
  },
  {
   "cell_type": "markdown",
   "metadata": {},
   "source": [
    "## Additional data manipulation"
   ]
  },
  {
   "cell_type": "code",
   "execution_count": 4,
   "metadata": {
    "ExecuteTime": {
     "end_time": "2020-06-20T20:08:45.357519Z",
     "start_time": "2020-06-20T20:08:45.348186Z"
    }
   },
   "outputs": [],
   "source": [
    "# Created a new df to remove outliers\n",
    "bom_movie_gross_30m = bom_movie_gross_clean[bom_movie_gross_clean['domestic_gross'] > 30000000]"
   ]
  },
  {
   "cell_type": "code",
   "execution_count": 5,
   "metadata": {
    "ExecuteTime": {
     "end_time": "2020-06-20T20:08:45.392897Z",
     "start_time": "2020-06-20T20:08:45.361803Z"
    }
   },
   "outputs": [
    {
     "data": {
      "text/html": [
       "<div>\n",
       "<style scoped>\n",
       "    .dataframe tbody tr th:only-of-type {\n",
       "        vertical-align: middle;\n",
       "    }\n",
       "\n",
       "    .dataframe tbody tr th {\n",
       "        vertical-align: top;\n",
       "    }\n",
       "\n",
       "    .dataframe thead th {\n",
       "        text-align: right;\n",
       "    }\n",
       "</style>\n",
       "<table border=\"1\" class=\"dataframe\">\n",
       "  <thead>\n",
       "    <tr style=\"text-align: right;\">\n",
       "      <th></th>\n",
       "      <th>title</th>\n",
       "      <th>studio</th>\n",
       "      <th>domestic_gross</th>\n",
       "      <th>year</th>\n",
       "    </tr>\n",
       "  </thead>\n",
       "  <tbody>\n",
       "    <tr>\n",
       "      <td>0</td>\n",
       "      <td>Toy Story 3</td>\n",
       "      <td>BV</td>\n",
       "      <td>415000000.0</td>\n",
       "      <td>2010</td>\n",
       "    </tr>\n",
       "    <tr>\n",
       "      <td>1</td>\n",
       "      <td>Alice in Wonderland (2010)</td>\n",
       "      <td>BV</td>\n",
       "      <td>334200000.0</td>\n",
       "      <td>2010</td>\n",
       "    </tr>\n",
       "    <tr>\n",
       "      <td>2</td>\n",
       "      <td>Harry Potter and the Deathly Hallows Part 1</td>\n",
       "      <td>WB</td>\n",
       "      <td>296000000.0</td>\n",
       "      <td>2010</td>\n",
       "    </tr>\n",
       "    <tr>\n",
       "      <td>3</td>\n",
       "      <td>Inception</td>\n",
       "      <td>WB</td>\n",
       "      <td>292600000.0</td>\n",
       "      <td>2010</td>\n",
       "    </tr>\n",
       "    <tr>\n",
       "      <td>4</td>\n",
       "      <td>Shrek Forever After</td>\n",
       "      <td>P/DW</td>\n",
       "      <td>238700000.0</td>\n",
       "      <td>2010</td>\n",
       "    </tr>\n",
       "    <tr>\n",
       "      <td>...</td>\n",
       "      <td>...</td>\n",
       "      <td>...</td>\n",
       "      <td>...</td>\n",
       "      <td>...</td>\n",
       "    </tr>\n",
       "    <tr>\n",
       "      <td>3144</td>\n",
       "      <td>Uncle Drew</td>\n",
       "      <td>LG/S</td>\n",
       "      <td>42500000.0</td>\n",
       "      <td>2018</td>\n",
       "    </tr>\n",
       "    <tr>\n",
       "      <td>3145</td>\n",
       "      <td>Tyler Perry's Acrimony</td>\n",
       "      <td>LGF</td>\n",
       "      <td>43500000.0</td>\n",
       "      <td>2018</td>\n",
       "    </tr>\n",
       "    <tr>\n",
       "      <td>3150</td>\n",
       "      <td>Holmes and Watson</td>\n",
       "      <td>Sony</td>\n",
       "      <td>30600000.0</td>\n",
       "      <td>2018</td>\n",
       "    </tr>\n",
       "    <tr>\n",
       "      <td>3156</td>\n",
       "      <td>Death Wish (2018)</td>\n",
       "      <td>MGM</td>\n",
       "      <td>34000000.0</td>\n",
       "      <td>2018</td>\n",
       "    </tr>\n",
       "    <tr>\n",
       "      <td>3157</td>\n",
       "      <td>Nobody's Fool</td>\n",
       "      <td>Par.</td>\n",
       "      <td>31700000.0</td>\n",
       "      <td>2018</td>\n",
       "    </tr>\n",
       "  </tbody>\n",
       "</table>\n",
       "<p>818 rows × 4 columns</p>\n",
       "</div>"
      ],
      "text/plain": [
       "                                            title studio  domestic_gross  year\n",
       "0                                     Toy Story 3     BV     415000000.0  2010\n",
       "1                      Alice in Wonderland (2010)     BV     334200000.0  2010\n",
       "2     Harry Potter and the Deathly Hallows Part 1     WB     296000000.0  2010\n",
       "3                                       Inception     WB     292600000.0  2010\n",
       "4                             Shrek Forever After   P/DW     238700000.0  2010\n",
       "...                                           ...    ...             ...   ...\n",
       "3144                                   Uncle Drew   LG/S      42500000.0  2018\n",
       "3145                       Tyler Perry's Acrimony    LGF      43500000.0  2018\n",
       "3150                            Holmes and Watson   Sony      30600000.0  2018\n",
       "3156                            Death Wish (2018)    MGM      34000000.0  2018\n",
       "3157                                Nobody's Fool   Par.      31700000.0  2018\n",
       "\n",
       "[818 rows x 4 columns]"
      ]
     },
     "execution_count": 5,
     "metadata": {},
     "output_type": "execute_result"
    }
   ],
   "source": [
    "bom_movie_gross_30m"
   ]
  },
  {
   "cell_type": "markdown",
   "metadata": {},
   "source": [
    "### Sorting and Grouping Data Frames"
   ]
  },
  {
   "cell_type": "code",
   "execution_count": 6,
   "metadata": {
    "ExecuteTime": {
     "end_time": "2020-06-20T20:08:45.410671Z",
     "start_time": "2020-06-20T20:08:45.393393Z"
    }
   },
   "outputs": [],
   "source": [
    "num_of_movies = bom_movie_gross_30m.groupby('studio').count()\n",
    "num_of_values = num_of_movies.sort_values('title', ascending = False)"
   ]
  },
  {
   "cell_type": "code",
   "execution_count": 7,
   "metadata": {
    "ExecuteTime": {
     "end_time": "2020-06-20T20:08:45.430732Z",
     "start_time": "2020-06-20T20:08:45.415164Z"
    }
   },
   "outputs": [],
   "source": [
    "sum_of_revenue = bom_movie_gross_30m.groupby('studio').sum()"
   ]
  },
  {
   "cell_type": "code",
   "execution_count": 8,
   "metadata": {
    "ExecuteTime": {
     "end_time": "2020-06-20T20:08:45.455472Z",
     "start_time": "2020-06-20T20:08:45.435248Z"
    }
   },
   "outputs": [],
   "source": [
    "merged_db= num_of_values.merge(sum_of_revenue, on='studio',  how='inner')"
   ]
  },
  {
   "cell_type": "code",
   "execution_count": 9,
   "metadata": {
    "ExecuteTime": {
     "end_time": "2020-06-20T20:08:45.474465Z",
     "start_time": "2020-06-20T20:08:45.457092Z"
    }
   },
   "outputs": [],
   "source": [
    "merged_db = merged_db.reset_index()\n",
    "merged_db= merged_db[:10]"
   ]
  },
  {
   "cell_type": "code",
   "execution_count": 10,
   "metadata": {
    "ExecuteTime": {
     "end_time": "2020-06-20T20:08:45.490687Z",
     "start_time": "2020-06-20T20:08:45.478461Z"
    }
   },
   "outputs": [],
   "source": [
    "num_of_values = num_of_values[0:10]"
   ]
  },
  {
   "cell_type": "code",
   "execution_count": 11,
   "metadata": {
    "ExecuteTime": {
     "end_time": "2020-06-20T20:08:45.544929Z",
     "start_time": "2020-06-20T20:08:45.498490Z"
    }
   },
   "outputs": [
    {
     "data": {
      "text/html": [
       "<div>\n",
       "<style scoped>\n",
       "    .dataframe tbody tr th:only-of-type {\n",
       "        vertical-align: middle;\n",
       "    }\n",
       "\n",
       "    .dataframe tbody tr th {\n",
       "        vertical-align: top;\n",
       "    }\n",
       "\n",
       "    .dataframe thead th {\n",
       "        text-align: right;\n",
       "    }\n",
       "</style>\n",
       "<table border=\"1\" class=\"dataframe\">\n",
       "  <thead>\n",
       "    <tr style=\"text-align: right;\">\n",
       "      <th></th>\n",
       "      <th>title</th>\n",
       "      <th>domestic_gross_x</th>\n",
       "      <th>year_x</th>\n",
       "      <th>domestic_gross_y</th>\n",
       "      <th>year_y</th>\n",
       "    </tr>\n",
       "    <tr>\n",
       "      <th>studio</th>\n",
       "      <th></th>\n",
       "      <th></th>\n",
       "      <th></th>\n",
       "      <th></th>\n",
       "      <th></th>\n",
       "    </tr>\n",
       "  </thead>\n",
       "  <tbody>\n",
       "    <tr>\n",
       "      <td>BV</td>\n",
       "      <td>85</td>\n",
       "      <td>85</td>\n",
       "      <td>85</td>\n",
       "      <td>1.810330e+10</td>\n",
       "      <td>171184</td>\n",
       "    </tr>\n",
       "    <tr>\n",
       "      <td>Fox</td>\n",
       "      <td>107</td>\n",
       "      <td>107</td>\n",
       "      <td>107</td>\n",
       "      <td>1.054740e+10</td>\n",
       "      <td>215473</td>\n",
       "    </tr>\n",
       "    <tr>\n",
       "      <td>LG/S</td>\n",
       "      <td>23</td>\n",
       "      <td>23</td>\n",
       "      <td>23</td>\n",
       "      <td>1.791900e+09</td>\n",
       "      <td>46341</td>\n",
       "    </tr>\n",
       "    <tr>\n",
       "      <td>LGF</td>\n",
       "      <td>43</td>\n",
       "      <td>43</td>\n",
       "      <td>43</td>\n",
       "      <td>3.435600e+09</td>\n",
       "      <td>86593</td>\n",
       "    </tr>\n",
       "    <tr>\n",
       "      <td>Par.</td>\n",
       "      <td>71</td>\n",
       "      <td>71</td>\n",
       "      <td>71</td>\n",
       "      <td>7.280900e+09</td>\n",
       "      <td>142972</td>\n",
       "    </tr>\n",
       "    <tr>\n",
       "      <td>SGem</td>\n",
       "      <td>24</td>\n",
       "      <td>24</td>\n",
       "      <td>24</td>\n",
       "      <td>1.327800e+09</td>\n",
       "      <td>48303</td>\n",
       "    </tr>\n",
       "    <tr>\n",
       "      <td>Sony</td>\n",
       "      <td>81</td>\n",
       "      <td>81</td>\n",
       "      <td>81</td>\n",
       "      <td>8.283700e+09</td>\n",
       "      <td>163109</td>\n",
       "    </tr>\n",
       "    <tr>\n",
       "      <td>Uni.</td>\n",
       "      <td>112</td>\n",
       "      <td>112</td>\n",
       "      <td>112</td>\n",
       "      <td>1.235350e+10</td>\n",
       "      <td>225608</td>\n",
       "    </tr>\n",
       "    <tr>\n",
       "      <td>WB</td>\n",
       "      <td>101</td>\n",
       "      <td>101</td>\n",
       "      <td>101</td>\n",
       "      <td>1.165500e+10</td>\n",
       "      <td>203394</td>\n",
       "    </tr>\n",
       "    <tr>\n",
       "      <td>WB (NL)</td>\n",
       "      <td>40</td>\n",
       "      <td>40</td>\n",
       "      <td>40</td>\n",
       "      <td>3.886400e+09</td>\n",
       "      <td>80573</td>\n",
       "    </tr>\n",
       "  </tbody>\n",
       "</table>\n",
       "</div>"
      ],
      "text/plain": [
       "         title  domestic_gross_x  year_x  domestic_gross_y  year_y\n",
       "studio                                                            \n",
       "BV          85                85      85      1.810330e+10  171184\n",
       "Fox        107               107     107      1.054740e+10  215473\n",
       "LG/S        23                23      23      1.791900e+09   46341\n",
       "LGF         43                43      43      3.435600e+09   86593\n",
       "Par.        71                71      71      7.280900e+09  142972\n",
       "SGem        24                24      24      1.327800e+09   48303\n",
       "Sony        81                81      81      8.283700e+09  163109\n",
       "Uni.       112               112     112      1.235350e+10  225608\n",
       "WB         101               101     101      1.165500e+10  203394\n",
       "WB (NL)     40                40      40      3.886400e+09   80573"
      ]
     },
     "execution_count": 11,
     "metadata": {},
     "output_type": "execute_result"
    }
   ],
   "source": [
    "merged_db.groupby(by='studio').mean()"
   ]
  },
  {
   "cell_type": "code",
   "execution_count": 12,
   "metadata": {
    "ExecuteTime": {
     "end_time": "2020-06-20T20:08:45.575468Z",
     "start_time": "2020-06-20T20:08:45.550041Z"
    }
   },
   "outputs": [],
   "source": [
    "roi_studio= movie_budgets.merge(bom_movie_gross_30m, left_on='movie', right_on='title', how='inner')"
   ]
  },
  {
   "cell_type": "code",
   "execution_count": 13,
   "metadata": {
    "ExecuteTime": {
     "end_time": "2020-06-20T20:08:45.624789Z",
     "start_time": "2020-06-20T20:08:45.581820Z"
    }
   },
   "outputs": [
    {
     "data": {
      "text/html": [
       "<div>\n",
       "<style scoped>\n",
       "    .dataframe tbody tr th:only-of-type {\n",
       "        vertical-align: middle;\n",
       "    }\n",
       "\n",
       "    .dataframe tbody tr th {\n",
       "        vertical-align: top;\n",
       "    }\n",
       "\n",
       "    .dataframe thead th {\n",
       "        text-align: right;\n",
       "    }\n",
       "</style>\n",
       "<table border=\"1\" class=\"dataframe\">\n",
       "  <thead>\n",
       "    <tr style=\"text-align: right;\">\n",
       "      <th></th>\n",
       "      <th>id</th>\n",
       "      <th>production_budget</th>\n",
       "      <th>domestic_gross_x</th>\n",
       "      <th>worldwide_gross</th>\n",
       "      <th>domestic_gross_y</th>\n",
       "      <th>year</th>\n",
       "    </tr>\n",
       "    <tr>\n",
       "      <th>studio</th>\n",
       "      <th></th>\n",
       "      <th></th>\n",
       "      <th></th>\n",
       "      <th></th>\n",
       "      <th></th>\n",
       "      <th></th>\n",
       "    </tr>\n",
       "  </thead>\n",
       "  <tbody>\n",
       "    <tr>\n",
       "      <td>A24</td>\n",
       "      <td>54.5</td>\n",
       "      <td>10000000.0</td>\n",
       "      <td>46513864.5</td>\n",
       "      <td>74372337.0</td>\n",
       "      <td>46550000.0</td>\n",
       "      <td>2017.5</td>\n",
       "    </tr>\n",
       "    <tr>\n",
       "      <td>Annapurna</td>\n",
       "      <td>100.0</td>\n",
       "      <td>60000000.0</td>\n",
       "      <td>47836282.0</td>\n",
       "      <td>70883171.0</td>\n",
       "      <td>47800000.0</td>\n",
       "      <td>2018.0</td>\n",
       "    </tr>\n",
       "    <tr>\n",
       "      <td>BV</td>\n",
       "      <td>39.0</td>\n",
       "      <td>162500000.0</td>\n",
       "      <td>176380519.5</td>\n",
       "      <td>388346358.0</td>\n",
       "      <td>176400000.0</td>\n",
       "      <td>2014.0</td>\n",
       "    </tr>\n",
       "    <tr>\n",
       "      <td>CBS</td>\n",
       "      <td>32.0</td>\n",
       "      <td>21500000.0</td>\n",
       "      <td>59123728.5</td>\n",
       "      <td>120935032.5</td>\n",
       "      <td>59100000.0</td>\n",
       "      <td>2012.5</td>\n",
       "    </tr>\n",
       "    <tr>\n",
       "      <td>FD</td>\n",
       "      <td>53.0</td>\n",
       "      <td>5000000.0</td>\n",
       "      <td>83586447.0</td>\n",
       "      <td>161921515.0</td>\n",
       "      <td>83600000.0</td>\n",
       "      <td>2013.0</td>\n",
       "    </tr>\n",
       "  </tbody>\n",
       "</table>\n",
       "</div>"
      ],
      "text/plain": [
       "              id  production_budget  domestic_gross_x  worldwide_gross  \\\n",
       "studio                                                                   \n",
       "A24         54.5         10000000.0        46513864.5       74372337.0   \n",
       "Annapurna  100.0         60000000.0        47836282.0       70883171.0   \n",
       "BV          39.0        162500000.0       176380519.5      388346358.0   \n",
       "CBS         32.0         21500000.0        59123728.5      120935032.5   \n",
       "FD          53.0          5000000.0        83586447.0      161921515.0   \n",
       "\n",
       "           domestic_gross_y    year  \n",
       "studio                               \n",
       "A24              46550000.0  2017.5  \n",
       "Annapurna        47800000.0  2018.0  \n",
       "BV              176400000.0  2014.0  \n",
       "CBS              59100000.0  2012.5  \n",
       "FD               83600000.0  2013.0  "
      ]
     },
     "execution_count": 13,
     "metadata": {},
     "output_type": "execute_result"
    }
   ],
   "source": [
    "roi_studio_median_roi = roi_studio.groupby(by='studio').median()\n",
    "roi_studio_median_roi.head()"
   ]
  },
  {
   "cell_type": "code",
   "execution_count": 14,
   "metadata": {
    "ExecuteTime": {
     "end_time": "2020-06-20T20:08:45.647861Z",
     "start_time": "2020-06-20T20:08:45.628747Z"
    }
   },
   "outputs": [],
   "source": [
    "# Create additional ROI column\n",
    "roi_studio['roi'] = (roi_studio['worldwide_gross'] / roi_studio['production_budget']) -1"
   ]
  },
  {
   "cell_type": "code",
   "execution_count": 15,
   "metadata": {
    "ExecuteTime": {
     "end_time": "2020-06-20T20:08:45.667739Z",
     "start_time": "2020-06-20T20:08:45.651819Z"
    }
   },
   "outputs": [],
   "source": [
    "merged_db = merged_db.merge(roi_studio_median_roi, on= 'studio', how='left')"
   ]
  },
  {
   "cell_type": "code",
   "execution_count": 16,
   "metadata": {
    "ExecuteTime": {
     "end_time": "2020-06-20T20:08:45.712330Z",
     "start_time": "2020-06-20T20:08:45.671779Z"
    }
   },
   "outputs": [
    {
     "data": {
      "text/html": [
       "<div>\n",
       "<style scoped>\n",
       "    .dataframe tbody tr th:only-of-type {\n",
       "        vertical-align: middle;\n",
       "    }\n",
       "\n",
       "    .dataframe tbody tr th {\n",
       "        vertical-align: top;\n",
       "    }\n",
       "\n",
       "    .dataframe thead th {\n",
       "        text-align: right;\n",
       "    }\n",
       "</style>\n",
       "<table border=\"1\" class=\"dataframe\">\n",
       "  <thead>\n",
       "    <tr style=\"text-align: right;\">\n",
       "      <th></th>\n",
       "      <th>studio</th>\n",
       "      <th>title</th>\n",
       "      <th>domestic_gross_x_x</th>\n",
       "      <th>year_x</th>\n",
       "      <th>domestic_gross_y_x</th>\n",
       "      <th>year_y</th>\n",
       "      <th>id</th>\n",
       "      <th>production_budget</th>\n",
       "      <th>domestic_gross_x_y</th>\n",
       "      <th>worldwide_gross</th>\n",
       "      <th>domestic_gross_y_y</th>\n",
       "      <th>year</th>\n",
       "    </tr>\n",
       "  </thead>\n",
       "  <tbody>\n",
       "    <tr>\n",
       "      <td>0</td>\n",
       "      <td>Uni.</td>\n",
       "      <td>112</td>\n",
       "      <td>112</td>\n",
       "      <td>112</td>\n",
       "      <td>1.235350e+10</td>\n",
       "      <td>225608</td>\n",
       "      <td>56.0</td>\n",
       "      <td>44000000.0</td>\n",
       "      <td>75612460.0</td>\n",
       "      <td>151716815.0</td>\n",
       "      <td>78000000.0</td>\n",
       "      <td>2014.0</td>\n",
       "    </tr>\n",
       "    <tr>\n",
       "      <td>1</td>\n",
       "      <td>Fox</td>\n",
       "      <td>107</td>\n",
       "      <td>107</td>\n",
       "      <td>107</td>\n",
       "      <td>1.054740e+10</td>\n",
       "      <td>215473</td>\n",
       "      <td>49.0</td>\n",
       "      <td>80000000.0</td>\n",
       "      <td>81903458.0</td>\n",
       "      <td>250091610.0</td>\n",
       "      <td>81700000.0</td>\n",
       "      <td>2014.0</td>\n",
       "    </tr>\n",
       "    <tr>\n",
       "      <td>2</td>\n",
       "      <td>WB</td>\n",
       "      <td>101</td>\n",
       "      <td>101</td>\n",
       "      <td>101</td>\n",
       "      <td>1.165500e+10</td>\n",
       "      <td>203394</td>\n",
       "      <td>62.0</td>\n",
       "      <td>60000000.0</td>\n",
       "      <td>72483028.5</td>\n",
       "      <td>152764482.0</td>\n",
       "      <td>72500000.0</td>\n",
       "      <td>2014.0</td>\n",
       "    </tr>\n",
       "    <tr>\n",
       "      <td>3</td>\n",
       "      <td>BV</td>\n",
       "      <td>85</td>\n",
       "      <td>85</td>\n",
       "      <td>85</td>\n",
       "      <td>1.810330e+10</td>\n",
       "      <td>171184</td>\n",
       "      <td>39.0</td>\n",
       "      <td>162500000.0</td>\n",
       "      <td>176380519.5</td>\n",
       "      <td>388346358.0</td>\n",
       "      <td>176400000.0</td>\n",
       "      <td>2014.0</td>\n",
       "    </tr>\n",
       "    <tr>\n",
       "      <td>4</td>\n",
       "      <td>Sony</td>\n",
       "      <td>81</td>\n",
       "      <td>81</td>\n",
       "      <td>81</td>\n",
       "      <td>8.283700e+09</td>\n",
       "      <td>163109</td>\n",
       "      <td>58.0</td>\n",
       "      <td>58000000.0</td>\n",
       "      <td>83552429.0</td>\n",
       "      <td>202812429.0</td>\n",
       "      <td>83600000.0</td>\n",
       "      <td>2013.0</td>\n",
       "    </tr>\n",
       "  </tbody>\n",
       "</table>\n",
       "</div>"
      ],
      "text/plain": [
       "  studio  title  domestic_gross_x_x  year_x  domestic_gross_y_x  year_y    id  \\\n",
       "0   Uni.    112                 112     112        1.235350e+10  225608  56.0   \n",
       "1    Fox    107                 107     107        1.054740e+10  215473  49.0   \n",
       "2     WB    101                 101     101        1.165500e+10  203394  62.0   \n",
       "3     BV     85                  85      85        1.810330e+10  171184  39.0   \n",
       "4   Sony     81                  81      81        8.283700e+09  163109  58.0   \n",
       "\n",
       "   production_budget  domestic_gross_x_y  worldwide_gross  domestic_gross_y_y  \\\n",
       "0         44000000.0          75612460.0      151716815.0          78000000.0   \n",
       "1         80000000.0          81903458.0      250091610.0          81700000.0   \n",
       "2         60000000.0          72483028.5      152764482.0          72500000.0   \n",
       "3        162500000.0         176380519.5      388346358.0         176400000.0   \n",
       "4         58000000.0          83552429.0      202812429.0          83600000.0   \n",
       "\n",
       "     year  \n",
       "0  2014.0  \n",
       "1  2014.0  \n",
       "2  2014.0  \n",
       "3  2014.0  \n",
       "4  2013.0  "
      ]
     },
     "execution_count": 16,
     "metadata": {},
     "output_type": "execute_result"
    }
   ],
   "source": [
    "merged_db.head()"
   ]
  },
  {
   "cell_type": "code",
   "execution_count": 17,
   "metadata": {
    "ExecuteTime": {
     "end_time": "2020-06-20T20:08:45.741230Z",
     "start_time": "2020-06-20T20:08:45.714176Z"
    }
   },
   "outputs": [
    {
     "data": {
      "text/html": [
       "<div>\n",
       "<style scoped>\n",
       "    .dataframe tbody tr th:only-of-type {\n",
       "        vertical-align: middle;\n",
       "    }\n",
       "\n",
       "    .dataframe tbody tr th {\n",
       "        vertical-align: top;\n",
       "    }\n",
       "\n",
       "    .dataframe thead th {\n",
       "        text-align: right;\n",
       "    }\n",
       "</style>\n",
       "<table border=\"1\" class=\"dataframe\">\n",
       "  <thead>\n",
       "    <tr style=\"text-align: right;\">\n",
       "      <th></th>\n",
       "      <th>domestic_gross</th>\n",
       "      <th>year</th>\n",
       "    </tr>\n",
       "    <tr>\n",
       "      <th>studio</th>\n",
       "      <th></th>\n",
       "      <th></th>\n",
       "    </tr>\n",
       "  </thead>\n",
       "  <tbody>\n",
       "    <tr>\n",
       "      <td>A24</td>\n",
       "      <td>9.310000e+07</td>\n",
       "      <td>4035</td>\n",
       "    </tr>\n",
       "    <tr>\n",
       "      <td>Annapurna</td>\n",
       "      <td>4.780000e+07</td>\n",
       "      <td>2018</td>\n",
       "    </tr>\n",
       "    <tr>\n",
       "      <td>Aviron</td>\n",
       "      <td>3.100000e+07</td>\n",
       "      <td>2017</td>\n",
       "    </tr>\n",
       "    <tr>\n",
       "      <td>BV</td>\n",
       "      <td>1.810330e+10</td>\n",
       "      <td>171184</td>\n",
       "    </tr>\n",
       "    <tr>\n",
       "      <td>CBS</td>\n",
       "      <td>1.557000e+08</td>\n",
       "      <td>6035</td>\n",
       "    </tr>\n",
       "    <tr>\n",
       "      <td>ENTMP</td>\n",
       "      <td>4.430000e+07</td>\n",
       "      <td>2017</td>\n",
       "    </tr>\n",
       "    <tr>\n",
       "      <td>FD</td>\n",
       "      <td>3.164000e+08</td>\n",
       "      <td>10060</td>\n",
       "    </tr>\n",
       "    <tr>\n",
       "      <td>Focus</td>\n",
       "      <td>6.155000e+08</td>\n",
       "      <td>26183</td>\n",
       "    </tr>\n",
       "    <tr>\n",
       "      <td>Fox</td>\n",
       "      <td>1.054740e+10</td>\n",
       "      <td>215473</td>\n",
       "    </tr>\n",
       "    <tr>\n",
       "      <td>FoxS</td>\n",
       "      <td>6.884000e+08</td>\n",
       "      <td>26188</td>\n",
       "    </tr>\n",
       "    <tr>\n",
       "      <td>Free</td>\n",
       "      <td>6.080000e+07</td>\n",
       "      <td>2014</td>\n",
       "    </tr>\n",
       "    <tr>\n",
       "      <td>LG/S</td>\n",
       "      <td>1.791900e+09</td>\n",
       "      <td>46341</td>\n",
       "    </tr>\n",
       "    <tr>\n",
       "      <td>LGF</td>\n",
       "      <td>3.435600e+09</td>\n",
       "      <td>86593</td>\n",
       "    </tr>\n",
       "    <tr>\n",
       "      <td>MGM</td>\n",
       "      <td>2.000000e+08</td>\n",
       "      <td>6046</td>\n",
       "    </tr>\n",
       "    <tr>\n",
       "      <td>ORF</td>\n",
       "      <td>3.705000e+08</td>\n",
       "      <td>18123</td>\n",
       "    </tr>\n",
       "    <tr>\n",
       "      <td>Over.</td>\n",
       "      <td>3.910000e+07</td>\n",
       "      <td>2010</td>\n",
       "    </tr>\n",
       "    <tr>\n",
       "      <td>P/DW</td>\n",
       "      <td>1.664400e+09</td>\n",
       "      <td>18097</td>\n",
       "    </tr>\n",
       "    <tr>\n",
       "      <td>PNT</td>\n",
       "      <td>8.240000e+07</td>\n",
       "      <td>4035</td>\n",
       "    </tr>\n",
       "    <tr>\n",
       "      <td>Par.</td>\n",
       "      <td>7.280900e+09</td>\n",
       "      <td>142972</td>\n",
       "    </tr>\n",
       "    <tr>\n",
       "      <td>RAtt.</td>\n",
       "      <td>4.770000e+07</td>\n",
       "      <td>2016</td>\n",
       "    </tr>\n",
       "    <tr>\n",
       "      <td>Rela.</td>\n",
       "      <td>5.628000e+08</td>\n",
       "      <td>20125</td>\n",
       "    </tr>\n",
       "    <tr>\n",
       "      <td>SGem</td>\n",
       "      <td>1.327800e+09</td>\n",
       "      <td>48303</td>\n",
       "    </tr>\n",
       "    <tr>\n",
       "      <td>SPC</td>\n",
       "      <td>9.020000e+07</td>\n",
       "      <td>4024</td>\n",
       "    </tr>\n",
       "    <tr>\n",
       "      <td>STX</td>\n",
       "      <td>5.765000e+08</td>\n",
       "      <td>24206</td>\n",
       "    </tr>\n",
       "    <tr>\n",
       "      <td>Sony</td>\n",
       "      <td>8.283700e+09</td>\n",
       "      <td>163109</td>\n",
       "    </tr>\n",
       "    <tr>\n",
       "      <td>Studio 8</td>\n",
       "      <td>3.590000e+07</td>\n",
       "      <td>2018</td>\n",
       "    </tr>\n",
       "    <tr>\n",
       "      <td>Sum.</td>\n",
       "      <td>8.149000e+08</td>\n",
       "      <td>12063</td>\n",
       "    </tr>\n",
       "    <tr>\n",
       "      <td>TriS</td>\n",
       "      <td>8.179000e+08</td>\n",
       "      <td>28187</td>\n",
       "    </tr>\n",
       "    <tr>\n",
       "      <td>Uni.</td>\n",
       "      <td>1.235350e+10</td>\n",
       "      <td>225608</td>\n",
       "    </tr>\n",
       "    <tr>\n",
       "      <td>W/Dim.</td>\n",
       "      <td>1.850000e+08</td>\n",
       "      <td>8050</td>\n",
       "    </tr>\n",
       "    <tr>\n",
       "      <td>WB</td>\n",
       "      <td>1.165500e+10</td>\n",
       "      <td>203394</td>\n",
       "    </tr>\n",
       "    <tr>\n",
       "      <td>WB (NL)</td>\n",
       "      <td>3.886400e+09</td>\n",
       "      <td>80573</td>\n",
       "    </tr>\n",
       "    <tr>\n",
       "      <td>Wein.</td>\n",
       "      <td>1.167100e+09</td>\n",
       "      <td>34229</td>\n",
       "    </tr>\n",
       "  </tbody>\n",
       "</table>\n",
       "</div>"
      ],
      "text/plain": [
       "           domestic_gross    year\n",
       "studio                           \n",
       "A24          9.310000e+07    4035\n",
       "Annapurna    4.780000e+07    2018\n",
       "Aviron       3.100000e+07    2017\n",
       "BV           1.810330e+10  171184\n",
       "CBS          1.557000e+08    6035\n",
       "ENTMP        4.430000e+07    2017\n",
       "FD           3.164000e+08   10060\n",
       "Focus        6.155000e+08   26183\n",
       "Fox          1.054740e+10  215473\n",
       "FoxS         6.884000e+08   26188\n",
       "Free         6.080000e+07    2014\n",
       "LG/S         1.791900e+09   46341\n",
       "LGF          3.435600e+09   86593\n",
       "MGM          2.000000e+08    6046\n",
       "ORF          3.705000e+08   18123\n",
       "Over.        3.910000e+07    2010\n",
       "P/DW         1.664400e+09   18097\n",
       "PNT          8.240000e+07    4035\n",
       "Par.         7.280900e+09  142972\n",
       "RAtt.        4.770000e+07    2016\n",
       "Rela.        5.628000e+08   20125\n",
       "SGem         1.327800e+09   48303\n",
       "SPC          9.020000e+07    4024\n",
       "STX          5.765000e+08   24206\n",
       "Sony         8.283700e+09  163109\n",
       "Studio 8     3.590000e+07    2018\n",
       "Sum.         8.149000e+08   12063\n",
       "TriS         8.179000e+08   28187\n",
       "Uni.         1.235350e+10  225608\n",
       "W/Dim.       1.850000e+08    8050\n",
       "WB           1.165500e+10  203394\n",
       "WB (NL)      3.886400e+09   80573\n",
       "Wein.        1.167100e+09   34229"
      ]
     },
     "execution_count": 17,
     "metadata": {},
     "output_type": "execute_result"
    }
   ],
   "source": [
    "sum_of_revenue"
   ]
  },
  {
   "cell_type": "code",
   "execution_count": 18,
   "metadata": {
    "ExecuteTime": {
     "end_time": "2020-06-20T20:08:45.763212Z",
     "start_time": "2020-06-20T20:08:45.749372Z"
    }
   },
   "outputs": [],
   "source": [
    "num_of_values = num_of_values.reset_index()"
   ]
  },
  {
   "cell_type": "code",
   "execution_count": 19,
   "metadata": {
    "ExecuteTime": {
     "end_time": "2020-06-20T20:08:45.797567Z",
     "start_time": "2020-06-20T20:08:45.769166Z"
    }
   },
   "outputs": [
    {
     "data": {
      "text/html": [
       "<div>\n",
       "<style scoped>\n",
       "    .dataframe tbody tr th:only-of-type {\n",
       "        vertical-align: middle;\n",
       "    }\n",
       "\n",
       "    .dataframe tbody tr th {\n",
       "        vertical-align: top;\n",
       "    }\n",
       "\n",
       "    .dataframe thead th {\n",
       "        text-align: right;\n",
       "    }\n",
       "</style>\n",
       "<table border=\"1\" class=\"dataframe\">\n",
       "  <thead>\n",
       "    <tr style=\"text-align: right;\">\n",
       "      <th></th>\n",
       "      <th>studio</th>\n",
       "      <th>title</th>\n",
       "      <th>domestic_gross</th>\n",
       "      <th>year</th>\n",
       "    </tr>\n",
       "  </thead>\n",
       "  <tbody>\n",
       "    <tr>\n",
       "      <td>0</td>\n",
       "      <td>Uni.</td>\n",
       "      <td>112</td>\n",
       "      <td>112</td>\n",
       "      <td>112</td>\n",
       "    </tr>\n",
       "    <tr>\n",
       "      <td>1</td>\n",
       "      <td>Fox</td>\n",
       "      <td>107</td>\n",
       "      <td>107</td>\n",
       "      <td>107</td>\n",
       "    </tr>\n",
       "    <tr>\n",
       "      <td>2</td>\n",
       "      <td>WB</td>\n",
       "      <td>101</td>\n",
       "      <td>101</td>\n",
       "      <td>101</td>\n",
       "    </tr>\n",
       "    <tr>\n",
       "      <td>3</td>\n",
       "      <td>BV</td>\n",
       "      <td>85</td>\n",
       "      <td>85</td>\n",
       "      <td>85</td>\n",
       "    </tr>\n",
       "    <tr>\n",
       "      <td>4</td>\n",
       "      <td>Sony</td>\n",
       "      <td>81</td>\n",
       "      <td>81</td>\n",
       "      <td>81</td>\n",
       "    </tr>\n",
       "    <tr>\n",
       "      <td>5</td>\n",
       "      <td>Par.</td>\n",
       "      <td>71</td>\n",
       "      <td>71</td>\n",
       "      <td>71</td>\n",
       "    </tr>\n",
       "    <tr>\n",
       "      <td>6</td>\n",
       "      <td>LGF</td>\n",
       "      <td>43</td>\n",
       "      <td>43</td>\n",
       "      <td>43</td>\n",
       "    </tr>\n",
       "    <tr>\n",
       "      <td>7</td>\n",
       "      <td>WB (NL)</td>\n",
       "      <td>40</td>\n",
       "      <td>40</td>\n",
       "      <td>40</td>\n",
       "    </tr>\n",
       "    <tr>\n",
       "      <td>8</td>\n",
       "      <td>SGem</td>\n",
       "      <td>24</td>\n",
       "      <td>24</td>\n",
       "      <td>24</td>\n",
       "    </tr>\n",
       "    <tr>\n",
       "      <td>9</td>\n",
       "      <td>LG/S</td>\n",
       "      <td>23</td>\n",
       "      <td>23</td>\n",
       "      <td>23</td>\n",
       "    </tr>\n",
       "  </tbody>\n",
       "</table>\n",
       "</div>"
      ],
      "text/plain": [
       "    studio  title  domestic_gross  year\n",
       "0     Uni.    112             112   112\n",
       "1      Fox    107             107   107\n",
       "2       WB    101             101   101\n",
       "3       BV     85              85    85\n",
       "4     Sony     81              81    81\n",
       "5     Par.     71              71    71\n",
       "6      LGF     43              43    43\n",
       "7  WB (NL)     40              40    40\n",
       "8     SGem     24              24    24\n",
       "9     LG/S     23              23    23"
      ]
     },
     "execution_count": 19,
     "metadata": {},
     "output_type": "execute_result"
    }
   ],
   "source": [
    "num_of_values"
   ]
  },
  {
   "cell_type": "code",
   "execution_count": 20,
   "metadata": {
    "ExecuteTime": {
     "end_time": "2020-06-20T20:08:45.844396Z",
     "start_time": "2020-06-20T20:08:45.801515Z"
    }
   },
   "outputs": [
    {
     "data": {
      "text/html": [
       "<div>\n",
       "<style scoped>\n",
       "    .dataframe tbody tr th:only-of-type {\n",
       "        vertical-align: middle;\n",
       "    }\n",
       "\n",
       "    .dataframe tbody tr th {\n",
       "        vertical-align: top;\n",
       "    }\n",
       "\n",
       "    .dataframe thead th {\n",
       "        text-align: right;\n",
       "    }\n",
       "</style>\n",
       "<table border=\"1\" class=\"dataframe\">\n",
       "  <thead>\n",
       "    <tr style=\"text-align: right;\">\n",
       "      <th></th>\n",
       "      <th>studio</th>\n",
       "      <th>title</th>\n",
       "      <th>domestic_gross_x_x</th>\n",
       "      <th>year_x</th>\n",
       "      <th>domestic_gross_y_x</th>\n",
       "      <th>year_y</th>\n",
       "      <th>id</th>\n",
       "      <th>production_budget</th>\n",
       "      <th>domestic_gross_x_y</th>\n",
       "      <th>worldwide_gross</th>\n",
       "      <th>domestic_gross_y_y</th>\n",
       "      <th>year</th>\n",
       "    </tr>\n",
       "  </thead>\n",
       "  <tbody>\n",
       "    <tr>\n",
       "      <td>0</td>\n",
       "      <td>Uni.</td>\n",
       "      <td>112</td>\n",
       "      <td>112</td>\n",
       "      <td>112</td>\n",
       "      <td>1.235350e+10</td>\n",
       "      <td>225608</td>\n",
       "      <td>56.0</td>\n",
       "      <td>44000000.0</td>\n",
       "      <td>75612460.0</td>\n",
       "      <td>151716815.0</td>\n",
       "      <td>78000000.0</td>\n",
       "      <td>2014.0</td>\n",
       "    </tr>\n",
       "    <tr>\n",
       "      <td>1</td>\n",
       "      <td>Fox</td>\n",
       "      <td>107</td>\n",
       "      <td>107</td>\n",
       "      <td>107</td>\n",
       "      <td>1.054740e+10</td>\n",
       "      <td>215473</td>\n",
       "      <td>49.0</td>\n",
       "      <td>80000000.0</td>\n",
       "      <td>81903458.0</td>\n",
       "      <td>250091610.0</td>\n",
       "      <td>81700000.0</td>\n",
       "      <td>2014.0</td>\n",
       "    </tr>\n",
       "    <tr>\n",
       "      <td>2</td>\n",
       "      <td>WB</td>\n",
       "      <td>101</td>\n",
       "      <td>101</td>\n",
       "      <td>101</td>\n",
       "      <td>1.165500e+10</td>\n",
       "      <td>203394</td>\n",
       "      <td>62.0</td>\n",
       "      <td>60000000.0</td>\n",
       "      <td>72483028.5</td>\n",
       "      <td>152764482.0</td>\n",
       "      <td>72500000.0</td>\n",
       "      <td>2014.0</td>\n",
       "    </tr>\n",
       "    <tr>\n",
       "      <td>3</td>\n",
       "      <td>BV</td>\n",
       "      <td>85</td>\n",
       "      <td>85</td>\n",
       "      <td>85</td>\n",
       "      <td>1.810330e+10</td>\n",
       "      <td>171184</td>\n",
       "      <td>39.0</td>\n",
       "      <td>162500000.0</td>\n",
       "      <td>176380519.5</td>\n",
       "      <td>388346358.0</td>\n",
       "      <td>176400000.0</td>\n",
       "      <td>2014.0</td>\n",
       "    </tr>\n",
       "    <tr>\n",
       "      <td>4</td>\n",
       "      <td>Sony</td>\n",
       "      <td>81</td>\n",
       "      <td>81</td>\n",
       "      <td>81</td>\n",
       "      <td>8.283700e+09</td>\n",
       "      <td>163109</td>\n",
       "      <td>58.0</td>\n",
       "      <td>58000000.0</td>\n",
       "      <td>83552429.0</td>\n",
       "      <td>202812429.0</td>\n",
       "      <td>83600000.0</td>\n",
       "      <td>2013.0</td>\n",
       "    </tr>\n",
       "  </tbody>\n",
       "</table>\n",
       "</div>"
      ],
      "text/plain": [
       "  studio  title  domestic_gross_x_x  year_x  domestic_gross_y_x  year_y    id  \\\n",
       "0   Uni.    112                 112     112        1.235350e+10  225608  56.0   \n",
       "1    Fox    107                 107     107        1.054740e+10  215473  49.0   \n",
       "2     WB    101                 101     101        1.165500e+10  203394  62.0   \n",
       "3     BV     85                  85      85        1.810330e+10  171184  39.0   \n",
       "4   Sony     81                  81      81        8.283700e+09  163109  58.0   \n",
       "\n",
       "   production_budget  domestic_gross_x_y  worldwide_gross  domestic_gross_y_y  \\\n",
       "0         44000000.0          75612460.0      151716815.0          78000000.0   \n",
       "1         80000000.0          81903458.0      250091610.0          81700000.0   \n",
       "2         60000000.0          72483028.5      152764482.0          72500000.0   \n",
       "3        162500000.0         176380519.5      388346358.0         176400000.0   \n",
       "4         58000000.0          83552429.0      202812429.0          83600000.0   \n",
       "\n",
       "     year  \n",
       "0  2014.0  \n",
       "1  2014.0  \n",
       "2  2014.0  \n",
       "3  2014.0  \n",
       "4  2013.0  "
      ]
     },
     "execution_count": 20,
     "metadata": {},
     "output_type": "execute_result"
    }
   ],
   "source": [
    "# domestic_gross_x & year_x = count of titles per studio\n",
    "merged_db.head()"
   ]
  },
  {
   "cell_type": "code",
   "execution_count": 21,
   "metadata": {
    "ExecuteTime": {
     "end_time": "2020-06-20T20:08:45.856391Z",
     "start_time": "2020-06-20T20:08:45.848344Z"
    }
   },
   "outputs": [],
   "source": [
    "roi_studio_median_roi = roi_studio_median_roi.reset_index()"
   ]
  },
  {
   "cell_type": "markdown",
   "metadata": {},
   "source": [
    "## Data Graphs"
   ]
  },
  {
   "cell_type": "markdown",
   "metadata": {},
   "source": [
    "### Number of movies and total gross per studio "
   ]
  },
  {
   "cell_type": "code",
   "execution_count": 22,
   "metadata": {
    "ExecuteTime": {
     "end_time": "2020-06-20T20:08:46.736287Z",
     "start_time": "2020-06-20T20:08:45.859711Z"
    }
   },
   "outputs": [
    {
     "data": {
      "image/png": "[encoded data removed]",
      "text/plain": [
       "<Figure size 842.4x595.44 with 1 Axes>"
      ]
     },
     "metadata": {},
     "output_type": "display_data"
    },
    {
     "ename": "ValueError",
     "evalue": "Could not interpret input 'domestic_gross_y'",
     "output_type": "error",
     "traceback": [
      "\u001b[1;31m---------------------------------------------------------------------------\u001b[0m",
      "\u001b[1;31mValueError\u001b[0m                                Traceback (most recent call last)",
      "\u001b[1;32m<ipython-input-22-ed9351368534>\u001b[0m in \u001b[0;36m<module>\u001b[1;34m\u001b[0m\n\u001b[0;32m      8\u001b[0m \u001b[0mplt\u001b[0m\u001b[1;33m.\u001b[0m\u001b[0mshow\u001b[0m\u001b[1;33m(\u001b[0m\u001b[1;33m)\u001b[0m\u001b[1;33m\u001b[0m\u001b[1;33m\u001b[0m\u001b[0m\n\u001b[0;32m      9\u001b[0m \u001b[1;33m\u001b[0m\u001b[0m\n\u001b[1;32m---> 10\u001b[1;33m \u001b[0maxis2\u001b[0m\u001b[1;33m=\u001b[0m\u001b[0msns\u001b[0m\u001b[1;33m.\u001b[0m\u001b[0mbarplot\u001b[0m\u001b[1;33m(\u001b[0m\u001b[0mx\u001b[0m\u001b[1;33m=\u001b[0m\u001b[1;34m'studio'\u001b[0m\u001b[1;33m,\u001b[0m \u001b[0my\u001b[0m\u001b[1;33m=\u001b[0m\u001b[1;34m'domestic_gross_y'\u001b[0m\u001b[1;33m,\u001b[0m \u001b[0mdata\u001b[0m\u001b[1;33m=\u001b[0m\u001b[0mmerged_db\u001b[0m\u001b[1;33m)\u001b[0m\u001b[1;33m;\u001b[0m\u001b[1;33m\u001b[0m\u001b[1;33m\u001b[0m\u001b[0m\n\u001b[0m\u001b[0;32m     11\u001b[0m \u001b[0maxis2\u001b[0m\u001b[1;33m.\u001b[0m\u001b[0mset\u001b[0m\u001b[1;33m(\u001b[0m\u001b[0mxlabel\u001b[0m\u001b[1;33m=\u001b[0m\u001b[1;34m'Studio'\u001b[0m\u001b[1;33m,\u001b[0m \u001b[0mylabel\u001b[0m\u001b[1;33m=\u001b[0m\u001b[1;34m'Domestic Gross in Billions USD'\u001b[0m\u001b[1;33m)\u001b[0m\u001b[1;33m;\u001b[0m\u001b[1;33m\u001b[0m\u001b[1;33m\u001b[0m\u001b[0m\n\u001b[0;32m     12\u001b[0m \u001b[0mplt\u001b[0m\u001b[1;33m.\u001b[0m\u001b[0mtitle\u001b[0m\u001b[1;33m(\u001b[0m\u001b[1;34m'Total Gross per Studio'\u001b[0m\u001b[1;33m)\u001b[0m\u001b[1;33m;\u001b[0m\u001b[1;33m\u001b[0m\u001b[1;33m\u001b[0m\u001b[0m\n",
      "\u001b[1;32m~\\anaconda3\\envs\\learn-env\\lib\\site-packages\\seaborn\\categorical.py\u001b[0m in \u001b[0;36mbarplot\u001b[1;34m(x, y, hue, data, order, hue_order, estimator, ci, n_boot, units, orient, color, palette, saturation, errcolor, errwidth, capsize, dodge, ax, **kwargs)\u001b[0m\n\u001b[0;32m   3147\u001b[0m                           \u001b[0mestimator\u001b[0m\u001b[1;33m,\u001b[0m \u001b[0mci\u001b[0m\u001b[1;33m,\u001b[0m \u001b[0mn_boot\u001b[0m\u001b[1;33m,\u001b[0m \u001b[0munits\u001b[0m\u001b[1;33m,\u001b[0m\u001b[1;33m\u001b[0m\u001b[1;33m\u001b[0m\u001b[0m\n\u001b[0;32m   3148\u001b[0m                           \u001b[0morient\u001b[0m\u001b[1;33m,\u001b[0m \u001b[0mcolor\u001b[0m\u001b[1;33m,\u001b[0m \u001b[0mpalette\u001b[0m\u001b[1;33m,\u001b[0m \u001b[0msaturation\u001b[0m\u001b[1;33m,\u001b[0m\u001b[1;33m\u001b[0m\u001b[1;33m\u001b[0m\u001b[0m\n\u001b[1;32m-> 3149\u001b[1;33m                           errcolor, errwidth, capsize, dodge)\n\u001b[0m\u001b[0;32m   3150\u001b[0m \u001b[1;33m\u001b[0m\u001b[0m\n\u001b[0;32m   3151\u001b[0m     \u001b[1;32mif\u001b[0m \u001b[0max\u001b[0m \u001b[1;32mis\u001b[0m \u001b[1;32mNone\u001b[0m\u001b[1;33m:\u001b[0m\u001b[1;33m\u001b[0m\u001b[1;33m\u001b[0m\u001b[0m\n",
      "\u001b[1;32m~\\anaconda3\\envs\\learn-env\\lib\\site-packages\\seaborn\\categorical.py\u001b[0m in \u001b[0;36m__init__\u001b[1;34m(self, x, y, hue, data, order, hue_order, estimator, ci, n_boot, units, orient, color, palette, saturation, errcolor, errwidth, capsize, dodge)\u001b[0m\n\u001b[0;32m   1605\u001b[0m         \u001b[1;34m\"\"\"Initialize the plotter.\"\"\"\u001b[0m\u001b[1;33m\u001b[0m\u001b[1;33m\u001b[0m\u001b[0m\n\u001b[0;32m   1606\u001b[0m         self.establish_variables(x, y, hue, data, orient,\n\u001b[1;32m-> 1607\u001b[1;33m                                  order, hue_order, units)\n\u001b[0m\u001b[0;32m   1608\u001b[0m         \u001b[0mself\u001b[0m\u001b[1;33m.\u001b[0m\u001b[0mestablish_colors\u001b[0m\u001b[1;33m(\u001b[0m\u001b[0mcolor\u001b[0m\u001b[1;33m,\u001b[0m \u001b[0mpalette\u001b[0m\u001b[1;33m,\u001b[0m \u001b[0msaturation\u001b[0m\u001b[1;33m)\u001b[0m\u001b[1;33m\u001b[0m\u001b[1;33m\u001b[0m\u001b[0m\n\u001b[0;32m   1609\u001b[0m         \u001b[0mself\u001b[0m\u001b[1;33m.\u001b[0m\u001b[0mestimate_statistic\u001b[0m\u001b[1;33m(\u001b[0m\u001b[0mestimator\u001b[0m\u001b[1;33m,\u001b[0m \u001b[0mci\u001b[0m\u001b[1;33m,\u001b[0m \u001b[0mn_boot\u001b[0m\u001b[1;33m)\u001b[0m\u001b[1;33m\u001b[0m\u001b[1;33m\u001b[0m\u001b[0m\n",
      "\u001b[1;32m~\\anaconda3\\envs\\learn-env\\lib\\site-packages\\seaborn\\categorical.py\u001b[0m in \u001b[0;36mestablish_variables\u001b[1;34m(self, x, y, hue, data, orient, order, hue_order, units)\u001b[0m\n\u001b[0;32m    153\u001b[0m                 \u001b[1;32mif\u001b[0m \u001b[0misinstance\u001b[0m\u001b[1;33m(\u001b[0m\u001b[0minput\u001b[0m\u001b[1;33m,\u001b[0m \u001b[0mstring_types\u001b[0m\u001b[1;33m)\u001b[0m\u001b[1;33m:\u001b[0m\u001b[1;33m\u001b[0m\u001b[1;33m\u001b[0m\u001b[0m\n\u001b[0;32m    154\u001b[0m                     \u001b[0merr\u001b[0m \u001b[1;33m=\u001b[0m \u001b[1;34m\"Could not interpret input '{}'\"\u001b[0m\u001b[1;33m.\u001b[0m\u001b[0mformat\u001b[0m\u001b[1;33m(\u001b[0m\u001b[0minput\u001b[0m\u001b[1;33m)\u001b[0m\u001b[1;33m\u001b[0m\u001b[1;33m\u001b[0m\u001b[0m\n\u001b[1;32m--> 155\u001b[1;33m                     \u001b[1;32mraise\u001b[0m \u001b[0mValueError\u001b[0m\u001b[1;33m(\u001b[0m\u001b[0merr\u001b[0m\u001b[1;33m)\u001b[0m\u001b[1;33m\u001b[0m\u001b[1;33m\u001b[0m\u001b[0m\n\u001b[0m\u001b[0;32m    156\u001b[0m \u001b[1;33m\u001b[0m\u001b[0m\n\u001b[0;32m    157\u001b[0m             \u001b[1;31m# Figure out the plotting orientation\u001b[0m\u001b[1;33m\u001b[0m\u001b[1;33m\u001b[0m\u001b[1;33m\u001b[0m\u001b[0m\n",
      "\u001b[1;31mValueError\u001b[0m: Could not interpret input 'domestic_gross_y'"
     ]
    }
   ],
   "source": [
    "sns.set_style(\"whitegrid\")\n",
    "sns.set(rc={'figure.figsize':(11.7,8.27)})\n",
    "\n",
    "\n",
    "axis= sns.barplot(x='studio', y='title', data=merged_db);\n",
    "axis= axis.set(xlabel='Studio', ylabel='Number of Films');\n",
    "plt.title('Number of Movies per Studio')\n",
    "plt.show()\n",
    "\n",
    "axis2=sns.barplot(x='studio', y='domestic_gross_y', data=merged_db);\n",
    "axis2.set(xlabel='Studio', ylabel='Domestic Gross in Billions USD');\n",
    "plt.title('Total Gross per Studio');"
   ]
  },
  {
   "cell_type": "markdown",
   "metadata": {},
   "source": [
    "### Average gross per movie for each studio"
   ]
  },
  {
   "cell_type": "code",
   "execution_count": null,
   "metadata": {
    "ExecuteTime": {
     "end_time": "2020-06-20T20:08:46.797506Z",
     "start_time": "2020-06-20T20:08:42.030Z"
    }
   },
   "outputs": [],
   "source": [
    "# Created new column for Average gross per movie\n",
    "merged_db['Ave_per_movie']= merged_db['domestic_gross_y'] / merged_db['title']"
   ]
  },
  {
   "cell_type": "code",
   "execution_count": null,
   "metadata": {
    "ExecuteTime": {
     "end_time": "2020-06-20T20:08:46.800896Z",
     "start_time": "2020-06-20T20:08:42.032Z"
    }
   },
   "outputs": [],
   "source": [
    "\n",
    "axis3= sns.barplot(x='studio', y='Ave_per_movie', data=merged_db);\n",
    "axi3s= axis3.set(xlabel='Studio', ylabel='Average Revanue per Film in Billions USD')\n",
    "plt.title('Average Revanue per Film for each Studio');"
   ]
  },
  {
   "cell_type": "markdown",
   "metadata": {},
   "source": [
    "### Median ROI per Studio"
   ]
  },
  {
   "cell_type": "code",
   "execution_count": null,
   "metadata": {
    "ExecuteTime": {
     "end_time": "2020-06-20T20:08:46.800896Z",
     "start_time": "2020-06-20T20:08:42.034Z"
    }
   },
   "outputs": [],
   "source": [
    "axis4= sns.barplot(x='studio', y='roi', data=merged_db);\n",
    "axis4= axis4.set(xlabel='Studio', ylabel='Median ROI by Studio')\n",
    "plt.title('Median ROI per Studio');"
   ]
  },
  {
   "cell_type": "markdown",
   "metadata": {
    "ExecuteTime": {
     "end_time": "2020-06-20T19:32:57.364493Z",
     "start_time": "2020-06-20T19:32:57.354455Z"
    }
   },
   "source": [
    "### Number of Movies made and Average Gross per Studio"
   ]
  },
  {
   "cell_type": "code",
   "execution_count": null,
   "metadata": {
    "ExecuteTime": {
     "end_time": "2020-06-20T20:08:46.805566Z",
     "start_time": "2020-06-20T20:08:42.036Z"
    }
   },
   "outputs": [],
   "source": [
    "#impor new function\n",
    "from pylab import figure, show, legend, ylabel"
   ]
  },
  {
   "cell_type": "code",
   "execution_count": null,
   "metadata": {
    "ExecuteTime": {
     "end_time": "2020-06-20T20:08:46.809579Z",
     "start_time": "2020-06-20T20:08:42.039Z"
    }
   },
   "outputs": [],
   "source": [
    "\n",
    "# create the general figure\n",
    "fig1 = figure()\n",
    " \n",
    "# and the first axes using subplot populated with data \n",
    "ax1 = fig1.add_subplot(111)\n",
    "line1 = sns.barplot(x='studio', y='title', data=merged_db, ax=ax1)\n",
    "ylabel(\"Number of Movies Made\")\n",
    "line1.set_title('Number of Movies Made and Averge Domestice Gross for each Studio')\n",
    " \n",
    "sns.set_style('ticks')\n",
    "\n",
    "\n",
    "# now, the second axes that shares the x-axis with the ax1\n",
    "ax2 = fig1.add_subplot(111, sharex=ax1, frameon=False)\n",
    "line2 = sns.lineplot(x='studio', y='Ave_per_movie', data=merged_db, ax=ax2, color= 'black')\n",
    "ax2.yaxis.tick_right()\n",
    "ax2.yaxis.set_label_position(\"right\")\n",
    "ylabel(\"Average domestic gross in 100 million \")\n",
    " \n",
    "# for the legend, remember that we used two different axes so, we need \n",
    "# to build the legend manually\n",
    "legend((line1, line2), (\"1\", \"2\"))\n",
    "show()"
   ]
  },
  {
   "cell_type": "code",
   "execution_count": null,
   "metadata": {},
   "outputs": [],
   "source": []
  }
 ],
 "metadata": {
  "kernelspec": {
   "display_name": "Python 3",
   "language": "python",
   "name": "python3"
  },
  "language_info": {
   "codemirror_mode": {
    "name": "ipython",
    "version": 3
   },
   "file_extension": ".py",
   "mimetype": "text/x-python",
   "name": "python",
   "nbconvert_exporter": "python",
   "pygments_lexer": "ipython3",
   "version": "3.6.9"
  },
  "toc": {
   "base_numbering": 1,
   "nav_menu": {},
   "number_sections": true,
   "sideBar": true,
   "skip_h1_title": false,
   "title_cell": "Table of Contents",
   "title_sidebar": "Contents",
   "toc_cell": false,
   "toc_position": {
    "height": "calc(100% - 180px)",
    "left": "10px",
    "top": "150px",
    "width": "300.792px"
   },
   "toc_section_display": true,
   "toc_window_display": true
  },
  "varInspector": {
   "cols": {
    "lenName": 16,
    "lenType": 16,
    "lenVar": 40
   },
   "kernels_config": {
    "python": {
     "delete_cmd_postfix": "",
     "delete_cmd_prefix": "del ",
     "library": "var_list.py",
     "varRefreshCmd": "print(var_dic_list())"
    },
    "r": {
     "delete_cmd_postfix": ") ",
     "delete_cmd_prefix": "rm(",
     "library": "var_list.r",
     "varRefreshCmd": "cat(var_dic_list()) "
    }
   },
   "types_to_exclude": [
    "module",
    "function",
    "builtin_function_or_method",
    "instance",
    "_Feature"
   ],
   "window_display": false
  }
 },
 "nbformat": 4,
 "nbformat_minor": 2
}
